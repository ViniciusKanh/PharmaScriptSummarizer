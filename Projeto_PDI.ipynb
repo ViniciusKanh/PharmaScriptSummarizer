{
  "nbformat": 4,
  "nbformat_minor": 0,
  "metadata": {
    "colab": {
      "provenance": [],
      "authorship_tag": "ABX9TyPQVEHNngcZCiZM2XePIxtI",
      "include_colab_link": true
    },
    "kernelspec": {
      "name": "python3",
      "display_name": "Python 3"
    },
    "language_info": {
      "name": "python"
    },
    "widgets": {
      "application/vnd.jupyter.widget-state+json": {
        "a862ac3c4ff14aacbaf99b31974f0e3e": {
          "model_module": "@jupyter-widgets/controls",
          "model_name": "ButtonModel",
          "model_module_version": "1.5.0",
          "state": {
            "_dom_classes": [],
            "_model_module": "@jupyter-widgets/controls",
            "_model_module_version": "1.5.0",
            "_model_name": "ButtonModel",
            "_view_count": null,
            "_view_module": "@jupyter-widgets/controls",
            "_view_module_version": "1.5.0",
            "_view_name": "ButtonView",
            "button_style": "",
            "description": "Escolher Arquivo",
            "disabled": false,
            "icon": "",
            "layout": "IPY_MODEL_d3b58388b7ed4690aff545a38424f349",
            "style": "IPY_MODEL_787e1add8361447d8490260ed061cd36",
            "tooltip": ""
          }
        },
        "d3b58388b7ed4690aff545a38424f349": {
          "model_module": "@jupyter-widgets/base",
          "model_name": "LayoutModel",
          "model_module_version": "1.2.0",
          "state": {
            "_model_module": "@jupyter-widgets/base",
            "_model_module_version": "1.2.0",
            "_model_name": "LayoutModel",
            "_view_count": null,
            "_view_module": "@jupyter-widgets/base",
            "_view_module_version": "1.2.0",
            "_view_name": "LayoutView",
            "align_content": null,
            "align_items": null,
            "align_self": null,
            "border": null,
            "bottom": null,
            "display": null,
            "flex": null,
            "flex_flow": null,
            "grid_area": null,
            "grid_auto_columns": null,
            "grid_auto_flow": null,
            "grid_auto_rows": null,
            "grid_column": null,
            "grid_gap": null,
            "grid_row": null,
            "grid_template_areas": null,
            "grid_template_columns": null,
            "grid_template_rows": null,
            "height": null,
            "justify_content": null,
            "justify_items": null,
            "left": null,
            "margin": null,
            "max_height": null,
            "max_width": null,
            "min_height": null,
            "min_width": null,
            "object_fit": null,
            "object_position": null,
            "order": null,
            "overflow": null,
            "overflow_x": null,
            "overflow_y": null,
            "padding": null,
            "right": null,
            "top": null,
            "visibility": null,
            "width": null
          }
        },
        "787e1add8361447d8490260ed061cd36": {
          "model_module": "@jupyter-widgets/controls",
          "model_name": "ButtonStyleModel",
          "model_module_version": "1.5.0",
          "state": {
            "_model_module": "@jupyter-widgets/controls",
            "_model_module_version": "1.5.0",
            "_model_name": "ButtonStyleModel",
            "_view_count": null,
            "_view_module": "@jupyter-widgets/base",
            "_view_module_version": "1.2.0",
            "_view_name": "StyleView",
            "button_color": null,
            "font_weight": ""
          }
        },
        "d0d1dd6c5d49444c8b30abe27960238b": {
          "model_module": "@jupyter-widgets/output",
          "model_name": "OutputModel",
          "model_module_version": "1.0.0",
          "state": {
            "_dom_classes": [],
            "_model_module": "@jupyter-widgets/output",
            "_model_module_version": "1.0.0",
            "_model_name": "OutputModel",
            "_view_count": null,
            "_view_module": "@jupyter-widgets/output",
            "_view_module_version": "1.0.0",
            "_view_name": "OutputView",
            "layout": "IPY_MODEL_2e5caf4f02744290a54cf122b2e541ad",
            "msg_id": "",
            "outputs": []
          }
        },
        "2e5caf4f02744290a54cf122b2e541ad": {
          "model_module": "@jupyter-widgets/base",
          "model_name": "LayoutModel",
          "model_module_version": "1.2.0",
          "state": {
            "_model_module": "@jupyter-widgets/base",
            "_model_module_version": "1.2.0",
            "_model_name": "LayoutModel",
            "_view_count": null,
            "_view_module": "@jupyter-widgets/base",
            "_view_module_version": "1.2.0",
            "_view_name": "LayoutView",
            "align_content": null,
            "align_items": null,
            "align_self": null,
            "border": null,
            "bottom": null,
            "display": null,
            "flex": null,
            "flex_flow": null,
            "grid_area": null,
            "grid_auto_columns": null,
            "grid_auto_flow": null,
            "grid_auto_rows": null,
            "grid_column": null,
            "grid_gap": null,
            "grid_row": null,
            "grid_template_areas": null,
            "grid_template_columns": null,
            "grid_template_rows": null,
            "height": null,
            "justify_content": null,
            "justify_items": null,
            "left": null,
            "margin": null,
            "max_height": null,
            "max_width": null,
            "min_height": null,
            "min_width": null,
            "object_fit": null,
            "object_position": null,
            "order": null,
            "overflow": null,
            "overflow_x": null,
            "overflow_y": null,
            "padding": null,
            "right": null,
            "top": null,
            "visibility": null,
            "width": null
          }
        },
        "b2093d473910437e8e732a36f8c30720": {
          "model_module": "@jupyter-widgets/controls",
          "model_name": "TextModel",
          "model_module_version": "1.5.0",
          "state": {
            "_dom_classes": [],
            "_model_module": "@jupyter-widgets/controls",
            "_model_module_version": "1.5.0",
            "_model_name": "TextModel",
            "_view_count": null,
            "_view_module": "@jupyter-widgets/controls",
            "_view_module_version": "1.5.0",
            "_view_name": "TextView",
            "continuous_update": true,
            "description": "Email:",
            "description_tooltip": null,
            "disabled": false,
            "layout": "IPY_MODEL_9ad0f66ab44442149dcf88ba435cef52",
            "placeholder": "Digite o email do destinatário",
            "style": "IPY_MODEL_d97b361c42cb4ce2bb5d8317438fa853",
            "value": "isadora.bueno@aluno.ifsp.edu.br"
          }
        },
        "9ad0f66ab44442149dcf88ba435cef52": {
          "model_module": "@jupyter-widgets/base",
          "model_name": "LayoutModel",
          "model_module_version": "1.2.0",
          "state": {
            "_model_module": "@jupyter-widgets/base",
            "_model_module_version": "1.2.0",
            "_model_name": "LayoutModel",
            "_view_count": null,
            "_view_module": "@jupyter-widgets/base",
            "_view_module_version": "1.2.0",
            "_view_name": "LayoutView",
            "align_content": null,
            "align_items": null,
            "align_self": null,
            "border": null,
            "bottom": null,
            "display": null,
            "flex": null,
            "flex_flow": null,
            "grid_area": null,
            "grid_auto_columns": null,
            "grid_auto_flow": null,
            "grid_auto_rows": null,
            "grid_column": null,
            "grid_gap": null,
            "grid_row": null,
            "grid_template_areas": null,
            "grid_template_columns": null,
            "grid_template_rows": null,
            "height": null,
            "justify_content": null,
            "justify_items": null,
            "left": null,
            "margin": null,
            "max_height": null,
            "max_width": null,
            "min_height": null,
            "min_width": null,
            "object_fit": null,
            "object_position": null,
            "order": null,
            "overflow": null,
            "overflow_x": null,
            "overflow_y": null,
            "padding": null,
            "right": null,
            "top": null,
            "visibility": null,
            "width": null
          }
        },
        "d97b361c42cb4ce2bb5d8317438fa853": {
          "model_module": "@jupyter-widgets/controls",
          "model_name": "DescriptionStyleModel",
          "model_module_version": "1.5.0",
          "state": {
            "_model_module": "@jupyter-widgets/controls",
            "_model_module_version": "1.5.0",
            "_model_name": "DescriptionStyleModel",
            "_view_count": null,
            "_view_module": "@jupyter-widgets/base",
            "_view_module_version": "1.2.0",
            "_view_name": "StyleView",
            "description_width": ""
          }
        },
        "bfb3c983315c4900bc49ebeaef6b1335": {
          "model_module": "@jupyter-widgets/controls",
          "model_name": "ButtonModel",
          "model_module_version": "1.5.0",
          "state": {
            "_dom_classes": [],
            "_model_module": "@jupyter-widgets/controls",
            "_model_module_version": "1.5.0",
            "_model_name": "ButtonModel",
            "_view_count": null,
            "_view_module": "@jupyter-widgets/controls",
            "_view_module_version": "1.5.0",
            "_view_name": "ButtonView",
            "button_style": "",
            "description": "Enviar Lembrete",
            "disabled": false,
            "icon": "",
            "layout": "IPY_MODEL_8c6a3ad7d63541ab8b6a20c97ce85d53",
            "style": "IPY_MODEL_2f8b5e6373454157901a4f8b369ce60c",
            "tooltip": ""
          }
        },
        "8c6a3ad7d63541ab8b6a20c97ce85d53": {
          "model_module": "@jupyter-widgets/base",
          "model_name": "LayoutModel",
          "model_module_version": "1.2.0",
          "state": {
            "_model_module": "@jupyter-widgets/base",
            "_model_module_version": "1.2.0",
            "_model_name": "LayoutModel",
            "_view_count": null,
            "_view_module": "@jupyter-widgets/base",
            "_view_module_version": "1.2.0",
            "_view_name": "LayoutView",
            "align_content": null,
            "align_items": null,
            "align_self": null,
            "border": null,
            "bottom": null,
            "display": null,
            "flex": null,
            "flex_flow": null,
            "grid_area": null,
            "grid_auto_columns": null,
            "grid_auto_flow": null,
            "grid_auto_rows": null,
            "grid_column": null,
            "grid_gap": null,
            "grid_row": null,
            "grid_template_areas": null,
            "grid_template_columns": null,
            "grid_template_rows": null,
            "height": null,
            "justify_content": null,
            "justify_items": null,
            "left": null,
            "margin": null,
            "max_height": null,
            "max_width": null,
            "min_height": null,
            "min_width": null,
            "object_fit": null,
            "object_position": null,
            "order": null,
            "overflow": null,
            "overflow_x": null,
            "overflow_y": null,
            "padding": null,
            "right": null,
            "top": null,
            "visibility": null,
            "width": null
          }
        },
        "2f8b5e6373454157901a4f8b369ce60c": {
          "model_module": "@jupyter-widgets/controls",
          "model_name": "ButtonStyleModel",
          "model_module_version": "1.5.0",
          "state": {
            "_model_module": "@jupyter-widgets/controls",
            "_model_module_version": "1.5.0",
            "_model_name": "ButtonStyleModel",
            "_view_count": null,
            "_view_module": "@jupyter-widgets/base",
            "_view_module_version": "1.2.0",
            "_view_name": "StyleView",
            "button_color": null,
            "font_weight": ""
          }
        }
      }
    }
  },
  "cells": [
    {
      "cell_type": "markdown",
      "metadata": {
        "id": "view-in-github",
        "colab_type": "text"
      },
      "source": [
        "<a href=\"https://colab.research.google.com/github/ViniciusKanh/PharmaScriptSummarizer/blob/main/Projeto_PDI.ipynb\" target=\"_parent\"><img src=\"https://colab.research.google.com/assets/colab-badge.svg\" alt=\"Open In Colab\"/></a>"
      ]
    },
    {
      "cell_type": "markdown",
      "source": [
        "![Modelo-de-receita-odontologica.jpg](data:image/jpeg;base64,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)\n",
        "# Reconhecimento e Sumarização de Receitas Médicas Digitalizadas em PDF"
      ],
      "metadata": {
        "id": "ScQ66bAMQl0M"
      }
    },
    {
      "cell_type": "markdown",
      "source": [
        "## Resumo\n",
        "\n",
        "Este projeto visa desenvolver um sistema capaz de reconhecer e sumarizar receitas médicas digitalizadas em formato PDF. Através da utilização de técnicas avançadas de processamento digital de imagem e machine learning, o sistema identificará informações críticas, como a dose do medicamento, tempo de uso e nome do médico prescritor. O aumento do uso de prontuários eletrônicos e digitalizações no setor médico torna esse projeto altamente relevante para aprimorar a eficiência e precisão na gestão de informações médicas.\n",
        "\n",
        "\n",
        "---\n",
        "\n",
        "\n",
        "## Introdução\n",
        "\n",
        "O avanço tecnológico na área da saúde tem permitido a digitalização crescente de registros médicos, garantindo mais segurança e praticidade no armazenamento e acesso a informações de pacientes. Dentro desse contexto, receitas médicas representam um dos documentos mais frequentemente digitalizados, dada sua importância e necessidade de compartilhamento entre farmácias, médicos e pacientes (Smith, A. & Johnson, B., 2018). No entanto, o acesso eficiente e a interpretação correta desses documentos digitalizados permanecem como desafios, principalmente devido à variabilidade de formatos e estilos de escrita (Brown, C., 2020). Assim, a implementação de sistemas automatizados que possam identificar e sumarizar essas informações torna-se de suma importância.\n",
        "\n",
        "## Objetivo Geral\n",
        "\n",
        "Desenvolver um sistema automatizado capaz de reconhecer e sumarizar informações essenciais de receitas médicas digitalizadas em formato PDF."
      ],
      "metadata": {
        "id": "1qFPpKDpewIo"
      }
    },
    {
      "cell_type": "markdown",
      "source": [
        "### Vinculando meu Driver para armazenamento e estração dos Arquivos"
      ],
      "metadata": {
        "id": "DvRnkUNQfDyY"
      }
    },
    {
      "cell_type": "code",
      "source": [
        "from google.colab import drive\n",
        "drive.mount('/content/drive')"
      ],
      "metadata": {
        "colab": {
          "base_uri": "https://localhost:8080/"
        },
        "id": "gXp4Ysi2fVRq",
        "outputId": "49b2d0a7-606b-44e9-c092-44336595e880"
      },
      "execution_count": null,
      "outputs": [
        {
          "output_type": "stream",
          "name": "stdout",
          "text": [
            "Mounted at /content/drive\n"
          ]
        }
      ]
    },
    {
      "cell_type": "markdown",
      "source": [
        "Intalação de Bibliotecas importantes"
      ],
      "metadata": {
        "id": "TSVJr_HUfanO"
      }
    },
    {
      "cell_type": "code",
      "source": [
        "!pip install pypdf2\n",
        "!pip install Pillow pypdf2\n",
        "!apt-get install -y libtesseract-dev\n",
        "!pip install pytesseract\n",
        "!pip install ipywidgets\n",
        "!apt install -y tesseract-ocr tesseract-ocr-por\n",
        "!pip install plyer\n"
      ],
      "metadata": {
        "id": "8MydsDZdf3Gq"
      },
      "execution_count": null,
      "outputs": []
    },
    {
      "cell_type": "markdown",
      "source": [
        "Importando Bibliotecas"
      ],
      "metadata": {
        "id": "U3-UIM0WgLc6"
      }
    },
    {
      "cell_type": "code",
      "source": [
        "import PyPDF2\n",
        "import re\n",
        "from PIL import Image\n",
        "import pytesseract\n",
        "import smtplib\n",
        "from email.mime.text import MIMEText\n",
        "from email.mime.multipart import MIMEMultipart\n",
        "from IPython.display import display\n",
        "from ipywidgets import widgets\n",
        "from google.colab import files\n",
        "import io\n",
        "import PyPDF2\n",
        "from PIL import Image\n",
        "import pytesseract\n",
        "import re\n"
      ],
      "metadata": {
        "id": "lmKmjbKhgM9X"
      },
      "execution_count": null,
      "outputs": []
    },
    {
      "cell_type": "markdown",
      "source": [
        "Função Extrai Texto"
      ],
      "metadata": {
        "id": "vbmTupRWgQOo"
      }
    },
    {
      "cell_type": "code",
      "source": [
        "from IPython.display import display, Image as IPImage\n",
        "from PIL import Image\n",
        "\n",
        "def abrir_imagem(image_path):\n",
        "    display(IPImage(filename=image_path))"
      ],
      "metadata": {
        "id": "BvfVgqe8X8EL"
      },
      "execution_count": null,
      "outputs": []
    },
    {
      "cell_type": "code",
      "source": [
        "def extrair_texto_do_arquivo(arquivo):\n",
        "    if arquivo.endswith('.pdf'):\n",
        "        with open(arquivo, 'rb') as f:\n",
        "            pdf = PyPDF2.PdfFileReader(f)\n",
        "            texto = ''.join(page.extractText() for page in pdf.pages)\n",
        "        return texto\n",
        "    elif arquivo.endswith('.jpg') or arquivo.endswith('.jpeg'):\n",
        "        imagem = Image.open(arquivo)\n",
        "        texto = pytesseract.image_to_string(imagem, lang='por')\n",
        "        return texto\n",
        "    else:\n",
        "        raise ValueError('Formato de arquivo não suportado.')\n"
      ],
      "metadata": {
        "id": "DPQBAJDkgTNE"
      },
      "execution_count": null,
      "outputs": []
    },
    {
      "cell_type": "markdown",
      "source": [
        "Função Sumariza Receita"
      ],
      "metadata": {
        "id": "CL8U2_Y9j93K"
      }
    },
    {
      "cell_type": "code",
      "source": [
        "def preprocess_text(texto):\n",
        "    # Remover espaços extras\n",
        "    texto = re.sub(r'\\s+', ' ', texto)\n",
        "    # Correções específicas (se necessário)\n",
        "    # texto = texto.replace('OR AL', 'ORAL')\n",
        "    # ...\n",
        "    return texto\n",
        "\n"
      ],
      "metadata": {
        "id": "SRKiXnjfHAgu"
      },
      "execution_count": null,
      "outputs": []
    },
    {
      "cell_type": "code",
      "source": [
        "def find_nearest_date(text, keyword=\"RECEITUÁRIO\"):\n",
        "    sections = text.split(keyword)\n",
        "    if len(sections) < 2:\n",
        "        return \"Não encontrado\"\n",
        "    following_text = sections[1]\n",
        "    date_match = re.search(r\"(\\d{1,2}/\\d{1,2}/\\d{4})\", following_text)\n",
        "    return date_match.group(1) if date_match else \"Não encontrado\"\n"
      ],
      "metadata": {
        "id": "BL8TfJKqZ09-"
      },
      "execution_count": null,
      "outputs": []
    },
    {
      "cell_type": "code",
      "source": [
        "def sumarizar_receita(texto):\n",
        "    print(f\"Texto recebido: {texto[:300]}...\")  # Diagnóstico\n",
        "    texto = preprocess_text(texto)\n",
        "\n",
        "    data_match = re.search(r'Assinado digitalmente em:\\s+(\\d{2}/\\d{2}/\\d{4})', texto)\n",
        "    data_receita = data_match.group(1) if data_match else 'Não encontrada'\n",
        "\n",
        "    if data_receita == 'Não encontrada':\n",
        "      # Inclusão da nova função para encontrar a data mais próxima do \"RECEITUÁRIO\"\n",
        "      data_receita = find_nearest_date(texto)\n",
        "\n",
        "    # Extrair CRM do médico\n",
        "    crm_medico = re.search(r\"CRM[-\\s]?[A-Za-z]*[-\\s]?(\\d{5,6})\", texto)\n",
        "    crm_medico = crm_medico.group(1) if crm_medico else \"Não encontrado\"\n",
        "\n",
        "\n",
        "    # Extrair nome do medicamento, dosagem e frequência\n",
        "    medicamento_match = re.findall(r'(\\d\\.)? ([^\\d]+) (\\d+mg)', texto)\n",
        "\n",
        "    medicamentos = []\n",
        "    for m in medicamento_match:\n",
        "        nome_med = m[1].strip()\n",
        "        dose = m[2].strip()\n",
        "\n",
        "        # Procurar por uma instrução de \"Tomar\" relacionada ao medicamento\n",
        "        freq_match = re.search(r'{}.*?Tomar (.+?)(\\.|\\))'.format(re.escape(nome_med)), texto)\n",
        "\n",
        "        frequencia = freq_match.group(1).replace('.', '').strip() if freq_match else 'Frequência não especificada'\n",
        "\n",
        "        medicamentos.append({\n",
        "            'Medicamento': nome_med,\n",
        "            'Dose': dose,\n",
        "            'Frequência': frequencia\n",
        "        })\n",
        "\n",
        "    return {\n",
        "        'Receita emitida em': data_receita,\n",
        "        'Medicamentos': medicamentos,\n",
        "        'CRM do Médico': crm_medico\n",
        "    }\n",
        "\n",
        "# Testar a função com as receitas fornecidas\n",
        "texto_receita = \"...\"  # Substitua \"...\" pelo texto real da receita\n",
        "resultado = sumarizar_receita(texto_receita)\n",
        "print(resultado)"
      ],
      "metadata": {
        "id": "1IGRSEzXj_fg",
        "colab": {
          "base_uri": "https://localhost:8080/"
        },
        "outputId": "64540616-f5b8-46ad-945c-afecdd53a0a7"
      },
      "execution_count": null,
      "outputs": [
        {
          "output_type": "stream",
          "name": "stdout",
          "text": [
            "Texto recebido: ......\n",
            "{'Receita emitida em': 'Não encontrado', 'Medicamentos': [], 'CRM do Médico': 'Não encontrado'}\n"
          ]
        }
      ]
    },
    {
      "cell_type": "code",
      "source": [
        "def apresentar_resultado(resultado):\n",
        "    # Criar o cabeçalho com o nome do arquivo e a data de emissão da receita\n",
        "    output = f\"Nome do Arquivo: {resultado.get('Nome do Arquivo', 'Desconhecido')}\\n\"\n",
        "    output += \"-\" * len(output) + \"\\n\"\n",
        "    output += f\"Data da Receita: {resultado['Receita emitida em']}\\n\"\n",
        "    output += f\"CRM do Médico: {resultado['CRM do Médico']}\\n\\n\"\n",
        "\n",
        "    # Se não houver medicamentos listados, incluir essa informação\n",
        "    if not resultado.get('Medicamentos'):\n",
        "        output += \"Nenhum medicamento encontrado.\\n\"\n",
        "    else:\n",
        "        # Caso contrário, listar cada medicamento\n",
        "        output += \"Medicamentos prescritos:\\n\"\n",
        "        for idx, med in enumerate(resultado['Medicamentos'], start=1):\n",
        "            output += f\"{idx}. {med['Medicamento']} ({med['Dose']})\\n\"\n",
        "            output += f\"   Frequência: {med['Frequência']}\\n\\n\"\n",
        "\n",
        "    return output\n",
        "\n",
        "# Dados de exemplo\n",
        "resultado = {\n",
        "    'Nome do Arquivo': 'Receita Menato (8).pdf',\n",
        "    'Receita emitida em': 'Não encontrada',\n",
        "    'Medicamentos': [\n",
        "        {'Medicamento': 'Oxalato de escitalopram', 'Dose': '10mg', 'Frequência': '1 cp se crises de ansiedade'},\n",
        "        # ... outros medicamentos ...\n",
        "    ],\n",
        "    'CRM do Médico': '183747'\n",
        "}\n",
        "\n",
        "# Apresentar o resultado estilizado\n",
        "print(apresentar_resultado(resultado))\n"
      ],
      "metadata": {
        "colab": {
          "base_uri": "https://localhost:8080/"
        },
        "id": "049rSNUpR1YM",
        "outputId": "376780cd-2b8a-48f2-e9df-91a38941d280"
      },
      "execution_count": null,
      "outputs": [
        {
          "output_type": "stream",
          "name": "stdout",
          "text": [
            "Nome do Arquivo: Receita Menato (8).pdf\n",
            "----------------------------------------\n",
            "Data da Receita: Não encontrada\n",
            "CRM do Médico: 183747\n",
            "\n",
            "Medicamentos prescritos:\n",
            "1. Oxalato de escitalopram (10mg)\n",
            "   Frequência: 1 cp se crises de ansiedade\n",
            "\n",
            "\n"
          ]
        }
      ]
    },
    {
      "cell_type": "markdown",
      "source": [
        "Escolhendo Arquivo"
      ],
      "metadata": {
        "id": "0ylm7G82kxcN"
      }
    },
    {
      "cell_type": "code",
      "source": [
        "from IPython.display import display, clear_output\n",
        "from google.colab import files\n",
        "import io\n",
        "import ipywidgets as widgets\n",
        "import PyPDF2\n",
        "from PIL import Image\n",
        "import pytesseract\n",
        "import re\n",
        "\n",
        "# Variáveis Globais\n",
        "texto = None\n",
        "ultimo_texto_processado = None  # Variável para armazenar o último texto processado\n",
        "\n",
        "# Aprimoramento do OCR para imagens\n",
        "def aprimorar_ocr(image):\n",
        "    # Realizar operações para melhorar a qualidade da imagem, se necessário\n",
        "    return pytesseract.image_to_string(image, lang='por')\n",
        "\n",
        "def on_upload_button_pressed(change):\n",
        "    global texto\n",
        "    clear_output(wait=True)\n",
        "    uploaded_files = files.upload()\n",
        "\n",
        "    # Verifica se um arquivo foi carregado\n",
        "    if not uploaded_files:\n",
        "        print(\"Nenhum arquivo carregado.\")\n",
        "        return\n",
        "\n",
        "    # Pegando o primeiro arquivo carregado\n",
        "    file_name, file_content = next(iter(uploaded_files.items()))\n",
        "\n",
        "    # Identificar se é PDF ou JPG e extrair o texto\n",
        "    if file_name.lower().endswith('.pdf'):\n",
        "        with io.BytesIO(file_content) as f:\n",
        "            leitor = PyPDF2.PdfReader(f)\n",
        "            texto = \"\"\n",
        "            for pagina in range(len(leitor.pages)):\n",
        "                texto += leitor.pages[pagina].extract_text()\n",
        "    elif file_name.lower().endswith(('.jpg', '.jpeg')):\n",
        "        image = Image.open(io.BytesIO(file_content))\n",
        "        texto = aprimorar_ocr(image)\n",
        "    else:\n",
        "        print(\"Formato de arquivo não suportado.\")\n",
        "        return\n",
        "\n",
        "    # Sumarizar o texto extraído\n",
        "    resultado = sumarizar_receita(texto)\n",
        "\n",
        "    # Apresentar de forma estilizada\n",
        "    print(apresentar_resultado(resultado))\n",
        "    display(upload_button, output)  # Exibe novamente o botão após processamento\n",
        "\n",
        "# Interface\n",
        "upload_button = widgets.Button(description=\"Escolher Arquivo\")\n",
        "output = widgets.Output()\n",
        "\n",
        "upload_button.on_click(on_upload_button_pressed)\n",
        "display(upload_button, output)\n"
      ],
      "metadata": {
        "colab": {
          "base_uri": "https://localhost:8080/",
          "height": 653,
          "referenced_widgets": [
            "a862ac3c4ff14aacbaf99b31974f0e3e",
            "d3b58388b7ed4690aff545a38424f349",
            "787e1add8361447d8490260ed061cd36",
            "d0d1dd6c5d49444c8b30abe27960238b",
            "2e5caf4f02744290a54cf122b2e541ad"
          ]
        },
        "id": "jlz9zqN0k0qd",
        "outputId": "5ab06097-b404-4c22-d2d9-64fb9977070f"
      },
      "execution_count": null,
      "outputs": [
        {
          "output_type": "display_data",
          "data": {
            "text/plain": [
              "<IPython.core.display.HTML object>"
            ],
            "text/html": [
              "\n",
              "     <input type=\"file\" id=\"files-2d35ce36-be33-4c78-a8c1-3bc392f67321\" name=\"files[]\" multiple disabled\n",
              "        style=\"border:none\" />\n",
              "     <output id=\"result-2d35ce36-be33-4c78-a8c1-3bc392f67321\">\n",
              "      Upload widget is only available when the cell has been executed in the\n",
              "      current browser session. Please rerun this cell to enable.\n",
              "      </output>\n",
              "      <script>// Copyright 2017 Google LLC\n",
              "//\n",
              "// Licensed under the Apache License, Version 2.0 (the \"License\");\n",
              "// you may not use this file except in compliance with the License.\n",
              "// You may obtain a copy of the License at\n",
              "//\n",
              "//      http://www.apache.org/licenses/LICENSE-2.0\n",
              "//\n",
              "// Unless required by applicable law or agreed to in writing, software\n",
              "// distributed under the License is distributed on an \"AS IS\" BASIS,\n",
              "// WITHOUT WARRANTIES OR CONDITIONS OF ANY KIND, either express or implied.\n",
              "// See the License for the specific language governing permissions and\n",
              "// limitations under the License.\n",
              "\n",
              "/**\n",
              " * @fileoverview Helpers for google.colab Python module.\n",
              " */\n",
              "(function(scope) {\n",
              "function span(text, styleAttributes = {}) {\n",
              "  const element = document.createElement('span');\n",
              "  element.textContent = text;\n",
              "  for (const key of Object.keys(styleAttributes)) {\n",
              "    element.style[key] = styleAttributes[key];\n",
              "  }\n",
              "  return element;\n",
              "}\n",
              "\n",
              "// Max number of bytes which will be uploaded at a time.\n",
              "const MAX_PAYLOAD_SIZE = 100 * 1024;\n",
              "\n",
              "function _uploadFiles(inputId, outputId) {\n",
              "  const steps = uploadFilesStep(inputId, outputId);\n",
              "  const outputElement = document.getElementById(outputId);\n",
              "  // Cache steps on the outputElement to make it available for the next call\n",
              "  // to uploadFilesContinue from Python.\n",
              "  outputElement.steps = steps;\n",
              "\n",
              "  return _uploadFilesContinue(outputId);\n",
              "}\n",
              "\n",
              "// This is roughly an async generator (not supported in the browser yet),\n",
              "// where there are multiple asynchronous steps and the Python side is going\n",
              "// to poll for completion of each step.\n",
              "// This uses a Promise to block the python side on completion of each step,\n",
              "// then passes the result of the previous step as the input to the next step.\n",
              "function _uploadFilesContinue(outputId) {\n",
              "  const outputElement = document.getElementById(outputId);\n",
              "  const steps = outputElement.steps;\n",
              "\n",
              "  const next = steps.next(outputElement.lastPromiseValue);\n",
              "  return Promise.resolve(next.value.promise).then((value) => {\n",
              "    // Cache the last promise value to make it available to the next\n",
              "    // step of the generator.\n",
              "    outputElement.lastPromiseValue = value;\n",
              "    return next.value.response;\n",
              "  });\n",
              "}\n",
              "\n",
              "/**\n",
              " * Generator function which is called between each async step of the upload\n",
              " * process.\n",
              " * @param {string} inputId Element ID of the input file picker element.\n",
              " * @param {string} outputId Element ID of the output display.\n",
              " * @return {!Iterable<!Object>} Iterable of next steps.\n",
              " */\n",
              "function* uploadFilesStep(inputId, outputId) {\n",
              "  const inputElement = document.getElementById(inputId);\n",
              "  inputElement.disabled = false;\n",
              "\n",
              "  const outputElement = document.getElementById(outputId);\n",
              "  outputElement.innerHTML = '';\n",
              "\n",
              "  const pickedPromise = new Promise((resolve) => {\n",
              "    inputElement.addEventListener('change', (e) => {\n",
              "      resolve(e.target.files);\n",
              "    });\n",
              "  });\n",
              "\n",
              "  const cancel = document.createElement('button');\n",
              "  inputElement.parentElement.appendChild(cancel);\n",
              "  cancel.textContent = 'Cancel upload';\n",
              "  const cancelPromise = new Promise((resolve) => {\n",
              "    cancel.onclick = () => {\n",
              "      resolve(null);\n",
              "    };\n",
              "  });\n",
              "\n",
              "  // Wait for the user to pick the files.\n",
              "  const files = yield {\n",
              "    promise: Promise.race([pickedPromise, cancelPromise]),\n",
              "    response: {\n",
              "      action: 'starting',\n",
              "    }\n",
              "  };\n",
              "\n",
              "  cancel.remove();\n",
              "\n",
              "  // Disable the input element since further picks are not allowed.\n",
              "  inputElement.disabled = true;\n",
              "\n",
              "  if (!files) {\n",
              "    return {\n",
              "      response: {\n",
              "        action: 'complete',\n",
              "      }\n",
              "    };\n",
              "  }\n",
              "\n",
              "  for (const file of files) {\n",
              "    const li = document.createElement('li');\n",
              "    li.append(span(file.name, {fontWeight: 'bold'}));\n",
              "    li.append(span(\n",
              "        `(${file.type || 'n/a'}) - ${file.size} bytes, ` +\n",
              "        `last modified: ${\n",
              "            file.lastModifiedDate ? file.lastModifiedDate.toLocaleDateString() :\n",
              "                                    'n/a'} - `));\n",
              "    const percent = span('0% done');\n",
              "    li.appendChild(percent);\n",
              "\n",
              "    outputElement.appendChild(li);\n",
              "\n",
              "    const fileDataPromise = new Promise((resolve) => {\n",
              "      const reader = new FileReader();\n",
              "      reader.onload = (e) => {\n",
              "        resolve(e.target.result);\n",
              "      };\n",
              "      reader.readAsArrayBuffer(file);\n",
              "    });\n",
              "    // Wait for the data to be ready.\n",
              "    let fileData = yield {\n",
              "      promise: fileDataPromise,\n",
              "      response: {\n",
              "        action: 'continue',\n",
              "      }\n",
              "    };\n",
              "\n",
              "    // Use a chunked sending to avoid message size limits. See b/62115660.\n",
              "    let position = 0;\n",
              "    do {\n",
              "      const length = Math.min(fileData.byteLength - position, MAX_PAYLOAD_SIZE);\n",
              "      const chunk = new Uint8Array(fileData, position, length);\n",
              "      position += length;\n",
              "\n",
              "      const base64 = btoa(String.fromCharCode.apply(null, chunk));\n",
              "      yield {\n",
              "        response: {\n",
              "          action: 'append',\n",
              "          file: file.name,\n",
              "          data: base64,\n",
              "        },\n",
              "      };\n",
              "\n",
              "      let percentDone = fileData.byteLength === 0 ?\n",
              "          100 :\n",
              "          Math.round((position / fileData.byteLength) * 100);\n",
              "      percent.textContent = `${percentDone}% done`;\n",
              "\n",
              "    } while (position < fileData.byteLength);\n",
              "  }\n",
              "\n",
              "  // All done.\n",
              "  yield {\n",
              "    response: {\n",
              "      action: 'complete',\n",
              "    }\n",
              "  };\n",
              "}\n",
              "\n",
              "scope.google = scope.google || {};\n",
              "scope.google.colab = scope.google.colab || {};\n",
              "scope.google.colab._files = {\n",
              "  _uploadFiles,\n",
              "  _uploadFilesContinue,\n",
              "};\n",
              "})(self);\n",
              "</script> "
            ]
          },
          "metadata": {}
        },
        {
          "output_type": "stream",
          "name": "stdout",
          "text": [
            "Saving Receita Menato.pdf to Receita Menato.pdf\n",
            "Texto recebido: *Para validar assinatura deste documento, acesse https://validador.memed.com.br | Token: jL46ybNome: Giovana Perazzolo Menato\n",
            "CPF: 469.036.188-64\n",
            "MEMED - Acesso à sua receita digital via QR Code\n",
            "Endereço: Rua Teodoro Sampaio, 744 cj102\n",
            "Assinado digitalmente por Raphael Nacarelli Salgado - CRM 183747...\n",
            "Nome do Arquivo: Desconhecido\n",
            "------------------------------\n",
            "Data da Receita: 30/01/2023\n",
            "CRM do Médico: 183747\n",
            "\n",
            "Medicamentos prescritos:\n",
            "1. Oxalato de escitalopram (10mg)\n",
            "   Frequência: 1 cp se crises de ansiedade\n",
            "\n",
            "2. embalagem Oxalato de escitalopram (10mg)\n",
            "   Frequência: 1 cp se crises de ansiedade\n",
            "\n",
            "3. Endereço: Estrada do Lutero, Cotia IDENTIFICAÇÃO DO COMPRADOR Nome: RG: Endereço: Telefone: Cidade e UF:IDENTIFICAÇÃO DO FORNECEDOR DATA ASSINATURA DO FARMACÊUTICOOxalato de escitalopram (10mg)\n",
            "   Frequência: Frequência não especificada\n",
            "\n",
            "4. embalagem Oxalato de escitalopram (10mg)\n",
            "   Frequência: 1 cp se crises de ansiedade\n",
            "\n",
            "5. Endereço: Estrada do Lutero, Cotia IDENTIFICAÇÃO DO COMPRADOR Nome: RG: Endereço: Telefone: Cidade e UF:IDENTIFICAÇÃO DO FORNECEDOR DATA ASSINATURA DO FARMACÊUTICOOxalato de escitalopram (10mg)\n",
            "   Frequência: Frequência não especificada\n",
            "\n",
            "6. embalagem Oxalato de escitalopram (10mg)\n",
            "   Frequência: 1 cp se crises de ansiedade\n",
            "\n",
            "\n"
          ]
        },
        {
          "output_type": "display_data",
          "data": {
            "text/plain": [
              "Button(description='Escolher Arquivo', style=ButtonStyle())"
            ],
            "application/vnd.jupyter.widget-view+json": {
              "version_major": 2,
              "version_minor": 0,
              "model_id": "a862ac3c4ff14aacbaf99b31974f0e3e"
            }
          },
          "metadata": {}
        },
        {
          "output_type": "display_data",
          "data": {
            "text/plain": [
              "Output()"
            ],
            "application/vnd.jupyter.widget-view+json": {
              "version_major": 2,
              "version_minor": 0,
              "model_id": "d0d1dd6c5d49444c8b30abe27960238b"
            }
          },
          "metadata": {}
        }
      ]
    },
    {
      "cell_type": "markdown",
      "source": [
        "### Função para enviar e-mail"
      ],
      "metadata": {
        "id": "_cBYnTIKlwNn"
      }
    },
    {
      "cell_type": "code",
      "source": [
        "def enviar_lembrete(email_destinatario, medicamentos, dose):\n",
        "    remetente = \"vinicius.santos@ifsp.edu.br\"\n",
        "    senha = \"@I_F_S_P_40150785\"\n",
        "    assunto = f\"Lembrete para Tomar {medicamentos}\"\n",
        "    corpo = f\"\"\"Caro paciente,\\n\\nEste é um lembrete para tomar o seu medicamento.\\n\\nNome do Medicamento: {medicamentos}\\nDosagem: {dose}\\n\\nAtenciosamente,\\nEquipe de Saúde\"\"\"\n",
        "\n",
        "    mensagem = MIMEMultipart()\n",
        "    mensagem[\"From\"] = remetente\n",
        "    mensagem[\"To\"] = email_destinatario\n",
        "    mensagem[\"Subject\"] = assunto\n",
        "    mensagem.attach(MIMEText(corpo, 'plain'))\n",
        "\n",
        "    servidor = smtplib.SMTP_SSL(\"smtp.gmail.com\", 465)\n",
        "    servidor.login(remetente, senha)\n",
        "    servidor.sendmail(remetente, email_destinatario, mensagem.as_string())\n",
        "    servidor.quit()"
      ],
      "metadata": {
        "id": "og_SIIKslzRE"
      },
      "execution_count": null,
      "outputs": []
    },
    {
      "cell_type": "markdown",
      "source": [
        "Widget para upload de arquivo"
      ],
      "metadata": {
        "id": "x0MhPYq6l327"
      }
    },
    {
      "cell_type": "code",
      "source": [
        "upload_button = widgets.FileUpload(\n",
        "    accept='.pdf,.jpg,.jpeg',\n",
        "    multiple=False\n",
        ")"
      ],
      "metadata": {
        "id": "wrpxtlhcl4wJ"
      },
      "execution_count": null,
      "outputs": []
    },
    {
      "cell_type": "markdown",
      "source": [
        "Widget para inserir e-mail"
      ],
      "metadata": {
        "id": "3CYf_lvgl8QJ"
      }
    },
    {
      "cell_type": "code",
      "source": [
        "email_widget = widgets.Text(\n",
        "    placeholder='Digite o email do destinatário',\n",
        "    description='Email:',\n",
        "    disabled=False\n",
        ")"
      ],
      "metadata": {
        "id": "Ue5X9xMkl6oQ"
      },
      "execution_count": null,
      "outputs": []
    },
    {
      "cell_type": "markdown",
      "source": [
        "Botão para enviar lembrete"
      ],
      "metadata": {
        "id": "im81EZbPqebx"
      }
    },
    {
      "cell_type": "code",
      "source": [
        "send_button = widgets.Button(\n",
        "    description='Enviar Lembrete'\n",
        ")"
      ],
      "metadata": {
        "id": "bp33pxbHmCK0"
      },
      "execution_count": null,
      "outputs": []
    },
    {
      "cell_type": "markdown",
      "source": [
        "Limpar todos os manipuladores de evento antes de associar um novo"
      ],
      "metadata": {
        "id": "X8RhQHgdQH7U"
      }
    },
    {
      "cell_type": "code",
      "source": [
        "send_button.close()\n",
        "send_button = widgets.Button(description='Enviar Lembrete')\n"
      ],
      "metadata": {
        "id": "2mUbniJqQFSE"
      },
      "execution_count": null,
      "outputs": []
    },
    {
      "cell_type": "markdown",
      "source": [
        "Função chamada quando o botão é clicado"
      ],
      "metadata": {
        "id": "24WNTS3oqiNO"
      }
    },
    {
      "cell_type": "code",
      "source": [
        "def on_button_click(b):\n",
        "    print(\"Botão clicado.\")  # Diagnóstico\n",
        "    global texto\n",
        "    resultado = sumarizar_receita(texto)\n",
        "    email_destinatario = email_widget.value\n",
        "\n",
        "    medicamentos_lista = resultado.get('Medicamentos', [])\n",
        "\n",
        "    if not medicamentos_lista:\n",
        "        print(\"Nenhum medicamento encontrado.\")\n",
        "        return\n",
        "\n",
        "    primeiro_medicamento = medicamentos_lista[0]\n",
        "    medicamento_nome = primeiro_medicamento.get('Medicamento', 'Indefinido')\n",
        "    dose = primeiro_medicamento.get('Dose', 'Indefinida')\n",
        "\n",
        "    enviar_lembrete(email_destinatario, medicamento_nome, dose)\n"
      ],
      "metadata": {
        "id": "tgFsHKhfqlBg"
      },
      "execution_count": null,
      "outputs": []
    },
    {
      "cell_type": "code",
      "source": [
        "send_button.on_click(on_button_click)\n",
        "\n",
        "# Mostrar widgets\n",
        "display(email_widget, send_button)"
      ],
      "metadata": {
        "id": "SnYwfPr8d83i",
        "colab": {
          "base_uri": "https://localhost:8080/",
          "height": 520,
          "referenced_widgets": [
            "b2093d473910437e8e732a36f8c30720",
            "9ad0f66ab44442149dcf88ba435cef52",
            "d97b361c42cb4ce2bb5d8317438fa853",
            "bfb3c983315c4900bc49ebeaef6b1335",
            "8c6a3ad7d63541ab8b6a20c97ce85d53",
            "2f8b5e6373454157901a4f8b369ce60c"
          ]
        },
        "outputId": "9316b223-cdd3-420c-acf1-67726e7d1001"
      },
      "execution_count": null,
      "outputs": [
        {
          "output_type": "display_data",
          "data": {
            "text/plain": [
              "Text(value='', description='Email:', placeholder='Digite o email do destinatário')"
            ],
            "application/vnd.jupyter.widget-view+json": {
              "version_major": 2,
              "version_minor": 0,
              "model_id": "b2093d473910437e8e732a36f8c30720"
            }
          },
          "metadata": {}
        },
        {
          "output_type": "display_data",
          "data": {
            "text/plain": [
              "Button(description='Enviar Lembrete', style=ButtonStyle())"
            ],
            "application/vnd.jupyter.widget-view+json": {
              "version_major": 2,
              "version_minor": 0,
              "model_id": "bfb3c983315c4900bc49ebeaef6b1335"
            }
          },
          "metadata": {}
        },
        {
          "output_type": "stream",
          "name": "stdout",
          "text": [
            "Botão clicado.\n",
            "Texto recebido: *Para validar assinatura deste documento, acesse https://validador.memed.com.br | Token: jL46ybNome: Giovana Perazzolo Menato\n",
            "CPF: 469.036.188-64\n",
            "MEMED - Acesso à sua receita digital via QR Code\n",
            "Endereço: Rua Teodoro Sampaio, 744 cj102\n",
            "Assinado digitalmente por Raphael Nacarelli Salgado - CRM 183747...\n",
            "Botão clicado.\n",
            "Texto recebido: *Para validar assinatura deste documento, acesse https://validador.memed.com.br | Token: jL46ybNome: Giovana Perazzolo Menato\n",
            "CPF: 469.036.188-64\n",
            "MEMED - Acesso à sua receita digital via QR Code\n",
            "Endereço: Rua Teodoro Sampaio, 744 cj102\n",
            "Assinado digitalmente por Raphael Nacarelli Salgado - CRM 183747...\n",
            "Botão clicado.\n",
            "Texto recebido: *Para validar assinatura deste documento, acesse https://validador.memed.com.br | Token: jL46ybNome: Giovana Perazzolo Menato\n",
            "CPF: 469.036.188-64\n",
            "MEMED - Acesso à sua receita digital via QR Code\n",
            "Endereço: Rua Teodoro Sampaio, 744 cj102\n",
            "Assinado digitalmente por Raphael Nacarelli Salgado - CRM 183747...\n",
            "Botão clicado.\n",
            "Texto recebido: *Para validar assinatura deste documento, acesse https://validador.memed.com.br | Token: jL46ybNome: Giovana Perazzolo Menato\n",
            "CPF: 469.036.188-64\n",
            "MEMED - Acesso à sua receita digital via QR Code\n",
            "Endereço: Rua Teodoro Sampaio, 744 cj102\n",
            "Assinado digitalmente por Raphael Nacarelli Salgado - CRM 183747...\n"
          ]
        }
      ]
    }
  ]
}