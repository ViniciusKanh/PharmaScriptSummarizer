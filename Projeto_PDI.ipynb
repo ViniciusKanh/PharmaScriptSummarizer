{
  "nbformat": 4,
  "nbformat_minor": 0,
  "metadata": {
    "colab": {
      "provenance": [],
      "authorship_tag": "ABX9TyPC8X73/cxh+XYEG7NHycUM",
      "include_colab_link": true
    },
    "kernelspec": {
      "name": "python3",
      "display_name": "Python 3"
    },
    "language_info": {
      "name": "python"
    },
    "widgets": {
      "application/vnd.jupyter.widget-state+json": {
        "a862ac3c4ff14aacbaf99b31974f0e3e": {
          "model_module": "@jupyter-widgets/controls",
          "model_name": "ButtonModel",
          "model_module_version": "1.5.0",
          "state": {
            "_dom_classes": [],
            "_model_module": "@jupyter-widgets/controls",
            "_model_module_version": "1.5.0",
            "_model_name": "ButtonModel",
            "_view_count": null,
            "_view_module": "@jupyter-widgets/controls",
            "_view_module_version": "1.5.0",
            "_view_name": "ButtonView",
            "button_style": "",
            "description": "Escolher Arquivo",
            "disabled": false,
            "icon": "",
            "layout": "IPY_MODEL_d3b58388b7ed4690aff545a38424f349",
            "style": "IPY_MODEL_787e1add8361447d8490260ed061cd36",
            "tooltip": ""
          }
        },
        "d3b58388b7ed4690aff545a38424f349": {
          "model_module": "@jupyter-widgets/base",
          "model_name": "LayoutModel",
          "model_module_version": "1.2.0",
          "state": {
            "_model_module": "@jupyter-widgets/base",
            "_model_module_version": "1.2.0",
            "_model_name": "LayoutModel",
            "_view_count": null,
            "_view_module": "@jupyter-widgets/base",
            "_view_module_version": "1.2.0",
            "_view_name": "LayoutView",
            "align_content": null,
            "align_items": null,
            "align_self": null,
            "border": null,
            "bottom": null,
            "display": null,
            "flex": null,
            "flex_flow": null,
            "grid_area": null,
            "grid_auto_columns": null,
            "grid_auto_flow": null,
            "grid_auto_rows": null,
            "grid_column": null,
            "grid_gap": null,
            "grid_row": null,
            "grid_template_areas": null,
            "grid_template_columns": null,
            "grid_template_rows": null,
            "height": null,
            "justify_content": null,
            "justify_items": null,
            "left": null,
            "margin": null,
            "max_height": null,
            "max_width": null,
            "min_height": null,
            "min_width": null,
            "object_fit": null,
            "object_position": null,
            "order": null,
            "overflow": null,
            "overflow_x": null,
            "overflow_y": null,
            "padding": null,
            "right": null,
            "top": null,
            "visibility": null,
            "width": null
          }
        },
        "787e1add8361447d8490260ed061cd36": {
          "model_module": "@jupyter-widgets/controls",
          "model_name": "ButtonStyleModel",
          "model_module_version": "1.5.0",
          "state": {
            "_model_module": "@jupyter-widgets/controls",
            "_model_module_version": "1.5.0",
            "_model_name": "ButtonStyleModel",
            "_view_count": null,
            "_view_module": "@jupyter-widgets/base",
            "_view_module_version": "1.2.0",
            "_view_name": "StyleView",
            "button_color": null,
            "font_weight": ""
          }
        },
        "d0d1dd6c5d49444c8b30abe27960238b": {
          "model_module": "@jupyter-widgets/output",
          "model_name": "OutputModel",
          "model_module_version": "1.0.0",
          "state": {
            "_dom_classes": [],
            "_model_module": "@jupyter-widgets/output",
            "_model_module_version": "1.0.0",
            "_model_name": "OutputModel",
            "_view_count": null,
            "_view_module": "@jupyter-widgets/output",
            "_view_module_version": "1.0.0",
            "_view_name": "OutputView",
            "layout": "IPY_MODEL_2e5caf4f02744290a54cf122b2e541ad",
            "msg_id": "",
            "outputs": []
          }
        },
        "2e5caf4f02744290a54cf122b2e541ad": {
          "model_module": "@jupyter-widgets/base",
          "model_name": "LayoutModel",
          "model_module_version": "1.2.0",
          "state": {
            "_model_module": "@jupyter-widgets/base",
            "_model_module_version": "1.2.0",
            "_model_name": "LayoutModel",
            "_view_count": null,
            "_view_module": "@jupyter-widgets/base",
            "_view_module_version": "1.2.0",
            "_view_name": "LayoutView",
            "align_content": null,
            "align_items": null,
            "align_self": null,
            "border": null,
            "bottom": null,
            "display": null,
            "flex": null,
            "flex_flow": null,
            "grid_area": null,
            "grid_auto_columns": null,
            "grid_auto_flow": null,
            "grid_auto_rows": null,
            "grid_column": null,
            "grid_gap": null,
            "grid_row": null,
            "grid_template_areas": null,
            "grid_template_columns": null,
            "grid_template_rows": null,
            "height": null,
            "justify_content": null,
            "justify_items": null,
            "left": null,
            "margin": null,
            "max_height": null,
            "max_width": null,
            "min_height": null,
            "min_width": null,
            "object_fit": null,
            "object_position": null,
            "order": null,
            "overflow": null,
            "overflow_x": null,
            "overflow_y": null,
            "padding": null,
            "right": null,
            "top": null,
            "visibility": null,
            "width": null
          }
        },
        "b2093d473910437e8e732a36f8c30720": {
          "model_module": "@jupyter-widgets/controls",
          "model_name": "TextModel",
          "model_module_version": "1.5.0",
          "state": {
            "_dom_classes": [],
            "_model_module": "@jupyter-widgets/controls",
            "_model_module_version": "1.5.0",
            "_model_name": "TextModel",
            "_view_count": null,
            "_view_module": "@jupyter-widgets/controls",
            "_view_module_version": "1.5.0",
            "_view_name": "TextView",
            "continuous_update": true,
            "description": "Email:",
            "description_tooltip": null,
            "disabled": false,
            "layout": "IPY_MODEL_9ad0f66ab44442149dcf88ba435cef52",
            "placeholder": "Digite o email do destinatário",
            "style": "IPY_MODEL_d97b361c42cb4ce2bb5d8317438fa853",
            "value": "isadora.bueno@aluno.ifsp.edu.br"
          }
        },
        "9ad0f66ab44442149dcf88ba435cef52": {
          "model_module": "@jupyter-widgets/base",
          "model_name": "LayoutModel",
          "model_module_version": "1.2.0",
          "state": {
            "_model_module": "@jupyter-widgets/base",
            "_model_module_version": "1.2.0",
            "_model_name": "LayoutModel",
            "_view_count": null,
            "_view_module": "@jupyter-widgets/base",
            "_view_module_version": "1.2.0",
            "_view_name": "LayoutView",
            "align_content": null,
            "align_items": null,
            "align_self": null,
            "border": null,
            "bottom": null,
            "display": null,
            "flex": null,
            "flex_flow": null,
            "grid_area": null,
            "grid_auto_columns": null,
            "grid_auto_flow": null,
            "grid_auto_rows": null,
            "grid_column": null,
            "grid_gap": null,
            "grid_row": null,
            "grid_template_areas": null,
            "grid_template_columns": null,
            "grid_template_rows": null,
            "height": null,
            "justify_content": null,
            "justify_items": null,
            "left": null,
            "margin": null,
            "max_height": null,
            "max_width": null,
            "min_height": null,
            "min_width": null,
            "object_fit": null,
            "object_position": null,
            "order": null,
            "overflow": null,
            "overflow_x": null,
            "overflow_y": null,
            "padding": null,
            "right": null,
            "top": null,
            "visibility": null,
            "width": null
          }
        },
        "d97b361c42cb4ce2bb5d8317438fa853": {
          "model_module": "@jupyter-widgets/controls",
          "model_name": "DescriptionStyleModel",
          "model_module_version": "1.5.0",
          "state": {
            "_model_module": "@jupyter-widgets/controls",
            "_model_module_version": "1.5.0",
            "_model_name": "DescriptionStyleModel",
            "_view_count": null,
            "_view_module": "@jupyter-widgets/base",
            "_view_module_version": "1.2.0",
            "_view_name": "StyleView",
            "description_width": ""
          }
        },
        "bfb3c983315c4900bc49ebeaef6b1335": {
          "model_module": "@jupyter-widgets/controls",
          "model_name": "ButtonModel",
          "model_module_version": "1.5.0",
          "state": {
            "_dom_classes": [],
            "_model_module": "@jupyter-widgets/controls",
            "_model_module_version": "1.5.0",
            "_model_name": "ButtonModel",
            "_view_count": null,
            "_view_module": "@jupyter-widgets/controls",
            "_view_module_version": "1.5.0",
            "_view_name": "ButtonView",
            "button_style": "",
            "description": "Enviar Lembrete",
            "disabled": false,
            "icon": "",
            "layout": "IPY_MODEL_8c6a3ad7d63541ab8b6a20c97ce85d53",
            "style": "IPY_MODEL_2f8b5e6373454157901a4f8b369ce60c",
            "tooltip": ""
          }
        },
        "8c6a3ad7d63541ab8b6a20c97ce85d53": {
          "model_module": "@jupyter-widgets/base",
          "model_name": "LayoutModel",
          "model_module_version": "1.2.0",
          "state": {
            "_model_module": "@jupyter-widgets/base",
            "_model_module_version": "1.2.0",
            "_model_name": "LayoutModel",
            "_view_count": null,
            "_view_module": "@jupyter-widgets/base",
            "_view_module_version": "1.2.0",
            "_view_name": "LayoutView",
            "align_content": null,
            "align_items": null,
            "align_self": null,
            "border": null,
            "bottom": null,
            "display": null,
            "flex": null,
            "flex_flow": null,
            "grid_area": null,
            "grid_auto_columns": null,
            "grid_auto_flow": null,
            "grid_auto_rows": null,
            "grid_column": null,
            "grid_gap": null,
            "grid_row": null,
            "grid_template_areas": null,
            "grid_template_columns": null,
            "grid_template_rows": null,
            "height": null,
            "justify_content": null,
            "justify_items": null,
            "left": null,
            "margin": null,
            "max_height": null,
            "max_width": null,
            "min_height": null,
            "min_width": null,
            "object_fit": null,
            "object_position": null,
            "order": null,
            "overflow": null,
            "overflow_x": null,
            "overflow_y": null,
            "padding": null,
            "right": null,
            "top": null,
            "visibility": null,
            "width": null
          }
        },
        "2f8b5e6373454157901a4f8b369ce60c": {
          "model_module": "@jupyter-widgets/controls",
          "model_name": "ButtonStyleModel",
          "model_module_version": "1.5.0",
          "state": {
            "_model_module": "@jupyter-widgets/controls",
            "_model_module_version": "1.5.0",
            "_model_name": "ButtonStyleModel",
            "_view_count": null,
            "_view_module": "@jupyter-widgets/base",
            "_view_module_version": "1.2.0",
            "_view_name": "StyleView",
            "button_color": null,
            "font_weight": ""
          }
        }
      }
    }
  },
  "cells": [
    {
      "cell_type": "markdown",
      "metadata": {
        "id": "view-in-github",
        "colab_type": "text"
      },
      "source": [
        "<a href=\"https://colab.research.google.com/github/ViniciusKanh/PharmaScriptSummarizer/blob/main/Projeto_PDI.ipynb\" target=\"_parent\"><img src=\"https://colab.research.google.com/assets/colab-badge.svg\" alt=\"Open In Colab\"/></a>"
      ]
    },
    {
      "cell_type": "markdown",
      "source": [
        "![inteligencia-artificial-medicamento-remedio-personalizada.jpg](data:image/jpeg;base64,/9j/4AAQSkZJRgABAQAAAQABAAD/2wBDAAMCAgMCAgMDAwMEAwMEBQgFBQQEBQoHBwYIDAoMDAsKCwsNDhIQDQ4RDgsLEBYQERMUFRUVDA8XGBYUGBIUFRT/2wBDAQMEBAUEBQkFBQkUDQsNFBQUFBQUFBQUFBQUFBQUFBQUFBQUFBQUFBQUFBQUFBQUFBQUFBQUFBQUFBQUFBQUFBT/wgARCAIwAyADASIAAhEBAxEB/8QAHQAAAgIDAQEBAAAAAAAAAAAAAAEFBgIEBwMICf/EABsBAAEFAQEAAAAAAAAAAAAAAAACAwQFBgEH/9oADAMBAAIQAxAAAAHmOJj6D5/kYgZCQZCQZGIGRiwZiwZiwfaeKysV/wClTx9s1NAOAAFltFWtNboeWxEnDXWcsea2IzvrKa0xGsffew9YdrSfkK/UDZ5ZmJZ1eQkGRiwZiwZiBkIBmLBiQZGIGRiBkJBkYgZCQZCQZCQZCAYgGIBiAZiwYgGIBmIGQkGRiwYkGQgGYsGYsGJBkYgZZYMBNAIYIGAJgJgAgAAGIAYB0LtHyr1Kom9ZXsUsnxPVd5YLTV7RW6Hj8d7eN9mbfIYytVauRW3EtHxKR+abytwTNRmEMBDATTAABDQMQAADEwQwBNAMQDTATQNADABMQAAMTAQAMAQAMEDEwTQANAxANAAxAMABADQBljkAmgBADQANAwATQDEwTAE0wTTC995+S9isn/X2vyLpFFa2a0VqZrbLiU/NWizqcd2oc4jWPcuAcrjL2oAV3SsEDEwAQb+z17q2E1vyW/rRQJXxrjb/AC3eXqxaRSats2KxsWfld4voVHseZ89+zuNSsxyqOiPK8oLlnBZRn68p6OmQ9JrJ9lK6Uxt1A3GkxAxANNAxAMQAADBAMQAwBNA0APF3xtXNt3HPqgQttggaJ9KoF9E0mV0jHLGQ0AAAwBAMQANAxAMEAxA0MBNAwAzkIxJclo/xYCGpsAAQAxMAABOWSo393Vr7DAwrqm2rjESWYR3SB7zHqfMPrXG7binS7DF0d7eYiF859L81Wbl+zr8n9hP5l0MNqfqngdSirms0bIRWvzsxWNj6LjyPnz3+w4+rs/jZfTXz7a1cQhzoACBpoGhgmrAnsApmH6Jh3gCBggaGA0gYgGIABh0ftstjj9LTfTHffg/LKeOpqAaBggGmACBz0d2+K7wNe3jJQDXUgANADBADQNMAEwTAENAMuDbtPXbKxFsOdP654W07zo7XxuVEsVdm64uN6TJr8VtwKTjVrqslINueHYee0essfs2J4DMZPQ9Z5dRq7qaS113wusuHtwHum3PE90pEJo9wsVPPiu31vdzGklNeT15rNYpPQo2bH+QDal9rjK8rdUTjE3G0DDLvXA7/AAZM1yWx1x9oAfbaGCGgAYJoBiAYAIYd+5tCk9IwO15lMR8zPpvkNPHX0TEwBMATAEBudz+fIKBMs/ljlOigLqRgAhgmgGhggAaGCYgLf5durbTgnl9I/Mp3pdEgfaQz3bk+dXZc7ByfGzrRq+L8VtG/sVHpYnWxaLIq4BYyuAWN1zd53oNSgRPMFa4lxEUSopEUSqC+WTkMrnL36SsHzl9T5nQmHp5r7DwU1xmwjcSwslb2uNnfCGmkLhSZhnWQYpCaABgJpggAAAaYACBpgAAJgEj9MfKygz/r/X+TsYT+Kau6lDATEDBADQYV2y4Mycxj0YAABADQNMAEAMABMEDCxd3+ZZGvsforhOfRYtlR6f2CMkR4SnT3q/A9I/HA6TC0EqPSOjXWrEZVzhYSvC0WErwFvypwheOTUiPaIX1wYfxNC3KT5a+9UG3d+ahNFxo+guL3CHO7R6fJBGe7FyDB2dbb9crKHJKLsGm617Lb8G3YNW6pPRkMcbBADQANA0AA0DQwEMBNAwAQwFkmAniADBDQDQANAwQNDAQAGfRGX+cP6Hu9XZ/IuP3hW473xg+lc0vKUGPMqYiM0qtpBaEeTZKtaastu09O4TdYtha93X46w9YAJtcvXyYanjI1t1pvFvMXKProw/YnXn0sBF6PO2JRsccsbrgpNrjIeztvVd9J5T1O7JRObzN9hq5aI0rp3LJmmsPzHrPUp1kj7Dm8ztaWQ05iZHU7FancOmzV7Xq9K4OdfYgvX7AmqK7+IV9pc7Wn5xXW+ZWdbog5MUTQNDAABDQNMAQA3jkBjkgQMATAEADQMEANASGr9Fwp/lYV45jTbnQ6va4Enzpd4ON1z5j+v+EWkHj7rpq8xY3qbrL+O7pCe+1Wsfuvh4Z4IUAdNnc8fFtzEqsy/HkvDrMnWWnFCz8zsIFldYHmOkalDG1XLRrQvnSubB3it3t9QV1vF3epcZz913/89+nU+8pLlc6j0qFp+LdUlaBMpqKJ3mTssjSPePJ8VZ8FIrZZDvK2WQCtlkQQG/vpPa/9fcK+kaO73YLdKSzIOb8eqp+OnvyO8Jqn1J886LOwKCzqmACx8oRmTLZQpHlWRwU5KhDBxkaYCeIDAEDATABADAEwDq3Vo/eyGwwj9mNYkX7ZzUdGELOxzjMnV7H5od+TvXxz2eX14WyeqkVddc5H1uaj5jZS7VCyDjVbkpL3SuHjZmGWg+o/mj7MpbrUltr3zOgiflr624HaV3C2b+vyceXrUYkbHvjRWJNqzqHTFHb3M/MGc1nt5Uj102Nsu56QrL+1JRVtQ5bYfwmKDfcrXvF6Xzmeit2LOQ1suXfYE35Ypn2TyPiuIWSuXu2pqLjZce9rjn11PW++8i6HjtbNOBUGVPqAO8536+2jM5LV6b3Vt/KSn4HY45A1twet7eNZdACVknGZLbsZhlZUxljkAniDEwBMEAANADQOUi7G099GeHprY3ZasbuaSu9V8/TWh8zjdjDMW+pssjO/LD6nu+o4fkSC1rQEdyK2PM2MrbCyFbXC8+9AG3j68+Qp9h/7U9eUTeS1F8+Rut/NN3Uefrdlc1MZWbecKvb/AB90O0jvVV6LCs7h8dfX/wA3MyKirrKW+f55dqJ6uNbPXNmh11rXur0G3w9JA0+912dQ6mpKKVVfQ/SPnn6IyGo16J0DiaV/OzsZtsdW3Y/QNODttTOfUvUuW9AxOw2tik77fJKp3nz7zmsTJRMh2V242R6nkHN+p8t1OVEybB0NKekoFlScZTSYl641035Wtz8yu9cscpMMxyxAABiYAmAhgCYFjrdkZkfRGps6OP2Gnp7Or3vXdKayrXIAnxlcEp/W6fPL5M9zlJzUjXMhyPhqWPncPKC8OosjrR1NmdalEuSLiI/vLbY+X7rb2iMlwZDpfJL9Bsa9B2upyIyO37+dtuAvvr4rgHZLBWHHe7/IH2BzZi1+dLbWur6DK8swvN7aer3ItvWkxJfoEXv570imV718tJ5vb9aD8kHncIHtdXNgOedJ6VS29f5/3qLyF78l+vj6eyeaWWO3ISPJ+l+h8/6djtXHy+pXY6/Sw7FW6mowsvDSnN6RjZLqeXct6lyzU5ZgTYCt1S9ULs9S61EVc/kVv6/sNL547pLqj/PWVsqdtGMcsXGwAGIBgAmAJoAslcsTMj6F0t3Qx+w0df38O96/uQ+rFbthW225Y9WJwO/FTnvTfYyuFkOdrhY/bnZKOqllbcWWIJkpWttp/wB6jaMnWaoWxuNVNW9na5q9MrLb1+4/69UZkXkiLD55r4e5xWdrFh4q18ltIFx7v8E/Q7jJwD7GgEr+X+idehX2vnjuFzyZdpXIrfyucPJd9sKHHhn3dF5vQ8f6RadTJX8L4TGnR2GmeuEJ/wCRrt0K8b3KfJmh0vmm4yn1N1LivRMtprNhUt2M7qW7CqdTV4Obg5Du5IxkmpPL+XdQ5dqcsxObAE0Fr+lPkH7AobnWp3UKRWv1B7WlbU8lwL6H5yt3nmOWNvCGIGhghoGmACAdjrljZkfQUdv6OP2Gnr+3l3vcYjCrx2ejAQ52lrYx8mN8Xufz3eOrhZDnK57zgd9qrZsUOVssua0VctGfFVQtmXO1Et2R2nl6nG3KRHW+C6QF3o7fiXSldj5NGlayHNgJpgAgsnWuBdkqri8xHzyknYOcaV9eRzctxJiQ1pj8WZEllFCFShE4nJixUWzMvx3lF7amfdQcOpu4VLLunVWDrdGsuU0/vt+sbGchrPqwb0enws7ByXdmTipLqeZ8u6jy3U5ZoJsBpgHQOfDT33PXYS5YjWc0gb/VbegjpuJmVt/Nia0UBAwQwBMATAQwFZK5YmZHf9Hd0MfsNTz9PLve5ekVtVzujDRW/KbsuzULew58I54S/oOEwi7pHMP1wsgtuuKyZHY6bi9Vt2WzstWac9LFzPoIRp6eYrd24fJDlN9LdvSI0BX71RFp2Ou8buLLtOz+hurQZfyhNfVpWWPyLTvuvVcb+PJHvHy3ZwY9hb0rslZaHSy1n6zgzqfRPp2Mz998Xem/7a3K5Qd8jGH6tcdeyoc5jJy8a/G0tWXuqe2P6Ao17x2tgYCz1pDl2i9uPbT4bWjvPR6NDTMM5J2JGLkup5py7qPL9TlUNTYLQwBAWr68+Gvo6gvukVXoUZQ2XNdyyRs6q+UU1r6QAATQASPOxxd6807FCHmXY63Y2ZHfo7fjsfsNfzz8+96nrSexGaqu1aIzkiN3JHPnPjWAturt8dXHYxaa4rIBWyyZBEfVPIe5Z+/mfc2s/c/IdF+suE6/NUSdkN+XFp2nftFSIvRuEFxVfAl1+X1HUu/5fTgGeugADDPQ6QevYtaQ38eQn1L8ubHJYsJ9efTfzJ7Q5v3dDfNUDQX3pU+rT9xWcJ9Ou67jNV6NzjRbdkrdzOMea63zPd2OJ9/rT5B2ocz6h1YC6Z+6n9OMwjqnoFQK+wsNMQ8jvvIxsh3nNuX9Q5hqcqJqbAAYJgB7eK536E6R8aFPb/VfB6XlIjiasa8TQMPY7aeqQlkpZM3b4ysU1xxmk/ZvxloK9WSuWObF75G72hj9hr+eWPe9Z8PLTZ5MkLkG/sRGxw+N8eh0va4/Qe5OqTWSaOKhZxbjbmr9VfIkzCmfYe1wOn0dzMxHM3pc71k5MxfWI7m0ic2oS/zYck3um21p3sm5jlitWAcAADHLxDVjN7QfTp/Pn0LXrGF8sWW6VrR56we1QkI0yfj4NLbhom3bkqJWbB5087tdQ3PpKntOa8g+qfCqsfg86fXdbmKkXFKT2/o/PL5jdp7vTiGHbFUJXJfKXDzUK/G9pCNkVc5xy/p/MNRlRDmwAEDQA0wEwAaYCeIMQDkI9872npNP3s7Z52GOm4btr+F/qf5WsVqyVuwXFZ36O343H7DxxePTsGtq6TE+VURip2Y84/ZSj443JLHbeezV44h3SusOu/N31J8pVljF5Vm/39HD57mkh3J45Hc7BhBsSNuQ5qpUO11UUiKA1tHZ+Mdnr7D6I2Aw2xAAAxB6mWis89H1jH29Kq2yqTY3zqNbLFznrIzcC15kXMejU2YslkZkU6n9AoLrHbvoX5U+hMzorLF6UNXTuMcuk4zc4zLHo8JxHZ+g88t2V3crX9iOR3e9tDeU3XYSbhUNZ72hvK5z3l3Sua6jLNMm14IABgIAYmCyxyAxyQCaBpgSHR+UDK/o/S+fHBlyUYOzhqbhZpqT2M1o3HepWBVf27D67qW7VTWQ+PvJEqI2tzFDny1qSNM2GBsll5vckr2YeuWzqNb33YxPcst3RO5DzFemOxrJcHjPp7BX6j1I74IVlUF2pTbd+8yn2Xz/AHO4tTxQrc8NJL566vjpOI9Y3Lyeby5n1X5isq+vNPUZYFIcVoKegUqGXDi4ed9qhGl6u3pEyv6fz6w1CJNvFH3LIrlb9J1db69dqdccxsVi8GZPo/aXQvn0L6VTr9i8IPZ7PqdHutL1Pngmp1KMQNNAMATEDeOQCaAQwTEDEwTAE0ATUNMsy+txkjG431/XxyxHe9R9kwbytbmPTzJaMPRHKncZTYTW1fm3chaPgzP6U+ZNjktyw6Ga+Rse1Ji2j605F2rI6vc4F3/yr5vwb74+e+w/r4h3gEsnsSbul3l2+nfi3oVNdfSnjHvN6HZ89PyWnY1l6K55bPpzJ1rx4m1q8qmnJik/2u80d5877EhUJCbnlyVvRrxBTelztWLQpMPYqHTqoxJrctZaK8xZ6vPnHew2aN6Dl9dEm/hGnYemnJ9Y5ZWLLWuad7ept9cqFKutJ1XlgBOpWIBggaABpgNMDHJAAgaaBiAaGCBgTULMsy+sxkjHY31/wxaHfpTX3MIeYj/Hc13JUfnq5rrbFvw0nG77iaA+TfrL5duKytOmmpzlyVP3Od652P5S6hS3Pe4Ki8ogy6JvS23qc1s+dKfOXSQ52uKtFYTfjpoW3LdY4kosv6jl/kbq9PddTq/z6pUK31ELSsBNxoslb9m3fvHwqUrgNzSvlzr3INflgnYKyrgBSWFjQ512g/VdFymp+ZoU3tVldCzwumd+p7bRL7i/RYPwsWoNbUZ7TqU8YrNorHdK9rW2+uVCk3ijarysac6mE5BKo4aUliYAIDLHIBPEGgBggYmAmgaACahplmX1aOk43G+v+GOWI79C7sJsx8lsa+ruKmx2pKxCocjKVvbSxZfWu7DS5r5F7r8q6CjxZKaHPPewkos7xKyL5Z86rvJVN60rqsvaj3M1J0Huvh4Z7k40/wAlLeTaynvoXPlcx6zyfrMeTyUCdXMX07Bnc20JCOrrDnZa6rcU+e9HDqAmNlDnRaFVhlzokJtpiVpYvF6Ne4GCTL5t6ieY8fHcklc7B0fnHQclvs89zdhu1/TnvB6Jx6tWiruab03tPe6qmUW9UXV+WtMm01xu/GpSFI0dYJjCGu8BgLJMBPEGJggYAIGhgmmBMw0yzM6xHSUfjfXtXHPAd+kKvI+qcfXtzGSdR7a2y4trSJ35DkdFjfqum8oqSVbcbt+d5Rb23s+0aW+yfNv1Jk7/ANvbV9c/eSHDe88G1lDXK1hKafNRruPihyqFt9udph22gtu1AuA4y69YJFmRTekVC3tr5L0PntyfY3um8j6RldJznxXjoIfZvnLqNQrnIe36tRvaKf14hOsXmsxtmafrBaPZTdRdsqa2+y9U5p0nN67H11N+HZ0X56+g/nzQ5X6V6Fz3oWd1lgMM6xjzrM3APp5tWbPWJOp95KPkO9o9EvlD1Xlw0TqYaYAAJgAmAsscgMckAmAmACGAhgAATUJNsy+txsnoY317Rw9fMe73q7GsYud84idYl62pKVkc+PnPSu489p1sqNx45reHjF85OTkGmnLPzqf2FIrZOjhBeFlZyLl5OhpUIcqEfTXzL3Oqu9uq3Tl0Wb2Gj+tUOwlf6lXbKnp/Wav0Vh/hPrayZBqmdoOKqclMyCV1OwaW625TGifWASCVR8/MQMaZd+c2anoVt2qlD0edh5OaZkVI2ZF5mKvUXhWWHbb7zy3Uusm/OLzYQ5OOSm+a1qx1zuq2t/SkOlEod9oer8vEybTCAGIBiYAgDLHINfKC2oVlMG7qSYODE42AwAQNDBTcLvtSe1aMnqYz16L8NvVHvo5NRs74xOzuONeXh6+SZXxXOwRvPMy5U2wtu+UXZK3zs4mkOMARXBTMmNDDFJ27BU9xl/ULb5cXVi09FaXyOOmIaRH+ned+1XpdNcqJVvOxpbd0Xl3U4c7mw1KiK81LxZfquuy0pVca7dYM/nbsdclRC+0G3x5NRFOSYslUbRV2HwZLiBM6CF3Gs2Si1tgMtVjB7DfefdCyW28s5f3iy4JT4N8WrtlratNvb+pu95QKHdKVq/L2hzahMQAMEwBDAGmFbBVV7OXjltg43LxXSvKVXc5MlMjiGAJgAg7n60e+Y/1eL0pfQj2n0DnWdhvNePns4PwjX9oUe+ds8MtXicsse4RZUZzb69h6K8+S0/LS5v1Xn5d56y1G6Ml2gb/1Neqm0+R9b7C5aw/88wP1RhMi/LJ17lFtU+AbT8frsVqwVTf1O1kbNq9fpPKOrsvclGWFdsSsDeY0qk3GR5605ZKyiVEkLDTmy7KWWBnoM7WhodzYSAlxB+8627MV/QGXui06SrESVL+GevMifQPQeN9lym5p8xP+jbcGp7JDnE4X2StNu7XjFORuZxAtl5I0NbQgBiAYmAIBvHIK3jOQ1db4bGv0ppzo/T+azle1MfOn0/JNzvjN9O5jpKITHmAAPTs3FN6Dc9t0vCTzHpFwn+c9gZrYTzna45X+vOun/Lc6Hr5Rb0OXlPoX5nskGd9SbHLatQ3dVh4t6nNSkTpfSDTr6r5amV1sycI4tMrfrnm3z+WdX9Ny3yfeGX+8xmM5V2ny/eup/M99RzGVWdjWb9kpiC+3XhvWYFlWaj53KZAptsrdk52DjmSIxYK9lzt6iYLXaesdj5xbIknw9Ku5sMVvqPT3n6xL87i4gW1b4aWr0OYTEvCuJvHbvlj6Lp72fy8nWWfrp7FPTJpMgsu6L249tV7R+eiC0zQ0wTQDTQMTBAwGmB5+iOwvZ+ZWmHIv/vruI3YbZzechT+r8gv1sqr74UJKM2+PYJSQGGVzpLZl9ivnzC6vQ/bNV+VfNEboNL0C3opDKNTjcoRb4XWF2PSLMl42F2wu30nzy5ZvVP53ufKJ9cvFO2o0w6Ic2lej2/552Y8n6Xot2ic/ouBuJNZkJWfq0Ylc5duV9YYk8jPR2NZM2OrTVZYeHpAbvSQqita26lOTtaT2b8auLRa6rlauKqVl8YB9i1+lPsLbsBavWGYk7tcW1NgWGqWypHXYK+ONfXlq+Gdmj0f1hyzjeK3+h0fT9bKk8n7YyYHmI6hoAYgBpgIYAmCyxyAxyxBiYSnSuQejDnafWt9Aq39roFD55X2fNdENVRiH1KGgaaAABoAGIGhgCYEjGnFXGuym1EnfWWxp6mN3nzdQcrZtPPq1bqRMK5tlbFN2STpEqh3KJz832OoWKF7NjfTPnKC69xnRYmc1tSLl1th6Vxrp8SZVNSc0XG9uFs9dYcy2M/d5FS17XsPMalWvUOw9XSxOXEhtXpXNUq3rHTpaO9N+ld6LGm9r4z9CUjN7XjXOuqcq1GXGnaZgABMQAwOjdf4te6OdNQmriNcoo94oz1hlMQ0zIZ3AU6sBoGmAgYLLHIDHLEGJgAgNnXOd9/BMExd4AwBMExADABME0wAQNDBAwVkrmy2/9lxkkYb0z5By393Y+dR6ryfi2J1xBZCtsLGtCNSrvnYuU9A8j9Go/G7Xyf0XG2Hrmp9CxpsVs7hn7nj/AM6fcPJb6o4vU9iz3NNVLfGSq2q2TUo27r1n2mukApHQkxsdiUjEq9dfZ1kLwwzi3EfVlp+KyrvercoZbUIIejjEANAMQP08g77Hic6jJHEx94gYJpggYAALJMDHLEGCAaAGIBgAJgCYJzfVIsjiBZ6w+yALSgYAIAAGmgaYACD6kuPzl9G470XhvH/sn5bt8/jjW5uyo9kyrXFXd6Hmw/va8L9Ox5Up6znMPJ91wmAZ7X5d9lW2l2zBbjYxw8GXPKN9I99Hx74zslusXBzeoRXtKJsbkR62rIOI8PZjTsxQ77Qjrt9Pkecn6hIR4AKXFBgAAIaAaAaGCGAmAJgAmgexr/SsObU9bunPaSbw+ufUvznc18OCnRTLHIBPEGmgBoAYCYgGmAmBYelcU94ztgq430AmpKAAYAJgAgGJggYH0r81bUOy+ytGr3bI7750559nQttQ/K8Z9FeM+r4Rcu43aDNqlsNOmvc/kS3UHRZWNJ7WtqXpncfi3r1Jedz8K360lzIc/wBHjNxU470Xa7yjqpZcArpYjvK7uy/qhcZET0E4iZhkKbYmpKaYJgAAACBggYgBpgAAJoGCAaYH2j8XfQ1NcXHz3IqmkQPJ+ncZvKmCB20VZJgY5YgMAAAEMAEAAAMATATTBAADQMEDBAxANNA0wATDPr3HlHl/Ykj8X3Gk030++BesWd3/AGPmOmPQvoXkvP8AO2orJlAEmHbNetiVb0pXZ4ICer84o1DRFN2KteWPedTp1cbTtjlKO1JuVMG42gbjSN22tPUV9ds8OV89r6ttEOV8f2j6qUSV892frSiSKFqdIbL3ztyr7ZqlrW/JpIxujoQa6kYAmmAhgJoHtahzvdnwgr5trqqc6GgFpbxyATQAgBoAaYAgGJgCYCaAAAaYCGCaAaAGCBggYgBpgmIBgAmgAYAACGCYgYAAgGACa00r3SM8I8qb9656tu2uUoeTaujSPJvNHewenGmjv2FOfJH1BUS5vCKbBLKJQS2EWuplsYwCQ9YpnK384/W3zPdw4AC6rQGAJgmACAGCABgAgaYA8cgFniGLYCWQGJkAlkAlkBi2AlkBi2BiZAJZAYmQGLYCWQCWQCGBi2BiZAIYGLYGJkAlkBi2AlkBiZAYtgYrOKQ7r67K62xbOKQwEMDEyASyAx+nvmPr8Y7egrYzEAxAZYgDEBlxTtPFJzfP2zRV6GAhgJZAJZAIYGLYGJkBiZAY5GQf/8QANhAAAAYBAQYGAQQCAQUBAQAAAAECAwQFBhEQEhMUFTEHFiAhMDVAIiUyMzQ2UBcjJCZgQUL/2gAIAQEAAQUCMz11MamNTGpjUxqY1MamNTGpjUxqY1MamNTGpjDrHmIXqpe4dPQoqjOWNAhJqWy0EoMzSMvtuj0mpjUxqY1MamNTGpjUxqY1MamNTGpjUxqY1MamNTGpjeMamNTGpjUxqY1MamNTGpjUxqY1MamNTGpjUxqY1MamNTGpjUxqY3jGpjUxqY1MamNTGpjUxqY1MamNTGpjUxqY1MamNTGpjUwRnqff8CrsFVk1l5Ehr00vcSP416t6UQSjfNDaiS0kIH8Rmd/1y1/+ALuff8HFr3kl7D20vcTF6FV/qkpQQYb3g21qTadCItBnuVEw3/8AAl3Pv+FjeT8MEnU90aGQ7Cm/kJ7vvTlvy0taJQ1obSQQy7NUVaVKNav/AIEu59/w6LK3qoQJsa0jLZ1HLe9Xo26JqiN3Hoi9UtbqkpIilTGK9nJfEFyYXwMQZMpPR546PPHRp4MtPTGjOS3YuMMpKuxCrlx7Tw9cQmphk7OOMxYQOmxBVU0OTPymoj1R/nmehIkcR34C7n3/ABGJDsV2s8RpDCYmW1E8mSZfCFrIIxtBu7jcVuZllRATZ+JijKfZyrR74fD76723T3df/wCnUU3F3KUblKNylHSGZyYEcoDTb4oVb0Vhvho8QaHRuTMfmqZYckulR2aTVS2ix0GxEmG/CWCLUzqonNflQo0aBBJCEH6q6jl2YRhyzkS8WfiOn3/HStSDTZzEEdtOMlurdP5IdtLr0eZbQeZbQeZbQGe8e2raN+wcZlOnyr4xBlRNr3xYsKkwP2QY50rradN4tB7bniB9qIUJplh+/kP7I9fJlh6pmxi/H19eIYz1l1aCbLTS+yNH7off/hqmO3LsZCOZrq1tKIFywlpQjN8tV3EduLYx0ctX2sduLY08soNprvDe95H9jVm8yLbIGWqcMSHIrrtneMM+YrMeYrMS5r85cKE0yxNmuz32GHJL1Bg8auQtO63+shb49Dtm7SrfqJXwxaSTKbm1b0EvwcdgJr6CalOplpfZC3vTj7/F0SZwvzL19x0mZDsZbjinVwICXUSLqSt0/cUb7jTYTTS1x8RyVExjU9+T/MyF7Ji2aU0bb4jrJiSqSzHe6jDHUYY6jDE2a5PfHhxSlwdzQzb1DjYfRoeSVhWlX8CdN5+LOUiUw5y34MBwnq+U3qa/a/t/sD7/AAwveZX/AOS7/b+JilU3b3EG1rLyfQY83KyN7HIE9jHqBqReVthXZRJfa4D9z2ECAl1E+eqcvZBnKgOdYSCsYSpxnqqBmllBJ3Pn1ixv5toQSo21La8yo8rWg8rWg8rWg8rWgo8PjOV54VVEUJg62OUt3eNI3Q8nQJIjclt8KVSMJefsmjXWeqtyxcWLYXK5qfwfD26TOqX2yNEtvh5FaFrOPv8ADEUSJcD9Lrvu5+FjePO5BOual6mn1Nm7TzvN1dGVWXL9ZZSPExpMOmvX6ezczCsiIQ25KeuzST8CAl1ubNcsnl0yWFdLjjpccdLjjpccdLjjpccdLjjpccUOPQpYv4bUC19WP5YxT13/AFBiijlJvoBQFkZ+4MSk/p4iWUOucV1KjQcW2WldhX8p+TX2D9XLpM7gWiLCGt63uJseO8ff4Xf6+IvcLt+Di8sod7l+SrxgYvelk9dPlc7NDDKpDzlXHUkNNLfdddRStQICXUTZrli8ZpoEd/gkQpEUkrUgfqdWqkRv9KmjpU0dKmjpU0dLmjpU0wulQSsFyRNLNI9dh+xPue+cXiGmTo1kDSadlfYcqLCv5T8pDq2xqaln3+FwtUd/w8fkw4lstVL4gN9Uo8KZKuO2tL3FpVIptxTTk+YSa9ppb7rrqKVqBAS63NmuWLxmmgRBgoU11CEOoQh1CEOoQh1CEOoQh1CEIVrBZlvqTFggjNJrvC15+SOoSh1CUK/mZJTrt+U51CUF3aVbMXt5FJi0XPqeUiTmlM0i48QHHgajNXWWOOxcKkFPgLgOivsOVFhX8of5Jdz7/FuJ1/DgT36yVUOJn5BYy3DmSbqRGdzSLAjsz/qIThxKeuhNvibNcsnjMqBEGChTc+eue6F0bqC0GhjQaDQaDdMbpjQxDr1yxNgrhKFIS+Xv3nTbD8GRFQKarcuLLNrRt+Z6Do1ENBAnJS1OgLgus0/EREmKgLeokk9+QXc+/wCGTajBpNJ+mqiJnT0RY1rEh0KHpLiI02AMYaU9f5JIk1s5La6WR4kMLQid9Q3/AK9E+kqV8tCqYyJ1lPnrnugj3TO5jIkeYrIeYbIeYrIeYrIeYrIeYrIeYrIFkVkQ8xWQReuSm7CaiQnbWvoiz+O1Cb6jDFdIYxvHeowx1GGG5dc+qdBcgPdh1pnjeYbEeYbEeYbEdYZkKedVIeTbM8Qz1PabSyBlp+GXc+/zpSa1V2FyHxFxutiFXViHQ20hopR1NwvLcQXQq9CFqaXLs5M8mt/iW/VOGNdDo8qmU6cgz1Tq1LNYn/UN/wCvRPpIP02O/c+lKTWa21NiLAkTQpJpNyvlMseiDjNpYkvw/tWo5S2zCFk5txumVe22Y3JWtpFbS9K5E5zsuA/BEGc2pk6YtejEOjEOjEOjEOjEOkEItIhyQ6iPLgimppF5Np8WrqJmPaRZy59WlZSKiBLKdhKViXCfgO/OXc+/zQYL1jJp6KPTIDDRvuoQTaHE8RsokpyG9SJkt3OtLY9WSOrpHWEjrCR1hIhXrbMpxcaFXjlmKlnqUQdSiDqUQHbsvIkS+SZTcx0MouY7bTFyxFd6lDHU4Y6lDHU4Q6nDFFewIlhlttHtpEZSJlTZzmX7mRKZbd2UOMyr92lxOupiFtp0ou2Ew9VzqGNME2A9Xutf+p4lsgWqiCozT9T8CFm2uVYyZpDEKEqOpsIvOwlxZVkvo5C5jcu4kyEuIzYMXtA7TuepSyQXNoCZKFeou59/laaU+7TVDdNEMbwo2tS9HidW6t7K+v5sKsIJK6lDHUog6lDDFzHjPLtYri+pQx1KIOpRBBtobUqQpESrFXUyLeREwqBHC8Vq3ivMKdgN/DjGPKvZcdCIjNjdxqePZeJUt05GT2sojYbMUl03Wx2XkSG3WW5Ccymvz7nay8uO6u0iPK5+AOfgDn4A5+AOfgDn4A56COegjnoQxeLHubk4czXkZo5GaORmh+vkKjNqCF+zrLcpi6qV0830PO8JKlGs9jLxtGR6ltLuff5cJrNVBRhxYiPPQ4fUZYOyl6JkutxOflDKCcsqIq+KE10IjsLDmvRFq1SGZMZyG/thQVzTmwVwj2UdSVXVtR94uCWrjW4MwqE1Nv6IzbcKnsqSCzM6TBDVLFfcqK5FTCs7RirYnstWciJjrM9fSoQfx5iOz0qEIDbFe442th2zr02UbpkMdMiatRI0ODcR0MqEDFrKwblYfZxUmW6YhY/OsGDLdPb4XRf1ajX0Po4MpCggxkVb1Os9EhW876IjnoLuff5a2KUCuDmpk6r20npL91H7qOTlMOtu2LqZyJrsEulj9pH7QGukcXJXq1dYGJkV2G9kk1TnmKxHmKyHmKxCL1yS3PmNOtiFpznCLjoQRFoN3U/E9KUqECIc+aioh2heUrcR6e/rEKUalDAYJSbcZda9UuA24plxbSclbrLIoglUEhKsPxt520VNsJtu2sWVLKOd0eeIMGTAK1YW1IwPHUT1qhkpL0QyLMaZMiMKrKjq4R5HY6+YbEdfsAd9PMYNHTa0vRYRjoUAdBgDoFeOgV4uS3LNCtDbP2Se6L2HyFttdL/u+glbppVvp2F3Pv8AJVs8xZKPVRmFKML7L5/X91BHZmJTtgZsvTWTVKmuNl0oftI/aB+0D9oH7QP2gftA/aB+0D9oH7OK3pHO2fNFVDGbRN1VltzW5TcXQbcUy5NyCRNZ1DL7kd59lvIGR4dN6V89/lYPfa06thxxpGTNR35KDyWa5j9GzYyeM2YyOQ6w71GVpHtlE3PnHNcwEkKxgwpBaXKEprtpFqb9NJjNDw4/10NyGnjFrxunRnoTVjefao9gkxqM4a3bHa+zqamjJWnoiuaK2F3Pv8mOfen2M9Q4egX2XGluKcZmsEhamzP3MabxQ8KS5Oy+hg1kLna8c7Xjna8S4TTsf4aa6k0cut8Q6yUl7OKVlB5AnM69aFNrRHhQIszGUx5fl0h5dIeXCDFGqM7aVMWwGGRCg11qxzVWWOlo3jRLccg178gNOrZcxac7LEnLpsmQ3kctbiT3VW1q5APzHKHmKSPMMkYVmBNSQZajN8mRDR16QOvSB16QG8gkIcXLhMbPDj/XbJlyRA4ByX3ufgCO+3KZlxG5rFyncsSL3SEjO/7dqT0OVDTo4z7Lb3RptaXxEAu59/kxz70wowowfZVlEYCp1cs+bqxzVYOYrTDkiCltOUZKF5Nkj7cmtnyXOizx0WwDD8iqluMVkk+RrxyNeOQrxyFcOQrh0+uBV9bo3W1inXopOq2V856smZXBat4MK9nVzJmaj9Ph1L0eMiUVpBVW2Al2Nw5Wx4ciYceM5JkZe+3UV4qmeNMF07xJYqmiRW3jCGlity20qm7HKrObjdTVP3UyPhlWy1k+JprGQy0p906lpw+jzhgbqK+h6tDHV4RbJEdyrejyG5TN79qXdvugZ1/b6KV0nhYQCN2VE3V8I1KiYlKeJGJQ0lIw/gsgu59/kxz70/cOewWD7JYbWnlWRyrI5Zkcs0JLLZR+YdHMujmXRzLw5l0MvIuGnmVxndpFqb9VMjCZXya89i5sh1jbiN6irlZNRKobIQcDjLieQYA8gwB5AgAvD2CJ9X5It2v++Wd4uqVGjLQ3IkzCQ7AWcumgcq1LlSXJsnTUV8TlGHHCZbccN1wR5LsRxxxTq62A5ZzVYFB5eLic7pNTUs08QWkfmqwIWbS3bjeTzDo8PEk7j/LtBURlZJWqhWJDC6p25WTliEEEexZ3/b6GnFMuNKRLYKkXOfh0camJxO6oxDe0PJKzp84u59/kxz71RahwwsH2entQ0xpLcxnbK/xfVXWaZjb1o5Gd62OuCDkCGpddLjVBSXGYdT6Y0N+atSTQqleRltG8yuO7ZOuNx21yzbYckPVlil9iwhvyXq7xN/xPD7JyNAynASknIjOxHK+C5Zzc2nNsCFXSLFyhxdunFlUGhVtO4yglJqVE8MkrrpUZyHIweiVDhGkNFr6LFjlbDHMS6xGnRFQZg8N/9d2LQlxCFqoVi8+0II9w2M6/t9NFM4btNWJYrpzXu+jcCg2vQWUIret3TSs+/wAmO/eH3WFBQeYfbks0RLHQIw6DHBUkcg9VMtsldSCHXZA69JHXpI69JD0du2ZBWzbzXPV456vHP1wOwrR1CtHUawFY1hDqVWOp1Q6nVBqVHsavI5TUuwiS3YMnJYjWQVdfm1acRGe0qAWf0iS/6hUwLxApCGb5OxfuEZpPFc+Q8mdIOQ66w3Mar6mBWOIx6tQ4SCYadPgFkOXcwkEWowfDnGXhIq4ct00EY4GgJg0LUxoNwaC0w6LZz2WUR2c3qlx7AYAlT9L1Jzorj79c71jhrWhLiULVQrvPtCCAjtnP8/T2GL26bilkNaiSwaScTqen6oru6MtrOBLPv8mOfeqDgP3Mw3/W7dQmHtkmWiKDlolw/Sw+uM6+y3btfHXUz1k3NhvV8gYpfdFnZVQ9DsPXW382rKkycr2ZYZVVtSlZfUtqkZ2hBWFvKtFbK6zfqnvPd2PPd2PPl2PPl2PPl2PPd2Mhy61hWvni5B5pbmPOVsY842wXltm6hat9WAQ2ZeOEgiTHr40RTrSHm2nV0rjjaXUXKCbsSCSDYzr+z1YXe9HtVN6lLjpUl5rQLSSSZ7vxkWMM+/yY596oK11UYUHKiNKU/ialytkyO6b667fbK8lEOvSx1+YPMEwdfmDzBMCcinIV5gmDzDMHmOaPMk0Fk05I8zzh5pnjzTPMea7ARcitJkizlZBTMnds3ES6sUWMvZjshvJaiTHchyPXUf8Aq2LmepiHHOZL6TXzZPlmQPLMgeWZA8tSDHluQPLcgx5dkDy++PL75i7qHpTHQXwVY1XRbOK3GcDTS33Knw3ImoDDdIxFsCfUJVg1DUhbFlFacXTOXn2pBJhoxnX9nrwm+6vVusb6ZMYt11sIL3iag+/yY596owsKBhv+sTLEo59Ukaw5yZQlf4oSRqOXWSoKfTX167B529VDIslsiHmmzHmmzEeXkU5jzZakfm21EPM7JiRk2XFkMMIQp1c+hnVrQYfXFev2G8ppghCnFRcQuJgLw8uRIwa6jlJhPwl4zTHe22Y3JW1rsI9DlZFOmRxR0Em+kJ8Pq9tF7hrlYyG21POTqWZXN7Hf+/iYiWD0IpMp2Y8PDOqQ8+ad4SWd0llunFe48eSxIanR6JpZHj8AyuUE3YhHdB++cl/3PXjVyqjtT3VtutkJMVSTOOG0mkz7/Jjv3i9AszBgw9PZhNtSW5Ef3WbbBGlrVp+V/iiqlJhWCJEari9XbHV2x1dsdXbHWGhLtVyY8Gvk2Tzfh3auItccsKUg3Or5DjuRNuu9fZHXmR5gYHmBkQsoZiy3X6+ur9mLXiqSyLw1ZctK+oh1SNshhuSh7H2oFfNgv17/AKcLgIjY4qP7KjkLSLyVjTz+l2SJ0Kmi9fUOvqFdbHJp27hp1VjXnBXEqJs8RfD61eLDoDFTCUQk+5L9zrU7sOUt2TZQ7GatHOzhdGZ2Rd0noGxnP9vweHt8UuGpG8HWFbzkVGshLcVo+/yY594o/ZYMH2eZfalR6ZaifjqiusvGkmGOddfrCRHlwkOR/XBhrsJlVBYqoyAbSHm8voOg2myBTSbFqXEdgyRX08ixRMhvV8jYlBuKxDDm6dv0qHvYPW9NFuYdvUv0s30eHl43LrBZzo9VFtqmRrsQhTioeJW84U+Fyaw4CKdpMfMq2CLvLbpByp8marGr5eP2UKxj2kWWstI0RUtZFulKhMTUtNIZbsZRmVx9gE92tTGc/wBvwMvLjO0viS0ptGTVUhM/NKiKm+yZ+9dPv6o1fImBvDrN1E6rl1p7cd+8c7q9wYMPT+AcWwalNLWy4k4cPSI+k48p1HLMn0JrrsjTr0gdekDr0gdekDr0keYJIxKzdn3Efu2nUEM0anLiyLe1hn5nmBVvFuYM3K3VP+aJg6xHuIV3YN2MvZ4dY6SvXJJTo3EtNKGSUybuvMjSe1l5cd1rxAuWm5D9tkz9LiOQx3rDH6XRUnF6sl+IDrBTMstpwpZZx7y0jcnZCvsCYSqqj73S2hHjcovF5jrtZ1J0iO0dHVnh1V4wpepW/wDnhHdvQZz/AG/IXc+/pp6knijNfpaPdM0NOQL+kRERsx37xYWDB9nobputUMbToNcOg1w6ZEKW9VxGmVKNathEahw1DhqHDUI1RxWITzuP3MR1uQyhWoIZfmEhVvH8QrdkecK2YNMRnjyZAmCT4fXDAlUlhC2wYi58yHFbgxfV2Dp6BXc/ZWcV5RLYi1OHjVpPDXh7LQnpWL1w8z0leJXiDavlLtps/ZDsFwzKvhXAkxnYb1B4fyrJqywGvs5WQ4LKpm/R4eOoaxznmzHGfWOE+scigxKZOO5b/wCeEhsZx/P5C7n39DLfGdSkkExpuwoiGWZEh7JZdhVMz6PZjn3qwew+0h+ehzmbMczZgpVmDkTVGqXMdZZS6lqeTKZsOG7Ofdsyrk9fsR1+xHX7EdXZnNWE1VjMpskmUhs+JyEous8n2rQ01BloZJNWyNYy4Zxc6uYw8+NyhzuJzhi9FTdXJRK9a1B1Whq7OKjpeyPpMevPPExBMzK4misjInIcoEWEXyvMHleYPLEwRMTkvSnosGbAGDqdvJexz+N9iLzVqVTBYHMUcYeYzaLC5zsukOSscdww/aONvMWRPtPPIfRc/YgggZx/Z8hdz7+ivVuTux1MBLTE6c7fyISEMhCkoZV7qGOfeL0CzBgwshp6CRuMkoyEOG5OfObWxouKY7W2BSMerZ0e7q66jsd+pHEqBxKccSlHEpNOLSDi0QqXoIyM3OWpeaVTZMtpy19HhqzxZDLCI6PSYcPUObxhxz3faQ6MjYPy/sqJMyPLupM16RtOJOqlXEuzNgeF7qUytRvB9328QHEnaAkGY7DBP9c2TU8s+zURCb6TCFyW7Ygg2M5/s+Qu59/QR6DFSjWbVjYuXkhhBIbjFqea3aKul2UCty5V2XsPtIiyHHThyhyckcpJHLSBwXeW56GH7QlRxhFg05AjPf8AbzG1bt70Q23mq2dCqW5vK1I5SoHKU4gRI7cLI2Sad9fhg7u2fp1ClA1BS9QavYz0PLHOHjuzHpLaG5ljChQ+r1g6vWCHdVbM2BOYqZMpSYNUlJqOq0xGTCuWLKO7N9pE3hiznOWU4Y3cxa6FKsYb8vGWllW8tIHKSAbLkWVDgSW4/JStLktLEJDXueaub73yF3Pv6Yc52Cuvvoqwi6gkc7OYUFuxsZFrK2Uv2pOqbHMtqHcGLJSVT4UiWprjzhxpo40wNLfWubVwoEvlq0crWCjjQIzsie3LZ5WsHK1gbbgMjlKscpUjlKkcnUhpiqZUqLUKPkqYclSg4VMEwv8Azj012YbPKvyLsN73BnoN72UrUGvULUFrMbwItRnsskR/grql+0WqyjUyVKNaok1+A6xkNi/SOTpD0iWhOQxhHhvyxAkFCm4vG41XyI5DUdPHTh0zUXJbtiDfQgzmGsZP/P5C7n3+Sl+1WFj+J8y6ROkhwn3m4zTNhxXdiy1bu/8AzYGyd+30ArUblbYQIXE5KuB0cNETkawFX1WiaysWbtHAYLp1SOnVIr4EFljIWCKMUh0mdpHoeN3RXVTxNBv6DeLeNzUa6qW5oa3ApWuxKN0X1n1e02woT1hIsad6uRsZqGYLSjl38eXEdgyNlWW9QiHMegSbKK1YRmFlKrZ1lDdl4ik36M4z5jlZAOJL0hTOYBdskfWm4UtSgR6BAyUv1fIXc+/yU32p91HsMP1cSQ49RQ1ttxX1v7NN4qbB40Ovaoq1hMrF6qaWV4I9MecbU0tl9yOuPHfnvs1RV5TZrs98Y7RuX9jVVEOoYWhLic2wxqOwGnnI7jry33PTiuQHQzkPEpHG/Sbh7xH+l1wtFu+xqHcNtmM0yAmmvRS2DdfI641Uw4F1c2b0vKOnNQchkXLTtmmczbzkT5Oyk/VXbKyydqpVrXtk0MWUtOJVy5yk6zg1MWh+XD5kQpvHGTfdgj0DYyXv8hdz7/JTfaufxUDB9v8A8MHsUrdJpWobV6M7xhNjFFZIaQiwfYKHs8O0JaqmHN5AeaS+04ncc9FfVSrVyXDegSNmNZY5ThqQ3MZNwbw1HcyRqEs++RZm3HSZ6ntxrw+YRHk4lTutW+Ix6eTPulPsbCfayBny+5p0BY6AsUNQptPRFA6+EqaKm0OtdtazkVYJ/rgeebjoWhmwjxpK4z0mBHmjJEki52IGS9/kLuff5KX7VYPYY3NUmD2PK92D0NpQ19FviE9Nz5bU0OSpY456mjjzK40MVyaRNlxntwNuDJLlulqBChPWEl2whVJeZiHmYgm3i28C9msyl7a+0lVTsDP2loYv6qSmQpjpPWa5pubnVdFK3yidcF6MbaQ9fhZ+2ZpS5QeruMZwSQw3kmGScfbVcy1R9lTZojoxWCquphMaUUqrXuSX4zctpCp8ZOSancggkZN3+Qu59/kpvtF+wX7HsbUHS1M21BSFEH/dSFluoWYJXtrt8R1H5g2xoUiYZUVmk668uY7TmUz0JtmL27kNY3ZuuTZrNfG+Mvbw49bLyo71Dkse9iyH1EeaZC3JbB0VgUf0Y5w+vG7oMhkJXTiJDdmrlQ3YTgwJW9jZlumJUNMtEKWpTgyb7sEEDJy0V6F18ltHrLuff5Kb7RzUL2GEObsha98GDD6Q2owhZ7yHRxRvkQSrUZlOKfkeyvr1T3JdjvjpN1r0m6MdKutej3gOlvDLyzbDyxbDyvbDyvbDyvbBjErZ59+ohOxvSv28OPR4dxWZdznsdqLkOxC1NqespchGxOcxkU/mJ4RH7Ocwu+f16+6OvOiH4hvE1ZZlInH1x0N2zctmwksracq5TTGCf64X6y00BdpMNqYXR2hkid25BBHsWU/z24olo7gnuLLkpSmR6i7n3+Sm+0WF7DD0dx6VJkIgsxpvHcMLTvJUjdCfYyc/Tx9S4wyXIE0tcZ6mIEBU5ybOJ9GqcdRx3Bx3Bx3BCbkTpfTGpw8vXWnly8Hlu9Hlu918t3piPRZBHflwbh6P5RuB5RuAWOxEyVEaVCR7eG+15pjyD4dL3LrPFb+QO4zOZgba6pk2irGjkVyNiZMKfEmZJzErrhjrYO7MdaHWh1kFcmSlzIiJGCf64G2+KW4SSdQaSadJ0sm+7CSCC3Syn+W1CzbUdtJ3fWXc+/yU32jgX3Bj/wDLBSpsh9EpiRFddTLDyCUmvuIdoW6ogeqRbZfCrk2Fg/ZyRAgKnuTZpPp/Tj6IXIV8RmdAOQq1q0MlPq+NmDbVfcyb03mNTIbxjfMxvmN8xvmN8xvmN8wjJ3ElBr5No/Or5Fa9P/T4dDBokebd5xGjxLp1wzwXFVGmxyhRrtLH/SxGjOzHunQaUWN3IsUV1rKq3OHW3gn10mse9Hh7Gj7pXMI3F3kFCVWkQlZC/DtaQYH/AK4RamRaEFl+hJ7krJvuwgtDQMp/n8hdz7/JTfar9woiPYYfhvPONtsVURMZVqpmI1ESHS3UhuyltFRT3ZFw80bDsaK7MceYcjOWrhsQ9U0LZnqcBtufDZpUsyl0qXlQ6Jtl/PFNJsxXV7tlJetYcIeYR5iDV8p5d9DfoofmT28yDzIPMoYvI9hFuZUc4lx7eH4xRSk2mVqUqzXNR5Nxo92bkR71hIkvHS0lc3YyJGQGhn0QL56KzbwYzUaPQGhmVQmbI8NZTSVIoW235FAh952uJ1V7CYpaEYJ/rhexpWShqJDxICC4kvJvvCCCCRlX9nyF3Pv8lL9q4XsovYwYf53iJhPSXzHDUoacMj/hsSo0KylBHa1OkmNbvIULrs4y1IynLK6JBZS4pA47g47g5h3ZXwHLKRYWDTUfbU28eLiuO55Is7TxAeaTY49i8KJBz/HI1StFDYOQtl57YMEOKaNbinT5h3cQ4ps4kGXbOy0SobmNH6q+lkWKZ8puorZEl2Y9GlOw3ufg3An1EiuLiKHEUOIoMtnKkcOvVaYS3waEJWoiXIMK4rymI5MJyb7sg37hBGMq/n8hdz7/ACUv2qi1JZGQMGH7RlhzrTATaNvHHe3imqSiP1BtZIpZCzXAhKkCZ/5eNUn3Ej++67ZB9nkP2ymYESJxqocapHGqRxqgPmmTS+iqyWmKAmspcTVlNvDun6LO24cPKcoXkT6LKAdkeQp1PIkmLq1Sxi3mFI8wpHmFI8woHmBITaRrSvvJbMhzG/RCgSLF7g1tKLG2k2irD/W9tfaya0+BX3AmQn696BTPzWzsotYPMkgYIf8A64VpFHVogK5hjrUIHdwtMkUSrkggtSbGV/z+Qu65DZKS4lfyUv2phYMHtdQTqCJ5lXEUaVfwDl1KdZFH/wCTX0n3Ej++67ZB9nkP21p/heiJLdgyJcVqyY9EuxkzkDH8chwa7OKFiuDcdfNcvSDl6QXzVf5a5ekHLUo5em0YYWl6QSEv7Mb9GSTFwpOyf/rnpxycuTKn2ciyWO4xWA8VK5LYin1eMOtRh1uMOuRhkh79yQbIJGV/2fIXc/5MGSTbaKQlSTQr4YDnCnLIKILT7q2ybKNEXqSkmFfw24/MKDcxYhwMnkf33XbIPs8h+2tP8IM08yQxtiynYT7i6iYrg044NOMbgUr0O5S0i1FJnZQoWT5MvIXuIrcEagmSo+RU0mTQeV5w8sTRFxSSuQ+1Fk1eyFBkWL8PkKITaR2M1syz78QKiRYFbSY3K7Tp5hRo0Z2Y7RwX4N8C9zLSjTh0pRUESLy4IFtyb7tPsGwQylesv5C7q/kRhh/hCOTNgmbXOwj+GG/zcNZBZBfZCt9sLbkxZUanNhjp+6JMfgxitx1kdaBW5uHOq7eW/YSJda8u/W6HL9bynL9by1X61l1oc7DlSZDvHfiVE2eGsEunSew+0jrkUFjFMyNJ+h2RFw+vy6DEXBEGC1FjzpztjJzH9NFsjyHIj864entoQpxSaVmuTNvXHmBCnv173Fr7gT6yRWqvob9hknAgVAn2siyP0HYQ+fq5LTIoZjDEvrITdrbVChcyWFSG5dQQkpY4zCLTg7tkDTZjIlb10gggJLUW0nmrD5C7q/kE+wiTFoOBJS83Nw+YaDI0n68Ym7FpC0+0K1abq+txR1uKDuoxjqjCjup6XagqOUY6DLHl+YMDxxMBglELasYuYL2NzWXvL8wdAmB2jlstCiwibblVYfV1ZF7ELA9ye3+lyTAj2AscHJwn2HIzo5V42IWUx1QL+/XduQYLMWO85Lu5akmk839q7aqJW1Ueympx5xSjWr0Qbd+CjJZr7Nt6GWVyHnadO5yMgcjIGNxXm7nkpAiVhmJctdi74dOG2kgW1Puc53mJ7ZBJC4m8jC+Uu6v5bGCUpzG6hqobiyva9xaHeptaeVSyPU24plyusEWTB+4UnUY5NJqH1pkdaZHWGgdm2YzWSc6J0R4dCfHQnxjL3CpOZ0Db+8LmucsLboT4KgkqOK6/El02KxY8nuEhx1DCHstp2FSr+vVLjSmHiRugj4hWtXGu2LWpfqJJTNZXPVgKwrEnNnPWEisdNdVZWFeb+YyYbTLLMC4S42plwM3TKo8+c5Yy9lGwiRMcjtTIHI1w5GuGQRITlvyNcEVMeSFJNKhHfXFfVbttF1acOrThUSJVlYdWmh+W/JFS6SEUlmUGw5aURlGmDlpo5WaJi5FdDbQEJ0ClIZbtLBVjJ+Uu77BOGtBtmMTgERIdEWVuiJKIw/Gj2cPJMIkVPriS3IL1faM2SFJ1EGVyExK0rQ44TaCtjCpkdKbp+Xc2fISR0+UOnShSy7GlebyWOpN7ksyYx0+UOnSh7pPGqwybUlLqCd5YXviLunMsJNi5sIzSdZl0yEK22jW8dW8arOtbuI06E7XyvTn3tsbUnIULjutqXjE5uHtIzSb0h2SrZlKTTeAj0MjTkCFEaTL3OTUS4bWzFyM7qI0l+UcdiU506OOnsEKi+Oyhc8+Q6jIHUZAySfzDqUe7rzcNq1t12KvmLufdSSWTsc2xSpJNT2CV6Ey8I0zVDThDNMObON6kqNBw8mdbDNvCkiot+VLREtmTHbr2sjycrB3qEodRljqcwdUmjqk0MFJUzIm2EZ6HPfuGZS5sdmhiR8kndxocVWS5hInT3W6+eOnwR0+COnwR0+COnwRDQxAkVtmxasbpmvJ6ZqzjdPgjp0EdPgiJHONCvkIRM8QvaRsK/siJ3L35EFumRDR11pIOpZsCUk21CDUPzkdQiVQavnFpXTImIMtDI9DO9ccEe+4Mhb8SI2RaminRDTKulqZItTnMWhRNlHdP0U2nyCDdN7pkVrdJYQudHjlKyZCCkynZbnzl3PvsqrYoqEmS0BCvdiUSSiSPdsycRZxuTsvgIzIE84k1KNZ+pqyYNm1Y5sV8zkn5U1jlMHrShUBHyh+Id4bDKpUW1RydaOTrRydaOTrRydaEMlGh3DLUeyobQ6mwM0ET09tSZ0blJcKGuc9JrTZZJDiT4Sx4iJM7HhLHCWK6tVPf6i3XEiPInSZFXwmCM0mm4bmpdiwKZE6ykWK9iFqaWVqxYlMpnY7WyHTOPsrsm6yMVfMlsdhFf5WUuVDj+k5Lykmoz2k2sy4Lg4ay+Yu599sGxegLhTmbFBoMN+wgunvx5KG258jm534UGc5AeeqoiwcNxE1htLDWhGLE2sjlCKzzMnk4c13opjopjopgm2qONaxEwZ4qp6nYKXyM8mbLm6+ZyTx3HKM9esQV7Ymef2kqHcNWdw+jr1iK2wmzj69YhnIZ7bsxxMKKxGdlKUk0qt/8Dbyj/AEOc/Xuo5K7Ws4VIqniyMsvL7HmZ+N457UeRQkOI+HEalqYs3ibJ2f+lcg1jLIyW5w7CM6bifhLuff0IWppdXkTT4RFJaW0EwMmyxMmP+I1Yx1MVLqrHJkqFo/wKtKjQpSU36exyLiXKZ2xLSTBS44p1YwerRbJZxGCkeIlVGr4sWK5MemVzsIg17u+JB/+xMO8ePKs4DkmlmRVq6hCEK0gNS5C+XgQF8arn2MJT02ayUbnoA56AOegDm2+d2VH21p9n4cSCZt+aWJePfptWnYzHw4zbphBbilAyUN0xlklLkzXZGbNCfhLuff1NyHWA6+49+Pjaty+Funi1EGCUlMuIcE/MVgY8w2A8xWA8xWA8w2A8w2A8xWA8w2AwSwkzEtP+3iHaOxI0fIHliS8wUPHfDpJoi1UOCmRDYlle+HkSWiXDegSceSalhtHEXNxSbBZ6dLHTpRC1hSFwenSh06WOnSx06WGKiW+8/WtFHqPtrT7OBOdrZlTkkK3bXMZjIzPLE3Hxk4si4zg4zg0G6Q0L4y7n3/OivcvJJRLIyJRKX0eWfCu4xlofpi1kqcky0PCYnLUmo8QpXEnDw4oUvL2r7ZzSpn1zL7kZzqES1EqskVonZZNnMwE2lgDu01Yctprq4F0tbc16xgP9TmDg3HLMXExh6RZNHGqPtrT7P8AOLuff8/E5/UKMZ/UGh5KjSarvjH1ZodWaHVmhOlsRUWMtiG4uRGs4/API79ppLDQvZ/UrYYpHKLjuww6nULUTy3kcN0QbKRXL52qWJ9pIsfRHt3mGOtqHUIZT9lYZQau00mVn40eO5LejeHSm2JWJQkFYUrsJPoLuff5aitO0lxItbuX9a1Xyvnwi4KvshJjNzI9/RPUUsVMREyVKajya0TGufroktqYw7XyGZmI44WPxXIyXBmVkdRW7MWmk/jhL9t7QlLLR10KdJAgMJsrFMKNaROiGOiGOiGOiGOiGOiGOiGOiGOnw+f2QrCRXOTZ79g5+N4d0aItfYrE51KAmG3Sw7WGUKVtLuff5aSWmLLW2UhF5L4y/wADEsiK4iCbCYsY13hMqvNp1yM7MsZM/ZEluwX2cdcvxRY+3TxxLnNV8W+uXb2y2YFepjOJfCpWgOWaQpzU8xuShQGnVsOTLKROLT0w4bk16XXHGaHWJhxvysb08v3kzl1QoSadM55TjmSfy2l3Pv8AMT7hJ/BiynYUjHcnZvG9k6lg2QewCtcDfh5AJUHEKiGZESUiXMYgMZZYWd1K6ZMEeodUU6CUZPYU2caIj2MWWTsqPHTa5lHjE++5KeDDDdSz5gs9PMNkPMNkPMNkFX9mk2shlGcuYxyn5mH5MSMfhQFQg+tS1Sl/quJZS5m0u59/+BQs21UufLaKFYxrJvakKUSE3OeQa8rd6Tk4TFuW08C6EdNokp0SdKLo08HStcSNHXLkHUtPl0aeOjTw1GTTIffckvcVXMcWqHFqhXP1yZNobya34Y9VNliPg9zIDPhnNUI3hpDSZeH1OQkeHVW6Vr4dToaXG1sr+WLKdhSIXiI0+3KzGt0s792eXoLuff8A4NtxTSouZWsUN+IkwiPxGkB/P7RwTbWZZGEOKbPmnhzTw5p4c08OaeCrzUMPLjPPW5cPmnhzTwUo1n8LcJ944mFW0tLXhzJEfw7gJONh9MyTFfEiGa/biaETnstz2N0xxTIcXRV/j0bIGrCA9WS/xC7n3/5kiCGd4JhICYcJLxlAYCJrTIXaoSmNkSoDlVes2sfjakT44uo5n24oW5vhb+pE9oXFSDkLHG1PLqrq8D8Qu59/+WXKSkykqMcUxxlDmFalJNCilHw+aMy5g93mFAnzQMbvVU9rv6GSxvDe0G9qW/7koiG8N49NRqWnE1O9iFBtvwy7n3/5Qz3Sde4p7Ndvb14lYdRo/VrofozZGlp+GXcyPXQxoY0MaGNDGhjQxoY0MaGNDGhjQxoY0MaGNDGhjQxoY0MaGNDGhjQxoY0MaGNDGhjQxoY3TGhjQxoY0MaGNDGhjQxoY0MaGNDGhjQxoY0MaGNDGhiUozVumN0xumN0xumN0xumN0xumN0xumN0xumPDyQaX/jzRe/a6GNDGhjQxoY3TGhjQxoY0MaGNDGhjQxoY0MaGNDGhgiPX//EAEYRAAEDAwEDBQ4FAgQFBQAAAAEAAgMEERIhBRMxECIyQVEUICMwM1JhcYGRobHR4TRCU8HwFWIkQFCiBkNykvElRWOy0v/aAAgBAwEBPwHxETsTr3lJ5EJ3SCAuomJosq+feyYt4D/Son5c0qysqTyIXGQBRRpjLKtrBGN3Hx/0yKqx0fqm7mXVpUF2NxKhpH55vTpYoekVUbRc/mxaDvaXY0dRC2UuOq/oEXnlOpbG2Y967l/vb71QbJfVS8/oDr+iOzqWJlhGFWUUbTvIRwReHOsG3RikLbbs+5OglYLuaRyPjLOPjQLp+N+bytaXcFu3DXxu8eOBW8eevvmjI2QdOwhjXmyfUVDDbeH3p8RDcinRYtyX/D8gbA4dd1VTERLeDHVRVgZK1xYND2I7chHFpVftaKqgMTQUAI+c7ioYJas+hf0xnaqijfBrxHegXVreJdTCKIAK3gHf9X7d8wAlOFjbxUUZmeI29aNASW7p17myn2W+J7WA3up6bctEjHXBUhOaAx57055dxVw5oBKp6nuF4fHr2qTatNNFa9ipdoMIxa26a1lR5JtnDq7funRVR/5R9y3FX+kfcm7FqpQHkjX+digoXRRhgI5HsDhiVhd+CezA25YnNsWlOI8QNFcTRBwVrRvH937d9AzLVONzfxNNBEWb6Q6BTxNp8Z4XceCfWTSuab8FPVVBeHOPBOlfUaydELS+Z9ydZvT1K3jPNW8Z5q3jPNWTTrgnPa5uICdG5qsVZyi2lWNYGM4BU1e+eO99eSaQRNLinteDkU14eMHpzSw2PjKesfT6Dgn1bHA2bxN++il3YPiqer3Q3bxdqGNWzJ3RB0HWqmkjAdJCbW/miPhHDJE35x9gQBv/AHfJOeBzWBOzbxCzd2LM9iErrWsrEapxlIyKjyebXUjyzmNWcjNCqUmBjpz7F/VZLdFS1Ek5u4pz5WkEp7ARmxWOIbInMLOP+VjhfN0AmbNceLk7ZjGjp6qWF0LsX8jSAblF7C4aKa2XBUlU2Nm6OnpVTURNY6FmvyCHH2JumKyIj9a4IzPKzktdZy2ui+RvFb1/agZZRiBdOp5o+k1asN017pnhrQqiXniJnAJ+TOpFl+cxEzFeGTt47inNe4apjHSOxahs1osJH2JT9mEcHKWmkh6Q/wAhS02/NzwTWhgs1NCkiEnFVkA3RcziFvHdqGdsibIOI/On2edXK4HRIWXpCB5t7pr5HnFoQpJrakKXewmzwt+5GocWYozktAUs29Wz9m90DeydFTSwUgxJsqivjltYKi7kq6cRaO7VVUI2aHTR6g8PRyMm/K5Fg6isPSsPSsPSrdWS2dHgDJjdPbmblp+H1TRbQMt7vqiLqspd1z2cOWKHPU8F3OxSRmM+Kgj3UYbyHK/E+4fRObI46E/z1funh1i039w+i0HYnAyOuSpGBnBER48VZnamiO+pUgGXNWzGCznqy2gwOgJ7E0FxsE6mkHAXT3hjAHMVPjUStjDBqqybuGDmn1Izte7J7VaMHVuh61Bm2cBjbHtUbo6+nN+B0P8APipW7qQxlnBP8lwVLQCRuciqNnhrco1HjfnKzO1Wb2qmD2QtDR8fsry9g9/2V5ewe/7IpzQ8YlSNwcW8jBZo5JGZtsuHiIBeRo5cXOdYA+8fVMocHXyKfSNdfU3RoJWsdI4Wsub6Fx6Nln6Fn6FvPQhPZuNlRVPc7+dwKE8ThkHLaM94wGcCjSyNGQTo536uUbJBzXi4WzacxVXoW2WPkcwNCbSSEXOijkx5ruCbhBFq7pcPUtg2McgDr8FtTAVbxlb/AMIuYRiXqlkbJEMVO9sbC5ytH2rGPtUrWt6KiNoAR2ITm13N/nzUkW8IkYf59+WtFpzyQSXbY8tQyxyHiKfyreUGdp5pH89q3tV5/wA/qt7UecjXSdbinOjcblNDXHmcU5+urVmPNQN+DUXYmxamTsaCC3kppA4GCTgfmpd4127eeCbsWrcL6L+iVfoUFFPQSiaTgtqwb+IFvEKmZk13Oso6Nr7G6qJd9JccOpbKpe4aXwmhOpVXN3RO+XtKMrTHhZUNHVTgyQaKLZ01XI01GgHH1qp2dTyQlrWWQ46p+66lDvN221kZHR6ycPkiNxzm9H5ctd5c8jTYqOTqT5COCDy7Rye3F1u/p/Kt5c5s7Afz1rKbzR7/ALK8vm/H7K0fasYu1btrugdUJcm2JsVkfOTZcRqQpLSHpBbtvnj4rdN88fH6KSBrI8w66/FxX/O34hOq4TzmyLuhlrbz4qqmZuHDO6oq0OG7k4qoomSnJuhTaN0cRY06n5KCjZDzuJVftZ74e5mn1n9lTU7qh9hwU2z43gBmipXMp4xGOpNkaSr3VNsa1Q5845vUqyA087o7KCZoiF+z5Lfs4O0/nuX4b/o+X2+Xq4HkrvLnl2cGueb8VUxdaOieM237O/p/Kt5Zn1DfJtB/ns5C6TOwH89asztVo+1DdjUFPMb9UGxdqwi7SsIu0+5buHzj7kIIyMrm3qUrIRFdhUUhieHtVVGNJo+ie8opZCbE80J20pL6BB09U3iu5ZvNTW1bBi26yrO0rOr84pslTu3XcboTVfnn3p1ZVsOJkPvTW1NdxN/WomhjQOtHCNuugQO6Haw/D7I8ld5c8sMhheHhOxlZk1TR2Uenf0/lW8ubb431VyUDdAXdYp8bAeKwZ5ywZ5yBtzIeKdHVMFzdU7syc3fFZf8AzLecwsMvwQihvrJ8FUMYwjBUsg1hf0XKPZjyeebBN2bAOKfsuM9A2VRE6lg3Y6+J5GyPYLNKoYO6H87gFJSRubaytaTFxUrI2nRygAu5odxCsQMmG6bTzS6hqpY91CGpyl6I7UwU5b0Ph9uWu8ue82dPfwLvYpYMk6At7wAlGGQDK2nJT+Vby4ROfYlW7EWMPFOay+pWMXnLGLtWMXnKgiY1ubeSqpY2yE6j2KOKAm2X7J0dPfp/BSxwtiuw68lBSBjd6/j3haCLFVlNuH3HA8lLUdzPy6k7aDCPBgkp1I6UZgYn0ruaKPyknuUT6ZjxiCUap8RxYAE+SSfUOVLUyQDFwuEJWO1/Yp0sZFj8ihI1ws1HkrvLnvASDcJm05GizhdTVr5tOHKExMcadt+s8B9VWU+6xd2/NU/lW8pijcbuaT7Db6Lcw/p/7fst2zzPgpI7apsemTuCxj7UwQ34qlq2QEsPRTq+Bove6dWzOeXNK7skOj2g+xb2md0o7epbulf0X29aiosnizgR3pVTEJYy0rClZ0nX9SaG45Qx+9OfWHQC3qRgqHnnBEmLmSc4Kkoon+F4hS0kU3Eap1JI1xBW6Y3pP9yp4nOibZPZuxd5W6D23a4I8eSu8ufEjiog2Fu8fqeofuo8nPydqStpvHNYqbWZo9PK2V40wPw+q3r/ANM/7fqnvda+B+H1Vm35xVG9sstnhbQDGx5W1UR3h4Kzx1BWf2NXOibvCB/PShVeFMllI7ePLuSg/EN70lS+TdfkYy8HTst2P1B8VFC0i+aqQcxrdUTsYhG7iEXBVMm8lLlgCOKo5TuGgNJ931VQ9zmgFhHp7P8AtN0xjMAe5/8A6/uUePJXi1Qb+j5eKDrJtUWdEJzi43Ko/wATH6x80+ljm1PFO2c78rkICHbzO389Olh6vvG3eC7ZT8PonRuDTzz8PopgI5LBqgIuX26KEm+dzgrYHQLEjiwINJ4MHvRa5uhYPf8AdMZkbYN9/wB1vmU7y3H3fdHVRP3Tw/sTXBwuOS6urquk3cVus8jWlxsE6N7DYhRwvkOid4Bt4x7fog4g5AqaWQtZc9X7pw7obmOl1+n0rANAcCqZg3QcWE39X1RaP0j7x/8ApNjhkbk1MoHPGV1HRRx6nVbZ/HSez5DxtH+Jj9Y+abydzwu6TAoo2xjRSvDRimxsaNApII5W4uCqad1M+3Umhgbn1okuKoIWxxB3WVNC2ZuLlq0o6prS42aiC02KoazDwcnBXV+SSRsTcnqonM78jyQ7PlFpL2Ke6SI+Fdb0Bd2vyueCkze2zdQty9SMcY2ItdAQ4KRolbvWe0Kmpi9scuZGnBOaQbMfzuwrVx3kXHrB/nH09Y9ih8m31IrbP46T2fIeNo/xMfrHzTeRrtbIOCkdd5Q5NoBm6yf1Lexjos967olOjdPUqWpdbGVT1WDeZqU2K3Pl4I1L783RNqpG8dVJIZHZHkiqpYdGnRU9aZcrjgE/aTz0RZPkfKbvPJE4MeHFB4cMgtoyNfKA3qRjc3iFqo2F7w1S0kW6x7Ec3pj3QuuFSEGFtlJAQ/es48beyys2bwjDY/zQqHybfUitsfjpPZ8hyBpPDxdH+Jj9Y+abyA43c7gonh4u1TtxdkgVdbTmGIiCa0uNgmNsLN9pWbf7kHtJtzk6Jp4gn2rcM/Tctwz9NybAzE8wruabzSpIHxauVH/zPVyU1N3RlrwRZ/6dl6VJDJDbeC10HuAsChDJjnbROqpHJ7gGiz1vP7/gnVMjm4l/wQeR1/BWa+5JVIP8OxOkA0RZFK67m6qHybfUitsfjpPZ8hyCTmYo+Ko/xMfrHzTeSTKUYuFm9Z+n1/gp43l+bej6z8vXrfipdWkJu0h+Zqlrju84wnZO57kGgDEe0rY7t4XhvUpIJCL2VeC2E5IvkmcEWtGheg1pOj1JBujZ7lZn6i5sxAe/9lG1rDLj2KgbnVMae1U7A2qqWjqC/wDZwf7ltmJzpYWDrasooejzj8FvpC7O+qzjm8poe1dzSZ4hSRPi6SoQe52YJrJFtbyjb8bKj/Ds9XJ1hReTb6k5bY/HSez5DxtH+Jj9Y+abyOdT3s9/suhO09A3RnjDTkbFCJzlHzo3s9qLzukdPejd7yRpZc79T4osy4vTvAts3r6+TZjgHOycB9VU5R0xZM4Z/sqmakdSgMUsETQLOVMxm7ks7qQbGNQ9WbfSRMYx3Nz0TPxIF78jWl5s1bqOHyup7B+6q5HF2PVp8go53R6cR2IMbL5A2PZ9E1k7nYC91E6GDR7rnr0v7FTyxsgZc2T5IDqHj3pskDdcx71F5NvqTltj8a/2fId/3M3tT4yzvaV2M7HHtCCCC5khsDqFjiwgLNwKpjaUX609uLMT2p3X6156DS7hyMfpg7gtx2OCZTFxtdSXzORuqmopHUgazin1TXflUOW7f4O2is/9JMuwEllkTc3VJG7MSHQKSJ8Rs8KNxbTvLe0fumRulOLRdVVt5p2D5DkwcpJJO5WgnrPyCYy+p4KkvuwIuPWT8v56z6SJvOHu+6xn84e77qLybfUitrG9bJb+aeIe3ILdOJs0Lh3lDUCpgbJ7/WmlPmijcWOcAQh3LlcvHv7U91KGGxHvXhOpU8Usz8TopqMPBLTqjvhovDKDfSuxYLpmy+uVyOzoAE/ZrfyFS08kHFAEqeeB0JAPqHYmM3XOdx6go3OMMrjx+6yPaoRJICMrBObHTGx5zvh91JK6U3cVHO5gwOrexDufcOIva409jk+oJGDBZvI1jnahF8hINk9zzTt06z8mrW3PWz3XpmoUoa4uv7tPf2rcjzj70wYsAU0rYWGR/AKWQyyOkPX37JQ9OdgLqKexUkMdUL8CpYXwmz+XZu0DRP16J4qKVkrQ+M3Cqo5M7sNgfR905z4zZzx/2/dbQnfHFhle/YPur/2lUs+6fwNinVLGDJOfkci0qCLfu5ullGxtPzRwVRtGKM2bqjtR5/Ko9osdo8WXNe3tCmjNJq3olb5yZK4PyOqjlLoZXLSYW/Mot9HcsCcS85FMdi4Ep8rXHgmuHcz9OsfJyD29bVJHjqOCY54HNWRRb4Brusk/ssHMN1s+VurJL+y/7ImH+7/eqaOOaTm307cv3T3gC5W1tp91HcxdH5+I4Lel7cSuCgmxKsyoZg5Obi4jlp6ualN4nWTdvuLcZY7+rRS7Ujk1w19f8upZXSuyKyKyPanWc3mLMOZqdVSM3EYLuviq6exMEZ/nYrOP5QrHzQmsJ4hU9SYpN2eC3BqG4gXTgWvMZbqgSw9FMJdDKbdixd2KJshblIbD4reuYPANsPiV4Gf+13w+yMLKfy2p7B+5Xdkt+boOzqXgZ/7XfD7JzZYDidFE6WTmtF02nDOi3M/D7/JPlfK7whU1r6Jj3RuybxTNs6eEbqv69g20cfvKqa6premdOxYO7PFB3agzrChm3Iu5OORv4lri03CDWSPaB1lPGITrTknrUZDRzgrjzVG9rT0U7U3CoqthpIy/jZbSH+Mc6PrTpJAdVG5/czz6QnXAvkngiJhDu1NvibuW6bje6qgHSX4cPksB2qRgZwVPM64idq09SjdvagQcG34KBm6kyctvwsjqGuZ+Yd6HhrRZF5KjvgLqotjr4kEjgiSePi4HYStd6U4Ztst2NW/mWb+1bx3at47tWUgF1Qwf4RgctoyFlUQ3qVJShwEsoVhwVZRNe0vYNU3CaNsd7Ee5bsRc2UaptO0tzfzR/OClfHPJdFrRpqsWNPOum475mHapHFk7nN7UNtuxs5mqnndUPzf3t7LI9qufHMiyF7pwxNvEbPqO6IAesLa1G5j+6GcE2SRxtdPfIw2urm9u3gqaF9S+zxoOKdUxxxF56lJIZXl7utR9AchKMJddzUySZgx4j06p4lkOTtVunLwv8sp8tMlTSNikyd/4VTI2WTJvi6Sn7okx6lUxxxmzQpYt3a/HxTX4om/iKGsNJJfq60x8c7Mm6gqo2O1xygNk7ZFUSodlkDGY6JrWxNsOC2hVGY7tnBbt1slR1oDd3Is+tVVY1rSxnFRhztL6ItYOtYs7UGx31KkxDuai4u4+N2dK2NzsuxPu129cNer0ff5KQ3P+Up6qWmN4yodtxnyrbL+q0nnKXa8I6Aupq98+j+Czb2lb1pFtUzdJhZjqvBJ0l9G8E6e/UhMQeCkfmeRkT5OiE2ilKbs3tcm7PhHSKbTU7fyoxwnTFTUUb9YtCnNLTY98CWm4Tqt7xzkTf/PNY5/BClPWUKZq3AW4CEIGoRkIW+K3xRlW9K3pVVZ/P/0WNmbrIANFh3x1ae+k6B8X/8QAQxEAAQMBBAUHDAAEBgIDAAAAAQACAxEEEiExBRATQVEiMmFxkaHwFCAjMDNCUoGxwdHhBhVTYiRAQ3KS8VCiFjSC/9oACAECAQE/AfUWiLax08ybnpg5BKKe5ErR9n2EXKzP/irXZq+kYq6puegKRFOcnOWj7CXHbS5bv/GWixNl5TcCpLPPDm1SYmqltLbmzYmWWebmtVm0YyLlSYnzbd/EUtktL4Gxg3elH+K5h/pDtQtYpzHdhXlQ+B3/ABKlt8bW8jncMu3xin2qY43lZbe6Q7GQ55FBhaKl1FtY9oHbYU6wmzxPNGOB+epkgfl617roTa05WtzgwVcUJ4zhX1paDmEGtGQ85xuiqdFZ31e+ME9QTbJZXiuyb2BNkDnXU2UOddWn7Y+yzM5Naj/v7KzW91rk2VKLyd5eKFWiwmWF8YkOIIzTf4WtG6RvetFaCmsFqE73Aim5EmQ3W5KaeKxhfzVxPNVntbLRhkfNLg3NAg4j1M1pM8p4IGkjOr7+dNKY8kPVPeI2l53IWqgO0FKYqK3ska51MlFNfJa4UKiAuURN43GJrQ3JULXEgK12MaShMU2HDoP3Vm0HbLNabxxGONfGKi0c9pvufQ9FPuE577MfTOqw7+HXTd9OrJs9jH+sP+QXlNj/AKw/5ftSfxHYoXGMAm7wpT6q06YjmlLyD4+aqo3lhDhuRfRt5MffFddpje6jmKFpaMfUyMMMpYUTiw9H3860i9gh6m0zytfsYhid6gldPehlblmm2eNgPSobPA1rmsGeabG2DCPMoVpcaesptXczAK474lcd8SuO+JXTlf8Aomxua8vLqhCVh3q+3ir7eKn0No6aQyyDE45lWzQ8Fmlpdw3Y6rPEZnBgTXNdgEWlhvMTXBwqPWWmxx2nnZoaOOFXZedJHf8AVWiy7U7Rho4ZJrTZXUGLiMSclDO/kskFa+MU3kM5PH7qnuj5lckj+36+O9Bhdi9NDHZHvK2bfBK2bfBK2IrWupojBuhPusFaKNofyyrjH4q1NE7mwfM9S/lMNa1KigjgFGBNZE7JNca3XZqovXo014fl/lZJmRCryn6TY3JqbpYuPs8FFKyZt9mpwJBAQZJdPKooubn91aIHOdtG49H7UEEj3Nmfh9Svd+f3Tsb3WPsqVk1CFg3LZR8AtnFWlAhHEcgFsY/hRbFFyjgmTxSc1yNHCicxkTS9xVnh5BlfmUy4/CtD1oPu4PQEIXoOHcmmJuSa5jTyU5wYLzk7SuJ2bKhR6Ua7NqitEc3NP+QtVpEDcM05xebzlKamiZIWZLR8521x+RWzaiGVoBVFoIpcPj5ppcwHknuVHe8D2/tXf7T2/tXeVShTo42irvqjbLODhXx81FspheYe8rYt6e0oWZgk2m9CEB1fGKjj2attt2PIj5yZZ7RbDez6VZbC+AGpU22gkv5KOc2wtjd1np1Oi3tV93w/RXz8J7vyr5+E935V8/Ce78qtTW79FpOa9SGtEw3BQOHf+FexqX17fwsjUKx2ra8h+et8l3BbZyY8P9VPJtZC7VhwHegWNBrTx1qJ7bzXtp2rHiUHBgoGlQybVt6lEDLeyVZOHf8ApOMlMAmVu8paUkIusRctGyEThvFE3RUoWiPeadaY2+4lr+xTXooy++cOr8KzQm1S8r5rZOa2jHfRekIwcajMYfhSuZsi5z6j5fhEOgeDvTXBzQ7afRM9pzq+OxWvSGyfs41ZtIF7rsimMgb6IYqsnDv/AEqv4eOxW0tfaHFxVI+J7P2qR8T2ftDEJrixwcExwe0OGp2Z1MddNfUymjHHW57WMvOIw61NpUyx3QwVUOkZIyAAKdSbpOCSVsUZJrvVDwPcv91Qtn0lbPpK2fSUYeVeqrbZvKWYZhOss7TQsK0ZZtm9zpOcNy8oYcCmyQsFGp74zymnFWycSWfpWjXsY11UbQwZJ7L3KbmnX55aXRyfr2K3g1bUUVlvbFvJCDXA3rverbG+OZ17erKx0kga1Vk4d6rJw71GXEcpWoVtLh0oxCtAVHJcFxybkNVjNYG6pm3TXXC73fUTezd1a3MgkFHiq8msf9P6IWayVwZ9ELDE3msb2ICQCgonFwHLxCDDTBx7lcPxHu/CIpgX/T8INLhUP+n4ToXk87VaGEETR5jvCiuOG0ZvTv4j0e1xbePYv/kuj+J7F/M7LpEGCKtT0fNWC0CGW67ep3UcOTVSWosrh43dqgj2TKHPerXLt5eSombNgYhGdpeqtI6SsVjLY7Tv6K/NWzTVnsMJFkoXHKn1Vi0zbIrS175CQTjVHoTNrvVqubd97igxr8GZoelwOabzRqsXsG6ntvCiOGaD72SLnM5TUx4kbeHnzezd1a7sd2pPjqV2P4u79oBlc+5VfwVZOHer5bzwjFdNQKhXR8B8fNOive6e5MLme6e78raO+A935W0d8B7vymSuc+6Qh/hpae67uP7UWj7T7N8GVfnn4+S8idevbHu6KcFZYH+UNds7oH4WkLAa7aL5qzW6SJt2TFOtzHyh5GA+qntr5uSMArFZC07SRWi0Ms7LzlBpSRhO1xWkIX2ycznen2Z4aMPHiqLSFbf4jvWVjLKaSHPoVhtItdmZMDmO/erXGTO6nFbF2bV7b/d9f39U3mjVYvYN16UDmtDm5KCTchiFZZLj9md/nzezd1a42QOPLdqa1lAVWTgqycO/9L0h3Dt/SYJW4U7/ANKsnDv/AEr0vAdv6V6X4R2/pXpfhHb+kZnh10gV6/0mOlL6OHjrUkbZWljlZ5HYxSc4d/T5lsiju1pyjkho2IDMq5BZjgFt4viTvJZDV1Crlj4BXLHwCdHZb7eSKJ1nsJ/02n5BN0fYXCuxb/xCPkmjxyWhteAVoJkeXjJC893Eojaf7vHem80arF7BuuWMSsLHb0Q6CQsduUUlVJxHnzezd1ay13OpgrjWhObRwoiSG1Ca953K874Vff8ACi29ypck19kebraVU0bWjksHYrg/o/RbFt8PEWIRkkpgxQuc4cr8K0RnCWPnDxRS6ViaOQKlHS05yAUel5PfarPM21TbThkPrqcxrsSFbrQbNHVuZUdvla6pNUXVZeamPkPu/ZSl+DruR/SvB3IeE6eGLAuAVtl2s5cmJnPNE7bV53em5DVYvYN8zSlnqNs3dmo5bq2t7DzCQM02aNxoHapvZu6td6QNwCv1GIV916gTXP3YhVk4d6rJw71WT4e9aRleXXCiVY7S+WIZE9ae+YDL7prpqYt70x8pfRw8derSVsJOxj+esIPINW4Kx2nyhmOY1WqzC0x3EzRbw70rgAha2Rm5W91LyiR/s4+3BSMtL2G8QOpGzsmFXkn5qNkcGF3uVrssdpN4Gh6k9jmEsCEcgNR9U2Mg1cm5arF7BvmZqTRcLzVuCgsMUBqMT5k7y7FXdqeAG9WG07dpHBTezd1awJKYOVJvj71ST4u9MkvGic/G63NVk4BOMvBWuyOtDQ4c5N0baHOoRRNscDWBhbWi8kYOY4j5rZ2hvNkr1j8K/aW5sB6j+VJbLjCS0g9SOOfmNVkmMUoIFVftL+a0DrP4Tr96ksnZghHZMya9ZqttAwYEIDacpuBVtt0kR2Tc1Db54iMahNtMb2hwW0eea1WkVmdXigxzsk0PacU3IarF7BvqSKhTVkdsxhTMqQi7dbkFomMhrnnepvZu6tYaKc76q6Pi+v4VBxV53uhWxjooSWErRpkdIWk4KQBgz70C0ivK71yP7u9cmR1wV8dHBbD0dz/rsTG3Ghuq3/8A1nU8wBAKGu0b1jU51JuZXx4C2jvgPd+VJM8e5++xQHk5UWkIy6XatyKbGVZ49lE1hQkdeIuqcAyuNVGADn4+acTX2n1TctVi9g31T4myZr+Xx15SADRQKb2burWJOSG0RN3NvjtV4Hco7z2VLlK0kBl7NFmyGB+n4QdeGZ7P0rwOTj2fpXv7ndn6V4HEOd2fpOfdHOd2fpbN0zQ694+WqRgkYWHenRlji1yoqINQCsEe0mvbhqJAFSmua4VanyBmaHpXUefl+UQCKFQxsDn0G/7BD0Junm7vx+FfLiWkKc+kIqq/3eOxF72mhTTgNVi9g31s3s3dWtsrxShRcXZ6nzyvNXOUVqlhdeBVmtDbVHeTi8uuDLxvQAaKBaSme+Qs3BWe0Ps77zVmNRcGipQIOIVusW19JHmrtFRZKON8zrrFBA2Bl0aptJQVMdKpgjmFYxXpK8jju5YplyM8rA93yW2j4pkjA9+KDmzAghMJYdm75KeSj3tpvVR7wwRw5L8kMtVi9g31s3s3dWsFVW5OGrRbniUtbvWzec3owxjF3eVa7K1xvREdSgsV54MpoOtGWvJjxK2DN+KNnZuTGhjbo1S2aKbnBT2Bsd267MpmjYxzjVMjbGLrBTU8XmkBGNzHXXZrR0bo4eVvQc12R1PddaXKG3Tma8d6o1g4JzWytU9RK4HihIKXXKpZyShlqsXsG6iQM/Vzezd1aw2tKIgtwKCLVcWioCCZSiQ0VKJJNSMdw/KuP6OxFrwK1HYhKfiA+VPutsf6jfHzW2P9Rvj5p0xvDlheURfGEyVsnNVq/wBP/cNVptQs12ozNEJh/NDD/bVRTxTgmJwNOCLQcStqy9crimWWJlaBNbyjyPH3Wz/sTbLG114R962f9qq5mACtPtn9avJsjqYFDLVYvYN1SwF77/q5vZu6tbKNoRiU9wpdOep+jPgcotHtv3ZChdbyAq3uV2D7r+IvRMjLyaGtft91Z7dZWODS80+a0c9kkw2ZqKINZE1X3HEMV949xRz7UXmNqFef8C5UYJYz7qRxdsr3xflWy95O+6caK3MmdZ7HvN4VQA8ur0LQ8XkcUxefeJVJJedyR3+PFVsmXblMFdfFzMRw/f5W3ZdvFMkbJzVa7u3dfXolYKXDdyqrT7Z/XqjTchqsXsG+tm9m7q1tElOS1PDmZhMBdiAjK0J+D2u+SDfS96AvUHQVHyImh2NVe/s+iv09xN9K6rt27Vb2F7W4V/Cs7GOtAkhbRv3UMVqFpvOyTJZTm37Kdzy+Pk7/ALK8/wCBXnfAnPeMbikr5OSRqLg0Vcto+X2WA4n7Dx81ZWANvb6nH/8ARUkLZMcjxGa2j4fbCo4j7jx8k6WJjNoSKKYWi0YsaQN2N014mm7v6FO1xld1rZO+FbOT4UMtVi9g3z9uU14fl5sorG4awqEDEIIta7MKYVjNE03n1HBMzb1FNyj8bkXBuep7Mbzc1teIKktIjbeoUyl0UFFDDaW2m87JMs5b7ymLdowbTf0cFeZ/V+ifdeaB9f2grVILpjGLuCjkZKKsKkAdaGB3AnvanyNjbeeaBWWuzxG8/U6r7TjVRRReVvc0bh3l1e2mKc6mAzVo9o6+qs4d/wClWPh3/pDLVY8IG+oyTbQ0c8+bPHspC3UI3kYBelpS6miQuAK9DxU80ELL+aht90gPbgv8P0KkClEUYvONFJpYNwiamaUnecgmaSPvtUU8c/NKJooopRKCRxqeKc7ackZbypABLEB0/TVKWNIJFSmufaBeHJb3/r69SZG2MUaFJZ2vN8YO4jxj80TaPKGtNK3XY7s27vt3qOzhrr7zedx/HDxXU57W4FCNgFKqNjBaX/7W/V6wrRnarW27O4Iy1FKLadCGSY0vcGhMaGNDR57mFmqaK9iVBa5LLyXYtUUzJm3mHXarMJ24ZpzSw3XLkjMJoa7JverFEHyXqUosfiCtcJnjpeCbY3vddpRNBaLocFPKYG1fjVSPdMalQ6Lklxfgm6Kjb7xUmjnDFhquVG7gQoZRaxR3OC2TentKdGC26E+JrZYm9axhx936KbZPoJD30TQGi6E8XmkBNjcPeT2nypnK913DixXHbnfRMfewOaeGEi8rjeCFPKHt3Brfq78K+1zbtKK2x5PYuX0dyN7I07kBXAKx2XZct+fqXxb26pYqpsj7LJfagbwrrkhZMKPCfoxrua5M0a5vv4dSjiZG26FdbwVxvBNwdR4Wzuv5IwVrftJC1uQVis9AJpBVVAycez9Kv9x7P0nPp7x8fJT2bbx3wcVG8xuDmr3b1/D5fhFu0HOThdmiHWqhTGO9cjZV3YB1n/s9CMDXn/EOvHsA6vyceFF6ez/3t/8Ab8HuPWhPJafYCg4n7D80+a8ihpyxU8d/bu+VF6ez58tv/t++49aY6K0C83Hx4wUoihF55p9/HQjJJNmdm3/2P47z1KOJkLaRj99ZUVaYhOaHi67JP0VjyHYJmiwM3KKzxQc0Ko9VJEH5ZqQmPB6MBtL7rUBQU9SQHChQL2A3tyAvFD0Ap7v0UjXOIulXX/EnseRmm4AAq1OZHO5isbxJZheTY4yKgVT42eUMFNx+yFCaXEzGZ7SzhwRAvCjaeOjgtq69SispLY6Uri7hxKvn4T3flRvL8wrTC2hmbg4DMffj80WbOA2jN9Mz9uHyTHm7dctHvLoqHd5tojc+U3k2NrdUNb3qaVWXq5BeYQgbpqi9wN73Vso/hWyj+FbKP4UGRE0AC0na6aQlMeVadmC0UwS2Jj3jEq3Wx0Z2MR6yrzq1qrDbnhwjkNQnX4JXS3atNMsxTo3/ACx6Ctq6W66AgtT7S4O2cYvO4Dd1nd9eAKiZLBFQ0OfeaoF5FRRXnuBukJ97YvvcD9FEA6FoPBO0W0nB2CiibC243zqBU9dLaBGaUqmuDxeHqLZDsZTwK0faQ9uydmE6NjBVNYxyDRSvDNWmVtmjvMOJyX8ttD52xDG8c1FG2GNsbMhgpgdo6vFUTQjKG4FSRQSOv1oeior108cFGYYm3GYBbVnFehUN3d4CtUTpo7jf++j5qyxOhjuu/wCuj5ertVoFmjvqG1TympKs9o21R6qSG+aprbop6i1WcWhlN6c18LqHAqLSRAuyiqbpCzgYKbSIrWIYpznSOqc1YbM2EbRxxK2jSaK22IudtY1s6YUVksTi4PkGCfdbjTFVk4Dt/SrJw7/0iZKYBR3qcpBobkPW6UidJG27xQpTZty39P6Vkb/lJYI5xR4Umi3D2ZX8vtHBM0ZIecaKKxsgxZmrjuhbNwNcE7a7k/aV5K9J0JrKco5psAbvRhBFKpjLgpqfLHHzjROt8Dd6dpVg5rU7Ssp5rQnW60u95C02ge+VZ9JPBpNlxQIcKjziK4FeQQg1Ca0MFB/nnODc0ZxuCM7kZHneqk5oiooVLDcdgriuK4riuhaOkOMR/wDCvddFUTXE+dOKtr51i9t6v//EAFUQAAECAwMFCQwGBggGAgMAAAECAwAEERIhMRATQVFhBRQiMjQ1cZPRICMwM0JScoGRkrHBQGJzlKHhJENTorLSFWN0gqOk4vAlRFBUg8Jk8QZghP/aAAgBAQAGPwIxjGMYxjGMYxjGMYxjGMYxjGMYxjCpZR4bN49Hu3vVkVBr5uTXHbF0flkfUFUed7230mMYxjGMYxjGMYxjGMYxjGMYxjGMYxjGMYxjGMYxjGMYxjGMYxjGMYxjGMYxjGMYxjGMYxjGMYxjGMYxjGMYxjGMYxjGMYxjGMYxjGMYxjGMYF8H6C2+m+nGGsaYQ62bTaxUHunvVkXCq1rZ05KC+uqAQcDGFOnTHwyHNqrKs8BvbrV/+giD9C3q+qjCzwVHyD2d096sisDshXoYwL7uiLrtEU0mDWMIXubKL76q55afJHm//oQg/Q0Sk4rgYIeOjYYpAuyUh71ZCnbCh9WEnRAs4QMi5ORUFzeCljBv84KlEqUbyTp//QhB+iJaeG+JXCz5SPRjPSriXU0vGlJ2iAPxjA69cLToOnIq8Y6IcfIolQokkYxQUu1xwYL0y6llsaVmFS+5tplnAv4LV0avAlTLDjqRcShNY5E/1ZjkT/VmORTHVnug20m0qAZhwuK81FwhRU0sKtUqHDCl7nuF+l+aXxvUYW282pam0KVmMCtQ8mN8upa3NUHLAUEqsOeq/COdGfcX2Q02qdRMA172hKgTd0RLb3SpNu1W0a6v+gVMWQOD4EQfoocZcU04MFJNDATOsiZ/rEcFUXTAYUryHuD+OEAsuJeA/ZrrF6axaeWXQTWyBSOEUNIG2kEKnErPmtcM/hCkSEtZ1OvY+yM7NPrfX9bR4Ka+1+UDG1AoVU0xdhthdXZ6to/q0dseNnurR2x42e6tHbHjZ7q0dsV3NmC8sYy7wsuerQYsAd88s7YNaQ56cbTA3WlqoebIzpTq0KgKfdW6RhbNYDbSC44rBKRfFRJTAOxBjhScyrpQY5C/1ZgIfaWyoitFimVcglbu/Ug8M0zZUBWn5/SxMv2XM4MCK+oQqwmyCa07urLfe/2i7kw0wZlOccNBRN0KRbGcSb0qug/SKpJSdkUTNvp6HDFDOTBH2pjhrUv0jXwqkS8wtlJNSExy532xy532xy532xU4nuGEBJUa4CKuNvLOFSkx4hz3TD+cBTwwQFdEcCn96Jhp0ILa2yFUxwjHdD2IiW3uZzPVNnOBNnAwLVbOyFVrsjTar6oY+x+ZyCdnR3j9WzgXj2bYcNhlDqxZLyG6Lpqrk7xLuu+ggmKuyjyBrLZ+nqmJgHebWry1aoCEpCUpHBTqESPpCFnYmD/0dhp3iKOFaV2euJpx6SRJrYUAgoTZqdKDriZmUsJmn0KSmwsWglJ8qkS6w1vdx1u2tkeSa/hXHIw+1JonHHXFJWXEFQTTBMOttiykUNitbBpen1RKLZkkTqnyQtS0lV9eINUPtNeLSqgvrTZEq+eKhYr0RWoFNGuLfBx4kA1vpo0Rwu+DbE4u9LgaNAdeGRLrKy24nBSYS849NoaVgtVaRy573o5c970Bcw6p5QFAVmBOzo7x+rZwLx7NsF1034ADBI1DZCGmklbizRKRphDs4gTU1jZV4tPbAA4I1aOiDQqqY743mnv2zQv9Y0wWHxfilQwUNY8EHKBts4KXpi0qikecn6FJtac2FK6TeYJ0aKxI+lC+gQfB283XTZB4Xs+myFtxS/0ZJ4R6YttOKaX5yDQwVrUVrOJUamFTMyotSaDQqGKz5qdsVZWqUaSLCGmVUCU5N0QhxSP0ZR4J2jIHg1wSm2E2haKddMYRJTS7My2Alon9YNXTFq/PVwpG2l8HhBI0kwhlvdNhtpN6qpVefZBTLT7Ey/SqWkhQKuiohtTiLSULBUg6dkTk05OInWphJAl76qrha1UjmtrrF9sc1tdYvtjmtnrF9sF1034ADBI1DI7uksVWTm2q/iYEfGDXCDDgp31oZxs/EevwIrhCe+SaW0iiaNqwh7OTMuUWDUZtX0KWWnBTaT+EX6IkekfOF9Ag+CY9MQNsL6foqGnvFJSXFDXTRH9GK3LaaYXVLTiBRYh+UmOG1LWioedQ0je5lGkppxkJoUxNMzXDZk7RWB5VDSFbnL3MblkqBzLjY4SYcbN5QopiQ/sqPnkVMzKi1JoNCoYrPmp2wnghplAstspwQMq1JQhwLRYUlwVBEc3SXVnthvdJTjiX0UO9gm60BoPmxX4QAXBMJH7W8+2LpNoK1lRiy87Rv9mi5OQKSSlQvBGiM6ykDdNPjW8M8PPG3XHJD7wjkiveEckV7wjkiveEAz8soTFo+Xo9UA73Xfh3ww3JsJsIRxU4wBa06orG2MIG00h5AwSsiHe9CYcQ0Vtsny1fPXSGJp2WTKvqcKOAiwFppjTuxLzDWfQkUSoGhpqgoSnNNHRpP0Leaz3+WuprRoMGuEbn+qF9Ag+CZUo0AWKkxaNyReVaIX0/Qw1w22L7bwTUJh2XdSoAKNhak0tjWIbmWaWk6DgRqhyZk9yg1PrHHUbhG/U8Nwk2wry64wUykmtL5GLhFB2xvxPfSa5xKvLBh53c3cre866KF1WCeiAhALjqzcBiTEuyFBamGEtLKcLWmFTMyotSaDQqGKz5qdsISlFhtPAaYRgkaosPz0uy8OM2bRKdlwjnOW9i+yOc5b2L7I5zlvYvsjnOW9i+yOc5b2L7I5zlvYvsjnOW9i+yOc5b2L7IfzjyJuzSmZKhZ/CHmGQUtppQE10d2JZbDjirRVVJEcle94QmbZNgVKSlWIMDhDLW71wp03Noqs10AQtfnGsApNCNIhaZq1NS7vjELVU9IOuEONrz0q54t0adh1H6SiZl12HUQlEwoSczpDnEPQY3PmmaOMpNFFOjbCnHnkNJu4yvlB8EroizbVZ1Vu+hyiiyh+0vN2V7boYk9z2WmipNutm5IroEOqnJZpx+VNeLcdR2Q9MZtLOcUVWEYDIhpAqtagkQ+mXmS6+wLSwUUSoDGyciW20la1GgSNMKYYUFzihR19PkfVT8zCpmZUWpNBoVDFZ81O2EJSiw2ngNMIwSO2LKSFbpkcJQwY2D63w8CkvMONBWFtNKxwSR0QMVKMOS7c0HZ5sXshFxIxAOkxyOY6oxyOY6oxyOY6oxyOY6oxyR/qzHI3+rMOMImwudbBKmbF12ICtcKYmFUlX/ACvMVry3/hBpcRB3PZPfl+OI8kaoLefaM4E2jLX2uyuyLwR05FNOoz0o54xr5jUYS42rPSrni3Rp2HUfpXBWpPQYqTU7YPglDZ9EZenkKWwjhURr0QhNtbE23WibgunzEbwQVvrUrv1nhK/vdkOo3MYcMuV8G6tlO2K3zLFK55CLhCVoNlaTUGGnmmG2Xp0Kzy010K0aqwlttJWtRoEjTCmGFBc4oUdfT5H1U/MwqZmVFqTbNCoYrPmp2whKUWG08BphGCR2wUpordMjhK/YbB9b4QZubJTKpOjjOq80dsc1t9avtjmtvrV9sc1t9avtjmtvrV9sc1t9avtjmtvrV9sc1t9avthpZ3OQ3ZVxwtSinbQxNocnkTqpggoSgk3145rh+eQEXEQt5EqludcFFPhR9ZA0GOUu++Y5S775jlLvvmFPPTjzMo3x3LZ9g2wA2txhhFyGws3DbrMcpd98w46mVQiccFFPhR04kJ0HI7PTy1OS1qxLNHE9B/3hHCfVLq811B+UV39a+qhJMKRue2WEm7POcf1aotE1VjWDOJl1DdAjjW+AFedTXBY3RWuYl1eUb1tnWOyACQttQtNup4qxrGRbTqc9KOeMa+Y1GEuNrz0q54t3XsOo/ShB8HWgrr+iImJZebeRgqlYYVOIMznneGPOJh3cnctaNzZKWBU+8Lum/HZB3S3PnN+SAsNvsLBuupgddMY3PXJy2Zz6C7aGBBjcvoc/iiZfa4L6nA1nNISQa0hx+YXYlWaW7PGOpI6YQlKLDaeC0wjBIiykhW6ZHCUMGNg+t8IM3OEplUnRxnVeaO2ApQCEJFlDaeKgahkUnOtKmUJtqlgeGB/vRkw7nCMMjirSWWmxVbrmAhFVJcbcFpDiDcoZJoytkz/BzdaVs+VZ24RJtPqG+EJJdbTgDXTTyqZEreYcaSrArTSuRmUb8s3nUNJhvc6Vuk5IZtIGlWnuS3vhszgTaMtfXorhXZkMrNgrk1Gt3GaPnJ7ICSQtChabcTgsa4azky0w88KtNLrfqrqh2WmG85LqNHWTr1jUYzTc22p5QtNsqBCiMaHQDs+kiD9EuST6ooRQ9020utg1Js4mgrQQ6402jc9TShwluEoUDo6YQlU7LOJ0oZXVZ2C6Jl5mWMopgp8sqCgdF+nJIhK0IVnAeH8Ifbnc4/uLNpoC2BVB7QYXuXuKXn90H7BW+pIolFKj43mNzFLeQ4UoKD5xOkxuX0OfxQ9/aUfwmN0PTa/9on5pu59tKQhfm1N9NsMtO1sKPCpiYClAIQkWUNp4qBqGQEYiFzzbDid0FV8rvaVHFQjljkcscjljkcscjljkcscjljkcsc9scschbG6K3ZmXXQ3K4SSNIhllhBbl2QQm0aqNcSe4l3XU2m0LBIicU9No3STMcVoKVwr+MrVHNbXWr7YXutvNDE1Nd7ZQFk1Trv8A94RzY2f/ACr7Y5ra61fbGbdkhLJVdnm1qUUbaHGM25Q1FpK08VY1jIZwSxG6BHHt8AK86muOVuRytyOVuQ09Ny6n5prBdugXqtCFurvWslRhEyqWKp1AACrXAJGCiIr3F6CPVF/0MQfoACRUnQIC5tW9Uebiv8o5Pnlec8axUNobaHmoArFEJCeiDKv5mYVhQj4HsjPsEuSSjSpxQdR7kLQSlQvBGiAH3SsC+mF+uE5uucrwbONYRv63m63YUtbaacoYql+TJ4TDotCmmkWNyf0dtSeG7Yo4THCJPTG5fQ5/FD39pR/CY3Q9Nr/2jdP/AMf8US/r+B7qiQVHZHCSU9MK3uw49ZxsJrSCCKEaDCX3Jd1DKsFqTd3ILEk4UnylCyPxhx5wMoShJURbvjT7I4Jrlal/1fGcOpMZtnkksM00BhtMMocVYQpYClahE7Kf0aJfMpJbUkcIEYAnTWEZ5FAviqBBB9Yjec5UyxPAWOMydY2axHOEl1h7I5wkusPZHOEl1h7I5wkusPZHOEl1h7I5wkusPZHL5PrD2QlK5th1N5KGF1Wdguh59pjeymVAUCiQoHp05Ey0uL8VLOCRriqW0rdA4T7uP5Rm0LtEioCkkWhs1wVtoSdaCnGO+SbdTpSLJ/CCqSfv/ZvdsFp9pTS9SvoAg+HSwwm0s/htMVR32Y8p4/LVkQ2NJgJTcBCk1pUUrDEgZcMhoprMJUKUGlO2FNvTUw60q5SFKFD+EPSa5GVObNyrB4Q0aY5BKe4e2Ob5P3D2xzdJe4e2ObpL3D2xzdJe4e2G1qkZdtOlbKTbTtF8TLLc1vtUwU4JICaaTXTkBnGs/NrvEuTQNjWqmnZHNbPWL7Y5rZ6xfbHNbPWL7YaaO5rSkoqEJtr0+uMw/uOlltZt2VlYqfbC2hua1m1kFQtrvphphxtO5rQQ5S0La76euEutbmspcTgba+2OamesX2xzUz1i+2OamesX2xzUz1q+2D/wpnrF9sBxcmiUTZPfGypR+MS65dalhKKKtCl9YZlkziJJxlwrUHCQF18q7SI3wkZ5oFNSr9ZSlT64n5tW6CZpqZQpKGL7V+FoaLPyy96GbYTxnlYDtMJLbWef/bO3n1ask5XDMr+GSYmiMBm0/OCUjMO+cnD2RYdTTURgYK+LujulhrSj/fxyrYmn3jLrbLWNc3tAhUtJP76W05nlCzZNKeSPj4EKSSlQvBEAPOlYF9ML8iAofpLvDdPy9UPMA2StNKwwl9reiGTattuXk0pwdUcsnOugOJ4rmPTkzMwgOo0axtBitc7LK4rnyPd3mkaTGNOnuhB8MlttNpajQAaYzYoXleNXrOroyY4Q47/dHcys8kXjvSz+I+eVbjiszKt+MdOjYNZghG5jZRotuKr6745rZ6xfbHNbPWL7Y5rZ6xfbCXW9zGA4m8ErUafjBUrc1pSlGpJdXf8AjHNbPWL7Y5rZ6xfbHNbPWL7YSreSJXEZ5ClKKLsaVh2XVNInFuuBac2SQjWb9JyZphOF6lnBI2wM7bm3NZ4I9kWd6WNWbUQYU/KLMyykVWinDT2+C4VUSrfjFj4CENNIDbSBQIThGdmnbGpI4yugQUyTKJZHnL4SuyFByfeIVcQDQGOKITLLa73Um2nGA40oLQdIgJdQHEAhVDClupsNhIDSdFnuEuNqKHEmoUNEW3dzW1OnjFLikgnojmtPXLjmtPXLjmtPXLjmtPXLjmtPXLjmtPXLjmxPXKjmxPXKjm1PXKhplEmGbPfCu2VUps6aRdugrqkxzirqkxzkrqUxzkrqUw8HZozHBqkFsChimIisLZdTbaWKFMFo8Js8JtfnDuduiKm85fq6u5EHwzk+scXgN9Ok5NcatMS6G5Nb4KLRUlQHxjmx3309sH/hjvvp7Yl51M4qYddUBmLrKq+SBoIjm53309sTbTkqtkAW84oghNL63Rzk17i+yOHum3Z02W1V9V0IaaTmZRvxbXzOs9xnlvNSzRNlKnjS0dkLZdFlace4XRSG22xVbjholMIqpDrbgqhxs1SrK0wKBZ4busq/KBo2QLrou0a9UHNCyw8M4gDRrHcy8ymSRPOPuqQouAkIp5N2kwtO/wBuTuBMu4lSlNkjikgRzxL9W52QhtvdVlS1mykZpzH2Q3Kt4J4y/OVpMW3nUtWrkW60J9UKmJjdxhxxX9W5dsF0FDG6jDiwLVmwutNl18c8MdU52Q08rdRjNO8RYQsg/hjHPDHVudkW292GLJ4yC25Q/hBQ4kpVqMWKhC03pWdEc6sdWvsjnVjq19kPzTeb3TWhSU0sqstg6SIl1pbzCnmg4pnzD/u/IFoYsNnBTps1i1mQ9rzSrR9kUNxyJeYaCmzcDaAgg4juJ6ZP1Wx8T8u6dR5qyIrkWAO/Nd8R8x3J2XdzY9ncCD4aWYpxUX9OJyaxqgwkMb2zQSKZy1XCP+T/AHo/5P8AehUxmdz0OaXAFViqd6fvRMIcEuUKbUFWa1wi8zn7sYznsTGM77Ewi+cxHGCaQoSplS7bHiqVyNy84h2jRJQtkit+INYOZdLDIuQ2nyRHKl/hHKl/hHKl/hDjE+pcxLr82gUk6xDLEuhSJdmtLZ4SicScjFri2019sHTVV9YTddoOS++NzvOov2XZGJZJCS6sJqdEPs7m74M2wLVHaUdGmmqORL9ohbrDUwwKcLNqgkmpOk5FPqwl0WvWbhkcoe8s97R8zkS42ooWk1Ck4iFPMAJ3USKusj9f9ZO3WIWxMIz8k74xr/2TqMJXKIXOyrgq260gmvTqMb4nZdxqXlhnTnEEWjoiamJmVmGmHeLbQQEDRG2Ht7yrzrRNoFtBIjkUx1RhU0+69uahPBCrBtLOoCA4X99JeGcS8fK6YXPTCAtto2W0KwKtfqg1xOJgn4QqebTR5vxlPLGvpyIl97ByySbVukH9KWPZHKlfhHKVRylUOPTnf1l4iqtVBHJ0xyZP4xyZPtMcmT7THJk+0w/tofwyYwDEy0OJaqnoPcL6e5BGIgEZRB8LKt+c4kfjBOTjUyd4MtmqCmctVjGT9iouVJn3osKMtd5tqDTMX9MOJVmKFJ0HVF4nPamMJ32pjCd9qIwnfaiMJ32ojCd9qYwnfaiMJ32ojCd9qIwnfaiMJ32ojCe9qIbs54LvsGas5u1S6164c/pSm+c4N71pbp5WHk5G3we+jgOp1K7hRaNphkZtB16zkS4hRQtJqFDQYW3m2Gc7e6tluyp30siHWllDiDVKgbxCpmWQG59Aq9LIFzn10fMZJtzSp0J9g/OJl7zG1K/DuEuNqKFpNUqTiIU+wlLe6qRV1hNwfHnJ+trEBtl1xJUeKhRFTEruQh9Sptzvswu3eNn+9UItTDihaFQVm/IwWnnG7Sb7KqRyl73zC2ZpJnGFGtlazUHWDCOAllttNhDacEiGLONpdrprkvict3IzK/h3KlqSngcdKVgqR0jRk/8AMr5ZFBt1CynEJVWmR/MVztm6zjtpEmJFVgLqlytQDdcDXyoe6B8MgyMOee18D3Fr8I1dzZ0HDKIPhZH7UdwYtNTuaRQURmgaRaVuhaHm5kCsVSaGK5Ka4Uh6SCJZJ8aHySvVdDc4jc9K0pNhYbUUU2xzZ/mDHNn+YMc2f5gxvySrmB4xomqmT8xt8Fn5ZWxSDxVDbA3zbk3NIULSfaItb8C/qoSSY3QkpFS5SZCathRvdT8oUhQsqSaEHREhn5NU6ucTbKgsps30ommmHmhunJAIVSjjlFeu6OddzuuPZHOu5vXHsjnXc3rz2Qh1rdnc5txBqlQfNR+EJfTujuezOHxyUu97V9YXXdEPNb5Yme+2rUuq0BdE21aCLbShaVgLo513N649kJT/AErudeaeO/KJ7c9uTXLuSqFqE0pZKjYxtDChyJcbUULSahQxBiZ3Vn0sCVlBatBhIUpfTTHth11SJYlZrw2EqIGqtISM3K3mnJkdmRkNJaUSDXOtBdPbHipX7sjsjxcr93R2R4uW+7o7IVKTpbaac8WpKAkJVtpl3jLlDkwfG1AUEDVHi5bqEdkeLluoR2R4uW6hHZCF5uX4Jr4hMTL0ut1bj6VJza08SuNTpyf+ZXyh5to0WpN19Ilt6S65BTQNpxTYFB5u2A8Xd+tDjtBuyqmsdkJdaUFtqFQRCmXRaQqFipVQJvOm7JsySXoK+PcbNMcGq004K+nRHG4UfhXuAcgg+FkvtBku92MK5M25MttuACqSqhEcKdbP/lEcra60RytvrI5U31kKKJhsqoaC3HJf8vBQ5J5xCrilUtUGLf8ARq2djTRAjkT/AFZjkT/VmKgFtxPBUhYxGoiM6ibMnaxYU2VWD06o50HUKjnQdQqOdB1Co51/y6o51H3dUc6j7uqOdh93VCQd1xQn/t1RujLPbmtycvLIUpD6E3oI4tVeVa+eVqZYVZcbNRDe78ingOXTDY8hWuC1LzCm2zfSgNOjV6oqbz3U5LHykhwer/7ghV6TcYfllYtqp6tGRImFP7zXQW1IoF6uFphQYYcfs3nNpKqQhhtNp1arITtiU3Bljc2LcwoeUr/d/syJOhHCOSz5iaZJqabl0zcw2tKbC02ghJ8qkSyw0Jd11q24wnyDX8K40yBtmaJaGCHBaAhiYEwWlZ9bLpaFmtwKfnAZa6VrOCRriytpT6tK1qPyjfUoVKYrw0KxTkQ2gVWs2QIdalpgvzTV5RYuXrsxyR73DGbmVCXczqjZcuNLo5U178crZ98ZFTUqkrZVe9Lp/iTt+MJdaUFtqvBEO+r4ZdESXoK+Pc73XfThJ+cVCTU8W6DWop+MBCElSj5Ixi0+pMsPNN6o4S3l7agQt2TcWqgqWnNPRkEHwsj9oMlMhhJU2kmmJEeKR7seKR7seKR7seKR7sOnNprYOiPGr96PGr96PGr96PGr96PGr96Ey8yoIm0ijMwryvqq7YU26kocSaFJ0dxQXmG87LOozhomqcTqgCZYWyThbGOVLK33FMpwbKjZHq7hctNUVufNcB1KsBthTXGYXwml605GlTD7udUmpsUoI8dMe0dkeNmPaOyPGzHtHZHjZn2jsiRm2nFOS6yQoKx2/GAW+GkioOyBPsC2+0KOpGlOv1Q0pxGcbCgVI1jVG6U27um1MyMy0tLUsF1JrxRY8mzDEtKTzcg806pbwcdzduuCq7NUbo//AJGujjLKQhpVLOedsgKVTafjDj7ptOOKtKMbYofGKvVClqwSKwpZxUa5M4y6tlfnIVQwVrUVrOKlG8w1LNcZZx1bYsh14O/tK/KJ6RXYHfW3W3LXBOIPxgMM9Kl6VHJNNec2rIlaTRSTUGHC1LNsPu3OOoJv6NUeMX70VWLZzyr1X6o8Wj2QQWUEH6sJbcJVucbkOH9TsOzbkXNSySthV78uP4k7fjDixxVJSR7I25NkSPoK+PcpWnjJNRCXkJHC/CEMs3nSryUx3pNp08Z1fGimrZkABi2gUYe4SdmsQIPhZH7URri6tcrSVWluKFzbabSjAcaVaSe4e9A92JeYQwqaAoy/MIqD9VXbCmndzpNDiTQpLOEchkupjkEj1MNKdk5VtAN62meGnaImA5uhvkzPBCmQTm/6w10wuTE0mdW46HBm62WwBt0n5d1Yl2XH140bTagpUKKFxBhW5Ewr9OlxblnFaRq/38oW04kocQbKknQYkEpWW21iil2rITwLiTDLmccLipJarBHlACh6YnnG5h1KEIbWk1qoaxXWcdlYZzLijbZdo1otACkTy0TLqUiXQ4FWrSkKvqDtONNEbm9KvgIG5cyqih4hR0/VyLm9zaIcxVL6D0QW3m1NLGhQpDMqyKuOqsiJfcWUP6NJjh/WX/v4xYl2lOHZgIzr/fZ+6yLPBTCnGEk4lbQHF6IzKDwBidZyAAVJwAgF+ZW3OqFaAcBOyHGHU2HGzZUIM86mjr44FRgj88ihrSe4mGfMcI/GFTD7imWsEWRjth6XUaqbUU115P8AzK+WUpUApJuIMBtwlW5yjRDh/U7D9Xbkd6B8O4kvQV8e6LC+Ku9OwwhZFHXRaUfgIJpsqBFDd03Qb40dEOMVq6m9s08qKEUIOEHwsl9oMh0CDkbmpdKHTms2ptarO2oMLcmVrzziitQZcUlIjjzHXq7Y48x16u2OO/1yodUFPcQ/rVRxWOoT2RxJfqEdkcSX6hHZHEl+oR2RxJf7ujshUzKoCJlAq9Lp0/WT2ZEJnJQTa0Cyly2UqpqOuOa/8dUc1/46o5qH3hUc0/5hUc0f5hUcz/5lUX7jg/8A9Ko5m/zKo5l/zS45lH3pcGW3OW3uM6Hba0OPkB0U886tUBTa88UtIQ48P1qwL1Q3MMqsOtm0kw3u9JpovizTY0HXDQmbaHAkBSbFRHjHerMUC3APso8Y51cGinBX+qiXRKpVmmam2oUqTAINCNIhErumqw7gmYOCvS7YS2yTdfaBxgpUylxtKeEHL4cn5eUDKiLCBX2wZhcmHQtRvcWSSYSkoo2U8BKLgIUp82CKHOqXckQqWkSoA1zkxW9ewbMlIRujPIzZTeyyrH0jkDj0qy64MFLQCcggK0CKZTMl1bRVx0p0whptNltAoAIM4lNWHsTqVkLYmSwErUqiMYcmqBTiQeFoNDS10aYl6PLn89i3dXDjJhAmJV2WbUaZ1dLNYKVAKSbiDpgNuEq3OUaIcP6nYfq7Yd6B8MoqIkfQV8e7ZdHjUCw4nUoQSRaMEpKagxcKU0HGNRgCtRCZtA728eFsV+cHwsl9oO5T0QWlzCUuA0KcqbVSpVyUJFSYfKKgpSQpKhQpNNPdJdaUUOJNQoQqZlkhEykVel06frJ7PCLdStlhhBsl2YcsJrq6YUw+mw4nJZe4Uk/wHkHCmuO98KUe4bK9mrwFlpy01+yXemGZTeZaeV5TZqnpMKZMxTe5sWLBIOuM5nC5j3sNGFCWlLRI4z5w9Qisw6VDQgXJHqy56XKUu6FKQFU6Kxyz/DT2Ryz/AA09kcrHVp7I5X/hp7I5X/hp7I5X/hp7IeQxNUl1BLjYsJwKQdUcqHVp7I5V/hp7I5T+4nsjlP7iYKFvpWhWKVNpIP4QTQCugQM82lyjyqV9UWaCzhSCWWUNk6hCm3EhaFChSdMJYfUVySjRp5X6v6qu2FIWApChQg6YcSkUSAkAerJQ4DGNpiS9FXx7sIcNJV/gOV0ajFPXQwqgx9lYPEJJgX+yBohyXcwUMdR1wfCyP2gjRk15M6vOW1AVo4oQXG3wlFoEJIJPtrlZmGLJcbqLC8FAxMTEz45QrZbUbKaD8Y/VdSjsjFrqUdkYtdSjsjFrqUdkYtdSjsjFrqUdkBSVtpUNIaSPlGLXUo7Ixa6hHZGLPUI7IxZ6hHZGLPUI7IxZ+7o7IxY+7o7I/Ufd0dkYsD/+ZvshthnMKdcVRKd7ti/2QhybaYaQpVkHMtG/1CBL7qKU1m1223ZZpPrBTd7YQWkKQw02llsL41lI07cq9w5tQD6BalHTo2f70Q4y6mw4g2VA+Ae3SVdOzve2BqTr+fsiunIwwCEl1YRU6KmJvc+VbdZmpYKO+HnOCuzjaFODHKZH70jtjlMl96R2xyiS+9I7Y5RJfekdsePk/vSO2PHyf3pHbHj5P7yjtjlEn95R2x4+U+8o7Y3LeDksDvUNqOfTeUmnrupHjpX7wjtgzE4BM1Xm0NsOinrIhpTVrNPNh1IXiNmRLbaStajQJGJMBzdJ02/2LRw6TBYlE5tmtaLvviwoWHPwORKV2lOKwQ2kqV+EVFHmVihrCWH1Fckq5p4/q/qq7Yd/u/DJrySOjgK+PgA2s/pMvRCq6RoMDD1Qa4DyaRd7o0RfHCuMHwsl9oI6dfcJ6MlhAtL/AAEeT0UilLK9UPegcgAFSdAhKn2VNhWBPdFKSENpFpx1XFQnWYzG5veJdPlFIK3D5x7I5R/hp7I5T/hp7I5T/hp7IDzSrSV8XgthS6eaMT6oP6SK/ZI7I5UOqR2Q0p13PMpVVTdhItD2Q0xvYslC7dorr8siUIBUpRoANMZ19qiK2SUrCrJ1GmGRDzSihxBtJUNEI3blU0mmhZmmh8f96OjIEpBUo6BAsSLiRrc4HxjxTY/8giu9M4P6tYMWJhlxlWpxNIal/wBUOE4dSYKWeSS/emgMOnLUYwppxxPDoHFpQAtz0jpyFtmiUJ47qsEwUrfmFuaSKD8IVMS6zMMJ44UKLRkS2hJWtRoEjEmM4+1RFbNpKgqh1GmByy6tMvNKb9Skg/I5FhuyUL4za0hST6jBdeVbWdOSYn1ipa4Dew6T/vXHZBHtjbohC9JxjfUuhL1pGbU2pVn1gwtybQFvuKK1WFGg2QQWKg/XPbDiRgAkD2dxI+gr4+AafvzR4LqdaYCk0WlVCKG4iKkG/XfFCKAX1GqPNOzCCdMHwsl9oI0xsytZ1XCULkpBUT6hGeaWFo1iK64rDah50PegcjLy62Um+ziNsTCUvI3RL5HAUlVkU0nbHNsn7qu2ObZP3Vdsc2yfuq7Y5tk/dV2xzZJ+6rtgMIbblmK2i2yKBR1mM1LMqeXqTFbUuk+aXPyi1MsENn9YnhJ9uSRnHpl6XelUIQWEIras4WTorC3DuRIVUoqPBV2xzPIe6r+aOZ5D3V/zRzNuf7qv5o5m3P8AdV/NDL39EyaLKq2mkqtDovxidblJtydcnAE0U3YDYrW/WrKkkFcu7wHW6VqIddU8USJNpDSON0RZlZdDO0C8+vuC262l1BxQsVEboJ3LCJR+ZTS2s8EdkFmYbLax+PR3UoUjhO98WdsXXRXHRQ/jEywMG3FJHthiZKbQQbwMcKXbYfTKPf0g5MU4L7NEJA1g4qjkMh93EchkPu4jdRO9ZS00lDyUhkUNFUNfeixNSUtmFXKLLYQsbQYSUrD0u5e08nBQ7dkfo8o89tSg0i08GpRGkur7IelG51qdcC7a815NR+WTGnTFYRtvgSiZhUsgN5yqKWl37YWlMuJwNrKM+FhNumyObf8AHTDlRZNE3erJsySfoq+Pgf6NeV35m9uvlJ/KDWMLj8YKUmtdFIW+ohDYraUYPhZL7Qdy3NsNh/vWbUi1ZI01EOOPPOsuOrKy2w5RIiycPJOuMYN6ggYqhw74mFUSeM7G+5W9n9YjS0ezb4BqXb47iqQGJdIsIxVpc2mPXfCm3EBaFChSoXGLDfJnRbb2bMqnUZttlJs515wITa1VOmFsPoLbqDRSTkW4jNtsoNC68sITXVUwth9GbdTiMoSkFSjcANMJmppIXPH2NdG3uzfRhJ0aYzEwmyBxFjFs7IVLvi/FKhgoax3IkFqpMMYA+UnIqZmV5tpPtOyHZ9tSZyVcUVZ9jAV84Yp9eWykFR1CBm5FxIOlzgfGJjfUzLoMxLrZzIVVRqPyi1NKcdNK5sadkJbldx0oYt2lWlV9fTCbEyhMq7e06wigUPkYrMTDjx+uomEvgW2jwXEaxCX5V0ONnVo2GDdWp9kVvDeuKDCAH2kuAYV0QlDaQhCbgkQW0Gg0kQr0U/DuJL0FfHwKHWlltxBqlScRAb3TbKFj9c0Lj0iCUboMUp5S6fGPH59WpkWj7cIpZDEsFVDSfidcHu+8sqXtGEWkNoOzOCsATMutmuBULj6+4kvtBA1be4aZbZVMPqTasJuoNZJi1XNkGypC7ik6osqUhQ2mDQpv+vCalKVC4isPcMcQ6dkFZIVOuppmjg2n623ZHEl/u6OyOJL/AHdHZHEl/u6OyOJL/d0dkcSX+7o7I4kv93R2RxJb7ujsgNuJYSM2o8FlKThrAi4EVjDJLqkJZMw4lRtBTSV3U2xR6TaZ9OSSPlHElfuyOyES+6K1Sq2llaHJZkWSDiCm6+7GKSzTIl0JS23n2ULXQCl5pHi5T7q32QJbdFW9S25nG3ZZkUvxBSKe2EFlKksNNJZbt8YpTpOX+lH01pwWAfxV3eaRda4ytQiwBYTG3VBbHj0C00o69XrggihGjuEuNLLbibwpJoRFgvIc+stsVgKWH5xWgJTcPZAeY/QTpU4vEbRCFz+6EtKTNe+JkjwVf3dEVbkJifOhbvFP++iCnc/c+VkU7E1Pyg5yecAOhvgD8Ikn1qJsvJtE6q3xNMfs3VJ/HIqXmEl6Sc4yNKT5ydsGzunLFOitoH4RzjK/vdkW2N12Wl60KWPlAW8F7quZxQz6L/VfHN8x+72xzfM/u9sc2zX7vbHN0yNps9uRXop+GS6NkSXoq+PhRB7oPvCqPJRrj6vsgKwhwzoTvYjhJcwpAnZRK94OLKAF4oOrLJfaDuW5mWcSh2xYUHE1SoQVTLaJp9ZtLcUnGORM+5HImfcgNql2ygp4HBw2Q4tMs2FBJvswVKNVHEnLcKxxT7I4p9kcU+yEOvTLUolw0bz1eF7NG2EKcTRbC6LTs0w240c4haapXFdGTN7nTS22WBZKm1XLVpijimplOpxvsj9O3CYUfPauMYzW56j6wPjH6Bu5LuHzHbjBKG25ga2l9sd+kn2xrKDTKzLt8d1YQIal2hRttISPAaKxcrHRGvbGfQKNzIt/3tMUF5gZmReIPlKFke0xbnZuWkkfXVWP0jdN2dX5rAu/364/QNxErOhcwa9sWWi1Ko1NI7Y/SJp17Ypd2TioearUsuiqTH/D171mT/ykwu5XoL+RhTT7amnE4pWKGETE05vNk3pFKrPZD0wtx9DzpqbKhSvshUwyvfcsOMQKKT0juarUE9+Vj6o4AW56KY4LFn01RwngnYhMcMrc9JUKQekdEK9FPwyC6NsSOuwr4+FEHuUI840gJTclNwgVpTbojfU0QhpItcL5xYTVqTQcDp2/7wh+SQgBGbogDQdH45ZL7QRtj5ZSGUMloAUKlEHDojise+eyOKz1h7I4jHvnshCnENcDhcEmFhTbN6TWijqiVG5jSX5dXjVONpJJr5eoUh8S97Ns2OiA00KnEk4AazG99znCkDxkyLlOn5JjljvvRyx33o5a970NjdJt2YcarZcQuhUNRh2YWAkrPFTgNkUZUFs1qWnL0/lAtbnm19V274QplsCTYViGzwj68tDcYuBPRk7xMus+gsiOVZ0anUgx/wAQ3IlZquJAofxrHfZKYkVa2zUf79UImtz90VTOaBVmXE3jRWLjXwFMIr6qaoo7MoSfN0wH5uVXOJZVwQLsYpubuVKyn1iKn8KRwp1bY1NcD4ROTs8t15mVQFFKVcJZJoLzDE5ufRlpwlKmpl5IKVDUTSojxkp96b7Y8ZKfekdsceV+8o7YQhx1hLeKi28hagNgBviafkm3pdUtZJS6u2FpJpXC45N7ToRNyssm2nPCqkHQAfll0U0w/vYNNyR4aVuOJSkbL4/Sd1mq+bLNlz8bhHAlJqeP9e6Gx7E9sUlJCSlPrBq2r2qrGfmDn3S6oWl6ro0CONGaaQ4+4BaUE0FBAcS7QHQq4iKLWlQhfop+GURJegr4+FEHuWCcLYi+N+ThzbSbwDh0xZTVuUQbh8zthCUhISIqeCkCDkkvtB3N2ruSPqK+EG+A00KqN9TgBrMKk0CYWknvjzRCc7+UCcUy6pFSEtvrBB23RmnJJmyRihASRDko6iaXZvCgtN49keJnOsT2R4mc6xPZHiZzrE9keInutT2R4ier9qjsjk871qeyOTz/AFqOyJoblB2X3SU3RlU04nXfZNLlUiSTOLS5umLWdINVBPkhRGnGLO5LiW5/PEvC2ErUinBpXRjCi2pC1WE55TXFLlOER6+53Qpcc2kV9cWUCg7sU/CLWAi++KKHrwibFqoTQ/jlpJJLrjgsFqxbCxqI0wludb3upoUQxm82EDYO4YmFMvSxrVtwpIv2QlE3Lb0acNvgsZoOK1nXkn2/KKEq/H88pqadES6Bilm/1k5LgTkT9ur5Zc+iably4LJzuBgWmkPKxLi01Ko5K17ghYFwCU/DLfEj6Kvj4UQe6XOzCwGpeltJ86AkVblUngp17TASgUTF0LaSf0iZGbSK4J0nLJq1OCK0217i0ibU2kgcEIBpdHLldWmOXK6tMcuV1aY5Wr3BCwZglSaqtWRhTCObUdaqFMSzCZRpZquySSv1nRkErWj7KiqyfKSdUG3wQnEnVDrrJtNJAbSrXTJKrkJNubU4oh5Sms4a14uwUh5O+3GqK4jbdtKdgNb45wf+7/6o5wf+7f6o5wmPu3+qJl7cr/iU6lSRZdYvQnzgm+sSqlNIl5txq0+ygUCVVuu0VFLvATbfnNV9h/PwBAupsita01RXEbcj/wBdSUj25Z6XL4k3plsIbmFGgTfeCdFYlJOZQ1u0+zaq6HFBKAcEg+VHMbX3hztjmNr7w52ww4rcZtCUrBJDq1U9RxiYfm91ETzb54Abqsg1ucIOBETbT26Le6LkypKm0tqKrJres1wOj1wABUnQIROTjhE3TgySONQ+efJ6MYS9LKzrasT5p2jRHzipFpagbDY4zlNCYdmHblrOGrZkcbfcKFly0BZroh0jc9LpUvjZxfC9UZsK3iq2TvccL13xys+4I5ar3Ewtx5tc6FJspUEiqdlISN8ljTmgkGzsjl6urTCwTU2U3+rLprEoNST8fCiD3VWzwTxkHBUDOKzJ81eEV30yE+nFJVO+3/OpREKmJleccV+GwZZb04uN2qMbJ2xdkaafdUxLFuo4Vi0rVWFZpsTLIWQh1xyhUPZHJG+t/KOSt9b+UcmR1v5RZW0kIVco28B7Iel3Zx0ONKKT3j845c793/OOXu/d/wDVDs+JpxxMmm3wmacI3J06/hGae3bnHW/NU1d/FHL3fu/+qOXvfd/9UKsbpzCK3GyxSo96OcHvu3+qOcX/ALt/qjnF/wC7f6o5ye+7f6oC0bqzKFjBSZahH70VVupMKJxO9v8AVHOb/wB1/wBUc6P/AHX/AFRzo/8AdP8AVDUq3INL3CLQKpvN4ilS5nNB2QaXjLKrUaIWc2r15duSmSnF6YvuGoxXEbYxySsoOMpRdV0YD5+BVmgEtovcecNENjaYLe5ffJjBU+sX/wDjHk9OMFSiVKN5JjOS7y2V60GkTz5mDnmnGwHKCoBrX5QH1vLU8DULKrxC51lIE+2LUy0nyx+0HzyKzLK3bONhNaQy8pNoNqqRCM06VspfWvP4KNRhHKH/AHo5TMe/HKpn345XM+/HK5n34WK1olN56Ml6r9QiiOCNumJboPhRB8LLenGrJcadEcf2wAsJULrlQpaiAhAqYDa2XGFKFU5wcbK4PqK+Ebn7ojjLRvd700dqaZZOUwdmjvpz0cED4n15HphmXTMzIcCSFIt2E0xpDZee/o99SApyXS0VBJ+XRHOZ+7nthMyvdIoZUqykqlzVXQKxzor7se2OdlfdT2xRG6i1q1CUV2xV3dF5sfWklD5xzwr7qrtjnhX3U9sTb8k4N2JttAKGHGCAm+9VnyqRITDksiTnHkqzjKE2bgeCqzor8ozOdXmsc3a4Ps7iouMMzFe/AWHB9aKx0xTXBMYUJjXWPyg6tuRRUQlKbyrVD0x5B4KPRGHcJYYTaWfUBtMIcUtp9hZoHmF2011ZUzG6qyykiqJVHjXP5RtMHN5jc/cxk0SgrsNhX/sqFMvJsrTl3aGpLSv36fPI3MMLLbrZqlQhW6ckgITX9Il0/qVax9UxLstzaJRbK1KUFkptV8qHF7zS/wD1ilKTb20gLZVvVGdV3scIaNccrUP7gjlivcEcGdVXRVtMKbWnNzCOO38xsyPJCqCifhF6icst0Hwog+FlvTjCNeXOOMIUsgVJ6IUEtJaVoWnEQ07MuIVmuKEClTrOVSdaSIVLTijOBa0uFOCQoavbFlEhLgfZiKOSDPShNk/hC5ySctqoBvdV1wFKJhSFpKFpNClQvEW2nFNL85BoYsNJU66b/wA4MxukmjaeIwFXvHp83bGddN+ASLgkaAMiWEmw2OE4vzRAblWUtjSryldJgpUApJxBhe6EgjNpTe6yMKaxkDjS1NuJwUg0IhTjq1OLVipZqT3XDqZV3gup+fqgLSu2hQtJUk8YRWPnBvu/GkXeyMax25NsHcyXVVw+PWNH1O3uXM8hS5d9pTLljjBJ0iN67llTlpeccdmWk+oBN/tjNy6WVnFR3u3RI1k0uhTLK2J6c0zQYSEN7ECl/SYLNtlvdStUOrZRR/6puuOqDJ7rZxlxlwqStlpIodIKbtUJLSChlttLTYWaqsjXl3aT/wDGCvYtOUPNUN1lSFXpWnSkwmekqmRdNKHFlXmH5ZBm62t8Hi46Ic0muD9Y4sv7TAZmUpQpfi1JPBVs6YStCs2+jiO/LohTbic1MI47fzGyH+hPwy4RLdCvCiD4WW9PJ0ZR0DuKxq1xfd3Cp+XTSaaFV0/WJ7ck1LvLLSZhFnOgVs319kS0oy5vjNFSi7SmOgbMs09gpbwRXYB+cdmRba70LBSYUnUadypEq1nCkVUagAdJMKYmG1NOpxSrKJd8F2Trh5TfRAfl3Uusq0owEXnJdl1aYXLbnKtum5UwME+jt2xXE9wh/dNJceVfmK0CenbFkyDSdqOCYLz82RudooKuk+bT5xvWWbEnIj9UjFe1Z8o5bE06hjdFscCYcNEvDUs69sA78kb/AP5KY5ZI/eExyyS+8JjdNO+ZVVuSWOC8DS8H5RyyS+8CHNzUtOJfQD+klWKgK8XVkWFIz0q8LDzBwWnt1GEOsqz0k9ey7r2HaIT9ur5ZLbiw2nWoxQ0caVpECWmjUnxT3n7DtgF9lLlMKw8kYBKP4cuqJboPhRB8LLenk25QdNO4SNca9tI6O5mmpSTcWxbqheCaG/GP0mfkZX6qn7SvYmsd93SfmdYlpen4qMd63MdmNSpmY+SQI/RpKSlPrIYCle1VYcl52YLi3KFq1r1ZXniqjqhZaTpKsiWGE2lq/DaY3tKystPkeMmZhFq0r6uoRzRuX1B7Y5o3M6g9sOSUwGNyeGHErl2jYXsUMYlWpdanm5ZkM55YoV3m/ov7jOSzpbOkaFdIgNz0uUH9ozf+BgWJ5oE6HOB8YW+260qyq5YUKdFYStycZbJ8gqqR7IKZZt2aVt4KYsLWGmP2TVwPTr7mQQ5ekvJuyVicChhRQ6a+Acfm3syX2FtZkJqQFCl8Z8OCZla0zgFCnpEZku8EpsE0Fop1Vxplck5tJckH+OBihWhadsZpSkuJzylIcTgtNBQ5GH82XkIBBQMRXyomW1ILCnFZxDStWuC24m0kwW8ymbs8V0uWSRth6oobKLv7uWt8S3QfCiD4WW9OLz3NQI4sYRTCMLjAFe5s2jTNJNK9PcHMMuPUxsJrSKiRma7GzFmb3KfmgP1oQUr/ADj9H3Bm7VP1oNPhGfmpSZUfJSGjZSNkBO8Xk18paCEjaTCpCQXaCrpiZH63YPq/Hwh2zfgEOoNFoIUDthK0KpMU74zpSeyLsRG8JdYcFbTi0mo6Bkz5k3czZt27N1nX3MhnaZvPJxg3RPBfi8yrH/eumQpaHFFVKJoEjaYCXU0qKgg1BGsHIkKN2eUAdWEUOOQAmwtN6XBikwZeYATMp1YLGsZH+hPw7iW6D3K1KYcSlFLVU8WuvwAg+FlvTjRTuFJ2D4QMtfwj5a4pWsHQRdjkxin4xNrSaoQc2PVlPCDTKBaceVxUCESshbalknggcZxXnHbHJ5v8Y5PN/jFMxN/jHJ5z8YIMtN0wIvjm+Y9yOb5j3I5vmPcjm6Y9yObpj3IbbMk63aVS2tNw2mJpUhOOPuyotOJcbshaa0tJ/Pum9s129y8l9pDycwTRxNdIhaGW0NIzaeCgUGUKSSlQ0iLDsy64nUpZOUSglXM4lmwCaFNafCOTSX3VEZ1mQky3WgOYbFo7K4wQqVkwf7Mm6OTyf3dMcnlPu6YsTkuH1eehVkxZSwy2x+zWm3X2x4iU+7ph6WmgiXbcoQ5LtAUI1jSIl5dgqW2wD3xQpaJOqM6pohFK43gdEJ+3V8osnHQYpkAWDVJqlSTQg9MeOmeuVDw1JRj6PcS3Qe4SpzyElSemN0CMFuort73DoRxQo07sQfCy3pxf3BPFRdf6oCiFLJNlKU4qMLaW0th5N5QvVryERXJdwTqg0NoRT8IUpKv0lyoZR/7RU45DeG2kC046rBAhEnKJUiUSbk+U4rzlbYuordRQx/7b/V8I8Yr2x4xXtjxivbDMu0s5xxVlNVQ8jc2cmJmZZFShabOcGtN/xjkz9MMY5LMe2OSzHtjksx7Y5LMe2G3m5aYC0G0k1h9pjcJMmX/HraF6tNBU3DYI5vdjm92EbnOzbid1VgcEIq0lRFyCcawQcRklds1/N3AVm0ZzeYvs34Q99gfiIUT+zRG/FITmLAXW3o7ghhvgJ47qrkI6TAd4MxKnizLBtIPryyW+Jlco5KJsWUt2rYtVqnUb4edEhJ0WqvDaqr2xyGR6iOQyXUxyGS6mOQyXUxyGS6mORSfUwDvOT6qJidQ+4tx1KqMKTpUNJ1Qn7dXyyAq/+4uEVHTG0Yw/0J+GWsS3Qe4CkkpUMCIcTnKZw1UQLzdTwAg+FlvTjbFKUyjoENy8t45lQcU75LfaTqhtanUZ985kLSngtpx9sPSzrmesJCg5Shv0HIbq0FYSqXfGcN5bVwVj/eyBwSPVFVCyNeEFDVmcmNSTVI6VdkKfmF21n2DYMhvDbSBacdVggQiUlElEok3J8pxXnK2xoVumRj/2/wDq+EIaMrbUmXz615q0Va79JhlsyiKOXBWaTeqzap7Ibc3iLKsasgFItWcOnRDqN5J4CFOJKWgq2EmhpSJWbkE73zzSJgAClkw8hqVYlVP+OW0DVfYOiMYxjGMYxjExiY4xjEwhwyzCp5CM2mcINsD4V2xmpZsvOYnZtJjNTLRaXSvSNYOmNzh50wf/AHyFuZaS83mlGysVixKtJZbzSTZQKa4pX/lBC7JIObOEVJrwE4x//Mj5ZEtMNqdcVglAqYruivfU0P8AkpdVw9NfyEJaNlmWTxJdkWUD1QVS7lkKuUg3pX0iO9lO5U4fIV4hfQfJ+EZqZaU0rRXA9B09zPzbzWdUyE2eDapjgIl073oHrPCsDglQqBCVGXITWirTYBTwrOHTogjMEUezFSzS/X0ROfo4beYSl1BIFaHA3fDIn7dfyyUya4FBjcYf6E/DuJX0T4UQfCy3pxtjXltJnHWUkDgJCbruiDfm2kXqUrTtMZ6aQUy/6uXP8StsFLSLNcduRY1IVU+rJRE08kagsw03MvKdRMVYVnFV4wpC21cZBKTGbZbU6vUkQW3UKbWMUqF8SMs3wGVMh5QHlLOkwKcLdFaa10MA/wDt8IqbzEu+25VJlszd6oQ7nFEJsmzTSBSEHOqTQKSeDiFKr6jthxwOKoq3ZRTiWsb9OyJaXaczm9pZLKjtFcgaboLrSlq4qE6SYDEjJMTDacX5pFVOHXsGyOa9zup/OOa9zuo/OEtt7j7nuLNwSmXJJ/GJZ/8Aozc95Liaufoh70dWMc1bmdR+cc1bmdR+cc07mdR+cc07mdR+cTMlMtMbmIeAo/Ks6QcFDSIkpKXdMymWCqvlNKlRwA1Dtjccf1yv/bISgkHNqwgWiSc2nGM1RVreoGEOH+rMV+oIKC6sozIFmt0O59xTbDDSnnCgVUQNAhUtuc0JCWNyrJq456Svl3O9n0JnZL/t3sB6J8n1RKzkmXAxM2hmncUFNK36cYTM7ou7wljem0O+Oein5wqZ3PdE/Ki82PGN+kn55J6XUsJdcslIOnGGnA8TYS2FCnGsYdGivRBczyhatWrtBVa9WqsOEruW8l4jo0RNJU/bW4gNNhVxpar6+nIn7dXyiuUaoF2F/RD/AEJ+HcS3onwog+FlvTi6ncd53uW6ClutYS5OKbUlu9DTfFrrOS4RU8bRC/QV8MoULiLxG+UiiJttMyn+8L/xrD8gHMy8+pNhRwV9UxLMJcz6pduwp7XfgNgiQ/siPnDLbwCm1JbtA/ZiJfezSW1KUbVDHBUR0GPGK9seMV7Y8Yv25A03QeUparkoTpJgyEgTvStXHSKKfOs7NQ7hO6u8mkOtN5vvYoTQ0xhMpOstlp82RYHF7RDMozKtMIYRUKQKVrDCnWG5h9wBSlOC1joEMzUonNNukpU2MAdkb7TKrLFLVrZrpjTLuIPrq+eSqFFB1pMVWorOtRixnV2cLNq6KoUUnYYUGUKfUkVJrgOkwqXmM40tNxbXG6v9gd+XdFwWWZZPGmHjZQPXG47kisTIQp8Jddb8rg3gfCFOvuKdcVipRqYS6w4ppxOCkmkUn0b0mj/zbCblemj5iEuKo4wriTDRtIV644x9scY+2OMfbDbdq9agmpj+it5EDOZjfNo5y1WlqmHqgoJqUzK01HqyUBoIpfFEg3a4uvJxMP8AQn4ZOzJK+ifj4UQfCyvpxtg5bCkvEgDitKIwjiTHUK7IsoS6FfXbKR+MYwpw+TfcKmFAJcqUqxbOqBRTF/8AXp7YfkWw8JhoK7+o3KKcbtAySL/lSzipdXQeEn/2iS+1T8Yc9IxIf2RHzhX2bf8AAId9FH8AiUU80+448i2ShwAYkao5LNdcP5Y5LNdcP5Y5LNdcP5Y5LNdcP5YUnctJbZRwppomrp1KJ0p+HctbmLaWzLqbo4XL02tP/wBxv9TiypVcyFG17sMzEuytt6zR0r06oaYnWlrLQolxvSNsN0RmpZriJOPSYY3XVOKbW0hP6ElBtVApZBwsmK/0Tud1R7Y5o3N6pX80bju7wlF5yveloNlPRfHNO53VH+aOadzuqV/NHNO53VH+aOadzuqV/NHNO53VK/mh2TdDG5ZthxK2mzYXsViYlmmFl5EsyGc8oUt3n8L43U/sDvy7gNSzSnV6hojv5G6c5+ybPeUdJ8r1QnPucBPEaTchHQI3I9N/4p7g5lfAVx2l3oX0iO8KG503+ycPel9CtHrgtTDSmnBoVBfJTLyieNMO3J/OLO5rdt3/ALx8cL+6nyYt5ljfdKb7sd8/+9sD7dfyjxvroY8b+6Y8d+6Y8d+6Y8d+6YeUMClHwyUrA1RK+ifCiDwouNfCSvpxhFNGUdGQpOBjztsAHCF+gr4ZFNqUnhJsqcCBbUNROTdWS0qZz6PSRf8AC1El9qn4w56RiQ/siPnCvs2/4BDvoo/gEbmfYH+M9yh9hZbcRgRC52STYUm+YlR5H1k/V+HcspfdLqWU2UA6BkZUtht59xAUtbia46IZm5ZAaQ6ShTYwrrEMS7coyrcEtJUt8tihFnhKK/OrWOWzf3cfzRy2c+7j+aNxEuzEwlmybCktAlXTfdHLJz7un+aOWzf3cfzRy2br/Zx/NEi1JyjUxuM4hOdeW2OF55WrySIcDRq3aNk7Mu6n9hd+XcObmS1JeSbCeA3db4IPCOnLuR6b/wAU901ITATMylFKDbwrZokm7VhAU+5UJ4qBclPQMqGHqIZDiitINSrDgnVCW1KsmlyQNEYudWqMXeqV2R+t6lXZH67qVdkPEYFKD+7l+USvon4+FEGCcNEVFhm7ilV5iihQ6vBML1LGXbkHRksOuhKqVpStBtgEGoOkZHPQV8O4lHVeLt2V+ibj+BhuWOLUzY/ehz0jEh/ZEfOFfZt/wCHfRR/AI3M+wP8AGcmebYKm9Gs9A09wl5ldhxOBjPKz8mtXGaZbCkA7L8I5VN9Sn+aOVTfUp/mh0my/w6W5qiVD1VibDICWg4bIThTI3LzbC3c2LKXGzeRthvveZl2uI38zFi0bHm1uyJeShCW1cXOOJRa6KmNwmEZq222bVp5IGA23x/y/3lvtj/l/vCO2Al9bTbQBUtSHUrNkCpoAb4mH5HfDAYUnONuuWgsHA9OUMyzSnnDoTDzcxMqfffaUy5va9LQO3yj0RvhhaZyT/bs6PSHk5ZnoR/AMhWkBqXTxn3TZQn1xKSUstT6Ze2S8pNkKKqYDVd3G+Mwc1S1tprpjSA0yguLOgRLpeRYqhwg1qDwFaclBfFTRW6JwH7D/AFfCEIT3yYW8s3+q8wSVW3VXrcOnuX+hPw7hpHmo8KIOQ2Twca6QemAh7gr0Wf8Af4Rfwm9Cxh4Jp0X2k39OQwYQrWkHJMraYTMpfob10smlKHZDaDMvVAwQuifVHKZj1rh9zPO8BpSr1bI5FJ9VHIZLqo5DJdTASnc+TKjcAGYYnpfc2Xzq2kLWXUhK0uacTsixN7lSrKzfw2cYTbk5NVkWRVrAaotOScmtWstRack5NatZahIVJyaggUSC1gI5DJdTErOuPql3GAkGXbR5uFjVDjlLNtRVQaI/R5R54a0oNIrvSx6S0iLC2UhXpiO+Sbo6BWKEUOo9zJJTJNzc1MIzi3HfhEhutJs72TNDhsjCuQT8+mrR8TL6Xj/LCnnjVR0DBI1DZH/46j+or+CcqHmVlt1BqlQ0RmylplutooYbCAo6zSAlIKlG4AaYDm6zpZOIlGr3T0+bBlpZtMjJ/sWvK9JXlZM5LulpezT0x3wJ3Nmz+sQO8r6R5PqgB9ugVxVi9Kugw+1LtKdcIRcPQEd/UN0Zr9i2e9J6VaegQnOr72jiNIFEI6B3J3Tz6s4U8lseVSlK4WYmGnlFtD7djOJFbN9fZErJMlM1TOuF1aKU4GCfZHIZLqoCm5aVacGC0NXiFzMysolUHhuaVHUNZh1aWktWXygJToTS7JM78QtTxPeaA4aLNIbtOS9qyK2kmseMlfdVHjJX3FdsTGyyD7I1GOmKQ8scWtB0eFEHJfhAsqIIvujNKAv8jGojPSks4U/szj6oIIoRoPgFSij9ZHzHcSS3LXCRZ4CCcLtEfreqV2R+t6pXZH6zqldkeX1aonW2Sc6tuwLQsi/aY/Vdcntj9V1yO2MGuvR2wZ2YSkzK7m7wbKdmRcs+mqVYK0pOsQtshqqDZ8cjtjBrr0dsfquvR2wtwoSpKBVVhxKiB6siXXf0SWPlrHCV0CAUy4ecH6x7hHLMhVHCTwaKwiwCM4SOHbwjMzEu06qpq6vH2wpe57l6RUsvK+BhTbqFNuJxSoZM9mV5nDOWeD7YalN1JETqWfFrreIbAbDEsyKNsp0QmfnxVn9TL6Xz8k7YUuwt93zGk1sjUBqggihGgx/+Pj/4vyT3EqJ1t+ZmJhsOnNLCQ2k4dJje25jYaKkJVv1V7qwRW7zfVBUolSjeSe5LVz0srjS7oqg9nqieYQ4ptp2wVoGngi7uUNNi0tZsgQ5vaaRNuteMbQk/hrjk7vuGPEO+4YZKmXEiy5eU/UMeId9wwp6btS8q3xlEXn6qdsIQ23ZaTc0wi+z+cboyrgKFiy5ZOOo/LuREw757hMDUY2wsg99XwU+GEHKEoFpargnXAU53yZxroT0QhGk4Xm+FuXMTf7ZAuPpCMzNN2D5KvJV0Hu0rQbKkmoMBYucHHTqyX3RMtqCjmznAEitxjxcx1Co8XMdQqPFzHUqjxb3VGJeUZKUVXnFh42Dsx9ceNluvTHjZX7wntjx0r94T2xLNVQpTQKDm1BWnZAvrXbhFLQ6RE5MNuythx1Sk/pCcI8dK/eE9sUSuXWo4JS+kkwhTNpEwlVAAL66qQibnJUImHACGMW21f70Zbbi0tp85RoIoqfar9XhfCH1tTbS0u6SkikFDL7T6CRwk4iM0VJSgE0XZxjhEIsi67GCJkBLguQpCeEIzTw2pWMFCGptE823uclsJMrbvApQosaaxzWr7yeyAf6KJI1zBp8ILzyqqwAGCRqGyHJeXmkyk1nrSrS83nEU87YdEJDsv/SD6UBLsyl4pDiteH46Y3ID0kXhvbgjPFNnCCzLM7xnP1YU7aS79W/A6oUhaShaTQpOIyNNzsimdUymy0suFBA1GmIhcw7S0rQkUAGgDKQtGeUltS0NH9YoC4QH51KNzHM5ZQpDNM4PR2a450/y5jnP/AC5h9Tk/ml8Hg5knyRHOf+XMFErPB+Y8lpTZRa2A64IIoRoORt5s0WhVoQ6qTlt6vu8ZwOVs+jqjlkx1pjlkx1phuXdnZkIUFG506Ek/KOWP9YYGeecdphbVWJpsOiXfcRRDijTpFdFYkmnJgLmFAsqmAq0EJOA2wRvodVHLR1Qjlw6kRy4dSIffdm84AmylObCeEcIpkU4s2UJvJMFzBAuQnUPDCCcFa4orIqcUKqrZb2azGMX4xsTiqCzNIS6ycbWiFTErWYk8fro6e3uw60aKH4xwOA7pbPyyNv0rTEaxpgKQaoUKgwVKNEgVMNrdYUyw4aJcUr2V1QpZdTYSCpVDW6HptUu6LZ4KbJ4KdAjk7vuGOTPe4Y5M97hglEq640vjtFBv/OKqlp1o+ZmCYXLyMlMMNrFlTikm0RqGqOTO+4Y5M91ZjUREvutPsDfak0C9NNCyNe2KG9Jgh5XAArnTq2wpnctIP/yHB/CO2M5MvrfV9c5ag0OyENvHfcuDxF8b1Ki024TYT4vykdMVXbz91mFSz4UXlKrWnFOuHJd4UWg07rcgf/FGQNOKCd0kijbh/X/VV9bUYKVNLSoGhBTBmSGw0EZzj307iouMWnXFuq1rVXK/UEVCMfRGSouMUNE7pgXHRMf6vjBBFCNByZx5koRgTq6dWVq7BDlfcMMtqVYStYSVaonJcyqZJMuCQ9fVNPO11jnFj3Vdkc4s+xXZCVJQZp1oBDy2sK+uOQPe1PbHNz/vJ7Y5tf8AeT2w3LJ4rV6x9fV6smcdWEI1nT0RZHAYGCde0+HEGKEViovTErZ8yuQDGmiNezRCBVzRCNZ1Q5ujJIsOJ4TracFDWO7BSaEaRATMpzw84XKi54IOpd0ZpxQcYOBSalMKsEOtqFODCP6QnkiUb4qHQKnp86A1It72lkGtpIotZ1xyl73zHKnusMcrf6wxyt/rDHK3+sMNLf3WXLKe8UlS1Gu06hC2nJp8LQbJGdMZgzTjE20mqXrZCVJGhfbCX2t03Jlm1ZttuK4J21ht+ZTYWwQZig4Luo7DryXeJP7sWZVSmJZhXBHnnWrsgPCYEgtXHZKCoA/VpojnRHUrjnRHUrjnRHUrjnRHUrjnRHUrhLzG66EOJ/qlwpTSw64CASKiyfXojNjx1rj2oS/aEu5LJ745S1aTHOiOpXHOrfUr7I50R1K4UrcpaJ2bt8NSW+ElGwKhNEoQ7m055DfFDmmNzBqlRloJ5/34VKql0KK282XKm0dsB3dN0yyTeJdN7yvV5PrjMp3PY3jpZVxjtt41i3uY4XFYmVducHR50FKgUqGIOQu8FmWTxn3TRA7YpuejPv8A/dvpw9BOj1xmp5O/2NTh4afRVogu7mOmZSLywq55Pq8r1RQ3GKi4xV2WlX3NLjjXCV0w25vGU4KgeC3QxOKZmVzK5lNkIUilm+tVbYoLzAc3TdMsMRLoveV6vJ9cGXlGxJSpxQ3xl+krTkpMOKcabpabzloo6RlEwzwhgts4LGqAZd0Jc0sOGix2xfcNsFqWUFOm4uVuRFXH0J00rUxSWbqfPX2RbeWVq2/QBByhh0d60KHkwFpIUg4KGTZCBwddY03jQcYoQKYERNMC4NuqSPb4G66KhxQPTFVEk7e7ZTNSu+FMXIIXZqNSoVuiwouMuK4YPGaVqPyMFRRnG1JKFowqkxvaUbWhoqtrU6qqlHRCFKHDme+K6NH+9sUPidB82EbnMqotzhukatAgKnHFS80m4vIRazo2jXtjnFf3b845xX92/OOcV/d/zjnFf3b845xX93/OGVbnMJ3RtrIccWzaI1Js6IebZuQDxQa2TpHthDn6pXBcGtMBBWgN1qHjpEBFgLFCk7YdZ81UZtBSm60pSjckazCXmXUzTKjZttg3HUQYuSoRxT7IkQATSVHxMcRXsjiK9kFBVmEIQXFrWDckYxZ3MYUF6Zt5PfP7o8n4wlNFuPOKxVpMLdamWppLZo5m68H24jbFRcdcBvdNozGgTKLnk/zeuGnj/wASW8LbIIstgfW0k7IBfcqE8VAuSnoGUKQopUMCMRFjdNsleibZFHP7w8qM+0pM3Kft2sB0jRl3w8tMpKftndPojyoUvc1haEA2FT7qaqrqGhPxgTYbU8hfCt4k5GngLRbUFUOyJp1hbrjkwkpza00sVxqdPchJdWUjRai8k5ahJI6I4ivZHFPs8MIPcVQao0oOBjvVzgxbOIydN0J4N2gwVLUAhIJJ1CJh/wDaOKX7T9DtoopJFlbauKsajDTyJtMq1MCrTTwJI6Tq2xvVYsu27BG2ENp4qAEiKHCH3GBYnEk2Wq+NQMKbaaMjTVqznFBNToialWWFSrjAJD7jmNPP1Ry6S66OXSXXRy6S66G1rrNqfqKsPlKABoqMTDjKSSkUItY3it+RqpJKOBkbcHlo+EKKkZ1taShaMKpMZnc7OyySq0tal8NX5Ryx73oA36970MtszDjQzCahJ2mFLbemnEp4xTU0jlj3vRM256YGaYW6LK9Ijlj3vQlSplbqRihZuVsMONsyT8rvnjKfOjGibosstLdVqQmsEEUI0GNyfsD/ABnuM9mXMz+0s8H25M5LultWzT0wEWBITyzQFHiXD0eTCkBAn51NxUsd6Qdg8r1w01MvKWOMtWpI1aof3OYbS2AjvKQMFDCJTQQD8TG+ECjo4/1vBOzL6Q4ls2UpOFY1U0CLjF5MIeSLOdTwqa8t+I8EIPchSFFKhgRGanaIVhndB6YtJ4SSOMg4wVuKsoTfU8ECFSUmatq8Y752wfRWUTcsX1MXIKV2ajGiolXHaFTj4UfbknHMLLKz+EBSSUqF4IgrQAndICqkDB/aPrfHJmnXipBpW69XSdPcFLLllJNqhAN+u+FLWoqUo1JOnJNoW8prN2TwRjFVKdc6VRIlhuxwlA31rAaaTaWYQpVhba+K40q0k+vIjpgfYp+cSJYn0SQlxw0KVZNa8YedDqk7mIUkqJBLihX1RO2Nz0N0lXCe+KvFMI5rb65fbDSjuehoBXjAtSrO2hicQ/PInVPkFtKF2r68fZCpZuZRKPZ22q2qyHBTXs+cC3LCecSgJXMZwptnXEln9zUlvN95o+ri1PzjmsdeqOax16o5rHXqhU7v1Bki3Z3ra4VKUzdn55ZL7ZHxib+2X8YfF1pTN3tEaIUqToKqKs0bhruh9L7amlWMFjwTsutQQHL0qOgx2Rh+EYGGmQalpPC6TlNcT4IQe7724tv0VUjvjinPSNfo8gf65OSdR5zK/hDrjjoYYapaXSuOAAhl1p7OtL4TbqbsPgY5R+4nsjx/7ieyPH/uJ7I8f+4nsjx/7ieyPH/uJ7I8f+4nsjx/7ieyJxb7lulkDgga4vMSWYXYUpaq3AwtqcWXJd1JQqwkAjaIRJShceq5nFLUmlTgABCX91K1N4lkmlPSMBLEq00B5qBFHmW3h9dIMKckP0R/zPIV2Qth9BbdQaFJifAFSZN24dGRKRio0guGw7Q0stVJ+Ecle6sxyZ73DG5QEu6SGDWiD5xjkz3VmOSvdWY5K91Zjkr3VmEt5hxFfKWkgDphx6WmhMpaNHBYskbdoiS+3R8Ym/tl/GGplk0cbNYBQ6lp7Sy4aEdsWnnm2k+ctQECTlOSINSs+WezwdAoj1xx1e2OOr25MPCCD9Pad8xYVAUMDeIIOBuMTkk+znmbVlSCaYYEGEMSyN7vsVzbFqocGm/zoobj3SlMMLdSnEiKG4wFkUU8sr9WAySrFfFt19p/LIvdN5NQg2WQdek9xdBmkJpMywrXzkQHGlqbcTgpJoYpugjMP/8AdsJx9NOn1QiYFl+XrVD7XCQeyC3wGamtpqoPxhSm5l1LSeO846UoT0mKSr7s9Mj/AJh5RsJ9FPzMKWqbetHHhmDKzcy8GlGqXwo2mj8xsgtOzT1cQoOkhQ1iOVv9YYz+cfsWbfjeFZ10rWkJXvhxdPJWolJ6YcZlZUSwdIzht2idmwRJfbI+MTf2y/j9PEH/AKAwa1W13pXq/LIjdBscFfAc2HQYBBoRpEWnpKVedPGcUk1V00Mc2ynsV2xzbKexXbHNsp7FdsSpTudKnOshw1CsanbshkJ3OlTbZQ5eFYkdMSwL6NzixWraUqs48ZO2FJYSQHV1rqTpUYQ22KIQLIGzJMPg1QVUT0DDJIIAxbCz67+4HspBaUKpXVJ6DC0eaSMhLK6BXGQb0q6RG+FSSw//ANuhfeSdev1QkOKCWk8RlAsoR0DuEslDT7aeKHmwuz0RyST+7iDunnVl8jk1nyqU43m5X90ENpdmUOpbTbFQ1ptUiX3QW2lmYccUhVgUDlPKp9HQyyguOLNEpGmLc7M2XP2TWj1xRCngddRGcSc61r0juRB8NmrYbSBaKjBl3pBtp9HHTjUecDqhOYJzKxUA+SdX0De7hozMcHoVoyOMPJtNOCihGbXwmVeLd84duRQcqUIQpwoTiqgwEb7ZY3qUu5sptFSVXVurkl5hk2t7NBp5GlN54XRfCZOcVZSPEzH7PYfqxvUtkvk0CU32tVIKnKGcd8YR5P1YqOCqFNYPv8BPRpOWQXWtG7B6RdF19cldUUAr84tqICG+Gb9UKzlqxw3VBOJpfQQt5hCJBTSgk513gKrtOmOXSXXRy6S66OXSXXRy6S6+OXSXXRy6S66OXSXXRy6S66DuZmVh4DlVryqVrTzcpWw5YJFCMQRtEBcw5bIFBoAGwfR/6QWmr7/Er5Kfzil2rCLNnOOL4qBphT00A9OvJKQjQkGLKeIoWh3Ag+G4ZspWLNdUIQoltSPFvJxQfmIQ0QLbdbdk1TXZ9BDLqv0xoX18sa8imJhsONq0QpyVrNy+zjp6RAWhRbcSbiMRCc+6V2cBgBkS60qyoew7DCX9zGrCFGjiFmgaPTpENBa98zCBQOqHEGpOzI5MPqsNNipMOTLlycEI81OrKrc90ijhtNFWFrV64NVbMIxI9cDojVBk0EZ+YF4HkI/OEuNqKFpNQoaISHnLSU3hIASPw7rNt0F1SpRoEjWYS8h1uYYUbOcb0HVfkzGeObs2ML7OquNPpe532CPhCQmjj6uClGMb5me+zzmCfNhS1qtE4xL66HuBB8PZDirOqv0JDzKy24g1ChAQqjU4MW/O2py/pMqhxXnYK9scBb7XQoGOFMTChquEWkyodVreNqAAAEjADIXph1LLQutKjNb0eblWzwEJTUK+tXTHJH+rMOOTNqTYbFVOOIPsA0mGnG3Q+w7xV0p0gjIlndIFVMJhA4X94aYqxOMLr9eh9hirkywhOsuCCiRG+Hf2pFED1aYU66srcUalR05EzMygLmFCrMur+NXZFrfTlNccrcjlbkcrcihmnQdsFE04qZl1iytsml0CVlEOBq3nFKdPCUdH01UvZzs3LXNt6Vgm6FT0336fc9iNkKWs1V5xilBWCUXtp4I7gQf+hBSSUqF4IgNbopLqf26ON6xpi3KvoeH1TePV3JUohKRio3CFIlTv1/6vEHr7ITONKW+U3LlRfmugaoCUtzqUjAAKjiT370LRMyU1NsLFFNuBXtB0GGm29zXmGGuI2EKPSSY5FMdWYXLJmrU8kVLdjgk6U2tcNst3rWqyIdTJTCpp9rjN5uloa0645FMdWY5FMdWYExNotTRvall6PrL7IW66orcUalRgO59v+hM3TNWxSzTi2fOrHJ5rrR2Ryea60dkd4Q4xMWTmnJhYKEr0aIQ3POh2bzlUcO2pKKX1Pgu8yjzvooMclzY/rFAR32bYb9Gqoq9NvOeiAmKFDpP2kd6U+yfSrClyq0ziB5I4K4KHElC04pUKEeGQ+wstuoNUqGiAjdCXUHKUzrOHTZhVjOr1URSChCcy1qree5EH/ogUhRQoaUmkU3znhqdFqOHKsK6KiLpNn3jBDeZYH1EdsVmZlx7YpV2SqVFJ1gx45z3jHjnPeMeOc94x45z3jHjnPeMKdEs2mdUmyZkV6K0wrthDrZsrQbQMOCXlUSq3fGLQTfsGqPHOe8Y8c570VUSo6z4KiGVq9UWgwltHnLWIGdm2kaeACqKuzLzuwUTApJhz7RRVAzMqy3tQgQL74rowg/GKVi7RqimGThAIfpwH0i/164XLvpsuI9h2/RRB/wCtnhJFLrzFVvpF1boLZWt1YuphFzYUK3k1NIUEoQkJTW4U9muM4XAUaaX3xbZWEKxUk6RAeZNKXKBF6TAwpqikUFxJrFLq43QofhjG3VSACRrui+67DXGu66kKvJgV42uM43wphipTTSNI+iiD/wBXoL9sYjVhF5rGvpi0eErXGsi6p0QRWKFSsRpi5RvilYBCj0Qlxajvd3gup2a/VF2EbdUJGS+/Z3O3Zk4oiZaSKItVT0G/6IIP/VanCNSfCslRq413pXqw/Du7u5bV5zQ+f0QQbowjCMIwjCMIwjCMIwjCMIwjCMIwjCMIwjCMIwjCMIwjCMIwjCMIwjCMIwjCMIwjCMIwjCMIwjCMIwjCMIwjCMIwixS4RhGEYRhGEYRhGEYRhGEYRhE5LHBSQ4PVd8/CIT5jQjCMIwjCMIwjCMIwjCMIwjCMIwjCMIwjCBH/xAArEAEAAQMDAwMEAwEBAQAAAAABEQAhMUFRYXGBkRCh8CCxwdEw4fFAUGD/2gAIAQEAAT8hzpzXM81zPNczzXM81zPNczzXM81zPNczzXM81zPNczzXM81zPNczzXM81c/e7qv0/epqampqWppfJz6OicK+9X2TPPWpjWhpYVtMUKhd91O3tIM6f7U0ku3CydaEq4cUd9lv6j2JfFcyuZ5rmea5nmuZ5rmea5nmuZ5rmea5nmuZ5rmea5nmuZ5rmea5nmuZ5rmea5nmuR5rmea5nmuZ5rmea5nmuZ5rmea5nmuZ5rmea5nmuZ5rmea5nmuZ5rmea5nmuZ5rmea5nmuZ5rmea5nmuR5rmea5nmuZ5rmVzPNczzXM81zPNcyuZ5rmVzPNczzXM81zPNczzXM81zPNczzXM81nTNe+/wCHJ+xu+FQMw3x9XzOvpnak/epNJoZGKntxUbe2bOlAgSCC1t6FsmdjyYq9J3uogLNtWoS0mFt+59g/+B99Xvv+Ic+TAX8vmtNs5qKEMevxOvpDUusrrUp0yXLtVxu1O6jsUS6G7xFBECTbzShEQ6UOEKmqnKf6HXY62/8AgffV77/jAAgJ3t4dnSkkGb7rtSiSgxYotbzmIuUDgZMlfI6+l7WJde1aYf3KsjMkifk1BBlLfWgRxY++9G1MIOpfv46a7U/0VOVbr/8ABe+r33/JNodjbHL8faoQ3s9VrH2o0S3l0T1oiTJcaClDECOrT0yKCjZetRjcck4rawlhrFGSRg5rOJ6IdDd4qWZ3Fh9nnPSlVluv8Do8kZHtXyf8V8n/ABQtvh9KRIkJkfpWAngN10rXYyy98tCfkE5EVFHMoyHgfah1i7jPd11s0XsFSESxcndi9/QZf6evuasOaLYWs1Fn3/8AAJkgNWn7ra9f4ffV77/lvrBgijixhzv2h9qbEbyPv/ZQuVRAxtJiggYxZw96dNk4t2KVoCkkEOrisgCTScaPLQY8xM9QfytRBDC7DYMHb+JeBVbJu3HEUtmN2eYpb5rK1N56RufRevXtuwWbr39kZ4oxAV0IeHQrgE70cWWMu1ZzeaMeMWK4WNRgn9UZNoSwK1h0Iu1ExbUTUbYMSfRSIGQ1Jv6IAZcU9HE1hEchaLu3/WZKSwgjpb70pSIJTBt9YdqGFIO+vashPA91KW2hexxXvv8Ao5kQoqPMzB/zSNIsjC+9TxDdP5UlIwxL9AxzdElJX6HJOYd2L1HaQkjGl6tTZqn/AOB4XdDVgy63Ve/E2zZzUfN/ejc/EXlQzivIDVXbOO/NfLWV7H6SILkJh9ODr2F6llyEaHpRacxr6YsdwPauO3ofb/okgSwYPrHU/ihzRdt6t8icBtAaUQHwvTsu0XeK99/4+mX0XMWnpKDvROmf5jAHILzm180YWZBYytdwL2JoJpctEwEG4AQ0n0xbiURAGFmZztV9HDIAyayU7UMGzpRAgyi85Zpv5hD1EtYbdqYmEntg+1JKRggV+U/CrR6i691GXHlnerchcBZAHqnpm4VoSshFIFtev9HX+jq7xpRDakYMkJh/sdewvQELAeC4LQUCVhMqdKSFzVcIauW3FSWgtAgcA0zTd4A3t/lSgY4CgjsD35qMzDsX/iM5z2kNwqGsuNIedv8AiJIHUX7SsKFwJWvmlnkWadal0wxi62xXvv4omm0TRlIf9jFF5Wet1k9bURNLSfIUkqZlB5a/vrGTy8Bdq4+FG0Wy6q5aSlWVytBArVS9l63fNZqfF2ANnI5itFy5gxLZ71lGjwiyuBi81ISDJwwpMKQLe3hVx8IK+SATxWxcgAb0lOqozsH23S3rMmBIzRUCAwB4LgtA9Bl1tsfmx2aBABYenSmuw2yxQQQWRY15q4Lows0BSuh3sT2B5D+HqOT0rCVpa6daj8uCNbdc/wDFfSO9EVcARK7pR5fmoVgkkp7V77+Igkk/PV0zlDzXvv3/AOWTNMbEf2JVj9AEg3YLY/c0gU4BjEHlJpFYsD5olP8AR7a0zprSyIhiA1gP1pTMhATWGK+W39H99YyWW+DLX26CSm66uV9X04bKRsm1TUsEjZOgBLawtmLUqYqzwrFOSKP3+aBmC5m/Sa33GPzBnv6PZGShWiUcOy2h8Dxa5r47+a+M/mviP5r4j+avAuEzhlFKojNn96iBeFuJZy9amgaGyomGlN0iizOldBXWsItwTvo9qDHl9mk9wNcItGwncihZByFg7AjaTPb68Wmg+5uUc9koZ6j/AMQAJZavwGPG9dYi7rUEsKqDS7XwBivffxHAc4ATWQl+IIbzSFDIuE6/8YCAis4LE4ltQIbFALbcqWJZc6yqm2VJV3KH6CaLqaQAwPWogDBZ97fpUCCGVBkS7zed6EkogSuoPtYqIzMEqpkNAyBMB1ia/vjGSy8BdrcEJdk3XVytQw5mjuUJ7/wyZMmTJkyZLNmuYWZGfxWRCEFw57+sVFRUULoRoL+lDoGvCbk4h70gY2cNCDNysW3WKuVAbEGAmp+wdCuH7VNuXfdpKjpEhGnnjRpIwzA0al3Dpo5Bo6n/AEsqZZ0TUTUabPiFQnLbs+9D1LBGN3sq0Z4iltplXvv4vdqW85/ZWDp/xABS0RO45JqZ9zhvBYtKjQDQ3BaGCZlZoCjRtn0PSD8R5WCmn71PTJpyEnpGpcsqqcebJDq/wwV/fWMlvYF2t5S12RutXK06jKuhf9L0ZpVKsrr9YTWV89R5VIXXMoogLmBqrSEQFzcHsdL6V8R/FfEfxXxH8V8R/FCKE5n/ADocGX54oIGUQ0TOXAOmlSVOCsaC40e21ABERuJ6O4Jphkjz0oCzBInY63LxFRlEVsESkxKF7pqOvmIR6ENeo+H0dGmeZZvA0dT/AKpK8kXiohSN1S177+JDMqowDLaiwH/Ey7dwG6jW9Kq8Ej1bmpbHFFs6rIWhVY7PFWVOapTZWlGRmzB9nb+6ZaEfIlxoXs+WIECwISxUakyyqpx5skGr/DBX98YiWXgy1qqWrsjdauVp04ULIX/S9GagX8+A86KZ8f148uvHnx4niD08EhjN6hdAhRJhXRaM+hypEiaUl1jVzg038RXzb818G/NfBvzXJceLoc3e3dopY323FqatQI/G60wu2MLIwCGvLj0Nih0KTY+06m0QuB7yPeoylDL32+9CDRgMOBb3NL0oyTKu9JLVb0ITGeiYmtRJvyW++qskZQ/GW09IG7kjo+jo1kqKZHINHU/6vfV77+MKPpX/ACX+otMiGz1q8G8YJWXiWYppx3PURuQBdaYYwWTjdiJmGua2FSOGQTcmvj99dRockNkxmiWJ55Lg7wb4K3RL2Vg3XVytPoyroX/S9BeojvIXwOdFYIBn0IfnWs1dNguyl0hQuhmpRMPiktVS2als1LZqWzXI8UJq8Uho0Sosok+C11dArILl0yLcjZG/ogUNgLPZf2RMUDZFCLUIslCe3plsHo8vSwo9P/wVAJpYhZdojzv9MZuxbIEtiybqk6NXIugn4SdVeLE46/Wlb7RQLkgiek06DA8gtwO9JzDcCIJFjupEYbf9Hvq99/xxNJQlsUmC2kj6nntFjp1DEd6PerdEXLKW6ZvanPhlMITC5MVjqnIyJaDm2g29CLAqrMX7mIOa2gZEJs7DC3KVJo6sEF4xUqCVlWHFnEV8/v8AUi8pAW+7bLZDXSnOa2SwCxPMVg4GfYn519HVQkjQAtUpQIBE7sOFr/VK/wBmv9wpc/IVfm51KDTRxcoH9pWGGn+6UpxJCMdIRuQ0FmRmClW7tx9FmpLTYasTZlC7SWHe+3ogEnd7ISkwttt1LMrnKzvoQQINcy0kQNzbFWGIKSnDajQqkslJdJApCYz0TE1/r1/rFQ7e01EMwBb9leOEmnlkzystYYgjAiBmSC0xamZMrdfoBkLdVI4Cdf8Aj99Xvv8AgQI6AJVosFtsnb8vFDoIbi9rHtUJY5eOi1QsnCjDSpupMm/1TVtzz+jGz8focS4vCtymuuiIOgF3nNQaa9QtHNK3iW4G5+zf0ECMJhK5UCCux9uKWgDinAQOgEc0lKszKnrXx+/6CLxvc/VuOECWkoadDFJiBTO7kUjZ0IQjUbEJUc4v9OFJU77wptC0nAJtA1qA60koo3g9TGMWPo584701QOMbB1jwFc8Xsm7Ucyq8QubHW6lKWGWDfMIjVz7EUp8i7mc0NQ5o5vqDJkyYMtUiISECCTA5NJRvkXLcEaePS8ReQ6olLUYeaTh0qK+MgbkizpT8zRE6OagU0j76hQUNuvYP5KIkNDPI6nT/AIPfV77+fxqeDVNAokApZ36bXvSzr4qZrcnTVopocBUZptBknWj+IQguLM41LS5oDyyYGzTWa3ut12UC69IHX6/Q86fOGLKApCJWEk1OH0Rup5nFt2/pHAcS7y3S00F36ECBBH9UrUpTdLVrL7TBEi7HHNAO5SyX3GuQ5biTyp6CLLRaKWgwVtymL6VqxYzUuuy2nQWiHJ5iGiY9o8FKrfv8XoCHBEeKl/i9hjDHIXvQPFTfTkWNl+EeraB0H7R9j7UVQNEn4Y7KE3oIRN0d9YulXFi9bt/ZB3oMfab3n9KvHG98O41cthHF58PkbeowjxHeiEPEJstSHce0t3sx3Y2/hbeclCNO+KEAcoMvNBLBdqLOYjI6dr3mmlEgrk88UVlhTsQgWX16V/oaeyWhGn963FywV4fSXwGhZkYM9jR+/wBckIc0g2O1Vml0qz9Pvq99/M+w7PJxRm06PgcP7phE0yVhFzRQYyz/AH9/pO4ok2+Lv67l+aeAauhQoRZy50Qnp9ARAAbct0TeGFIPYuqcr9AAwaTGEC61AVBij2k0DTKgyRHn0uAQwu+XyaJA3xd6L+9TsHMKWeWpCgpY6vE3P4kt5jmO3M+1RxntAKPEDvk2+BWh6BT/AIeGhnMw0OSC1aJdLUgGM1zdxzWHy32uGtKrk5KUbMNI/wBT9Em9Swqmd7OvAYMHavl35r4d+a+Hfmvl35r5d+a+Dfml8H896+W/mrPzfNXJd4qrrPJSrATih0PWsedP+GfebeKmuh9NKCQIFoKMx9T8Oo0x7gD4uj9IT5VhUh+T13Br/SgBLjr9Hvq99/MEhTZ+HsFu9LDE35qRiMNdKwaAwM9qg5alCsxdPpOKwqCxWT4SmFV409RpeusVjpvE0JIKcDikxI3ioRYVtezqhPWod3MD5fV1fovMxjuCAtpJcVMRcCZ7jqfRhKTQYJ6uAvSjZJQTDHI5H0CcVC5RLZZh4DBTyrpiWe1RI+H3q8TGFkxQ1EPESwdGe0fTaCsa9AEZJnxQVZDLQqAYn93rFH2qp8eBkUwFR2I53D4dIoW6kxUHUkxvWe1WAbGIU9arJIEsMnBerKlmigoaw45Ng2b0kU0qhAOh6a6JLo5BJGp6Yxa85i8RQ0YvDXC7lN25qwIb6FmINKz34O4pabwgAd/TIvJpO5N0pLBGBh91IgIMI5PRSiqMTq04iEh+gdUD3P2KQ3KhuVJUm9Sb0pbgdomkiyIyhiggtJmSjns1TNj3D3Pp49a+mQVpf6Hvq99/LlowgSt1f5GlsQTFJDMjZWamzQ84fzSR4H3lMWro8qzs8qg6zyJnSr6m5UpBUrSpiaMS41gqFk/F5qPhfvUT/ci1virUk4bd5iNPRQkfSGC5GdOajKwikEgJS9f536V/lfpX+d+lADkyBtrUPRqR5BkwVhYwWNvT/HJClDSSSVv9io0sFzNQhWadnaTQQQaXlD0HCRxSc0RsYLFsQGd5hWhARh2/bUvulRqBsMtImdKkq+gESwfI3e1BKFLcbp6Wfcfx6Hhs5CGEaeCwuAmT49XJrQqtnPCOiaO/Zqxp15bAwYRqyX5jDAEvie3NXRLRw2Epa3vUzZkXpCiQVTeJCvn/AOKtLeoM4E4lm1KCu7SZSxuIiJXUGNXq3LO7xV4OCW9K26E2/eh7ZYRyuFup09C6eQKUs4imsAWxFntX+X+lSK33g/VJX8Z+qBTTiQWLd6c5O7+6sJYef2qfU+G9fCPzUnxPeoHeJEdFdJN6hgJlqcEIUeBvfx9/oTvPpbfRR4E+vvq99/Ltyp0hXMjNXwxNSOC+slPVtVvsBaN5i1R8D96l7NmC33oG5kxovYlxI0rg/BilLC2P01PyP2r5f0VPyn2r5f0VPyv2qflPtU/Kfap+U+1T8p9qn5T7Uuj4HFTBq4oyYjFn5tQAatW+S8EaTisUPlMFFgiY5zPNYiTbms5vTViW8xB9x9g9D9GdhC4lIKehbM3HN4IJoRrVvLwyVZlcwBkN/wBp6DFZB3KIIwmPIopVKsrq+pmfNQhqNRCBQBZPy1cm1Qtsk4LYNaBLRLMm6bX9uVGaWiQu1qd1thdqL4LBxI8VhWtv7qPm5mDxomGKRAln4PLdZVWs1hacv4ihNSGz7VDuCQjl4v8AQgAStgKadtvi4iZ9Gf429GPo0Lqj0K+xjnyRMUviJdUuQd81Z8GylZLFts0GV7XohEnWaMHTnuH6+iSzIxy1wA3n9U32vbNMTbHPrNPc6vX31e+/mC7ta2k65q4y8ulJyTzpRCR7AW7RmIJZ0SdK22p5pKJlbq+jMvgQxSp+IMNBo5mjtVCASyjm08lc/wCPFc/48VzvjxTsLAng3dXTsb/xDgi6rshXOoDJx+QKdyOi57VBFwE1B1Yb6nNMjUChRkrFrwsmTsbZvOQilh9KxJ0Fia1oU2ZDN6UyNQhMlZkfuku/kde6hIvIZAssF7UwKpEjcPFIDBVZRx2tb0RLXkAujaERFs+gObOwDCNPpFWfuYS/YVGVS2YSSYKumwopSnMjaiRaDHau80lYtBoXqKs3aitznZmWCHff0LZTBY9ySNldtO/0ZEmSXnDAGYd4pEy6YDvPbb0z/G1JViELnE6TjvRY6EpBFvPsRULRTQcHKeVaK9TNQex3HRHRN6lNh5r2btbRXSpsZ4FSjT6fABb4CcmpR3KHSsagbRrtFS6yJ1h2fnFKTMLcNdqwn0lLlkxQ67qc+nvq99/L0NVxETV4hPD2vT+5GIpjYOKjY+x2G1T5Xn0CP8/QiBnYNSSHMWULWqEQt86imqXg2RpyJn6tvXzT8V8k/FOppWemXZHaoWC7ccA52a+scd2rzWU4qkluVKJJM4pOeILBru04cbB9oMeRj1uhNNHceEtUMyDOYZfZ7OtJVCF47tJfMKcooyrl+onRJXqh+yhSgwbjmgNuQ76ncj0g+cYpMGMnquKcFCGMbsYpHQWukxRlUesNwfjw9JyJ9ox7+kboCOzl+/pY60HZnfuBexQsfYyUEDeANifQIUQJ0k3O1NDRCWrMltFCD+zC+Xo1FEAl6CApEUAuJcI6npAUHdKwUe62zxasyxyE6Vci/wDLSsoQPtDDpWHV4UqRBmL0ZLXpBL687n7j7qAeujNex+1VguU8rzon3rAsYvau1+kSl4rreNB9/NEVJEEG2RPhakI0GY9hpvvelaKgGU9K+ePaDHeinbF+1aGi4oNWZ6R6e+r338smDNRi2Qdau3A4HFLO0+kSJxIVxX+Gr/DVF+tQP6FGYRChnFEce4q/+VX+qr/bV/qql2iiAaP9tGG1R3VLCvoQgksBrSIVg16Tnitm5p7PXOV23Qw+iAhN0bfq8dKuZ3X/ALjH++jxBjYmJgkfXN2GassyVjh1Aolg2zaRVxoIuFYaafBjc9HP2dK4GzhN+4qQkwf5/RM6RbNacngWj1wI1eaWzZmgOj8hqcenMaEgBVYCuvCbbFakUVmVi9AoiQOi6lJ7mZBOWtHDSwdV0KTZjmEntx370sHU0gn7lg4oPJcs6p/B6a1xjrEnv6PSMJkTDRnPsmBzBYnrFf6So/sayxupQhbtoIUQiLlMAWQlej+3RhoZJKauH3kvcfdTEygbiaFKZNCYveKiQHVt9QilwBKSQgPLNO1Zixt2NV1X+gxRHNAt66TocVoocWR54rJnvFQRjayUeRk4y/A+yV76vffzYiS3e1X7GNrxULaGLNho9lGPM2QBdg05q/ORiETImjx9HyO31lgwQIYbTjRVowpavNS+b80I/R/dWxJ2OXnJntQf5MtqOIWzgvdvTPK0TgKIMl4+o0CCTUHQp8LICEdqAeS2uH446Q0bmEGEMlKYWWQ7ILsaoFKIgSxiELqcc1nWgTS6sQCDYq/REwnLMSs70JtbCEkGYhkNRiiSxCq0lP6Svz28beh2snGfV2vGOlZacTlRwA4N14C9DxAyGxr0l7qgmtaPI4KXG5Wn2nLz4q9kLic+HGlFcSyWP1HoiZ0AlWrLULKbtXrNI6VTolOXiDc3u72DekM10hPz+KL+hE3xTtEeLFUjebYr1u0KBU2jY59Mvxt6hXvByJtUiFgStw/s0YaGSclW/NsoTEaa7VHdyhU9omLbc/XSSK9c+N/1QBQWZX7Ae9HHkw2CH596F4gQ6nSpuRKlAeHNKE6arDHfFXPQisjXvv5ba6MODaoTIdSp3R1jSrhpf6GMJhAfFFmZ456AJPXX0PA17XTr+6p24sLDB1oWA/pTSZMkRGEdYantvo6ek1qx2qho0mnYVcaoOb1KMArDZgm1YZgs0vWXaGrsoicFd3CNqDXzUWwP6hA7invkvQmzlMQN6999YpnQId6IuYZ84PC3ZHeor9LfBke1RF5MVOUC6Cq/N3roUCKUFdq58VKRMGxFOWVJYRoC5aVxbHw3jWxiW0hjTtUxQBw5yTjtUWTmbnImkJvuQy8tEUmYnIgraZYuY1MywlB+xyy8eiIAq4Ckh2AZbGnB39MS/wB13SoCxbFJsXjfegndLlJemBhaniETNMMlKFkTCPcXHvRIidOCl+QYcEQj1ifPpa3CGaxdnQjHNEOAoDOUDPf5DPErEAcO5VuWjKCwKLE7tqF+cFINqk8MCVuH9mjDTJ56PRULmlEkbctN3Yy7VfHi07/VFUjCUlAmJoI9yHvSxWbDiasyaIbEaPzWjCY5p3L3pRdgrESqEFx2Kt3wgHx1ea99/MaYe3ag5me1K47VcXvXtVHeMwZHbHPqfd24nwVwXA0QNPqksqWEaxC+UHU9t9HT+QaAAkskK5pZMiSZEbiJkTX0NbFzElreJ8TSxSNDuPJrE+If4BGtIfEadqAAKG1C7NcoKhjTibi3FQolcMPMVNTQLTkfsoKF38Ai3qjhaFLtGPQooIL81bg1sFtaLTma0za4aDBLdmp6tkgzQdFqcP5cUcpIJDkplUphgKChLVxagckCyWjasy9nS2qBgBZBUgAFSrRttuxpOqDpA5K4qhgBr3VMA8igpMWJgpTt5vrRVwZNn+N9lqbSRNh9qtUbYjc81jJOsYn81lQcKsmVZNYamYYQi4Y8q99/NphIw2d6U2vE1JN4ToVg9KhCrAzEYGKgk+2giyrseseOPYgpvo2KaMTQEFg07n7Vj2sj+llwZcOYESPjueo4ovzRwVbyzViIt6r1txS1GXFXYErNq+10VEOBF8ly1yxpNZULclKMgCQ0tlTZn8GwCzV6r1NtL8Py2KUOvoSfwQtLSs/J4bqRkqrq6+ghy+NAS+ai93BncWiOYZtafXNu5c3rGE3StyfSkKNff0VRKO5odaGNZqIhCwxK1nsKgrgTCQacSs6ODWnd0U2yS3uN9SPQDPjZRgCg+VeKHm36eaR8LnLllntXyiDHpFNKugMsaOacy2AWdESnYBNyrRttuxr2v2KV4jrSSE7pqRyQ3YzWy2D/AAII09S+ePTmmwMwFMhs7CM7/wCU4qSIf2CoYlvNnRpCJOrsV77+WzVqt2iqVzfj55qH7SrRr2r7ejEB5mguZRTIOGS6Hkr5Hb0Vs6AJVpEfQG07cPH1Y8ih1X6NaEaad+JRjgYoVgXs0mWYTSurC5DSioBjFMpCxSdXlmrfmiiXAyeXJLetXVQ73ZIiG/oZFh8qcAVCWffj0y6+h2T5BFCR6Np9voWAaBytGJRez9wpJLwmqU+sPxM1zUsP3qGzg+hnzjvSRAOzjI6/YPVCSBcSoRkgOGASe70Nm74t+V0KMGtl9IP3op5zCjdNTk8eh6jGyjAUCDew3PHoPrncw7YT7+kyUNa1wtiTemc5eEGgGhx6CjiTah5Ig7qtNIMKoAItK42irGMDIcUzGDyolF2VCFSA7slR1bgz6LmN9ai4iEVGloufNg1hKcfkmasJ3umvNQWIn+AStVqamfGe1WOArrA7Ue4BRuoYlxGaWDpR7SOdSMU0ZwWbQV77+bzhNsbXKQ7fZWdYbtHymFpF4BalyYpxUSEyqVqR5dW0BUmGYE7718jt6D+nS1AkOSZOlQheyiU34dtub/QBAgQKCBq9aN2bCuTFWNNqFZVQwbrp3qcYeZS+yKMWbDnhY7+kg0ZxZp4GqcM5p/Rwddmu7HxWx4/UAk1pmkAWq1hsmpcNLAmc3Sgi2fWOo5rnqGqfs1qLWRovupcB56VH/RDO6yu9/ow8MNuzVyPAIcILye7WmoJwN1qcn1Eju71NvYChluZxH+VOkQWV2Td1LUEOs1sWUMiVsCk8EychU0iTkumXNzsXrLqemm+wBivENbUFpWJjstTmzRvHf8pDXRTVg3TyxVmiSLY6Sq+rrjEAbtJC2cVBUE2+CaZojCInTNNIIu91WhCRKsgQ2NepUDEG+TP2WtI0w2S0M8zNKYY2ptHZOVWwZjK05/h5ghLrs/GHipaBMQNI1fvPx+aNMVzCpDfzFEm1OuG0fjWa99/LZXMRsWz1q3cTxS761koPOluQgjbqdKdPRuXpy7utIRnJCwombIl0p8lkNmeOaD6lXEba1cnbHz9Hd6dmf4Ip4RXBuvAXoTaBguYebbat0WcjFuafZycDraieTIdGvb9o9YzytCVwpfhWpvcZ839EZMG28ah4pyybt+iOpz6tdGClWgULh5BuG33Hsc/T1RzxUlq0RRGUbB+Bqa1bnvBP6QJEnfLInSY8VHcxEVZcGUuugNWpgekyqmMhfHqALeBlqYaFcPsrcrTJhGMIbTioJ5YUlOo3tfS+aViAKeMRAR91NhdEtgllDUyV8dNt6TMGP7fJkrVxcrrYyNDyS3XuiiyA538FCAQCApVizDfoaBKEDAFIywKiXavh9vpZYsTiloG7WBt/CJ6EKhKIQUXP2ntPatbgIH4hS7Gx05d+VD3IDTLu6q999eLvY+6p2eYx3vX6eeEwfo3sa1K1usfZTlktafRhTXyiQYcAVklkGLlU2VdAp0KRbZ70U4xjJSiFcJyVZyHvM1OFaPGXagwSfUHDhw4sfGooQOjZgchUjMAJiOelZzCJKF7spmrMzIF6AusYp2vG597qoRpxXgEDowQmwjyqFtoUGC9yxPHpBW/QkPAMkWIpbDq2Agh1fVFjkg6/AO/1kTT+D3cVEGgiJ51qclrJ3ZKuxuvXOW33xTllQrR+hIk3cOGiMGIkKAE2bemCCoEmsCGwMycJVyxr1yly+luKJujD06dwo9c2G0doe1QTW6/AqcYFUtg9k1wffQR6LUCTeAmh98NSiY3lByYNW/yUqe42fagkgSABbKLbpUR4woDrX0KP8KlNHTkChlfBFfP7fRa0PG1Jm8jE1d/KT31e++qRUt73vFJCIMSMI22phFcRxWIyPF7oqIcdLLCdZLnhuet9czr3hqAJM57Unv1rJQ2OWmZMIiNPf1D3OgaBoV/gq/wVMwaS2RyPM09roAkQtSQGKiVd/WyJ0H0OcpELuYZlsYlaVqWpfDM4DmRoy0QsI/nfms1KqUld8BEI2Qx5owwoiv7KhxrJT7U+9Trb8lFYUqMQfen2o0H3g3OkK+JCl8U2t6eAYCWJqExT4D62JOF1q+S/MThphIlWYkHzxV/CKdVij9lc2DHvv3pCBTAVPMBfYoUN3Wlfg96vYltl3Bpeh2wy63/KlkNQHsdZUwx26fDHoVNTC+MaPJeoru6HJB4erWjF5CnQaGnvGjr4qSMDxDMUzknAvfY5Pb6Y21hnE2p94O1oo7xexNaZfilodLvMnisfl13p8/t9NZHG9QLzhHJpFGCZ1H8r31e++lB8j5tWVAdAxU0hQSFRBFILO/4FCUHJkuy54oiHLTm6/akRRyeiimvC84Q5ilKj2w9SWoRZsyUfRq4C3ogR98lM7YxUNXLY+otRk4b0dJKcTWNacCGR1Wo36khAspoG9EHdPYDsaHd9TGjaDBZY91m+Np1L3qSraCyEA6AFTaiBXNzdyVBnOn5NATRDiOzt6R6CQBK4CkYEMjpTcM5gT6GmO+QUOED/ALLn3osf8YwpF5K77jSWQtgkLjBidqxR0M/XFOxmdaFtS8unWp3d96HehRtG+kBz5WW+5JahUqEH2C/KpQQ2jPdd71itwtmXIJy1bbturO6RpJ6wQZE6eld1kkaEVuigxUHUSMkQLkWvxj0DhQ9+DU45SWx6xlMn1TSuwwtXJleGcUNiNd/BvQs3I+Bi0bbDA6cDsFYkBAOKXjsFOodimsxYBpSurDam86gEaib0o08lJOlABGSy9vpbfFWgtfQac/fP5Xvq999I2MPuVbaDekBA4+Bq/FZ+IXX4INKG0UGZeaZlPLO29MQYX0Ue3U1OnFaUzN5rKsKiSGB9qbmnPo3KvdJYe6gAIGzDmh+3BIFlNA3rOuZpNLih0O7QWXFQsqBPSm4th0BJcpvNCHmJH7e1W6GCXev+Tmvc0Kdh1TgrYctex7lUQCBZMIwBMFqM/YvMmKPkhJpw+gUeJJFrcDlJqCdWFb7W0cOfpiqE6E3/AGqPfW3ev1ICWLb1kjC50UVdRrGKgV+RfbbtT0NC8ST3qVia/uGLepBJQyPMFhSU4GSS9kInfX6Hq8TtyJNXPygOCAlf39HREa6CH7KbJwazpTLh5o+gZ+L02IkYco9vQOROCkUjZr5nb1SgOGZjwly5NC7eyEN1pgrBCQEDS30vvExpQkEJpMUpSZ/lnvq999KMRhLjRtsWPyeLSbzV1vWqtjfY0qLIGP3WOReIbzRB5YroI8dur6y5hFOHcEuMWrKNN6ayUwgkFrGqTXw59qfin2r5p+KCS98dqGPVaUzTQh5PjeoisHbYbkNvSHMGa9xPQ/imXRe2Jy4ri/MXJ6SvoX0UBGxjtGbTLe1bQ0VGuDDaaiyvIafs9VCX3oUBRCDr5lbLIE6TjWjhtv4kt2Q6J/gNduZN4fqMJ3obmqbVcl7jY0ykheF8veo7AUAbNqWzjU/dGV2Z3fj1V7UyEUS4JE1eIYeQh4RadibVf9ISHCDXBORIhs0JNeueE9LnSjmADQkkXDDOqkbOgCVaMhNIcizgGvQxS97DUTTUUkJyaWWoClpCtJQcttKH+4xwcA6FvSHzIIRDakjKSIyc3a7UccMcIYykzxpSmn0rV0fltRJVpkGcQDv5qKquBZWSTtSjgXf+ikiiF3W+mWJpZdzE0ZiKdT+V76vffU8xWRixJxptV3I3QfBKEuMvAYaRxnEhM6rd7eaU7qtBoGh6+zVbZN8q5OiVvNSXXHF6wqQemGLdx2LxNCEDDPxy660p6F0d/oIDRJmF3ozRtEvVG1TW7foiaP8AqR3mymNZVIMLrFdT0CG3VYJ24cBp/TUENwtUT3qsuzUrtvuQqrYUpNaOj3/SuhsVqWa4OvSuLOVoiKIJXLPqChFl0tPeKLsvSrIPtS2hYVCJztReCTuXilxGZv8AirzJqmp5y8odq13W64+eKVCFjZqZJnWKchiLaEP8Io7vEzT6ZqWKNhfQuHLwp4ISEq7tBTGqdENRQfRuUPv5osYR0qEc9o3j+06+mGWmZ7FITB1P+0QQDGXBg676Up/V/VKla7P1U2Psf1U/6P6qQSGTb+qukgdRt9I8D1DRUG5qohgf9z+X31e+/l9iqOQkb1ncnYoW4LlWpHyqFkFEOlWT7TQ6ULxKMIG0LfhqPQXsJe+hkkk4gF7ns+uNdQ8vG8T0W8XFnLvtpcRzQZKcy++VnZPp+jOKQ3W8Q3xRr1xEknakabdcacjIOfNLettUm0utYydgUYTlsaaTNIAQiKA7qt1a0sANkFJ30fQhJBcTSrkkLaDPnPesCYBmONaFhfZDNbwQ+RTnQmwaNN3cCJNYwVikCiPvRwpAt5MPmKumq5QvnEReoQrStGrzBTDzJC6WPZf6L7Ht0AXUbAGtL0gbU5kYeH1nDS4j0U/ObFW6XLvFhW6GrPatfXiZEbiOomvqWvB9vSbTIkfs4oQLBrDQ3sbNqDKo8SICZQIjO1DyY5oohYYJb96temhJIum69BEI1cvtWb5vajJss2R62xSLBZHwmq3q78Kg9WM417rTUj9VCM3xigEm7PG8n8vvq99/L1tlFg2XqYlcsxFObVhTiK4rtlRZRa3dGoeXZ8IQyO2hT6TIzcNJEpfYHk4mF8IZztRkG53zFPRFI++oVpa6cABMYMPmk5QhCbJUOUtJ8xV1lVe/KXHVqTNLZ0wxu7S9OwWBsPhaB6QpDYz/AGuCoDQwTyZGgJhA5Gia7Bez05P16OZSXUcJTcWlxHK/UtVCgvGxN/cTRnyJAaKcUsZuZTFtIp08XtreIotzmRLKJhcFv71MoidippL92KVX4oDMMcUBmwbh+X9N/phOQ3G4uog84q3nnslCEoEd1Oz8mFrFRHLUwZS2doD7LYpK3/lZzvUsOKnowAIBb3VmrNbyAwK3fXrH1iyXoeSwdRrLslTmv5Wp6N7MOxYdFaR5LJLaWpht8PisndEe4xw1reVyMcjValANaY+G1W9fP7fSRPvQsk3vigliMHk/l99Xvv5faqhKd5rr8KF/36RdfN0rZVq00Tqr4mQY5/yoZMkQTQR39SMw4MP4fa23ofBmWAXBdUQxUCYrszG23hGur6qIkjdJjyqdnN7flQz1oXoE7iQ0ADIkvpYDaAfkAeafS9hf++vrIk5Ayav5lW4Hjdh2etIWgtMJF6WiLfFLlg+c9aBAvxWEC6y00BgbsG7UDPaR7bvY03pGSpdXX1CWC7QRVjIPou+ylRhMaPcqXFfDfhMarfatxcK53PsGh6DFyj8NMIPaExrw70N0muenSLF2YipI6u+Ep43Vj1KecDHxLCBx1w+hjvmqAZ0GiSQsXDXaxJXzO3oUCuwKcsLZ56IlNttUx9ofepCEsjgoiQIDYh6Z60BGZsiYq94j37l/5ffV77+WzoqtUC7rN5q1SGjWFD1oLaYoN96saawW9xeKXOZXXVFZmbL7UYTn1b5vROCokNoTgtMdqjLEZBUpB0FPhfarwf1I+BvVtNGPdAVMsJgCOToSPkqVG2C5x8Khtq4G01OGGZdY8Z7U3u3a8anA1TQNWhGeKdFkh981ZqoE1mRjz1wJCXVI0VQ/aFLMmAHQ+icvYrltga6alTyT4a3OGGTzC1Ph4y4smpDUNOXlDW0mntKb/dN/anTlpfnO76QUJQsN5ilionqCxNRYQvjZ17v1goAlcBRcNcE0U2Tb3oAiSSo4/Ye1J5veGGMuE+r2mMrxkPcs0dQEeXwPXb0zXOisIA5wnehs0gtIIi10lNK2Cz1HcdGo4rANKhGeaSU1JKYs9QgehXChe3U/l99Xvv5fZq18OulWt2dvRxQIDBYy3waUoIXUqDlFZH3U3oF4oNwBMuD91aFgalOHQtTDGdqnHNTUTJnJoGdH0ALl4bvRQAANmWPiin5dmMQuYmmpcyWDxJ81YpUA9gItQTlgQK6iwc1sioS/bP8Ab+Q/Oafr+Di1aQZKJ0WT1Aa8qgdmW1o70JhHdCYbW919IEPZxN20fSy+sNObT3im1HFNUZE/Hf0BktiW+JYKmjSMJYBZPQk65TtXi75p2sCik4L87j9a0cZp+Pm5pUWr5/b6W3vUZx2/Ne8/ufQEsF2r+cFMEnCf4PfV77+Vx01AN3kdKXHimsKEmDc1sqFDTap0eKuEmdlAbMCwUBmjnGydKNCOMHJ3miELiJXen9hTJWdmKLEC4zMYfefUJ9wlbu7GWkAr3EY1nK0NMUSgl1tWyJb2IzqfJ9Kxh2rVczhIMXSu9XzqT92pT8ypf2a/1FElyaSfU2KxREDgllsKWg3+r578W+kqtAQjnhoQrWHi2PXADRYSrBNiOff1eQDbbhKOZaUCR+cd8U2lozehrOlCMNRE1a6V87/FeVmcHtXV4GupCdyKSWxYk26/hXzn8VMTCQRaKMj0oj7N0kGNBVldHZIwspDrXzO1HE0DN9qklZM1ZdahPOolwMUsJ87rQGqgJUuFFB2zaijrrEV0Ixnc+iIVh7tLfl7VHyQxthmmatXTP1++r338sL+IVcLhzigsz509UJNQuijJACl+A5oDBSIZWAiiVotU0a02AEtS7Fwd6eOpgDtmrQEmun9UyIMwZMe9eXSphhse73pGRVdX0PTzc9edjWr0MdwrGVoaYq2q7MgO3z3UpOqy35oDHl1k1edRPbmAFahWYi00KyxOIWpEt0w5+aYjB871FzfOtYkb870Ww3zzRyzslCOy0oJSSy5BevwV8w/dW5+z+6s/EDIkjsEhAtClCQnp3k+PH0Ei8u3oa00HWtXJn7VLTbCCyiLd/on9XUxN3sUlZmOg7Y8MepCo5QSCg8qeGrlbCPvandpY/E/dKdPt/dI/Tqf9Gp/0alH4dYCyMBoKzisiBMaJ0zbFfM7Uio9pFpNFEIMdKvXnIpTG0K+f20VYJxUxlfKVu5i/3PoSuEohKSaxDBDU6fwe+r338u6iy7RXNthmpMnQ29MKj4mlRlzQvwuwU4XrEbZJBcC3Ua0aSwzBKwWm1NKrI9mYLx7UwOEmcGHPlUYspw+6psSDOyOtKRA1i/Bt5VgaPYNA0PQ5PNz152MteOvOVjK0NMFKgMmyA/P9qCcEZdYyGR0xQdcDksLJfIvuhTbWViSvqvfqQO1SPtktCk5GNwnFQXIvSVvGDBaoJowQBmLqTXiFDJEPWrmXmnKb3qXX5qHX5q7PvVo+9X+5SpFrrQ2RQgCBiZEsIm1K4MYkAaosHLVvwiMImAWHJXVz9/RghWBNr0PxeImbqBJJj2sU+5VKNSlKXmUuKy/O3p1YvIV77wuwWNcrTY/HRl5ZaVSKHjbPZqVOr2reTpZpZLc6DvgHJ9JYczLDJsZsViIUWcsZmMxiTenKmcK21V7h3QLT4iNoERla12XOlBoDwi5A7husSenxG1Ig3YoCGCkkq6MIw1h4Dg4xXz+2gqwuuaM4vpmpyLL+X+X31e+/l9qpImJ2JTB7qc1hTaPssWsTKrFBLV1qmq0SA72i/BBp1ogRc6lbq3ahmDLpQA3eQM6KQxFEMfehV1NxF7fZR7UN8FHIw0Fhib5jetIyZCuQALBncxbahvE45hSRuhzu3pGRRlXWuWLbEku5GKuzJI3jkdDVN6eCUkG6Q6iZWWmGJzGV4gCBoUdRle5Y8wnpkTS8Cy9Ap4E4X10k9L8qCanV0jI++o1L5APAfZWKJAFouZ2vEu1JURTrO1ErMXR0jb7m9YGPJq0jVILgEqvGGKQXq0SGVci11adVJ7+nLh84dKQszs9aitSGGCrITH3CllZdGr/whigofsZTHMlpZ1oubyRLyvRBf6ZWK3u8mRc0XaRQL0EMNDRIBwTe890F6HocojgznRJb0BDi6IkGOSSh+zKehd0WMwp4SBMWZ4N2eBaWVZiaA7WKjNvwX3LV4Hp8ztRRbGahI2mahMVdE7rxasxBOE0s+PbQn9VeLtnajaFxuYqFn4v8vvq99/L7FUKRTiWzGlZVhSb1EvTMxalFBd+7ZdtqFNyqVJih2DpzXzm/1d2WJs0lhNO5TR7fyrc3jEyO0lGYnMw5Ny7JA18JvQVpCYE3KfQhlrEEZaGQd4K/3df7uv8AS0svNR1oK8Bl6BQxsEEPQ0P5W/0aQR7BCWSC3c0sbSuSdGV2KK80EjfEFgP3UFsv4hMDYCaAbgzW87Jvbir6TwRKcjJyiPXrZPf9/S3bYsGrdti4amkscizaKXJxExVJn6rOZIKHgiQS2ltqiyj6oV/wcZeCWrRM110n4jdWvF5itSKzCm1PM9uH7eKGr7eSGHhh+h3vWpiK2JYo02J9vgnZikDErAxCii3Yk0IkXWhI71AwKjQFNhag1r5vbUNWKIkvvNIBnzRj+UXvq99/KJ6ClSWF9quB1xRzvWK07vAMSOQv6IlziSPlgioAhpG8UMKxyvAUDZCAerihCmSoTgMcoY6DDO0+mjl/1/uh2r5vZXxm9fCb+qCNWOkAsSFbVZ9DVs3arXtOsiUNSG0BFsF13f6c9IYC1JfN9lqGiRSTGgL2cu9LC0gMLDsa0IWkSoYApfmiRpEqUuU/GlG9SbC/FjLotqXa6ehHSoxhyiXT4efT8D570FTDzWue3QK0Ncc8sCRjqSPWjW+JqKTDcFgOhWf0Q7V6NhuuA5aLgdho3nWLWc0sSWwxtjsV2P0bC42xRtns1cKbetzXfFnNaJ5LPI6nJSkkuY+DdwVKpxoXqxdV3pVq1w23EzMWbJq5rqK9KQsU2MPtQUTbv/XXDfPavl/XQF8/ikdlAe30pAuzapRZ+lfE7/y++oEg30vTCEjT+SzSso3ydyiQohbUYhiOtY/rSptdNmenpOdBpTWC5ww0hoIRmvhN3pNhEYD2Mp6XRCKTdlHV0+T2V8ZvXym/8ADNIpAKfsnc4ogooHP3H8R9PsL4bex6HIQpimE4Cax0JDGTBp04q70EUZZcGCbQEelrjqUP7W0kYfmasa3Ypl/d021TTNgP3bi3lpIgiaWwZNlnb29cvoS9OmUmoczl19e8+qLELKLJnm7As3pcBoPD2Cx6AoAlcFRyRYQnYNTmKnYEl1OgLFARrE/IrXo3+ekwtEMqgEkaKslzFRaQzpR1jPd/NF76lHcqULYcu21XDBAYoaxT5h5X8XXp+avJOsUaXuDpUUFnCKwzrT3Wfb0NXbJORDBy1FEKRLJRvXxG/wBZpK7BJj9uVidct4hNfHb18Jv9ICFIzOYVSEObkw4+h3zZD7O5xTNT51Sq0osxpTHaWpfe3UIhrQWwsaPNAX7fIlaPSGEQiBgDtvQ+Q6TSy5Teg2DTLkPT0n7LNwGoJTmrBJbzaKw7KE1oRWB2VxYWTqLiKCh5GjrLCAyLnjHrogSsG66HLQYFyJn7LBa1mb05k+CZOGRdfXsvRfmenEXglqbu5MIt4G76JCHLk8t3IisJkvvcFNjRkA5gWfQJBJsBRjYN0kDq/h91W2TpTFpJt96MvbtOPQ0KgMTdfRPp87tq5M+KMMhKb5rnmuu/5V/l99XuKiS6XyaU0EKZiC4jovjFGXJZ2Izmk7vmB3fp/hmHmhTSPoFn3o3MQWpdGWA5q1rqF6xNp3T0vszAYZDOq27WYnkYdhoVkud2peji7Nm34pTU+ea+T+9fH/anqLcavF6T2E+cgWHQnWrg5j3YzD2oqAjoxgXxU1jAv2Ag12psxgM9YINdqxPiRmmC+7Xx/wBqWGSDdwLAecXzVl+1KTMV3uGeWKtdHOeJpzoQZ+l6jz/x2p247IQn0lL2bJDo8/7NH+eLAbw8luPRtE69A9XYauuCjz2YEEwWg0K6OfqykCzaob0+ISZNIfGDlWwUrMlm2e09b8Uic5S/ul1tx6BsaOgbDCcNPUbBbyLmzislTPD7jZqyIw8GrsctZxXZrxXfY5ooIsQm2Ox9IDqxuTK//uRaKuC+zlrDVRCUKtkYGuy3DVOZrGPh71LHW2PuXzXJbjfe/l9stRguJoULrlvWe9PO7w5tyYMzQC1IGUao5r5l+ahMSUJa5wVlDParlmxAv2oQE5w5q0hGl6J9Ph1j+X31e4qYpCslVN1rDGdPb8UkUBZ2tr3aZ5vSt+56Zp2zoQhH+AdaW+6/B7Uzkt2qBnBV+Xh4pCZYQzewtXJTO5TYBnpStwt2/qqcw09eQ4AtOtYYop9PTBCYvUAlqiSW99u9SIExJzR7g4p0fJQqrVIYdvQI4qjqVOUiEsc+mq1iwPndgr+oW2GDsUIAsG3plxK47w14pJSEfaSW/VW0WcXHTfvNQX4AJfnh80ucIgE9BQqWUkHbRVvg9qWz9qlmIyx362KmKy3IJ9jXVgqesFkgcAwKRs6EISulR9ELML0X9m1fQq4wFLTpRbDEXWzTQQkJV3fpNX32rGrmDTDiQ6Ik6hP0xqV3S4pGcMWxMK3Ea+IfivjH4o4xvEKSEfkdKjQ1iH0ByvBlpu1r8B+VldagihjGqxS2uNHoIXNHmgKNpj8Vd1Y6xydGQq3p1fl7H3/m99XuPVVrAxN+kUJ4lwyxgcb1HiSI4HihRs4Kbam05pqlbhcd9T5P1sFEBo1G3Y77fo1Lh96G5Qq7UcTwMGt/vXw38Up8T2pex87ivKPxKZqoZiCIkVL3YofHz+asekoU6xocGTlRMNEDIhr/AKUc0MN8fNbpVgys59IRrO5r2CbtdrkCDk2imaId3eOdRWOYqZM3azp8I5EHdpU+N79hpvqKe7pZtmnlCZ92DMXvvQskHN1AO9tvh680SlyEdHc4famUwfdMfrSjXW3YOZlN8XmfQkQbwh66lJlUAEAwWg2pn+DRrAO4Zb8UpMMBJCNWnQmk8cJQEQMX60q3K0rkPtHFPGEbCGR9L9/VIyaa0LVFrjxGIBoAR6nZQtaUXfoZiKK2U2EdyO6O6Kd8/PerGfx5pqbE7fgvNcn480nDyeskMcDWkTOhCEfSEAyu5el4GhyCZTmerpXyn818p/NOBrMywZ5pZ+P5rqMbj0mjpmjgv2RrxzQ3TVJSVxF5tTCEjst71Kex/tXyr8186/NDkZDIsXTpQESvGaY6RhYo1ZtmpWDeV+D/ADe+oedJ+agpD7PoEcFP8G3mkIHVrTMFIcJPH3itSdwx097ZpJfSJHBHI+KBia7Z4anDvH147cRwNk1KJihu65+RWR3tS2lmFq0BbEfUoviTOgUgiVI10d1WXdrUMwGWiVNytFsG1fDPxXzr8V8a/FRvaCptS1hvRtk4HuZrkS0eIGD5oTC9P1V8Y/Fct3RGkgbA2eZTwhp0YSrZhgskMy0irOBZmT8c+FMd1VY6Gnb1NqLCoqZJZksnOp5kqBXjtuTjjyUk7JQUumgyR4c7mpVxjzZ2Th+rsdYw0Z7y8AMJ/Yw6UtoSARMlShwrME4+gwiDImSjIwROcd/W4IIhk9NCRC4mlAEuIsBo/PdStnQhCNBALrgKvewkDNwAZ7vV0EiEGDLXG3SCwtNf4a5UBn2DpSet0p5ZKbVmBNAC0sIb7xRa9wqEFS5VpY07mlGykC2m9NCLqcBq0ZFbnv8Akfz++r31W6lT0vvFH8IZI1VZoVSVPABZVI3HgmzZd8VPyYXvJvy7zU7DYU2/qsUMnGtLRMun5+pKl8JCUbA+t/Q1EzjTn+qM2JISeI04q4jzlkckaUpXdAQ4NUNgoQUYIVhJg2PhJ8r3oLA/Deg8fL5r4f8Amvl/5q9zyGsxIa2rSPv6pO9S/wAc+MwYQx2tKUMoerAgnDrFT5Qdv1oyPQ53pgaRRqDQ+cfaj14FIQ0PypLu0LVamzivgn4r4J+K+Cfivgn4r4J+KwbUSJNm1zinqU+XEXS0aAAgqdX5vUvQVVc7F7L7tfBPxWTQoHwz7VFJSdY1gWrlDagNCkTZCLGkhrNfCu76YagQFtdXODhIkdTQykhYP2OfGumcCefg5luKdnBLG72jpfintjA4R59PwCRpOrglrQh6xutuqT0qL91cocuToucUQpIeD9jnxpGBCyOSkJELiaU8RwE5yKbvNGlGzprozZ5pPqmkSEjZEWib3pDBRgDWl/AhgP2OfCsiylPuX2cUgAKtgK0zzHYxMm1/W64E5GpX7rRQ8EcbOSroINVAUOkII7Tq00WaEx3gmlD8cMHb9q2cVoOhp/we+r33q+qDa3lxqUGtZRI1hrAWy9MxSLMs9r+1Wb2Ymxp20r3EUQBCSRYQfw5U9DXOFBlctKUv1xvFZqWYoZBXEUV2OzD7fk61DO07ZISdHmrJdkCBBYACXzRzZr2uB8XogIrsnteKgeEYuT9xJ7FYjbJ6DMQfKv8ATV/01f8AT1/01f8AT1vN6XFrqYpedd7UYgFgICF1iR2pYr3uN+5k6VbodGQt2o6lwBAXM70j2sHTT2qyQKDFuptTjaxDXgBON6nCW4NP9mrTmhKv9BX+gobKkgzEF14pTj+JRewPhoqxFdlNVfvRjws9Ow2Fy0KMogyDJUaILKDlwOPKpP0U0ykjUHDlpAhILD2Cx6uMeVwnDQuC4EDbQHvzUz5xd4Mz4fXqZPDjkXSgSpmSx6oTjuoyUsDnXUzSKRITSmDQXEymKjPdwwvuLzTz9AoyWaxk4SQoeBOX1FbmCr/T05h9VTapN6mf4/fV776L6Y/P+9Xh6Qn5OaCNqsSBNzpS4pNmLPyKd89MFeelQUQRHUf+NFYEMpyG1X0QQuYQDXjX5q0ia5EoqyGNcBFIbM8ztUKq1wW13SOoxSQokJVn216TE0OoaJJYYYnxhjNf5P8AVf5P9V/k/wBUEabWwX5DYtatldZQAciYfSDNsmbGPahGpxQOWutn6oQVd3dIdHD2ojt0orEBYAG1f7WszF30VstBi5a0lZu60xX+lop3lYMg8V/taXRl/S1DZoKdC7WuiWmLt7UlAiVzDtSJnQhCP0+YOEXf0emjZ3QNhhOGpbGBlTgck2xJxSUnXwfJlQzezilYSUPOBjYRa9T92WK88nLy1KRIJNRq4oeMN+pv/EYE13WcprH5qIYdgdKYFlza9LLur0WuUiwixPiPQVSKPDSEveJ3/i99XvvpcY8rhKNJ3YTx9OpQxMhNBxFG30B4PXepVwg7A+xOXXp/ympxhqWyhklcQ3qMYMC2qDioWrsSIe+n8iJQjuVAwckCZDTedRer6wntTfQoiDERMOfox/0VNoDDyUjBi8q3fReghAbp36UycShPYqZsWpKwdaueg5gAyq4DekJlAFhkhqbehgbn71MOxe9LWEGwmUjURzaKb5MTE5gwdCsMC19Zc67+iAB4mTbZkMN4p3CMERJU7bRm/FBf8rHIOtLDQ3tMl5DA8S3Ymmha4SC6ny+jHFFJLYJtG0Yno1z6/Dba+c31ke5PhGr2KsvKylxVS0vpzU7LsTxv/EQ+xi8Md/xVuLnCZrAk0/zqOGhY4THgKhuUM4v0p2MaO38Xvq999esZvfZS8rc/3f8AOKmIPLFa0pcyK3XQNyltzgGVv4ajfGOXKuJkH8UuVk7tDj1OHU4NTi1OP6wyyAYeOMnB0qMXtLNXf8ZAA3OaVK6ZLxYMJjWsphzY4Gu/dpj19gAfY81tUsD5zSVYtH32rXxcSvyaluK2h/l+b0jYwBK+hI1AE81FUjMXzFPkn4pFKRv/AFUNJQIjftV2L239FfJPxXyT8V8k/FHqZiG+qksFEyxIFWAzqWnOLV8Ltr5zfVpAKcO48Jao/QtKuJw5KTkZKEoZiweh04NB7/xig2xT/S1/paQqoK6tcDxQWAO38fvq99/3wdnxbNK3JjcNyhTk4OHNQUPNrlsZh/DRj258rvBf70xSICFkdPqtVgDaduXgpWBBhHI0vy4kdHzQijKTOzZ/QPQ0UXFv1cHfb6FZdH4rHdUzPcemTvTHAmCO9akPWNxt1QetK2gpStl1cMNIQgfGc0+4j6mPtmuvGJudv8Clo1lRV1cyHrnq9xVpgDq+Gm418D/NIyacn8MTFX53KddQTcaSKwiIMhnUvGcXr4LbXzm/1Vcs9f8As99Xvv8AwDWgst5w+z0mGkR6P3C3akbOkSEatOSzW3gE9vomzZriLGcgttoAcZ3yemlZPICGVie1dC9EuViLhoNYJ6tRXNFoCCurBvRfYwm9h6B4LI3vff100DSdyLfqu5owCL1d6fZH0gH6Cw9ks14TI5HE+WtkYSXD98/QpKVvRySwO3orfPFnirWj7otHqwaYhiPVSQLisONe0D1pUYy/88FClyqhIVhhmGsvXtSSDLTJ7RTuA5JHVPz9Pvq99/NfSkeY47tKGVKztMtVSBZwy6kvHn/gZWbkttf+O/pNwni/ulMkxit+hqek0P0xfu9S1wx5igq6SLnJ6dgqDocnq01rEWKEr9xe2So34DZMoZHSoSWMoOgfvu9KnerGGgAw2Fx+tbv6kkA4Lv8Aio78izSebSjSWLmN6CwM5BjxpGIaRiCX7VZ8ZgeHrGKkVBIlKNgxjXiv8HX+D/Vf4Ov8F+q/wdf4Ov8AB/qv8HUx2Ek5hxP3RefVBVqxsSWe9L0juDYgsHT/AJ4T5wtCxbqPEU8NidVz0aZDgrhT0+1KJC9xIj9+CnMsTh3Oz9Hvq99/MxhurhaTV5ABJ/KdSkDri7patrT3/wCAYZLNYI31j087+dfTOOZZHcdHmgqLe2x7nU9qkfWVCUrCZ2yRmAt6YyzuSGoajtTPfH4ovZlMVMq67EzrH9vT+rPiN1qdJr9mLH7cvqSpJTgeOEcnNJIiwtifqhFizpBqCabNqCyRm5mazQrl0/OHSanYuWFVL2DIy5YATzXRUcVHFRxUcUDmpRpSVNApzIQrA6gCOvPozHiDxfYmP+vBRxdM1Bay0k7MVaKJmZD8y9ijy5h1qyT9WT+/o99Xvv54fO248f8AFsDiJUWW57fBjJ6YqZUm32F6engxPcoY7CP4qFBet9uPajDJAoA4PRmzCe0unLTnIbuYFkmNAr4D+KEnNAlYNQUGYlNuS2gJ+ShUIwmtaBlnuH5GetBdZiPtDTD40d6E5vroFddYOtTjlLKvSMc7rBoO22rpSqv7sifFf7RX+0V/tFcGasftTOP34Wo6JkoKFQchIFrAC9Z/7ZrkE3YzeFh4irOcc9h84qdIN8BRShyjiN6XSDLvu936PfV77/wkrjJwjuUAkWAs+C+etb0DPIZHf1Gnc+9AVKUwdVoKGAnDc6/iaPDgm09yy9870ZOYGgV/m1NY7QFk0BvQUeRFlugXX8FfO/xV4R8FCQlgTpHNEEDS2Jav8hk3UN1sdGHWvmf4r5n+KC3Zt4222rpWZCpVaNOI+QdXmjN5oh9Pv2KgOBxc2Rw4GtEF+lFitliCdH+JgJrVx5ijR672+ZoCd6JB7FBB+xr5mj4kMrl9ooWL8IT1hPzVwOyFjo2ezPFO9yGEcj/Nq6XGqya8Uz5P207oYIdm7U4bsmXVf19Pvq99/wCJh71MHeiyw6P3Z96FTO/7VNLZ5Wg0I1lfuriK1I6GD00MtZP1ZZZZZXKyUkySGJlIRK7JKXn3/RM3W1dD0y/3NP2nKS/wl6KInZ0BYbxZ7K0yRySt3sUKDZAl+9MiprJe8aVPqAgGnelCtBMZtvT4Elgh+YqUhJln7KjnAuhrRFLsLMT+KkF2q2KDCDqo60+S8LZ2Nr7aVK+F4uGgdR/5ffV77/2c0ihYndilZWuRcnbloAgSwJeSOKd6GUK63rUk8Ifnn2qEJShd8YWc0KcIDK5i21TGAJOJLiYnalzlTSyx/bkoKpMsG07tY53WXWTNM2sYTFqWbYSue1MG8Ej9y9Ngsnk6lBJOYF0GneiUCjagddqCyIISab80osPN46UTySQX5qcACoS7rtlOnP8Ay++r33/rLAuhWwDhimljizQzrU91g3nXjpRM34N0fLeKnEMuVvEVLgwl3trGm8kWR3nOrQFEqO1NqbMKsLOtWb4Gm+lY4DN696mKGJiTbuX80wJYZ3N6hAVhYG+lDGRdIWlo4IzIdKttDfSWepYagIIeue9EpvB1pzCNquusaKDAbabUs2WG44ahCUPa0+//ACe+r33/AKpokDWkieA/dKeiooYpZoVSMUMY6epb1e5QfV1PZU9vzU2j0mhamWbUQEXKnx9qG9TLMUt9yhN33ZH/ACe+rOma5niuZ4rmeK5niuZ4rmeK5niuZ4rmeK5niuZ4rmeK5niuZ4rmVzPFczxXM8VzPFczxXM8VzPFczxXM8VzPFczxXM8VzPFczxXM8VzPFczxXIrmVzPFczxXM8VzPFczxXM8VzPFczxXM8VzK5niuZ4rmeK5niuZ4rmeK5niuZ4osFkba1yPFcjxXI8VyPFcjxXI8VyPFcjxXI8VyPFcjxXI8VyPFTkQJypew8VDUVFQ1FQ1FXqGoqGkFJgvVV/NczxXM8VzPFczxXM8VyPFczxXM8VzPFczxXM8VzPFczxXM8VzPFczxXM8VzPFczxWNOa/9oADAMBAAIAAwAAABB33XX3nnmbHLJ2xz0bD3Xnn3HnX33X3XXXHHHHnHH3XnXHnnX2WlropI746JVoHx56+BLLKoLY74rJaapZ4Kb4p6L4Yq7Y56aI672k67YK4qKqrMfb2vOUYoZmlIFjnGtxuljqY5Y474abJZ59o4Zl737o47Y4aZpYIYhoJ4oJZsMKDxlirKWVeF1oZZq9iIYZoc47k4u3YaoaR7b54bZIqLadeEr30YUiODwRe/7O05croN35rbq44LDdy0ooo7coaJq5r5qa32a6vM2576GVnPPFfuK33zK7Kr75IZIKKQCjKYbZxAIbZI6Irr8nVhM+rbrJfKcFmJkxtJkR7I67Z7ZppYLLW3ra7YZp7aca/KX7dsmjj1lIwR6HKc0S/wAwii2EwEJS6WaC2Sec46KO2G24tuPfenDFjDNRHYsB9AwdAn5JJewwwL8K5lFeCoNoiVti6SOihH3fMe4Qd91wKJNvg528Lfjrm/1P7k6vxqZvXS6994F9tKK+22DmYY9bVTxA4HDaNB52+W/UxQ5Gt9MpwSTad8caSlD9599+KKaKIkwgG1SoN/viZgz257k2ONV4FdwIRhfqoqzEpECwIbX+9+OCiu0YtB+7pwGY0VPzYPsEgGaO7vtB8AnQOfStAL7sKW52fd8ma2SOGM7h9sozBw84z8+UZfaqGG+OPAw3qrJhe+7QrMeScvS8o6ySSykDE9Nfp3zSqYndY7MmN8KpiYedZ/2sjyL+sI7x2aOSHrpCW57OMzvzkQbgQxNRdGzkCs99up9iA9oiGYfAOC5OeYW6iWRvoWADUlh/eQCPCdNP9yjYxF+8997c0BmEwk8dEL4n7jEAaGeSiVtOBBVhoONXk21SRNQhmlE6H299E2w2d7J3nvJ2kLQTY8SO6eK95WShq4zlGzUY3Ei7T8IaZkwJ+MLzmqIXh6BLLdBVeLMaWmWimdoamKiu3K+KoYU8LhUz9j8//wBkoXLYrV/fKwZ+9G2syIhvjhnqleRljmugXnttu6sU/ZjI2WxibpUF4iRlbfPFUIuAHumfh6n9ihvbXhilns/1q08zhAZlTQ+uL9i7o/jtOUiUS37a0fthpD/ElQtstbSuhmqhulrjipotgkUB6bAvMzX4VjmoJhuYkUVwWgoRtrqgokveEommgi3mpmUqpdHgRd+GlhpFNYk+GrvpJjxTpK+teIkEnjijvXB5uhmp3D2sDv8A9rwA7Lsjy85MzGnPmJgp7IIf6fh/W+5qbqLJX24LloocqdB628MZlELqjAwBWpfC66zqCr6aNwQK3iqGdp44o53/AKq1oSCqZ20E1CZuf2aDrk04naXPTfguBmMskvcpUUAequWK6VojnDUPG6ZAtD0aGuizriwYXXt+YvxZjjIrPdJFTJpPkJeOqaK98KMStAa2W+emaKMpHfqLcMzhMDMaYetJrz4GMqCmyG+FQG2S699KGjKm6KmyKqGa62jnxkIebS1/J0hkgS+hu1QOm2mc+m56q6C19GumiKKoCC6G+WSGgDpIt6zxSomNepccXfCGyC2uayiiWGN8G9tW2ymqSC4K+iSOK6kLT4iAaNdff7CBSYOKqiCGGOqCWGqURq619iCaG+ySq+2GGOWSKXmNq2Rx3UyLaKY58iWy7/RE2iqaWf8AKvnaDrqjiilvqmrnhhjqpolugmpgjgqR9pmHvMDLfJY/uionhuhknZbXfXXbXbfXfbXXTbfTbfXbXfbfHfTDfHTnz73/AM+001102333n//EACoRAQACAQIEBgMBAQEBAAAAAAEAESExQVFhcZEQgaGx0fAgweHxMEBQ/9oACAEDAQE/ELly5cuXLlzG6H6Rsw+Pvfdiwc48XuSGLh3mz57y5cuXLly5cuXLly5cuXLly5cuXLly5cuXLly4P/IQLnbnF+D3vuxaDjFsUhAY4bPV4f3/AOCR/wCTCunHc+Zo2vBw+sAiwaQ1Oq0Pn/dYNYnLVgiHM3/kVW38DNk3QEF+AiqML9aS30fqUxUFobHkuLvem5dDoDN0t7tsWVNSbPSHrRo5r/YtJPVKlziiQFaJR/8AUSzGsdB68/FejcQWMXV7XrUf+gClPNiCl11Zr+NIN4ccDFL7Ra+4+ZZq7/fvHJMIZeV6IB7MaYq0JWqFVvKEsHGVDtnXhHsPtA9lRzWzDToDhzZrihu6f7Kyl35TE3m8Ov4rkRWr8RTTxC2iajNW83eZDyS/iIE1lnwf8texVCYTkUlJrcD77PWEEOSyyk6wybzDOouh+2J2oKMV58Ocs1RwOJ+pWCwYThtjbhHFU6qp7MB4mAqDldtOG5pkzo5eZ/U/0PxBInKlR6JumFUOPrpvEuMhw4g1tuka518QbjGYA8v+CsMckxL++cuxsPbH8RztUyx4v+LrPcldpuALFaf5MECrKAL4ygc5Fcd/iFj1wCs8ubECPLp8olsW7bE5Hv8Aycj3/k5Hv/IERgfeEBU2U9k5bOUx8CkCwh2rYlGHwSPT1eEVBlzLg9Hh/Jvn/wCm9XA/qDLDcyVdBjt+QgS7/wCRUlNcZz8Qiw1AMscdArWURWdORLoVmx9HEGUwFv3nBAGPosDxrV2HzF6DzcqxU19pVt7Tl+0E/r5Q0SCbA7RZ/wB4QM8289OU1g+cdrkOL/IBRF8c+0K6LQ2go4+6zbBubn8ggeNnhyeX/XhH/g9VnPbvMLU8i/iEBqtLovlrG5Z9/AmFhHgv6ekSAUlp2zdNOFJwd5hSOlYyXjjzZq/e0SEbDEAHU3zgqsmiNdIY1a4xINaY9SSc9L9ugzKxQglRk4w4lvHMOhNHq7veauib4mHo8OE5LPNK4HSWPbAB2sNB0Rj9uZxW5kzWDiaf8CP5top158iDCoJUXFxSYRqsjVmnLUp5zSVk1dN9/DYdM6XvEBp6wGQmiAd59RAtQsNgV5R9gPCpjr1oz5zkHYjphn70ledK9NIyLKr9xNA2HH+QEDkNexKA2OnzNZQLCZF1ePKzvHGcDitrf6f3reblBTY455lnDUpwynDKcMEFBUWxJwJXnqkbhHZdWmy+R4Vzlizbe/kfSAKSyDh56nD+eKG6oWKLmcZHfwNY/kFtEEHbXrvCOyhOVHlaYSu7ZKpxkAC8rHlYrR01TALaRSHnnEAV3K9Mu/pPtI4/DArbHbjBABFnrRO9QVrMXryGZlG41KMcEzbCVFuem+/CGDk0GPjQJTW3q23EQLaF1557xGknQuN71yV3IIC7A5m/sPKOVWk3zTUys108ufHMMth0PmNLbM1rA1tjfj0z7iHFSt1v5p/tJ/3kilIx0XEV3ZrwABwPAElFUw1j+QOcTwIa3LtR+1eUK2waZzcPTcNb7Q6fARt4uu3rtL4uxlVUJNqfmdPt/Z0+39nR7f2EtOb6doaHNcucqIrqRM+3um0BILy1N/tRsBfMh7ddcmOZnX3gVcgaZdAAf1EVHBe/a/WZ529T9nOJau1OpxVz0jUQHVzH4lnNWYLrIl7CdIhu6A7YjEUB9Iu3ftC3X2iAfXCMUtBjjjSXbENzSqM01hvQ6ccDAC4Sy9G8I42LTZWMZdXwCjy9vAA1iGfCk0nWEfy9WeKhN5NxyHaDTk9n5iVFeRFV9vT5lUSbL35ShVXvOQlFRTzhVO/P5mtQ4b40bz2qMaDhvDYw2o6A28oJqL5yrbulC1WmnZxflCyrOHEdZar7MNbOXltiFHjheFZWummYzDhgcjSOJrV22NHoGeDc4esnTb0qCdTy78biE0N7q3hLShFHcbHXW+GmsEYgaQBvbO/nKEFY9n+w5WlGz8xso40s82uOLtvi0RIWtT3HLieZuKiqRns/Y8cZR66TGnz+/wBl89jtFufSP5erPFuHTnYVinUK5xXtn/SziyO6Flv67Tme0AOYbfE0BG9a9YDt7fyPQp21+JTKAYNfiYvo9PBALaY6N8N8cyaHW/TUgVHIYuq058vVhmBt6l484GmSVre/WF3oaPH+x/8ApHyhld1z5DrvE7YN3aMr143E+su+nGxhczw/sPm56nOE3j1c4oR1+/EpgQAhs0vW93pwiKoC1029JSJoTeM4XveOcGU2mGyzIOUvduwVU/XaRqYz2fseKrpGP2/rpK1BAq5hWvs/P1ZDwGNc43jo4d39+F1YOeCq11ZvFV8xtbU5rtLIkekWso784jd2hvdifefM+g+YtNLV0+8HXHG+XjZtWJr4H2p/jC7njpFuGW3nBwikjXn8xdiGgaW1df7PoT5hJQcBPmA/N/ZTl7n9mkgRG9tH3POpd0j64xzg+aYpybqw7+0fIYAvGoGlPJDPzAAXYOuWzxWzto40AKEZ7P2PHZp9tyAeQSK9Pv36RLr8/VkPAVkU1Lz2l/EYNwLyi5g1fX9z6D+wTX0f2UglWrWehKXAIoHDHB1fKItBevzM7KPFP7jgYOr5h89TJY15kt/BHZivAPVYJqfP4gTYu8MDdrDTkeDpAOsBRtFudZTtOZtDOwDS+cElfLX1MRNks2ds/qbYWv8AkTsN7zAeTXrvBTiMubyKqrvzxx194BcurV42iHqKO0avEZ7P2PwyE5/sQhiI2R8dEJaz5tfD1ZDwVbCW06DRdNa8ravSUG1AbzYm1T3nMdpzPaHGdoxS1dekrEuSDnFjnLKS8Ey84Fgq83rAl3DfLxE2rHgQDLTkfL4rREA3es8qbly8HwrWEmX62r3jhiamjyf0kdJdAr9+5h+4tWta40jKqNWGcdYVYTcvT+T9ywQAd0/TSU7U4XfqZAgck9wmpjPZ+x+AJKSVXc2jCqgOXz4i2oRYURfnvPgPeM7TDNYKa0cGevIeC3kRW3EKfMeWrfD9WEbX1/2ffKUc94S3r3dIjhXaXl264JmcTh4SrruBEql7GkE3Xnl6RxWXN+n7ym8Oh+yav1mnNdIAFH4nYDe3av5c3i+SjuyvKrktbV1daa4gWF5AmTCvFleAunHhh1IEO00HHfjDnCtzWHkAOqgPebb6BX9H3aMbxRDDW4KtV4AFvHBoLoRIcHI3qMwUZ7P2PyI+DoXCBWedWLch7zN26f0cAia9TPeoELVHvDwEAxxv97+0P7cVtFhNd/Rb1ArXBt+oBBQYIVqzo58YyFCuT8y4nd/2H0PmXoA4FYcY0XvKNwK1z1uteMckq8+DCzn7SqweK+AyzRT7eBZatdcGdMZ58J9b4RVq3qNBzbp7StWSaapyx3hYltb0twxKq0vErEyYGhhVjWcyE1PA5ycmKM5ajVVaMVwch7g8aZrY8EL9EP5GsfF0LmoE0XxiZ7WfRcEcoriP3x94NxPUT2uI3XSqVdUYW2BZhXEzCXaGNDXUbnHojoxYWw6zeXDU6MGslL89D1mKso5sUoON7r9xR6h/swKfrnAq84MCvAeb0LMUkmjzYunKjOYrLUcbdALYZfgYbQV5E/fgCO1loQylCg1XAS16zvPZsc5bwPGMa5trvY/UBhx0cHBz4nnNcDnGIXK7HAxhw3Lgy5g4FjzfMS7EcI5N4ORBzuue3vN2HPTt83+aRH8vpuDwETthdWi8651vnERfLaqqtBq8gJxwYICxEGI8MSpG1oy52+bj0licrKIby79InP8AkbYNIxKt1lOleBHB0kAjcjw5dJmWRwmWWao+6TSwGhwICtEx51KS+8VtUwbwcOBzlvaR9b1vn+ozKJvi6NB6Pecn1PmE9ZBNTjEizFh16DxOT6QUgCU03z68JbmjNgicwLB2TR46IqOtONbzq6BVASjUsbvg9pp/NI1j+X0XB4CPkgdUl2i8FkVFtjXnmbX8y/BBuHoB66w1dE3c31gqF2aMEzsI7rwP27RqcGwGkcypoj/Mxnrvhrg4HJMKyxxyg1HzazOIymrhG4EhVbGZEKU/EqriAdBjLxaEw0SjTbcsU2wLrcOJwespNRWkt3YclUtFnUwYtq9TSmmnSUq+giYeJZmmlv0T2PwRDqL/AAI/l9NweAm1YvMt9Z201EcjyY9LRlMDLQZcvTaAjzARqD/Ahwu6AKWdMxjswYf4EP8AAmLE8y3TFJgzP86Em5jGzwecdeb+vDhyl6XLQTg9Y4FosvcluAdYul03gwWFYwEcOBsN44BiK+nxMuB6uuIgLf65RZlu0Jo4E01mVwK4msFEcHtH4hEbP+n6itvxNY/l9FweAgRUtRLQ5FriqkNM5gC6WsuxK3WM4E0KKCgGEvHtAFZuTKSlamdpl2N7xklB/gQBIUKHhm32uJAL8uVfv2j4ARK63ABbdtov6UUlaRejGu49H3uc52fmDfcNqyeri3iy1Nhx3ql5Nah6EaQhMJ6RE+jrNZEPf+TQnmujob+faN6fNNOOW0ep+yWIrqm9qSxvbEUo66Oz0dGIqnPrcyrDbh5wpTDWrri56ZGXpa3PTPb/AIAj8/puCKEVVtOUKs2Tk7MPshxGz0hEaDhe1fdYoukKvqUPLD6Moe3lEJXg9pYHBS6Sv9HzENG9WOrX9DgfvwLrAovsfKFdrXW+R96SrK6KKyOPbeJlN+dmM406MDlDVjTMVKL0fmFhS3XDnrmZq3VWgvm1MQsF1bezi/AISrsQyXzD3bdDMpJqro0zIa9Lqsn86lTu6X3aPRp6xWVGpkrrwIEktFYa3C78zHOU5lMChjz1qO0Xk+YpZHo+YxY4PaL82iLmFcSp0/ENKDepFTFNBKeXcpLOptKcMPtFIGCXRg9HETeCnvPYQ0++MxQvwM1L9HiRbmh1mGvlmPWQ341/IUA0KKyP3WFBV67cjlGkpYUVrnRnHPb+xnZ8tWsvHHGXVKuCwbeXBpWOPlMAns9HRjZUo3vSXPQl1SiVVdDjSwn1HwoQptls2SeYKDxC2us1JQ1YdSMNQBsATsIFuRh/zZ/2s77g9iPMNnEHYH6/I8NM1ikheR9r2iKp8RqC9ylcg1+eieAiMKRQZrq1oRRa2qpy8VraopuafN3ltse0PtTVaIqMedquWlX6Sxs+k1APbzirrHY+Zurv/IkyjzzE7OOJpGcFwiaIAlK3V+3AIVvyOb+iNK4HqJzUA9HVXGcdc8vOIzp7P37OsyRex0NCUp5zTy3HmQ2qy/CxwF6U8as4TpdRv1dX24HgZXpNmHkx9KPD2gJDlwIDwr7966y8ku+I23kORoOKOsav2pZ+wHpEOoLfvPQ5zWxavm3+RC8YeEBXtGvfukpHq/PGVur2eni3M9Jw5nP3PJDaJon301ISv4i2d9nWDBr5uRamBbq0TEHh5K62gP8AT5gZiwOr0lxN8jKyzsHrCqTdlygff7i4BRS358/0+WtWqzThp3m2e7GTqGpOSTsxxO/QeEpbx2IgzHvmJ0Lx7woUoeV/2NeoWCcdHEWra5YRKwlgz+8oxDGZZ2JgPb0f084nNE5swIwd8gr6rMabqBFh1LefEG3kQOKbArsG9IiegyrpAscXLxfBtx1dvzNYKrIhat99YLC6lQaCx9OcunZrxu+4jUeo4lSXMnzZGVdqOKqtaaoFmiVyi/XeGCc2c1BZdpzzC8xDzvb+xRekVwefKt9nXGj0PWa/R4b15aYFFv0859z+x3CesxJu158ZeVT276QGNFPMxM785+ogqW4d4HkXaKNu6Wuh+2jnBzBarT1L24gV1l6tet/fqOhE8+bduRyLXiRAWA2GjmN352ytH93z1Xc5kqS2zyeZs9SNNpx4c10DrCVUy8DXnjPo5khN0McAORoeUNFrhp6EapbxEzqa72egHvEKd4BR2NerbKNV2lJ+RrHw2oZy2QXb+8orvdv/AIgmzNTUPVzcs10CMBj0v3aLC96T61lgsc8wqg1LssA0cMetRAt0J5mfW5UFXKZBb+SAI76hBBcnjTjtEqh18pg6+PvH72uZ0YOuiDOmV1ruUMsBbIW1ZuPMjY0UUwNcd15tw8ACV6jByBsa3bS/P1q/xMuCO5li6q/z0g57b8TX8NUVNUX/AMxQ2HvDV7kcLgX1sYk0qc1OaiAlplI2Uvvn9xncUPTMt6LobBt1YAYYlWI5xv8A2Wbn6vVbeuz1xzI3FH6cuPlLgvFd+jV9uKROLMAXWwHrUTsW8pQUB5TkinvGgpEneYtPFdelfuJNT2PxFoZz3ecyKuv4msfzW3QmqL/PSBf7D1PmIhy1rZ4+fvDZyZYlo321TLaHqrnVW3nF0oN18TWOSvnKYdKPbwCI6S2u8x8BoUA8S9PbjEa25p8zk+p8wEmkYcHlxmUFUlgKkwg4UmyCgtAVDKhgX/mmZQysxrB97xxootOBtfPetjXwI/miE/2ErNP+G5r0fvqQ2h9WZlt8HTy3PWZhTzuV8vAbecojQld2urWr8RO4xCjUmjt5zIo4jI2sY2gCKbuE1R9pbv7QxH7VD9HM1pf/AFb3Wrtl9IsBPQ7OLz8NOqMivgax/wDDhcNzZ8oCCLiZPn3ghfsZr0uxF0qex7859z+xtbTy+Yqt+v6h0fZyl83p8yoFQ9ebMeh5wwolAhpiAukWp2avR1YyWfkf5NTH0gNgeuYJYV0IY9A2/kRnSfkYaklIIvHeO7fA1/8AY5RubUgtW4DpMGsREpN4GK4lhFNWKrnWYoW5YABqYem3/I1lSpUqVKlSpUqVKlSpUqVKlSpUqVKlSopd8MBR+QoefjmWy2bjSVKlSpUqVKlQn//EACoRAQABAwMCBwADAQEBAAAAAAERACExQVFhcZEQgaGxwdHwIDDh8UBQ/9oACAECAQE/EP6Jo5LnWkhh8cvl7V5CpRUBambUgo13jY/a1H/lj+mPA/pVJ9T5PnwTWXy9qkTtVuzSNqEBZcOvLxtv0/8AmLq+w9T5PWkoZNy56Y86POpGTP61MEkbtj1+JpIeLTQ+/Pt/E3gi6hbD89qKX1X6KSH8XSv2HxSHoSFHIYY2caGL0nNnRg7FcNDUnmN980nhiXSA6pPeg5MNMmdkPSptTYC+j4epvJw/23aJXFE3L+NmA5peF8T5f24IaugHl/IVeAmrmtBlFWIvHJ7UVNz9YpwTf0YenFMgb+jD0pnCFhWLjgxoXb1MBkLIzYwxBnbJRIqVIhqTBImyUS9sb8UguYn4bae9CJiIlNzNymCQMvwfLpgvi5S7gMv0USgY6vvFWx0H43/iVLijZJ/plrBgP2rU650P4kyKUg/1YiRNA1WLLMjtGulJhEZTfakdShizZxioWFr+9PiAy7cHPtQ8GKu8zGpR7SLqHUN7Ds+zoTTMpi6MMtbRzRFIYAg5lL+1SJLZYC+gE94lZVTTLr5GLGEK/wCLoH2USFYxI6dmgUxYJC0acjU5oQ1nbuop+Imigbp28YGSk2trtNLp56fH9Oh6+mnpR/yl54UIA/pAWvZNje3FPXohdZnjkvQfEghlW20uhVujqTPrf9vSaS7ytjddCuBPI6c+1EAUOHV5vpzlzjPL7H1XL7H1XL7H1SKJS/mlPTQx2vt6Vie63vpzXC71xO9JZXVGRbtmA9KUBTupY76UXoqs54NX9rR0s/vU5qMfU36c++HRAT2/sDGwYTP+lGb8EFrxM7tH8UQj/U05FdNvzrSlWWRuzBddAjWlMssktcJQMQ+5enMi6i/UE8BQhVv+A520D1UNoODV/X+m2bpI7Cgdol3ay8/jeuZ/HNcz+OaVMmms4ZLspfapG1WfTzfyvxpWJ9PVi/G9WTODQ0nmd9sayxgD09mM9GoOzqbD2Vt0mm2EbSfVWypy6vVoVNMXvJtE6bRajeTOife5VxcdTfSTkxOHDoh0v/y2sPftUwsnLH3Ti6GYZj0+aNrI+DEwpmhBkxrHm3d6LJuFtDZ5ub39KDkQIlZzMmhNLUVsjM3RIZbQbBWnr99ABcNUCroEcSs+xWay0ut7bX0q7F7oUKhMcFDyryK4HYpGYPWCYiYxMVKRMbNBcrNKagu3TBsQaVBIl9uyGhm8HrNJorQvckzlP21cr3izz9lZInqL5E6V0PzpTM/O3BtUEDp5Tgv8U9SAy0aijlmPhjzq7odGfqtytsPb+k/nqI8Hy8e9PUlasrBRsAbzfRNfXWSoxvRvpjtU+nq0BvRmHHdL/tqVK5yUgBFvdyiNHjahruXYB5B4CIhGLWV1btlCM3z7o2QLt33VgnzL8ypT2nY6k1yfhzQMrAjM+99d6ZTbzbql5+qMoMzG2ljEVu72f7S2/kbfulDhqxiaLbpYTD8eTQNwHYRAed3p4Cs8OY0U317UQXf51/gwwwoE5PzWvOCzN9sT+ih3Chi2SGOjeaIAHCPooUkhKU6H1PvfxO1dol0oS2f6n0/B0MfdBQO6ryy96fCTObJqKmDk+kLY8iInXS8Ur+k+qtVDj9elkO7DUoXF82OIbzJm3+8HuoOx8mXyIPemw5fo9KJLDL2iPenWj5gI+RPx60aYirgJbWP79mksvfKcthGQjFs8ayXYbeTupVK2V+3q+UjFoe1Cp6wHk9w4cWcSkQYyeIuGbcNBhsht+8miQrg+byrZ6l72LdGbX9ZlgFMr7RRoi9pN+aCIMtdu5RqHupwu7RRAzEAJYDMntX/GU/4yjgeKzpjNYAEHwSs7+CHQRJP6EM0H2oopcSCW0reUT81AYWbSR+z/ALUGlZg5X/b3qAk8EgnBnLqaWG9f9X7UWQutVInyXP8Ama/Jr8mvyalOjGbtnR0nDuUojjF8nnVwx0X1LVgRY4Dr5471KTQvFrMMOJc7hWJB0fqnSCcMPZtj2yU0CRJJfffakRwqb05EnVgwb3j0lqcJBw/DuP8ApeoGwvb2VgnYX7UBhUOGduCi0Gzdb5eGoKI9XtEedOxiSm1754oMZZ7c1xfzpTHY/nSnSPSOtv3zQNMDlUYOXRz3JL8p80DCmZjki5rGQkhqzpeCSOfRfCwsNT4SktPA/l697UUVOH5iO0V+n+KjIe30rECgpIHD91YQ1YMc6yb1CWWmXrF/DhWJFokCTigkieuly5EE6XntI0OU5zuHXU5pR01yGetOhIYkUW2oTHd0MuFJKBTCfKppwW9HT6qGw1Ek3ksWYdfLqkHb7gXmZAOmUkaHaPaVdbrlrcIWOf8Ar8Vx8H+0NYvPaI2gz+ZuFt8YDEtj1bwUny7gQG8o2VA3IwNAnZBKIt4GwhciI6WqUOqhBl3z6WikIDMsJ9UDc4OvTnjXS9lBHg4d+HnZ8nRCgO1Ne693wF6IK2RQ8FRGQohif5+ve1HhbwHiG+phEbz725VAxD/OtbZ7/wCVx/zpS4sDqM97EUN1mm3S4Rx2r/rFCkBDExsuZXWgEmVlav8AoUf96p/BL9SIzpfSF946p29np7utDBV0mJudUO5cbgMNm3LW3IZdEzm7e7Lb+FmI2ZgnHrUmMjcHufNHAj6nnr+vSI4bFssrfQx50XHJoZfPbc96AFDofL8He9O2vobtI9lxpDxxS630bBYDy+80XNxPayUGuVOiAnGguEiKutyJ1ii2KExpCziGaX1dh3xSMIM3Ib24YdNqgMn4/P8AWfSFNe693xykG/x+3iigVIiqSxXHX/aP5eue1FFMJi22vW89jwkxv8ziNovM/VbB7v1XB7qKEMXVQFgTS63Hwp2/dTY7yn/UU/6igIlYM3oUcwi/QxEapvoR7kRZpEr4Wnm15/guC+iFpXVjMZZowPePqgrLlcwYm/xXEpwNt0Gv+GV/yz6qzpUmDNkccPehYmOk3uUCN/8AGKkHaBC+QHdqfySobTxSMk9xtSJQg5MTGp7jXJelKO1Ne693xw5D92qyAr93zRjNTzXKP5eue1HgIkpa6UQCTQMwaYBKGKMZnzifJvxXO7lcnuUEowYHBy6T6FXmdkFAn1noQb74KI7ikEEwQh6DFHSs9T7penDZhlY0bl5OYmm/6E1XXTmhUzHQOr9U5aHRfmgMEnEn3T6cRhM3y+P++C4JTFQmuQcc1blajF/rypEOWJDe1qPVlzq8mU2ow0INd+jmpFnONR/0z6mtE2RpJ7UktawdI5701L0EGEXmZiPK/akWW9CeikdIKle2pr3Xu/wQyvZ0aPl7dKZUQ8v4AyoKg2Xab+Hr3tRRV/g0nWLxJOOYJjNFg01DgE1EQ7CsfDPXX1eL+dK4/wCdK4350oEcATAzM9qgbVLMCzMG25DQhCE3RUHSCfzSyjMcPSH3etMYxfTGI5Te0W96VtAZbu3TfxEsUTezFXHnffn4Mkwlx5qXAco/YUQRGiZfMPc7FGURuj7PpUSpEwFXXL9UAIN4kF+CKukDomXWDO/c2Cjh5Q9fuoMJLTJ7N6nSD0fdalOo+zWHpTXuvd/ggIcVOd4mPWritx+CjwWCWr4pko6vZwc1JWXF8w4nmvXPaiiosI8wY2XPl9Ffr/umQ7vxomJH6LmnFIAJ9Abr7b96/wCo/VRSAbwy+oGYqHYJc0ePJxVtFup8LRkoMpfvUGegqOzJWlPwyj2r4sHoD3qOvDE2TpckpKXJ8S7QtTIJWg1nGYMxWgXqPb7UkmhMMATExLLi+3nRWE9/kLQzCDaPigkqdn3uYbJzyVHoNaX6ROPPHOaJLTR2+KeGZJgFTqExWpeqgfL6UqxeWtvb6pyCfuWkZX0Xh7r3f5nhIFTlp5Dg5aNCjEfLzQ/WQHlN/WvXvajwaFH50rjUJRB9fqlSIV1Yg7M/tKkBFuz6+3Q4pvlst2zp3/YokyuxoN8+VDpXUnd2fWrpvMrchur7L5xqNMxIszjcsXYvYm0FHOzBHhKXh7lKrL/GjDPwng8xJixeImZYI5M+z/3qrKLGG+yC4Izf/aKcADoINi978eVMbkV9JCM/OHTDTGkyAL9al9wa794pyAlXX4IpQhbY34sjnyobjV+WI7Vh6U17r3f6jNDQoUpt+vRg4DSvXvahihoks23TqRDL1+IJQPrRsInf7qIQOHGSzpvU8DONMZdNvVKzeS6QJd6Aa3+D6iGjNdKDNWKkq7wdoF2LqQoLFqXhhmJLLkWfai1Y1AneiyuMUVI1NUBShyfPT78vB0kBUqpKCNTgMvT91qDGtpfx6YJ1s1CKTagQyIYMSR600czLZ3cf42mUFL47ZYL5tSkaQuRnzs+lqFt7NJoX8q7FSzXuvd/t9W9vEOTblpkdHlTISUxRe+YOxaji2NG5GvtpUeF8Js/VYmLYcRM6C9ozqUACAoWsWo3d2gbW1NEq17DQAQU2eA1aBEkaS25m/wDvvVyEvRfNAUNHLrsdaJZ8ru+F+Awp8XoaNt0Mdd3gsblNkDVMGemI4x53q+iKbcsvB9OGfA75EfQPirYRMOo4f16lLO7fh5PUvvAR9lX86GJutQ/Hl7ZqBL2hPjEnFodmRx9PD33u/wBvr3t4FPMNA3pKXPBCwhqSW4k961d5Ae4vrQF1OROyx6Va+OZB20pwQc2S8WaKKieYG78GXuhFmtVW9LwRLjOO8npQrQ8L7e3LP7rSKSwXjXtS0twwel/WouBx4O+hRKenAqykSk6QFTkTGzVqsZMC0YQRAkacayULIA10qANx1PRHcqZssvOmaaIna846+fy2KJm8x1ETPrrisfTw917vguCif4n8vXvbwKl5FpyhiRU1NBGtEHz+604eAohKX/T8tglb8ve+6ZIQ5fdEtO2UuyPGEMsy2EDN5lVtiNe9f9QqbFziJHCbjWX4WfBi83kf9q+jPkaHzRoVQyGE0Y14pIAUpGQ8P2vFZcyze9KglL6JF7XbSL2xigbe5UCE9nbFIS0XcSgRvOZZ4xM5xRnqKSWijwYKcl48Pde74CQ6B0oII/gfy9e9vFirYIcu+/QkdbWR2rDQIGd+C0Ftc0MJUjNjk+T6oDkQDBaZnztFWkJBjjpS0IlZ8jV+tglbxloSClwIYbaDq3vNsAEq5QzzsWk1vKEuSKZmIjUeYnmkSWMtA8DlB7aUgl9RTd9BX7JWMMxebDoXglYPKi0IXZGCDDcnMNytLpIdnyowJJUer0qRhf8AzV/AbSdQt1rWOEy6pjoX4UDEeEVrnMbnT4dxUZaJUjWRhAyomk0eqxkwnCNx604bdIzsfuvnS2Quu+/7/tZsuCehMTzXrFQ0EFa9F4e693+31728CjF0MhfvWiDzR8xqzDO8aG7XX8rzueoHnQyZ/wBNvYpwbC3fMp3g/lfV0qG7t9qFgvT7q+tCtsd3nbSL9KNhwZY7jzpIMETg5Z2t1qdrnN7JpHxtTKS+x2vmNyzU4x6y91LkPqKsg48lFxg75jyLvlTUEWNI1NMk83NfBswBq2KwxwH0L1YNSixExZRKHAdbWpS9HFgfCcInFNtxFjuJ1JMrCjs9iGyM4CMroErpTtu0uyIgtDZW69RcFRTBU7MuzShAuzRg+Huvd/mC3Cjt38UI1H28cCkRsPFAMVCJMU+sFzqXPUo9GQ+rX6G5X59VFyw6+COGeybPw6dxDonovqWqeG8k96maIkx1vTRW5lmyaQfopNvOkX5ZmV1bUWcYU3su48q53f6VFOPMIYDaLzjMcZoQBV7aRYSxJd2OsTgltV0wx0dkyO43KNaQhO5AxuSw6TamxA1f2XQ1oCbEqSQwsSZJEYbmt/AAgQZvioJ7OIFkCNmARdgmrcJWD9pz81mYSwFpvd1/WLFuX2U5PZTH08CiefVX+gVSNQARy2oZv/B3y2To4+vCYKnRpxEYmzeCDsbRQwJKac07h3/2mYhaA5ai3cbTId7xRIEe7/aLIJxf/at9fedLz6XrPUNV+P8AaYkB0fuhtpNz6fujJvamp5UGTFKsEbiQMwBPTS0UiVg/8B93TBfB3wD7lQVI5cQXtfjH/LtB1k7z1PV1Kt5b7ruuV5b1N1xYHozIOAm0NFAwl0s65Cckdl4GO3GnRgdLupz4KC5/X286S68GSwY7czzQ2s6k6smIqJre+zjr7Z6wVibeYNKGhvfSLGnNSNHYoQCsuaxWEAA7fzz2KaWVxpDyDU6fXtRKce3Xx0kOH4f1qfhCUy3meY+GhVbs+r+VYiL5XXS0HWl/zf7VyBGQx80W8wxB9+VA4IIx/tWWmwMX9ZN9uZqecppxx+5ooePd7afrVeyTy+qP8mbP1Pauf3B+1ou8AzyOp96dGprT+HNHrARFrW42oyL5nbSG3lG1Mly6pleUt4326YBQF7IlOLIjro0LGAsFKihdaNiRwRB0kWhCufyIphuzyQ9j3q4KBk+TcdH5kqWt3mJ8ta43anJhIRBZZXzB2q7FhpPJiTypxujDIGtsnl23oNtMcBB2PhikQErTmK/TY+/6IEhqP2KQaM0QXqbm1GJw+N6D371ngOSfql4+Z5KsPJQobG93vU2jtXC7UGMAzFiJm0Rub64qcFzwRzycH4FRoh7x544gMUEKmxrHMaz6Z1UAQE6vlPhVARI7gHdoQOYyTHWGApeoT9+NKCRNZPRTCtNkItokDRScwe0rkqDi0PoGDjAdBegV8wE7BAyOyMssKjBPlA9h62NW0TvZGzZhFhkRFiHQ2oZSPlue4IYXgiJYCanUb1gdSweljR0PYBbkdRLI7qE1KtSrEZlMgF1di55pyJS107DJ57Dh0qhzd1Vukq8qtXhB5R1t11p+ErJQM4diT6yVqf0I+X2q4XN3P7pXJU/zPC4WfmaUij2aIDbV0P3q0RDB/S4ORpPkgcxpiNcZnWkE1WjBl+O3t0wsQHVIvmNejX4BQovNsT5lyiqZYvRvbjMdQfmkvCEdLD9VBhLVu96iYxslJ1F6Ba+swXzb/aZJAWEWSM660AtF536jderm+cZ63gh6/MXO3Eii7RnJMOzJ4cT1rG/a+pSnFxLCwSGgcBDJDehMl98kh0DgAxLLegpss+80+WRQdIx/F4VtOlG2oiKWDGv8jxQISgBAf1wnqJTDsaErLW0Qmd5nyiuJ2K4nYridilEkZsUuJYAxYL1GjsQrMXusJ5Q0rcR1F2NvLpS0qneb1OiLC5HrtUaIssri+xDq4SW5bD64TUyOabAHMkei81xegWBJTE6ijeJjRYmNKHIh61fETrmtf6ExMbotmfKjCkR7VLWNkT6zR8bHrz/FBzXBUNqiP5H87mlrGn7/ALRnA/0IKNQ8/qgL7HJ/ntSVjBsv3RKgkWy/DQheyQSz2nT1McpbOdLE3nkm93igNSg1F8rqQSs+S0IUCDoEFbzS96E0sUiS4JdCbHrsUmkWypBsoTxqaigAgaBB+3r8JpUqx61mvwRMboiNM5vvSGDIoqAEVIKAs2dkSRAxzKgKgVQKCgsWOAID+p2iXAbtSB30LH7rU7IGHfeOm+vifzCCw0Rj+iXbDD+0ajOh+kq1E3M+Zh9Kg8jiPxS58wl1OTXi5Hm1kQv1iosotyx970Qtv6bxOJi8Zp8Ezk16nyVNSU7ReoEguDlfg600HLTv+3ob7lOL3Un056z8HudaS/THNTURO39sHZj3W96d1nUPQfk0giFjxP8Aw3iudTzpKRTZs/u1IMR7lP2h3f3nUI9ureeOPK9bp2f7RE7vONpiYmNc0Zkjy30mdN4vRh0+UZvOsRiKjf2P3TJWVrtwce9TErytjeMu7TKS/K+lesrWPI8BJPqa370H/lW5XrB91ip1l+qstnQD4mlJO5QI52MnU18vWjDyP8gKEjVtUNhtUcYP/cPK8AIwB4IchQsEjRwYOKgVGgFQp2qAYBc+f65/on+if6heiOS/8j4X8pQjZ/r/AP/EACoQAQEAAgIBAgUFAQEBAQAAAAERACExQVFhcRAggZGhMLHB8PHR4UBQ/9oACAEBAAE/ECQLbhfONv5Gf7DN/wDKz/ZZ/ss/3Wf7D4S/2Gf7LP8AYZ/sMt/1Z/sM/wBln+qxUSKqr+vdT2OX5cX5cq8uV5fvnqP3wXlxmy8ZPDgGmpSgCyUwIPYjXqDrKhNnNSEHEr2PpxvFxoVaihUPfoN/cwWMCBoCUT0FJvjkVxCbUD7Dbd19lxlbxhRIcX19MlU4KMDEvG86Y7zq/K5/ss/3Gf7rP9ln+yw/9hn+w+EP9hn+yz/ZZ/ssv/0Z/sM/2Wf7LP8AZZ/sM/0Gf7rP9xn+yz/ZZ/uvhL/ZZ/sMl/1Z/ss/2WbsH+wz/dZ/ss/2Wf7DP9hn+yz/AGWf7LP9ln+wz/VZ/ss/3Wf7LP8AZc/2Wf7L4Q/3Gf7Ln+yz/Yc/2Gf7LP8AdZ/sM/3Wf7DP9ln+yz/ZYiyad+ufnP3/AE+/mKtMyw1F9zjwg9YV0t+zz4TYnSJ1jned/H8LJ4cIWgnjQr7npnPZRS7u38cbwgZqipvf8GNTKGjuNS/dc7ZnFeyZudJxOMeTTHXiacDVt8kxBOAkKL5p9TC8ARXYE5V/vGaoDiLXQesJ+Rf/AJOM7+bj9G34c/Hv5L8k/Q4/Q/Gfvn5j987/AEp84UldvdnrTfDHAWmg6e8RttDa9PpistTJpXRziRfTxmvtZPDhkhr8ZU3zBB1m1nUgUL/416ZxAwqcmw9wu/ExVDzCbukueNPrMJRZakpqPHDdeO88wP1YvFeff2zVBGh9MpUrnObKdbI8HKw/PNfN7/qc/wDx35uP1/xGfmP3/wDh5+BrlaMDlvXj0Q62EArFKAQUJrhG1MXQpTT0vrnQ3JY9w/fKm5aDh98kMRgdYdmI3KqdC69H55w1hSpvh5l3gGqBGyj77cn1XoychoCQnlXqxvrxhrl2Jo8/up/uVNJHSNUwZr6S3SXYHXDlsYfE1l1qjaqqr+l1nX/ycf8AwP8A8f4z98/Ofv8Aq35uMOHrQaVa8FaujIdsCg4rubsbTpemlwPShBdlBzV2b58YqLTHVSUbt8r4XjIiCCOQ8nREdQ+CrucWkMieed53ARxtfK6XtPTAQ2kKqGFV1w9fTIeIcNs6dcT7YWy1Fd2wd8kArwXNi61eCQ9n1deYukoqvK5z85OdpZFBQgzcyXwQIQAy8BkRs5ARHsT5Lmx68NdpGgeXEAcrPaWaPYxUUiAQeGnfjD/KlxvBF9EXiusfieaBR9Gig4Ebzki91cBgwUcCbS5n4IiiVKGElV2GGRrlsxF45f8A4AQDVSBg6ljv0O3g/R/Efvn5j9/0X5D53GPyJ0e5+2NnPQPQUU8PHuyPkj29FNiNPhkupm3q7FUSF9sbKOX28V3Mtwpx1qtsjEJw+cTeBTGGUDY/fBd+0gequWoGsuWYMRIIwTqLyOBhEl1TUcG9AP0mJqeP2ZRPp1PSeuBsGVBD/SYR2FeSdX1xvpYVas8PkIUCFFjFzhtAQwXS+WajFbaVsYnBPr3ljhBqnfp1P+YoEIq7U69/PuZtj+J8H0xqa2toA7FxyiYrN9Q8RXX84znEaaCsG3Qv0zjDESfUMS5R4R5lNZ/ff4yhAGkqQIaon0+BL1oPK5NL0qYOeaDW9oP/AJPHzXBr56BBOlduvSN5nVgMqV2Br6Y/Mk5mMnMFtegXD3BXhUYqRmuZi5ZGNOnSqEaNOTPzn7/qd/oPx4wkORvWvUw0DugL51y2/fCThTQ8J7nNa5CkhwVXj5+87+M+GqHLqcrrmZr/AKvxn9X/AMwFEr/XjEvMI5VavyFGmoWCIG7q/TK+mDraGK985HSvV1cWceN5IuJkuiIaHvz7ZxZ1yRPSYHmsSDQtajkvYYT287ylXQM8dltG3BzMe4Fe29MXN5OPtr2TL3+Frh+9uNafBUcV2JQHl0/OLW1XoSmiteGsRXwLu1dJc7CZrg10p7sZH5Z/8SrtejovMPntZ8jVB4g2zYIG2h7QgelawGtGENZUpmaQ4kvg19s/Mfv/APDyfA1+lx+k1zSJYJJ8gr1mo1GvaCyXqXUw3dziRM8RewSph0KnDVAQIb9BPh2SATVMAV7IRHGDEZuunrJ57bHETl6JmItPiKMMZW2AWooOTN97Zu/fko1+iXBbTpdbyeVNuIVqh7RJzMJhqgobWr15xIAtRz1J/m4up9XAkaeV7PjODHKqtFojH1FPrkLJ7T9wibNnnr4vfUG2ASrC9VX64gOdiUA8un5xaRffBfheiaA92quWN7WVAGAg4wt16WebeHZQjHEqvAQ2B11u4uJGmhInRqp7XEB7aFE1SrW5ozpgc+RKhRXYxI7ERBPh+fh7fMhyKixdAVPWTDDLtV6AEGvUnxvy/j9F1j2xIE0me6MexmkAR8FrhvbSeKuBxPhIHe56Zp1zAA5A8+rn5z9/0fzglAVeAMACM0QAVY3oFQ2eP1J/8AqoxOEwTgmBkbXkAXlhhMwQBDyUGZRiDnkkauGwsAalBeBy/ZAgoohs0tCzdki+AVs5UVXyuamRAZLS8AB5i85aq1w4CahBVXoRYiFNZqkgvgmXVoHgHLceuKnsczz6TLVAliCmsrmPqTdrwHldY/MoKyhtRJwb2r4xbTqNCqQmpVZDEehYkNYfIJl9iEmCJgeVoIOeavhu2sKAxm+/jiWQFNUL0bQHu1V+AWdSIcCpymU4B7zQGADYnAvB+fXJNREPcTTpmw98LUQjfwf6M3qwJaAG04eSTbPOaSBsBo1mlM49x8H4pnHxLJREz1b/ABlhNVsAJ1vAJxchohfAmCwUEXhmdfp8/K8YlelqOyONd5U6zy0vAdw58+dZJochF7bbwLAJwInM9Lxn5j9/0hFICPDrgQ7IDKLdd9b9PTDw8dfu/V5+Tr5L7MGUwUbBom5ZvFq3dgQYFIm1jCFcWBwdfqTYKI3BKYsqrWfgcNOYqPY5Z8EGs2m6RQNZO8a+uaGRcDC8qShtzjniUmSfb4nzcyBNagvA54PoCT3ZV3rs2jb9h6D4LG1KEkRHJ7xMig4HaRteetmooRQHnDLHTEFbrxkke6wBCBPvOE9DEC0t0eeM5o4hsnDyHqn4HGKqEag2IgjhEco1tQUA/bd0+UeHLl4bjlr5xXy9cGk1SA41ht6R5UNdyqmr3mgAgPMxMChEMV411fbFSeBjQzs9vvMPtkqQsrN9vn+cIgAFXTRR8qcbtMPMCo4BQ/bKDqUXYQRok3p7mK1AdRDIgYCHh2+fi0JltCohcGhIbYZdPN5bQ0a7gc+f/g7+A0QodpoV3SucBkW2qF4BZ61UzU6MXXRDg+nPONyAds1en5zf3n7/ADJ8jKeKgjVejGUqUQc1PUAtsmCWcoolbP0p+i/uxrlVSUQFu1msnHsw4q0Elix1lS2a0aSbidmxj1kqoeCbTmu08kxcV2BzCrDiticIPWL9IkP9afCV+MJuFBSUhxoEMAxNNIOw4VQbvcDIUQmWg4sw6O1XLg8U5fC6ApqjMNCIE1qC6By/ZAmDKDKDoeXRXar0DwgqlJdJfCCjrkyHxjRo7PliRIkSIOTAUpp3mhJeWGBVLBWq27Xw5MgyMjIesenYiMw3vrFAFQ0Cs9vGLDGZSyPJUHoMcrgo5I3CEKclmJJQL5Hj0y89ABASsPoHvmyj2EJd3dUb1sO8YJC56Uf5wSvHwXCJsfXDxpwgRot/g6aOMTBigH4Qr7lEf07+tW2A9q9mGkcFxIaF3qKyRdw0uC3jtoAppYpeoYhFiCP25FDUNmfnP3+PPyHxOt/sYxbzz6Hqmbey/b5OMnzT434cfBD1sbCuaGyUTk9TTKb5gCKgq6PCtBZFaCYfUrOOSWAoAiiiw/zd0cfAVTjsEwL0VMq7fkAKVd7JBTxmnCjUdK8AYubl8uhO+h53oqzZWE1qC6Q5fsgRbEB1B0fLIrtV6BxEmAtFDShg9o5I5Z1U1V5V+dEAVesHpF12XSCvpnvxxr3mAi1CVKAV+hhkA9yFvox1AhEvPxpUqTlJGLSCx74OF0Bqw+S7ADUjQkDQLN0EXWF14zGnWzrANmoUR4R+Cb4EWNuAGhcGqpuOZyL1cWGq1DjU74HQDtZUVb8WbrO48Cckwpgmpa9r8KrmEBU/IHs4aOCPtlAHPtCvuUR/W5+afJ1jneoG1PDHj0yUj1RH1XPzH7/pATQA86wIFUAd3xhVOQnx5/XbRXkBVUQEpT1pROH+0FojWhCWvJqVgAvnYAQgbDfZVA9Bpm8EA3ts1V3hjNFRBHe6QasYzkwJSwD1EHDzNjVAwpCN8ENYUbl0roDHncOL6E76HneiqanABrUF4HLw+gJICA6B0fLIrtV6BgMiR6LGlDB9DkihmkU52378R8qGKUIui2vnZKiTJEyLq4qHpi7gB1kVEgsWA1nuUOj4OzEe2homQX/3CU411oWVQnAyAz4IUhiimPN6ja3ovAOAMpLDhRdmo2nbCEMAA0RHtMKVvo2OeGRCmwE4ZqAvlJUBzbBoIwwylCsF5IZFwJgu/Bqemwbxt6EnIHKiJGhyI46aaZBql2t3cNLEwfEbRUUlfBiunJq3Dea7GH1jlV8gouk/CtqifA3WUSlPyh7OGjjBh4kB9QMX3KI//LN/L+I/fH9x8x8qEpcwvyW/Nz8p8qLuIACAgiIjZhXWjIlAgMSE0ITD8qjxJvCBAOlZAk9Cs1lmgl5JTROKRedAitukAQCSYqGYkY3THeIjcpduAIyKVUY7grQK8RIAQPUND5dFdqvQPoEwFooaUMHt2EXI0wG3t/5F7YYDDA0P/oK2lVrgKAFVgHeHZHQCQ+VkAB1pM8ZPdZpEX1HP87O/Vxxn+Jkzi+mEV0nO2s2Q/ssU2XomBpMEamopWBWPQuOloyvEpBAIAE2fDXZcRq2inkmlO2Vcl5Ta09Q6rd+Hj23nWCAs3PgTqIGU3k9gzyw7yYFoEgoOdHvH8gKgbeJMgp9mgZuUqK0hUmAhE+mJ/gKhJu7+gfWIZhlJfwr9lbVHNL9A10RCZK75YNxBVmRC09kYOeGjnO/Yi/QKItmb2YiBQxEiP/wa+PHy/jP3z85+/wD8YkAKvR3nrukL+2NwzlSPo/MQWEtYltcd68HjFhSZ5QOA0cBwS4z4jBwgAlBXl74w6rm/HfsjlA6KHwVMoYvsTkkGqguCwrqqRmA3SJnuxd5ufDR4iABIZUie+jaQ0DUiyePhCV/1XnAXPc2/quAc6ZM0AibQtOHRercgA40Pj8hW0qtfhLFHiI0crSGebsitBk5CAZbljVsNcamLcpPJ/wCZyaaRnB44wULhwaD8Z6AoJwfbFQJiuCfTHaE8/wBjBHfCMB/GBpNQn9jK2hKUa0WlA2OkTB+vOhugKAQQAHlwYicnZlbkNheEkVB0pyDykzTvR4zlECkAbUdlx9slEyVGig0sa26YmWSrEeVea57/AJrPmrT7aF9RTVDEvdQaXFi+2xiJhFFFE5HEV6GKjveComVZ1gJLe5/5n98/jAUNy6YPoTNIfXk13KlqyAHzk3IqQXJOtrkVRtKu4BaBTSdYv5ajtd34uH2XgIfxgxL4Ezv9fj4/jP3z85+/z39E4vnCXABtfbI+xTX/AFufUuBYIBWw7DH2rAEL2bTpA0duHjckEvu8v1yhTX3hAQxpBHD/ACkmjhTlej4dx+Rzi2TqitENiPeH/u19yhC9urziTZFd8Tj3tJN2ZENkvMeh05678GTOqIj5HIjv1Qq2opFZdtqw18fkXaJBDIbEhiVqSSlWrfatfiqVjd/a4/p+rJ38dOR8o9h3en0MAlSiWn1xvIWoTZoZYzzNYnaDgJiI8I9Z7fRm6Im+vPXy8UD8B5HCey5WDLuewEWEN894aMKWpk8qFbUDlTxh8COdxy059NBfJzjtYRkgOIgExlsUVCCbdaFd5oos/IQJNr5aAxoElxlKwDpBpq4T8wFrH2J08EGxA2ugjpnH5qoUK1qu5TnRbM+FIK7EDKF9XcmU/Jk2BKUaqol0nwLxCKxOydbgcqgZVfS6QqNObUaCqlxIoAxUrkBTdYNPlM7yU16OH3xQhErfUT1WjxxkjVUJHeggs8R64BI7oA+g9RJ+jx8/4z98/Ofv+lz8q86XbH9AFtX90MjIJAHkX7vLtLMEvJ78MTkMndCVvp+UwUIh+gxRFfzoSPUtxeOQBBOF6QUi9kqeRX5D2HETrKhCtp906KeaZUV9TD9M3exR0/T4h3KmSMgMdESMbhTrrnJBkCZ9SL0KAqqYVQN3rFLRnz2IEcilORD4J+XDmN7bRUOuJSS7vMMYwh63hQaQQ+oyxj1XJLsTgHd3mkJ2bY27ES6l7znhiKEtKHS8mAC0nbsfLkVVQkgO/OY04Rm56clKYdwv0ypW6EQ9UzFZ10QAsIptlOkxb6tVGAeSOD1L6I3lC6biPYyhVNu9I1oO+27izXeWuRFBAXYauvgUUQ+3jOjp6VDcDrQsBSvAj4D5XFHBwlTCnCbzPw37YB6Eoo7XfOiYcoqnbXp98w+jmgYKX5Ze3J2YiS3nD2xSX+C9byPv4eSgiCQRSDmgdrOjUKQUQ5ARPwma8ZMmQ8YGTBnLVDNEThHGQDK6iLEF8q+uMQKMAKrgoSubJfSEk8n3g6SXw5EdpInZcIzAu+CArSsKBHLnHCTY/wDjhLIQEl5nAa6mx84IGNoNIzZ/vnWXTuxRb3Rb409iaxN7MQjz4yfTkdh83i3Sv2yc9QJ/fFqY+kffjBAIiOxO/l/Gfvn5j9/1Hr4BI26pQHuuE+Ptz1N9M8tXUFSFsBeXxjWBqG+TyaeQxQgAfMN69bH2+Xi3cG1UfZDfR8VQMMgD9EMH3YC4+JaefQoqcsBXXyE35ebkbPpCknIpp3iDgKFVDaqu/kPr0bqUdp5aRo8XWtzAC3uk6qAKBYKrD4STBPNeamvAFVoFzS0la8bj6eKnyGbsiSCNbQft64npEAPoNRN4wqBv5p8H4UCQRybV6TvpV6En9Jgv5bVVVVauUBtN5rseKwXaZTg4cLzH7H1MhQvrqIZCKSYBH2nT7ZtpMVCldQGuEYHOaYsp78h2HY7wzWy+wI02DIzkUdYfcgSJyJqrT4ddHwvwMvCaThHPRFrXSartNKs+IyYZM0fBgxbryHNVEEWPnBrq6j+/gNFnUeHBWo6B5VXYhNN8OVO3KXXjj3xdB+G7z7Y9B/08Z/VP4yqF2MmCkVSw631g9gxsIfHd79zTkJO4ISTr6OsQERfdNI9HqBBwJ20wKoL0BEOkep8uuR1Pb5fQxIl+3XoeD4S4OFWfY9f+MRMFQdmcfDnPxn75+c/fJ+lfiCEQPvp+4B8+nDgBUaQLwYKgci8Yp+Xx4xFpNu8Dj1bNOCNU/fUBTEfHwHA/mU1Cz/xvxk+iDcCUAsWq+KxFAs02Y2G/RvL5mK4iBkCBdusqK/ZT19OJemQobQAlwUF5cJBlVEX8gU44IHyDVbHhggQNhAUrc1D/AKBwIDSCImkROcuWfBF2g3aUAqoAFLo5xUwV4WwQQEAI8mz4IgCroDvA5THkFZ6D2Fm7gjLihCwV/l9N9YmDEBdyvTzqN/nDaSWyWWgdnOuGtM7qoW9PCBg6Xyhr3gA3+Dd1YAOXFZ1DyHdNGm6CA4ytWCJbc/Rjt5iBkHkvOA1LbOIpG7SB0BjhZ3yEAFOlBrjswKD1JAs1HAA1+cpNPNWEsAXfpQcXZKNIKPe/uOcQyWmmFx0JZDTMWNUZDZ4/vjKcFJD0jYdJsfRyyviPUDxRNcjpiOGpyJB1AUhwC0EHErJO3ieZi8ELKA98KhKJuUBqDWVbWGKztigG2IcAoTZMuKOLyAGlmhyCYRKtD07Q6ew498QcQ5EeH4IQvNKo6B5y1QC8Ix+Es07yLYOucYNHJOnkYVf5M/1MQ5Q+uek++Lcie+LxUqkFE31pPpgmKOJJId8ZrFZ2BXr0k9pxkiHWqKe2NPR85z8jDvQfl/Py3XsvqHZ9PgfD8Z++fnP3/TccBABVYAc4qY3gjq+tD6HjDAnFps31/OGPmhh6ca47y6bqnvL+X8YngxIUAgdLxOsv9R+2f0r+ML+CkHwVKrqvL3hFBGWCPjZ4mVBAkitCWOrnYYfDTU35yTYws5cbcFUCBr1b/s9Mo5IG28Bel+nwYyYgOIBIgh3TrCYiJDrbCAKvLXXHwaW+FOjxqXcabwNjoR5EHCdAxMrWUmag5KrnePYHaccj8YyNOKM3qSR5b2YVEiNiPD/3FgNqy4Z7QL6+aedYfpSir3X3fz8NlJmZRQbQGz0xAqWAu4CaAAlLeU6wgqqc/TjEGV0xXjhWgp1iZpOEmqryr38BenFLu+4CXrhCCqwMPWILkSD1u3wDr4PYQa2oGxE5ySW7JFBIEUDi7oxxEGlTSnqzgl0OMiBugxPV/gniiOEgP2UzdCKYDqemRKBPrVAK3Wl27xwkimbG6t44xRhRGCqBRUnpmhdZy8Or+OKQYpK0eziRAhywwX6Ag9KhSQWJykcLbHiEAKQDBwhcGTQ7UQfv1s9pjtpZPU206l68YUtBnnQh5XblN3b4Wnv0cZCk45xU5GpC8ezAYAhsOLC6vyOIEoST0ePoxY4+jAo07V9cOd5yuYIsSJzGF1WcVT4JBxmj7Dg3tuztqOGihonUdRY8dbyl2kQCvg/fCUoirwz9/GB2iqHIa/YB9Ph38IDhpX74PyNREj19Mbqnfb0+P4j98/Ofv+nzlyjFEHyp+Lk+m8k8vp+/plrkBBsFl2nHp98kyjHcmz/cQo+RfbA2BrFcfJ7WTqfCgyWnAyvXBR5k0Xoa9c40bIJEjp0m+e8YYFqsEo34sW8Zadl2/wB8EOZ1x9fC/Dx4PzePnjx48iOco4Xrk35c725Fnm9cdmIrlUjxz2k08HRwVCKJsTrN0sZR9fAgNuR1oygBdxviJ6GBEgOabsDbhYRO+RF7FQe0fB9Q+Fgh0iCPpi0gQEXblEUCbIu82AjU04JDDYLhHEUz6xZehsPXsMkzWVRPGLtKf3CS+8xyjKpVfX4p3OC2oDYjj8TDyKaQEQeZW4F9jWRRQq0fjAHTavCGyEASUWb48Lk9uULHV5wWBSUMDXv65WyEsSWI3HnnFe33h3AKJa+oKrYRER2aMZWYqQWUVILVV9AmSCKL5U7+rMHRXfB4cCQFFS6aqTmemTASWlFi+FGvY2Z18UXPAKq6APOQtJFUgrNiGzSxj8D8CHKBEo8BM+vwCd/khocn/ekzVDdt3wJmJeJes3EU3zBqxdGCuDfD6/bO4WjTmHAdPHObZOQ7Gftrvu51HXTl/Y/kGUSAq27TScG7iURVFOi68uuMcAtgqIFLHElKdO2IijpHjOMqPynXY+v8fH8Z++fnP3w/UNtJ/JkDC+JZzjDVRoKpZQ7f/MDQqLDGvP2+neM2Ctjty+twcnXvyO6ta78zIntKLfYCul3NY6ahQBj1uKidQqr38KVsO5EjPoubAQ/gwS1rgm51jG8ZppijCJc9l+GL0zF/72J01OHNGgV9fsDeenxfgfEwiAbTu4fRInTvBBJN446yz+jnAQUfQYNQ+qZNM6eOdLHCEgypGVJYaFEOkRPpgqpVw+sRNtVgc4bjvekA4cYXSOCpGqG9Fvfs/JhJlrbI93Gp8wTkveD9RGm0R9n9HK/WltbQ3a65aEsy5aEdhiobGTjBHnXVreCg5WOjjAyRKDT642xdglBQkefJxjGpgSQ0kyKbvTcVY99pQNiIbxr8vJEAiGmjXycR2+DrVkEAq4AQqizUD3nT1cWJdKV3fTePTl21AXxFvlzm5VERXdlj00o93bOUxqnB4wCi/FPoABm/AKxpiGxcCJv+84eJbph2Y6OqwdI+BSWEcCGzr3EMizjkRORznNfaZg6NkDpdkzj4SGFU0LjSOi11hgPJYcg2VD3sDUxCB/E126e9XCg2UbNk6H8PSOxEcIjAdwW+WREGxMVMW1SCnllX1xEJSNtR/v7Y9JBYo1L156/nHFIBg9QxVXlpfh7yYTKmii+tHSUxk18ETQEqiqtRZXGE5UFAW1eVN1407zQiWNBCUeUpffFBUDw8/T4CRFFR09YYYcPEOfgfsP3z8x+/z9/F+JGqjn8by6nXIP8AbkVNPIRZoeWpkmz0Kg9vrxPp1kDQ7Xd9fTA99hdFKmlEcPG3Drexc/tH84OUjF/u4dmg0dPfORZsZuI23sNd8YXZUhmvrxhKHm5+Soj4c7Qc+ki0+mb/AIWrWaGZM8eXK9EjHBo7sv0G25PCDsrnA+RTaFlw9Bhrsc0rk5DRrEQJOcFgGAbU7fph7AVGMPQa7dGGaOIxbmHgq2I/ErsYjo4F2hR2LkTbHCKKHrEhb3XGvpsCkWSB2ifOIPcvUdqry4Hp8JmvgUUgnapP6J9MO6inpQfUXH2C+vNRvSL65MCgQexdNFuAunGXQHyemWPVwNseGoA+N8+M0sVZ8AC7XbpPwLyi5KeD7jCr6uTV4w4Sw+z4XgcUqWPNLQ0aVMvkTAZUSFU9HSZ1vBmqBEcE0fRB6YG0+Awo4Udi98YkCrKWrZ7fByteuLSpSt2gD037uLQMvdTtVg3YptHWbdUxIwfdMPbuGVwil30gC+GVEa4G+EceJ3QNM0jGRjM2hNiUbeO8AFggTVgc+cEBUOxHnE/hEqfRCbPQPqDyNOh/CNEdiI7ztlOvWRR0aXfXrlkNSn5gGcd4BFSnZUR1+HjOvNIhNT8oIBrWQ2r7w/8AoU2X7AMBY9NpgCZQwqt9N6KpsIL2YNoSx66jdCawTUC/UR1P0X0zbTX6wCDj1hAoxZRWEoLsKHN0/XPxmfnP3/VICmm/XIJqb6Nd4hgQdJKOvCa39N3NjtKOYl5h683JOh45v5y7fcxobUuf1P8AjP6n/GHAC/34wBg0iG0+2T7NIG8jMENE4P8A1xWlnz/75/e/5yH9P84rRY8P/fDT4ni5brp/2BpsphORMp5yhlxnCQKqeAPOT/mdfATz9XpgkZW0xLXClKHFL8YzGZq8UYleDv5DJgYVAiPEdHa8jBmiN0I6F4eV9HgfBEmMkLaTLLSzg+CgVg74MHPEdD2YLJSMDo5+jCIfTFE0AEkg03xcIdLH1A08Ijnd7AdEDl2Xz9B2TL6TW3UE+uMnCQYbHJUYaacLTEKbTE3jqJQcMk4UANEuSGu1scez5qWrPB0HQBjNkAKq8AYepYC+xfBfuuPPHepOD6sPrjVqhW7Wz4LKoSa0lBj4xVinDHKm19XDfC0alLJ0C/T1xbxRZJ5dG3W0wo2lQJQjcTGmTLY6CiffiOuAPWrhMlGzmX+EYOs5pKTsIeyDlTyzOCXKTh3UIMy7d0n9XE89JIcFpmCgB0z/AGxq2HcQiOuzASztnYptaxO5oiASCOxMW8sva+zBN8YLw3qp5qVAx3x1iN2o4dl6phNJRp0JDQ+OePTGZHQl5eF6eDCluehvyec9wRCDftkVjQTgG+6ulie+DWjS5UjWmB6rsYOGaWPEAce6N62rlfSF8wap7bS7167YAxSq5Lf+zfriV77qWb34GaXeaiDWBbv8lMH4z98/Ofv8j8Lfn8idv1wDIoTSjsfPPeGphnItzvx/z2w8FCop2J5/sxBso+31weFhWDTqClUNmCFdRSSLRBEUU+T+w88Px8L8mrvb5RVEPD3gOtjSZGRORMf4XBZv2u2uNYmDc0oi6C+jWKtFE4G8NHbPhCyuABhJtcA0Cqw+b13QzURWcYgjaYZih2I9YzzA5Fgl3BuecFxUVqRkQ8iOO3wxtQSIxM90uBBVaSK2QGqCgC5MamzHlmBWFETZkPlXLRM2QASFYVaXt6g5b9k5yskYDx5cU8i1QZVT4Kt8i9A5U67zmk8N57XTwXQFFw9d8nqayliBKF36IK9BxTqIXLs7RQj6frLU9xo9r6PVTHrE8BeUjjZZN6d4MMs0c2h3NXlHjDh756HR5/I76Pge61oTAA5V6yO0NUyhpp4QN2DNhDrGKI89PI9iPecYk0g024hcRGVfX+POUl0hOwhwoE3eD4asWtnkyuuOegD9pgNk4xtJ5WvVuyYTYQ0NAA8CR+vyqGHDELkUOkTA9YVPoptTpvHREAgiFE4cWvqj9MlSGo0xW67lQm4y6Tn8ZooXCWgew984AmE62/M5WOFATX0GvcxtISOp+8hJCq7MexQjxvJGj6ryrjEHOghVKXRtNWsziOUVSnXuprHoQqr5JpHzzjQGt5Jz8GqeTxnDBGwTETpHWfnP3+bn50oCpMffO4lAV8c84NArq7XdBvT6YapV5bfu8TeOh0puuLEQYk6IBFRRsm6YudxOQGsAAsFV9PgGvzcR26wAEYru7y8mdtEynP1893CIwaTT6Hh6ZZqrfgCkMorwD5NGUgZhj/y0/WeGn1MMoKMn0S4LYNWTFyBCeX8YQ2z/AH6wCqGnR6cYEm+ZUQeOusKqAVbnt47xpaxF4fHH9mXO6YRsjBg98ccYAVYCVs8Lr+/nIdp2NRPDrj2j651tJa2OYlUOxWF6jIBFgVEouzvNxkYIHhOxKJ2Kd4NCJlA0fcF76rBOVVkYkZFopT84W0BFsPO+64obUEFWqnle8WCUcO884zUhuJyvlciE+glUooB2xVda2bDDiA0ROEd3I7YVB8Cf9zyFxwXDJy1XYVuxuDw2k3YRQqahykQkvY2CFR2HAnDiU2IJVOha1UjiU8LbfUYedS4YyOanUXZxJunWUIm6DpF226tLEFHEZMAKq8AY8e9DPVW47N3aQuT/AChtHBQw8YRBaQEIde2HxqGLXLvvxPbeOWIr7ZYz6Nx6y8Im2HpgKrYqPXrGulnHCYSpbagHkKBdC7mcM3TjQP8A3trl6Mx0J4KAHu+HwbBcDVQ5TxRvk6mCQTr1AAehW+BmA3AX2pYnQokg3kahlPN1a2oFQu8Y+sUoRQ6RMAbh0+im1KDeOiIgVcPl62BUWo+b/wAxLxJaCEvn+zOymhZ/fpiFC+0HwcfIZQiiOxwGEy8EGbhBnkcjkkEFQF5yxEOVZFcJravpxtnNCasEwO20A2OxCbQPBiC97Y2vdDjIwJlHsAOwS3OX7FAUVfZfcY/Mfv8AoX5RR/vcUCgtUXYN90nfnK1aIR20a0+kc1ZzSwK/TEI0E5Xfvn9X4Mrf2lMmkdPv8QsPVZxUDmG14O3EtbdCJp2oieREy09PhSfDjB8ynC7P+d8OLAcNA32/Y98zwt38Lly5cuWZcs+FbiXPOQwFgMNspiv6wggJyKCBRH4E/rW5AdDup2hzMeOsSvxZ6Ui9rs/Qmj2to9Tb9UYu8JITRJgXt3DvCRDsVRBqBK2OnFFdUnmtsTeo9YZ4pNTruvfLw5iH0EHvL6/D6578KCsxG+Qvr8NRoy++U82Ru1gNN+pvAr4XWAYJpEcnpiwaN++gQLKrxixVF1vRivUSq1cJVZ8/CUfQ8UvBITEfcn0PB0ZJemvtU9nVO8hSaAGZpxJqYSQUPHax4L0QxlNiChERwX8lCjEvpf06HBNiGFRDsRmEnL7oAfQDAqRdNTg98oCAqY65eOus2EAlBA4vvOPdzQYgwd6/ODjLEDvslkV+ywUqj0BVkd689euGrsWyBJTogHpqdTA56BsJu6xbPeEx8ElVRDfHo+npJgnWAPAHb7cuLYW2QqXoC+ymfnP3+afOLBne9bzeQOTSvIffGdR3q1rd8dcYACQizj27yKSeR5wS8ZaWRDjR0YhktYZUCttvk+LRI2uoARTWGJyPONkkgQDU07Q3xOz6mXTwPrNcu0F57snyZ2+dO5GFt0RgUpjVWi1c4HE4axyIubmjjAMoE8vkwFtKBJHreNgGO9aPbpgZB0vq3j1YICXac8ejIHhLyJw+3rAn6Sja0Ab2oY3U1lkxETQ7Q4wu3u4LH+ygw0aYycJ7kwB2LNFAoXOvgY5zaorbyxdbqBkc79tuj7nh7Inz3CcnbpNyWzTWJASqFU8q+fhp7KoQfQGnHmgXRQIJNgKOWJdntkSm0f2sNyIdIGEGWcMD7YR4cSiJeMHAHoU97gSzWp59X9mcoBtHVvoY4mmVocFnqyrRix+eYiqYiOPIHx2e2BqJ4BP7WTTdng3VGUhfRSERAKKb+DtjvtIBtVQw5JiqTgUD5AmtLDLdKGA644EZ5MPGhoGpKi8+j+fg+HSEFmUFKtdYkFtqNVxREREonnBg9VKMS9o/p0ON9fU5UGwXbCHFMgiPUcCMNQEScX6f9xrRrmK8fn/OMrcI4c0c0H1K6YWgbMLXhX04kT1wQXoECd7aBQ4LOs4/sBsHB7iHppvOETZoClbDvT3zvDdUaGwHhe3f0+mfnP3/AFVbNNZ3vFTRoFqL4LxPPrj2KgWwVXhnv5eJipqDNj8mB6iGwz+r8PgNYhb5fM5fTJEdtcD+bgm2YtHtOy9cmf2Hnhg0JXBMADlcTmwppKtFibqPp8zccNwOV+AbUDeQSr7HLaj0A1trgAMBRqDS5TrvILqZBETopTxMh1Y7ZixRhqHYnJmgUVXaeH6MDFCNLEfb2GA5E3Im2J8NnWGRLA75Yhw3evgsUgqqAbVWAecB8GLoobp9Tfg3pEIlRPrgAN71DiHKCI7q27fBD9VLvAG3BDfEKc2M/GUZvUPxrECQ5fsRb7Y2pUtnsAv0xam28KyLNKQ+p8ZwmFg9JPCAPi0AtEoicI5ovO/PLzIctzd+BSGCkdYMLEx2x4BQQubY8Y9i9PBwtdtw+TKX07DlBv4PTiW0ABtVQD1xaTZppVeMPC6day5ct8eTiw9n+9y7zeN2RqklIsild7ckNgQABAAAAAAAQPgtpY1FkvQw9MCAaHdBbrn2/wDccRSAgrpB5b5xNoYrVjpF3zx7YIYSA8GP5MbFxRytBKSG9I6mV1N6z1GgA2BVe8okQNHhGHDrgpVAAr6GG4KLxO/65HNznsJyz08TjKoiujgvL7/XGbQWXfX/AM/QFKGy75wOXQ+vqwLvFhBSGpV8NwtANgBtBuk17nWbWEoUApTQljvbcSwZxKtVG+4V+jszcSRaPaON3X3z85+/6R8akKPOe+cxQ2CDx9C/fAURODhXk9dfxjXjA1O/Rx1qU3zgQIyzCkAKVkKYY2l1FoRORERGIkxKZ9e1XdyUZglbWwDeo1eMgOHMoVAE8jv3wf0O+GTS9AS2rr76GOz4dcxuywJlpGn4796dY2+jnd7AifQzrg1X4hwqEaCzaG8fujYzzLQ9UGaURHmGX8xPXFn4KQvA1EzRC9GTH0WD674wEyozbFgXDLZWEtbQDwBrLQlR0WnrnWCDfcvv1zR9rMqRh6Dg+BkQhAMBVBKHuOITppqtsCaq7ufHmau9kOymh2OAaR0UND97RBRzRU/x0AvffXPycb+4L1BMBn9wxaIhIygDCAbOOA3qk03SI/Nu5G5Win0l77xu8N0NDgKeHnCkTykuJLwjtxXE+VgUqIe9BjEakAHAeAadIxzgm8RIFgCUFVWYfcbOi16TOM0o9InSLD1s7wxqVJNHFakKhHm4EOjIdiJyzTbXpFBDEso95j6uCyupH1tP6ph4wo8UFN3azvWsI4RBuxBcmhCNUck8PQ16aysJo5fU3t1mwwpeio5cMHcClAmMFXiOTEFtNjddnJ2QeMC2A0Qv4ykU7iqlGmPfeAAOzhnHt65UMLYivO54c4zVSgk8c7MNoQtPp/5+iqEuGbep8qXV4oRyg8cBTsfRveMkB2iXQ6fN1bJ6HJCE0E5AwYW7uAXNEjyZ2JStgDlBVz8x+jz8iFpQdMKhvUOh8H+85CBoojsb79vJjpFgWvPrg5PF1g8VPiOYQVRJwh1MYWO3Zhgag0lLrNx3bI3F9ek+uLAw7DgaCnDHBhZ0x1ZYQDG9T2wkBsTRMCbHh9Moc7vXDecXzcoN/OA1RsFdr1C9BxZ1DRIIdqr0EDWUaJ0HtIJVk9N4YCiaNhVEbxxhatSutIy8rkeard+FyIm2qIaENxYIspmqRaKymzSIiBRERRy+uCtE7QpoCgsV7ZTBpyEgiCAogiBRER+JUjulWANqsAyMvdjB7THs+CvzDI+7UfLCnGlYGaPZfsHq43rSdPKnbwcoNuwQQgYY3856ZxyIjs+XZd/gVPJrSOiu86jQ2hH1xkfYc2Uqs4Oh4Bcqr/y1TdKNAbAX48qm1b2DeQKKhI+a6PYcIglIZVCBYnDCNVqBauBHI8uQBZuyHM8FG9xTTzR2ixY2ejTcQ8RVSs2/bBIZQidQVRWtWD2EoLk5Kr5S+5QxwFA4dZJp4ceO3GdNXA/kXyaL9MK4UDgAgY0YXOCRQiU0x3gJOizugNGWyR0VWl59L51iescOe84XESIggZXrfPOKSw6CsU3E7MUt6FCyJx1/x/RKoVCW0RMAqY+9oNfbqejhhTcEyTQ5F9Ap3kUMzfJuhK37G6cKshn0jppoYB0cr+c/fOPlcXYNjKPdw/OBmZshAVtjpOc7S0I9ovB0vyKMeBFm8ZQqeAgTY9ufrjcrv3fnrn98tojTzqf+5s+9YN/MmUSAC6DlbDTjgJeq5A2U1sUREY5y0wbP3wHZhzDTSHhh59RAWim9jLfXGgZgCvgBxWoGimPRaNBoFmNEd20zMnD8g0efIHA41HaQh+yyfQL+1EANXh33iMAJCTs366ofziPrzKOnY3y8TNLyJOXCzLO/MQFHBdFx5TECudQhWMgYwsdRkpBulBoxAoAHciRUBlQ0VD/3sR62x6ui7QK7R1lvFiVzGnMoaNAs+Bhq9KLGhvMa3m+QfnJIHq+pPsD3esASLB0A2V6x3jRlsgwugnpuivmc4kIgzZ8fpp6DxcdAg2IMROnPHxHTlSN2GxxCIAgPqgC+qOPDdB/78ZlQLNuAuZ2Kj7t1j4zRMKIrpPrcGqxj8exqRaUclK53nA8oOOOCPHKxsmInh4ho97l46rqtw75YfrnRwjH6gfAlc56GLaJ9D0OrVVPRVTZDkrHtyt/S24uyQJwD2jT0woVBx82W20xvS5OAga1kZMpsOAux5fSY4qQBST6gsuHLMErVQigDV33vFVkXTmJp8eMUSk4MH0eM8/Qg0rxz7Mx8r3zfHvv5b+h+M/fPzn7/AC+mUjwUFjH0rwdp4NtE8YJHhHCvgm8qoKkg72c88ZfBiTDtGtxJtYm8AFVIt7LhZNpFKL8DF55/fAbTakdUTYvifnG82KGbWvz6fXNJdRNVc3h4ymeIAt1AFEd1E8Br4ufVKICjo5Vz+g/xgH9H8YecwJTXxCCPfLelOAqNciCe2KJ2sk1S7Vd3OM4ccVQWMs+mf7jP9xiX/ZgjtNFCRioUKvMY/wBKYBqBGBURjRMGVtbvlC600qgjEmKwDZR8G2cvP0z1Z8hrBS1bAmw6QK00jTkwqik+rv8ArjetdtLz1x4/nQFn7fqfTAJ2QG7xxlIEUehyVvsGUUl/4iP5YFKImkevgB1dekVPQtfbAAhiBoFZ28r2q/OYoILHPvgPQUSugXfrondwSsFASKDed0nhrOFO0uAcuuBPHdTDKrldoH9T9OXxhB1X0MqQ0p3rwn1xXjdwvnG3EWe5ek/HLgXhj7K/YZuq9g+I0/cnpismJFjwXH0Ph4JxyiloYKUOG8dYaUD1QSLqUWzB+TRnwGPSbHhGmEFUF3Asg3I096I5BbCkwENcpUvK8YLILDFyBRPaa2oN/CfD8ZYjtDIpLz9MVxSDqufKB+cIqXg6+yvzipXXJdezr+M0Y6ax7BD8YZrb0LcT24+HcihzhKgFfBez/OBl6AkGi0HvqYxGFUkSeJrm/f5zfzfjP3z85++c/JeuaTqB/OFGBs0ATh6GMFAxHANJxeOeTXOQHKOQ5k9cdnHoYGAak4UR2zitGteFcLRZUS8oB8q3nDQiRPX4UHjj5wMsl808eFmMNYbQ8P8AnnLCBB5x7e2TaxwDSCBt1XrFuy9s03N0EBe25b1rg7SBOwt31rCJ+NRZ2c5dPpvvAzKeACctACFq7IlQ0o00Xk8PiYiA3JvP6NtXHu4fIQMD7tjtfIw/1+f6vA5AQhvnNfQUB7gmQAjeof5giCGePojNoSiJRYooEVL3cWhdE9K1TaX646AjRfL40chqo0Z8GLOAFV9DH4jARXhM1nlSFDlh18FefEF+ymOlJaZ95MkJYQVnyKL7J75Oo2An1gX4Zb5/C5EKH3U3grr5ZReOPngGtKBfZ74X3crYa7V4bBN5dhvU0VNpW+TfpjIJCoDyWaO7S/jNpxApOCgtPTZrWTpk37y7Hu/VkamYAD6Avqs04BHcPyNZqBAqYpqCCDZAw1KBHkya0JyuAad3WJCG5FG4dOCSCaNJAc8wriZPCg4EHabCLW3weTZQcrAGlVUn4k4OEponE7Hh9MJooerUC6TloMtjWVn9KNvvxmGGwL6Qf0PtksCp7Hyj+wYDs3YUIjQrAgXOXF4r++ObL2D+MA6B2JSiDoBtm5g6FSACi2wIiemDUgqvfKNmQRIUtPgMJVE7n2++HWmCpWrqeFnPWAHstUvH+/TN/p8Z+M/fPzn7/K3LTp1oYKCTmeIO7h3Sr+CPw6g51rcycpLIo4LteyNu8AU4I1NteefvlH+0oAK6aku8U2tR9L8EYVTTy+mIoKBUVpvx0w9plFFQLzb3Tx3miAkzZCadOEICMjxoGslF2PHGa8rfgRh2Opi3m/uYDPphMtggDw+cLECKPV/RtqwSpVX4CHFXTdbOEiPYkkUQWCYxo8YWHAis5OKcy+9wGvnsdA6JteqxgNl5ybIGuS98IJHFo4HgwXXQ9W/24CVFafQH/fnLE8eJp85HhJrBwde/nLjkoJ5uUCOKCLc2p+dmokcZtAFwDYeyMuDEveAEmaaRCGCAUrYi0c/KlkDCxCJ2JwwjyQu3yu35mehthrA2jqSVdOz+cQ9e+Rjt3v8AE+mACGJzvsApp1HymL2DolTSg3fDcQ+7pBAwVpR6/n4iwpTuDoaaial1LkAIBrtDATdH1MMnwlyUDOabAAvc7HiOMkg/gW5jKjxtC/D3zDL9NLmxThUaIzcNACUQox9fbB1GxMKHKh9G+M1ILHDoYRoZ64Y2OGK6DhkIMRIj8mecBrWXPcJHKJKay2MWtSlnasDQQMMttOP/ACwP5DoAAA6+AGrQvqw5oBADHs+kwgBpvNEJH4R+bv5X9hn5z9/lQsoByJxjSmhDUvleAOQNyZs0ICE47j9ivOd1isG3au3znHg0NCds9J++crUTpQA0FH0Jw/E6ikZYXFAU1vm7J49PXeI7Hycvf2NZAoEjntPVOMNGnOqk0Ci785EV6cuYLOPiZGcK4HBABR3euAcDBdE4EixvJXIpt2Xr8ZCmqLjnj2Jhdt1MU54IKG1pWaGyriwkoMmAtrwCrZh5T14sj6pXsj38I/SfXCDdzUk6CCE4xqs3QRGw5eUqEOoXHhwcDQSwgm55X9sABj4f0ayydF2Us0qWfJi0dB0Ch0KJKqFnwS6+Hed/EoI1HcBmC13ro+R1t0ZcCMary4xJYVCgZtfbxhoFl5SefBvSe28b6uNFoz1evXGMSdKKA5qUj++sJIoNpaP5XxgPA2o27688PXp8U3W20XKlKYQulyiFNs4GAKnZPbHaDASd3nH/ABsBcmUiFpYFNCkcW56JsSYHBBbUaLkjh4ddRq9quBgZJOEmABtV6wwmo6aVWBAxSaTcEYkKSDvIeHTyKbxlhBEyD2EB9Q4yjaYha5CvTh68YO5ZFB6boA+jDKsGzxC0aaJ9MJpq2+joPKDVmKm/RFDY0JG+GwXC5RJQ/wAZwTLb+KdMqS3PBpzCMc8cDHnfadISVhDmEhqZYqCA10xSCYgWUYaLzM784ke3g71/uLtCpdm/M3fXEgazejPpeff9X8R++fnP3+ZzdqyKoJ2ra5WzH2rWCg40muqhOcbIrVE4Jz+OnK78u6dWAoCA3eGM7sFEL6APQertVzr4NFJT+fGtCi1h3Txd64wYrpXuH6FwAJbtH5Gcp/uRKxWKFQRiCLV3MvrRxLZKgaHUX1Xtn6jyvyfqPKyo6EOnn6+s2TclqBWNO3jNh/oyjFchIj2Nyv6xw6cZrxU1zq3ls4CjBxeqq27fJ3xbM+3/AF4QNgKcrgMWeeekGno6w10tbaxw6kI1HPftx4gL4Os8LbUeN69mVKqRo7BRrx5xvtqMPau65UAtW9njJ3Bvk1mQtQDOXWEP8QFSHeDwhfTjMxQ5FLpnxkYEgAWXwN/TFEEdWrD19MqB08H6fcxZATRiC6BY3r+cNuVdkLwvFt1i2yVDoNbB3sdffAaIIOyiaXrcga4xxxSmrvVr5jep4xmhEKpiipq/uIxEAVV3Dt/G8ZgiGDEJ1f64RxUXBU3eb2fDj49/IVICizvaHgVRgzDYQGxukB0U3Ks44jgaZZqjtV3c4RjsSeGaT0aZI4YZmahu0lOnGH8OCtCoQSYyFA8Hwer4WlkBfgQhqEN6wzv7ZwkULI7l4HJ4QxWmgASslANbUyXkaqe1gR/59M0xz4D7ZgQUOtmTQVbsMKibxTu9c9wsCwCr2uR5jPOKCFCNvSGJLjTVZJrx4nvlMmB6Bo9PofJxnPz8Z+I/fPzn7/LPhMnXywX46/ri3kLVWnNnc89OHdBIKTVOPfHySZwfthqhk0Dt6mPmDQNjcaY2tjby1AbegDthkbrjG80AA1kzc5xSjYuSvLhAVV7OJycgValPafCDDCoRkEJPh0dcm9fA2y0C4AxFNmTQRrD6jsTKxDo266r0PnX+37saKZRYd4bTrWrdY0I2KopkDH2276B+n2veUUzHr2C3vrrArcw9hiBglpW9L035+2AhsXjT16Pv+9YOr4YXYKh47AhlHQ7nB7ylADoDETV4fJVT6zOcvweAkSijhHzkGOYZGbHQYd+HJjdrtg8IH1T+MFaNXcXbtfpkUBzQacd6W8if9wBCcmjB683gxlIaEFRFClaHnZcEFtplJoDJIBBO+d47gXXI3uprX1c4Wg0F4d6fLP4cYw2gfA7AMI2JsdaqXQFdcXF8mhxNv9UV6r8huh6cJUgYqmEwlAnqBfiRGBTZTNZdnGGpPfJyXJ4KBpRwtoKhBYoRWzasuIEcMBADKKCBREc6+C3dK+UP2PHBfl7B2I6QUVpFHTgQyH0vXO2q8z6xzlGRA+88tAOzgi4xIwgZCZD1buN3Y50aStBBLNamGROwWvbh7ZY0XcTT49UxZYoFMcAA13EfGamZoCOvow6cMTA6QENV3jfI4C8rvKPsqz1x6FNjNF6x242B4b8T98gAyfAAJOv0b8n4z98/Mfv8r8PHzeCdF35xpEjZDjfL1O/rjPAorQ+Nde2EqEPFubTyaH13lvebkAO+gDEJ2qJ9hdaTv2weZb6BpEaQ0Fdus8Hp+rjpwYIG2ohFnVTHeZIN5KHsCgDSTPKChj3SX6ua7GBL77ATHOQ8uQDALtpdqlIgWxRsR6cKhhAwPJQY5pEFbQbTQHKgeXNMFEkdBqBqS+otaF1b0IPQtB9WqvwYO6fQoMO2QPLeBxy/JAo5VtXfg4ANYg3xE7yI6T3xIQw4p31AunU2BVz1l+KOUI+znqYKVcpV935jgVRxH1xFZ2DsQkdiViq9F4deuPIvqD2SPGn11gJKAICg8Lk8HHfORRyahQXjWmfnAukzsR7YOIUHnGYQU2FOO9vnGW4qIo6/384PRjacOvX+cOwrY2cWw2+s895Hp9cC0CdmMa0bJ8qHwHTBU0kA6hWlzSY63ReDBVWywhpQKMZfpQ9oH1ZiuSbPdkGN7EKW46VwzdBsF1TmgxQ4O1mFt2kOjppxdR4wj1rmUNFho+IRfBe7/n47UqPVxnQ9J1pIg4cL7jJp+nK9byPwWJlppBYbd4xqsim9GQnanbglQ9UZjd7BY5uwI724cPJkOxmwXz4Uie+kuCjOFojpD1x04YmLgxz/ADLQ09Vxgu4WrpHT7emCzADhxxa8fznP6PHx/Gfvn5z9/k9PjPg5Pv8ADnHFGR798kYUQhXY/sY05uAB9HfnlwBBf3ZyP11iDqjKI8cDVbO5xhEzZ4eMi6T6d4gEDR6vRhEDxl7yNqN2HW8sDSEm9ePPn3zcdiqi/HnIiMHdDkSjyh24YJPmllh1gG3DGTHZoanqqdlQVGBz3nGDoWEjEB75HjnrESRouQdp9XffDjDfDTM9arbsH2XIqLPIGX8fCzKeTKecpl9Oomo4wReC5K2CYKUR4CbAomxnwM7TPypq3SK1dPIjaTXlS6LLm8IBG4GMVO0rsvHZxgK5NTa7o+HnjfpvIEhIgu233YooQFWh345/5m1cMFpmlONDiQFHKITbXgBWyMwIay1VpucBHj5HRJYqdU8q/FCBTQBVwH6VIxQscKlBxHnH8JDQHkUV96ebkQPCDYPG1lsE5KYAukS4DrU4HMgAT4IhETYnTmuINxNcQhvwDZMdh5NB7l1fXBR5ANbt8d42U9Aj6dzeAKQjSg46FXgYXHS3rPzgDDBYJcyEBsCi8YbwcenZVRHv6Gw8KLX9vCDomne62aT4ZzqYpOgSWeCvL6YceCCCb4ciURomM9ZKAA9oXJwSm6ZECTbpyDzHxgCVMcAgY3vAi8/hMi/YhSQ2a+msSgKbQBsfdf1fxn75+c/f5ufi/Iq7Ju++I5rI6X0EO8aoA7eZbPTPZF+2eDmkyrICxKjRgEIg1vr0wUgzicbwRXjrJBDakNc/i+usugALaboVV8TTzMNGlg4GkFprZzlgIrxx8QFABIj2ZMRZJgAunTeuWDoT1X9if3mXLgGmHsLPv+eE0niQ9Ux9tc5CHUz899slpYqigybYAbA5csAXRYRsQfdOHnAQ1WDmGr7+np1hNEIgNIPF2+PJMS1FGq8uItcysfaGjVTQGbGCl3YFzIFrzQmFhyd4+SI+dWVmADEbdQAVBGhzjWfFNZD0uzAXwfFvH4qA2ij7musJEAG7O9sj7PphoN8+oAQGi7F2d4kNH1CQSRiX6XLwjST9DkKaZwjmykgRG6oLL4N9Mf1QqkHC6r7k7A+Xx7T6kL0UD65Qa12+MnZXqxSZWd3jiI+DDh5nzu2dAVXwYoyjZDTBUMj4Q0wADOICFmC6ES6aQW1CyROA8AbRNca+ExwjxgIiX0acWpqHwP2hJ1gO2xEeMuB02SbUICBEaCS7wuVSA1YClAGp3twzwuKgGnIB2JsTN7kHlTNk8I0ywwxiooPaXuecmCs1XjwOa0DppIXnXinv1jdagarbZ/HHyd/LPk/Gfvn5z9/m5+eUnjeb9fGMFQMiYj1nP/mFRadGa+t4x5bmvDs4znOFgVqEcZvxk7PRxUkh43iskyxHAe+DIpqkobmvdMZlsGqTLeSjiZoBQWMRdHd7Hi4wtQJTZZznEhG30YkRd8DIs59cOBlykhqoaD5AWuK4PDBl6wDP9BDpJQ4OEwCQ809RXqLrN2NF58WH0dHq5GdPkSnjmtu1m1cJB7R0IAMqphMg28NN+sjrSt6Q+Y5+XnA0Q3fW/E6+Vr5b9Un3DATbCDJFO3ZDYO40wlDbZpZaugEtc+xE80cQkWlgWPw7vHl9rNlvj5HnHZIvneebU8mNmmDK5TSH/ck7wEI6iO9kT/34Cx1Nk0slU2vPrgBedceAqjsXhOc44xg0OBOoOkoh5ODV3Dz6npnLa08ZwgYr0X7OlaFHEWL1T8i+pWuI4QSddZ7bDJirRF29Orv/ALibbL2eux6im/GEEBd+m/a/u/kUgUYAbXxg4hQj8BWyzWX5/wAZ++fmP3/VBSgFaw4e8BrAOlPQ+L4y0KA10v349M5ak9MNZ1rFydUI0Jcm549esOrO7Rv/AJgKRvBWuC3RL4wAVAhqGC1fQrvWK9DWnA0J0g89hgE4jqxa8iLzeI4KI22ndTS6ftrGb0lCeWp1P+4xSkgXDg19cDDS1eXh9cmIAMAMPhL+vxD0QF2Ny5OB2aPQgrKy34MDowdqAhNoHjq3nfGavXBPfRvnjERPUjpb3vWzGgmf4d5t3+MJchdjvWWBoCE2n2w+wdj/ABgEjDwmRAcnn/jg96Mx422dbg0FV9NV1gxxhQS42xlCup8x99/v8hd4a30vAAKDFL6uFfQFiqsAr8V6xXXeRNmAydXCPSO3Hfw7xkasqKK3JVWmnBFRN/6D7axAyQIRRAS5Qrv1zjS0ZQJxab9cVVnZQIZ1NcZgAkAajhHh/wCZE/AaxGg9PUPULvFXFSJFQyKeAHpi2RrxUPcjbRotUTvDUTt7roz0Bbyu3D84JXiHrXkB8M5j2l+++njxkEJYDyOM7BKHO/bBoSSxpUtGnezOXkIzIQ2CxAGq8uucFsmFiJOTy+Pp+MmAaAQQHl51g3Sr0a9r5DVUZW3KPKEPUYtsdWgDB2PhymZiOJQT6fP+I/fPzn75z+pYFFR++GwjXkbOqdmso7W8XbevXIGjj1zQpvZ9d4A6hKHyAd714zrRBgwtFb2wAVdY4Jomc7OARjp0nGDULx7GD0p0y/8AmKth0J7bOYtBvWEDtIRhym12y5HsTa5NknSevKuK4zarZPUDZ15+mPtBoSgdbdenpLvIugibGVdKrekMIARSqryr8JeeA73RyuB2tHkMGxNW/VBB0WO14FaBBXHRZy9WegamEs1TVd83dxYRNtObzzhDwC90+uXRxIgqt0G1yTJpaCabYMkqmxM6H1LtSQ+nAMsqkLrt1ri4EdCM3WYhIyDHtlw2Jmso5Hp+EVBYUpsSJp5xXNi2PEJwIAUbhMHZ+HJF0AXReIgWobFtysyBuOVHY7pGJhh/u+/jPDgtQijTsgtu+cfBoKyyN/GJRWFWtyXXokulLbpr43I+JMz6yjlZaxg4827AfFA5qRWmCfFEuCaSAEUaSlOs2IEyRaNivMNq4AJgBrMu8hutWEah7H/Of1b+c/u384uDiu9n74QbSCsb517mbPIMmGtuTlFHwRyr/dYDoKGiXF9vPeT4jowJi2ebXwemJaidmPU8jNPwxaPMeJ3iU0iCut8/VMQhpD0B8z8+M0N0sXL/ABfJXSoyfImzAcMOhJYNagyXvJl+Z/YZ+c/f9A+WtI6hQ09d4LJhqCi6569MJdglWhfb2x0u85fp3mgLXdu3TvvGQljpBh+ABIlJrHLQoaZCWwKlmoRc0lFIPSDdAo8YNyT2yu1agRLF84KriPX2z9UJ9sEBtElHcIXg57xBJ4YremoABy7i+Mu/Q3gJq5I7rwjFvx6AHwOj6D35V+EZNCS6esnQ7IHcMDhcrPwgHRfIqpxQIa4OlDt8/oqFX+w0IXqlA5QMfEZFJo5soAmwVxO7kfoTBIsA2EMaX7kSrGpqEKBpcfCWwTYNTcjVvnNRbHAJigREFDrWbbJaIcDSGvLW87gt7bjRXvl50D608XCZNDdzXwuZeMZo9+LEy0i95sS/Kd/HtKAcu8lDFgHkJtFQKhd5d/IvLgFMdiUS6znn5WfC1F+zGzD2C79cuNUoXSOFQN+mTjZOkcP2MfKjrU46ZAdxZ6DeCfChIBRnyGHR28HLgnbOiSvbdJ6DYOLkf6P2PXb7He8mnE9URITRTZSsR3jymZ1x89Va6SAJi5p0o+Hr6kT5SCdiLSaVyIWU7cRYLIyo8pGoJKtw7E9ZIKlqAIcAMP8AyhkEMiYJDTRzcKHjhAg6i7BZM6GHD6IUerhuwoGDJp3rBIoQJqTdcesbJgjlDo9fn4Y7ILL685sYBQWh/dYIYCuxogXnvtPbDsg92TL83Pz/AIzDPefv+rLo4XmecSxerAqdQ9+M5h00rx6/XDvZ5h0ZBfM3M414jEIk8nnvAm8PqNu7d3yqB0ZyYNUzxJtHs2+i3jPWZyCnBV4yhGpAdvjEPIE7KHscYoiKI0TrE5NKHPOjDluoIgKmfZTPS6Wzg+44sKqyQ5U4Dy63jTnijJSj5I/XIVDbiRXywAHQ4CuJeUgA1Og56DTsPpEnVPKvbnQ7sBvL2MysIu4DNn2topsjYTNj01mbjAnhGlWkuERoVNUAgBnlbkzqIa4gUKCdLPhEuIIzeFNy9qBVBDhw65dDE42IArTkjhNPwvPFUa+iLrv8/wDzWeghM/lFfZjdp0bVmJSxDb4uAPxC3lL3/wAmTbUCRaf394vqINQ0vDgshOt0+6zvgYQmso8gUTE31gcPGxmiqgOCVpZ/v651knCroezObvAWPdjdSeU/J49ccxyoZqabNYeHC42rMlAPSHtgSW4a0KBIDocuUEqPEm+E7dLREzr5ChGN3No+6xArUcM6qIQcM6dAw2XLXmBLLNSHRpYamDIItK78DjyImh8AnBzRd27pTmN6cYwuevkrqkAWChcRAc4ujXSuiswFucOCmr37g3eS4HgBmQQgq6q+ihoc21nD75P4KR7Ocyo8LU/7khW/21cZEEXYFSo/Y+pjtG6oIClJ5XWNRjFRzvQLgNlAkp8b8F1MIKIKaa9fSGPgJyhLrp/7+nfh+M/fPzH7/q7z/vcG6OWUHx/3J6R4HL+fbrBI5LilUATf1xzLUFo3Me1k6mF2YF+dz4HGztbiJzzqzeFVPhNH/ua8o895M/BhnT0fBMfuaPINH7mCKEjimP0A9JHeFI5G1maoRFGEZpylYJLh8gNQLGATN812m/L47CTYd5VYiaC0JDanHON0SowX6Of17+c/r384Hx/b9cRFVTVe3Ps0RJIq5e9BVDDZBhcaqrK012LXxsf6Ck2tBgsbd0xBHGEDDAhtd7u+MPCmtQ1IgaJaq7mHLWQgICACyrVZA4xElpBXQbDQiSzEQYFPOFg7K9XwuLNEXEKgqEnkp1gCAKEjgq8Y1AO5F7iT0ywBFzTwo8ZFhR8DBIC6Kl6wP0ImQOxiiImkiYTs0Je/HD5WCtPWeV5jXsNYZOW4mdWChVt2nQwAK34BXoNBwGjG5VU/KKciaR0mnGRIcSx6AXlYJSrGklTdjXoB1hHWTdfcf9z/AFWf6rEnZ3KmFXoXDvY8Ox15f3lzfEFBAiemrg1t36ZcG0nm+uE6xa2mtp46nbmzFavYtvnsmJq3uV4B6GMdfkzS4Be2T2xMC2lNaK+/thAqaAKi+5xp7wU7ra86B+r+M/fPzn7/AB7vxmvlfhBO+v75UxKMba2Tpe81B0JLtTjfM/bKJVIvueHNGEBF9sTq+sQgjzROHLmU4c3lzaSBl5coI8t1SOzpUdOM2yhwLEAVvgOs30JEXE3Xk5/jKrSDcRWTyb0XjOX2mhVswdCbVdYYBQ5VtX0ED8Ej+38/h1GLmZBE+nHSBLi7cutD1gCDY3fBx/LAyme372C9uiSf1/LI8B+IcQDTQEhs+VENimLSh3oAKNCXDfdHSjQVRLwLpbiMORbQIFGDpKITVxyMneN5gAh2BTtv1SNHxNVAAaHbVy7h0rGQSSVBAKXcMi4Cf1NXEm1cQTj+H5xxnyCx4S1d1ZCwVRGsPEYzh1q7Lb+z0wSUAAK++9sbIIjytvfb6YN5tH0MUpLSrwBNUIQIUcfF3bXmzAbwHjg8W8vp/evrhwfHZX98IXwXaAecIk3gxvHBNatUVkOAj+LIRyFlYVca6wHdy/4fJB8onitkM1ZSsTAVS1dE4sU2W2AGb6gsEeBpOkR84jCAug503WgarDVwc0EOXtV7I2LzjeCicDGntt1+7vIS2wPeXEpAJKgYRITwijm5PoJPHGTqv3PI3P0Z1xgCrn1oPaUXGPpnJYKF2aMtlSQF2cn985ZY5dt9H0M2QkdJda6+HP6f4z98UiLNXt6Zy4yFp9Pl7+F+ViFg3/fOeLSJVS8Hr+2I5KiqyyX3iXHDJQWOTqYYnRvceXR6YpcXbEXTrFfXEfES8h6wZZA0hAAp0B57wcCKSlR59NQmXmZmmjCHQH4YEXYFvwiWG+Wmesb1nt8NH9P5/ote6CDfyXvohwhRWkUSZ39ISmJ8o2nLY2H5OOc015ZxmkC+Rro+CwVaNGEoIGisrjuvOQgdIlEaESXFu1HSHTPAlRGcr8Hvt/7+2DDfAudlEj/mbg5HGHBiz0GXg65F9x6cquEZsL9uKfmLBy04FPFHJ4jrppjfVj4sFRfH5wcHwcmyAn3kJE2hCGrn7fBiHTs6/wBfmTDrHsDaEBQBCbw/SCRJCMMA0Vm1+DhlQCq+DNWQfC6GwAeZjQGhdiKRqqkOKw6xTqHIE+mv1wAhTjXvYQ8/XGIyQGa+SsCipR2ezk0MD6Hv498n2iuO87mucgwNrEjrX9uJ2Iv8b5Z+h+M/fOjxQ0urm8CRCpbb7Bw9bwK0MJT1EoKroTfNx5twMT9Li6MrxI/i4Jxw0Gl9biRDETT/AMc0ARoGxeT6ddZQSvLybyeCjld3THjE8CIqkJHePAYA42gVwicmEToAO9Y+zRgj65TIO8DUBYqJBOzCtd9DEg9EB+uM5T/159Piszd5S8Bp5w+OFGedgcNSyPjOPjy+KGI6QdIUVRFE3hsgezlFQMdkGBhdnViWvHqzW3K11dXA/MqPXmQzW1jdYZ++AzAjSThwxGyILRazRCHgKUqGIAL4SAFQIEA7VUtkioBwtS+vwrM3y+FoGoJdXDqMQlwjuB20++UYpNPJ6H3fbAKIsJvZxhIICuaZoAAlSwuL+R5ivzjeiRFbZfhsMQUeooF2gHbh70J8Ajgg6CCkM+kkQDTxJohsBfg+cQx1EbWGvn4Ldj04WryGvYaxFWDgwooAB3asCfJy9zc77an2Tdw6VqE0BVLoDaqBkVL8OiqibGLOMvrigFAFVeAO3Bd7TjWi4WJPceAXKD7AeVin3TDeN0WRG4PQGug+rjNA0i8+3nEta3jbgvLrFY7cru3P3zLxjIK1O8hcYSNrwvAb9+MuKNHcNl4wT7TXo/tk+N/R78Z+M/fPyX74fWBpvbbgKxaITYgGaUNPNMAOZcILTmDdbDHZjsi46vh/Yfos/RECMGxOsKBCBsE77H74tKAU864k53++caiiYLG9+/jxlQqyuVPOCFABVNl053kVo5ocI6Y2SE3cALEK84x6VgXgyWUfnheOMrbq0zIE3pE8KYKVHajepxgQk+tneSVCFAmgBSrmnHtCDqlQTgDscX8Bgm2xsb2kuCJKdd7wIrD1xEgLUgC9QAegZM4YZAC+IA9AxvhKhSXRKPuuUmSuEJmigvF0ZSuWfU/X1D0LPpklRdF+8x9XNylsHH5T6mThK8J8rkdYgMZp+XHfHkTQI7EeHP3+QIu5xIVUUmgEIVrQ/PgARYtHDQDFBW42uqE85OX+v5FQjqE9KF6JAOAwnhEPfCZN4qSLIHhP2R0lHTnHLudkDCQsuisCuABapcYA2r4MLI1UtB2btG3AysXV22n0p/yBBM6wMsKu+darwJ6YFNIewD1TDZzUY9gXdzjqcR00uwcjXDrgNToNVA9cj61vja1gMsaEcjKKI4jwBCys2vyDEYMbvvKW/Edy5I/1Ll7qWiBKUUSto6sjyo8NqZEG0HBCVFq4pcxgRFIEHUA6Zp3g27KdYF6ivAeDnnd+JdTtiquVXD2ld8ayMF2vyEkPdsbt1hoIDQ4WSPkgC34DUcTasMCZ9OAuL5cYrBRdG/1zhBAUrw7fbDQKkArL3f5xWgq70/ml+vzX5uM/Gfvn5L98GNQ7uCXcqavEzuTqNwqXSB26IOcMRdCbGcYlCHfBy45Shcg8IWH/AIXHoAmAYiOxHr9BYeL7wGj1QB7vONiNHC0hYzw84cAB3OSSXr39c3F2RDQTkvf/AJmj1FpmDTocz0y+USa9rJ3RMX72HxPgL7XNDIlskKatwIvBeMJsbwp375AWRZst/CL1vx4tLdGENBNUYwkEweHk8mLwDqwN7oc+pR0pgTy1WoWilliXe/gL5s3qkiMSC5RSxDlzjOKAu3ytCj0myi5sqcxd8qfnPVwRYCAIB4D4EVRq9UPYJt6m8biEhz0+I634YKushfQARGcl4w0rJYp1IF9E92O0Q+f6j++TJnpl7JUQ3UuCJwBEkLcgBQlAEZcZz2iZBWgUBoAAA5V0eybmSptU/MKhkDwieF2eAGg9cTnBQg5EeH0z7Qn0f4+PGXE+1QdjqbGFDpc0enULUgbEGwcK8GmWao7Ve3Ofkp5TyG5D3wxghvWMjLuB7dERFjLL8rNArZVBetvORmGCRBZvAUjGgm/ikaFEQRRTCp2ofXFAYeO7Bw3B18sRGexdBG1WmCO2AWSva3xAeHrUQLLL3t6mFRedlvOESqXrPR8KqURfbAGiCTCgn0GOgDyiVs7OuvtjJEIqCD0/5gxgu/RT84/UZP1fxn75R0oxOJv415XWJT1OtOBk6QqdSOyt83c1yiAa4lFQ6CUTr0wsj2t0ll3NE3NoRqWxOS8bQ41pLoOs5+ZYZH7Bo5qrh/PjH1h62dYVGIO5V6fi5vg4rVYa+z6+uSZU3MhKsCofApISd7xw0F6du/XIdCgyqhez7sfnw3bGEqQbBu4miEUdUmeYSlxWx2n76GlLAhYo/wA9QkBg+GLsmta4ysxzHgbChqCviemGGvSajp6yP1+E6rMCSDR7ToNuJ/YWWmnHKqY2omD+25zBHb7CqFCDQlOVbcgqjfsufks/aIBjbVRm09SYlFz41HQaPsxcTv8A4zByYFcNg84QeKc4da5jAB4XBcI1dY6T2q7ZMF/ySVdGl1N1W8O+NHdqXeHpW1pyuT5hFS1R6q2hMCVpvQ/kw7BgPI4gFLKUsmGgOANQvRNA493Awe2gBtA3KAllYxNSNuYAkmlR8J2pLeQ5KjshtLPXAqTvLqwV1VptFHEn0LbQDsR1M5yLO3DraBC8gFLHLpMCIjorAeDz8V+3OGAQiGLQdDnD1pDA2ybkkB2VMj1rdjvKCRHxi4hB2IemGgP1nXwtPjDQDNqKhyctDcTHBwExEeEevgTIrVBgU7KZZNqeoGgkCqgaM+PLlCIJrZ6k4Lri5UDPmZooSo2XnYzg4yI6FmCt6YcDgph6WxnZrhRrF6WTEGkDV0/PzcRoekPN/fhfQr5+HPvi/W7cFOysn7YkTSEb9l9e/XjBMpp94gv31imF8OfAdq6DthgO/wBgk3fVO18+x8H5ufm/Efvk5KMDn2d56ds8h6Pw6zyVg4vOw+NsoHFESqp58UPr1hOnTiiGjeCieYmGrwjbE7H1Xke0yhpC1Vq6dARUQvOKUJxj6ONf4GIr16fJ38OGiAr+e8eP5yCEb+xyp/7HZ3gGnVQeXqdmEOnscMB4TT7kw1rlNOUf/MuIceCq68A4cKyTEXsk8VZQYuMKqES0IVA0BVdZMT9VDwo1F9Ve8OlDIJxyTNpwxSrCSOQdpB5REUwUHVkON3FvmHtnBICHoKTvNUKUFE1nDNuPjFeHxCBGwEUJ+4jjp81B4aqNBGxoVU89AWnsR/Zxw6poIXpIC10heaZvvTKl5TrwG/ux6NaHfSmh6APi+66oh8icYQuBjiBQQwIewx84hQHUB3d5h0U4xZAXhydX1kn5wzgbLxk9+HB6gOXd5HY9rsIj4fkdemPGaPY32P4xCRRNidYDpC56KIANL47qx1lnJogmkRJg2wM/nbQ5POvkA+5OIbEenCzsIL4VLPTPfHjGo2jDRUvJp+z8EkiJxRwicOQDeUEtJwANPHB8lbAcBMRHYj1gproCq9AYcKUDyVIV6CPxreXgS68FQvqecFc081+xrQrvWsdcoaBZXk6gi0JTInW3hLy+Ub6cTMizgG64klqKJTGELIaNPTCBy+mMfR0AbXKMr4mYGyjClO18Y1DuEGxfXvvuecqGLsXnsex9YZThJdj0NPo4ODtf1vxn75+cx0Zen9zPMJrz7p2euD4D2WqXvcM+xjTCm6q+P+emHVmAoIHAuyIlaFZcKANCFtFugiHIawglreA5aeEDt/7g+6z+0TTxg2BYJj8/MpXKhHkTY4aHWkE9X2eQfXEAUBUb78uenG1tRD7pt7XkcnZgGWZrJEqqOzFFuTx5IsCQCwW4OZOgoBRLcXuu4YRAoHF14LSppm/AMCeCGJfChQZ+qDFl1EKFOFkLiHcWkaMSE1pOecOzSvwqLkmCobGOXxAJiRukCwgUdYjWOy1nBGzSFEcDgJEgant4wwBdsbX5P4/s4W6FsLRbyOw0A7KuARhe9oQzmNzoUmdHybNmzaGbeMHuNHqvCtORaHNTwIfYcSWmFAsdAJxeOn1YMwC68g+0JddAfA2xY4gkVPJhc17c6Gaaau9orcmihbBr9JQz7ErQEDjB/YMv4+AoJpOzDIIAmmcd9Yr4EiY0WLz6rgVwC+m30m+LjSzVMe2t9jJQgBmmLbZDEWhrR6TLePEQxG5A7E8fAi15cvg9+E9hreDPPZVDyHCTmXWF9a3itF3WNV92LOwO7bXQa5udjFkghRDkR4xJIiUUcI9OMkpCcEkGgLFe94Do9aQFbuDUMYzFiJRl11SNJWxxh6xB1TwAcuD2t0AFWk3wumLNJnWQFim/brX0sRMwBVegMdpna46vY0CdWadfDlyBFSCreRHshj52KVAHpSgs9aehjrBiG7B9xjH3FltbPumi83WNgRWwzRU38/XISHBB9Qa89vpjviRLT4DQ9D539H8Z++fnP3y/BaJ28uqPkqw2Vl4z0j7lOXydnJ2Ze4Tyb+2OBZeClSpx36+uA9s9JnABviOSuGpDJERGCkuyPqOsLk6CKhonCI/nKDaZOOPYP0HeM1R7Yw8BaHh9Rxsx8uT6vw4+Vcaz+xIKQClGWZc+cflYHfcCAmhMpBuPSEd8CdEGPGF41K5QIfGVaXUxVpcFrWekserE7KJVXSfi9cOoiWZJw6uOqH6dDh5DIRyAJACHXkpX4QhWj4GRbMcrwh+qKFg9t6Gmcnrl61lhjd+p5xfJw+wSp7HrerLm6gSyrdsiB5xmsRtsVd0KWZxcM7bzf1RgczPa+mMB6LwArjAKCoTYBTakAx5wIY8DJ9TAlefn/wAs7449mn+M/uX8Z/cv4wd0HRxEkQkG11luvBbSOhduJYTRwmJiyU39WVPArgAqRFFo1GihU8lAe51ENiJw+uD/AAkgUCukHl2wYhRxNpb4FpTRtDJfGV4kOBADRWbV+IRPPyOENj65CW0wJOAbVWSMS46dnI8BXfNJt0vxPGTsvIB8zRTW0yzYg7TUMSSkF4Y771ohFBujyY4JEURHOXVPCIXvOcCFbw3EF9CALFJPkJIg0RiOWSI365gsM9IAKmaPg6PcID9Zlv7H4zxnXQ/jEJFiMR856T74Dgj7Pz9/J+O/fPzn7/JJopcoep0+iJllDKsfMH8TjsMRhgUUdsevPjEho4SNWhLr626xFUYxB8IzkAqvG3vHi+YwV/aXtwUAtXQCb9/1OPlfgdbj6osy88iCIhlotUZL6AFE4bTSytQBUoOqaSuk504BzFKQQvrAxVoElTyvpLl1aw7ypMMvArsJisCIiRHPpmkjp6Fv0yYQPxZoS2jNA7fJAgQG3O0+EN6LUoHZc0q0EBgjQR9QcuBKudoh3dRE9s3BoA4Cnb4yTQAA8n8HCUCsqCBNCAxiNJrNRDBpopAWA2tXiY88oCa82NEKqzZB3o36YHLqsaXQTTe8MsO72wItS1Ls/OVN51a1VX6obBR9/OHwmyM452DaIB2161PMKIFnriZ4OAmIjwmL5D0lk2HU2TTtrnnO8LQfbvfbVeBPTLcIbAgdURe6oxW0yjIhBA0aiLCeLCOcMQVAAEsyI2cjZ5ewiNbKq45JZWhEnuImLykFSKyz7nY54/SPJSdMp2gJB1djWQhQWU9QGpN+2awksrQdnPPpjfTaEoPFnYnXWRXUulSfKq8oveT1cIAXCgmI5sHg6fh38/OfiP3z85+/w6+N4kIv8ibMgcp4OAAb98XaG3AdHAT95UM5l+twKJAfwqkETx5nONfjQgtm7oXRoAdvjP8A4W7iLaY1JYKgi5qzP0UADoAAeAxE9Xd8+c5LqnSSfvMcMEoZohsRBExCNgRajaAKPlyBaBFoiIr/ALlZ1j6dw8a2c5rx+M14/GQ8fjG4lo7CBgZrU6N4sbiirVHarvL7/bHpxdNNbwk/f0xcFbv3uF/TDGN2Kmql1H75OLIoPVYABVIGJnKC0TVChVHY9/DseOfRm3P+9/zlzXzs6LZxC8gm8VsYFCRDV5hCwza9angVrDgiJ04RMkzfgtuhqyoNmK3VH3dG29trEmDxUo5KJqlSB2KkzRSlqsEqaAXIc4kCHgwk9+Xp+KyxcxphoCW4nAg8JvgPjP0xGkxvXuIPoX6YIBl6D/3DVbCEx8hsWtt5K6GzkQp0K9L+lpIccQpPUTbr6sOars9Q2PjwHTjthc8tPfrc5dn1Zp9RRmN+pQdXP9TAUVdGy4xRg3yDi+v6X4z98/Ofv897yzZeeRg4U4VT7n49/o8/LfmQefgEfvlm3XkytQKc1p/GL8ceLJGLhSgCKBgMFtOdRYIpXlCjlqe1eV8q7Pr81Akw4UPR4PT4KwIJT4Ero0bi3C4PQpx6euTA0AoLuPpwPv2uhUUQNMFO6GkwJ7DQhFVVQ1Awf1iKHXIvrk7TQAHEFj6sU+q3Bj1RyeNHIgjsi5iNX9B7rklaG2uRE0iRBRER3lqgaBOgOXDFvDW4CoX75d2A7G6Q0Tb6nw5NTzajDDQsmjWAGjEd9I94KzOV2Q+Ry5cklt3MJFACr4M1VQUhK2vgBaF+IMiZMjrPAu0KPC42lDzqRwW42cUHWaN9tI727+m80Td5CiYtDLFNQhnO/wBI0d4QB+c/sn853f1PfH7gqFV9c/x2I1TyA/Rnw/Gfvn5z9/1+fjz8vf6CU0BPT/hh4jw4Qp9kwazrOyg+y4q+m8JUyYsYiojcoNkqg1QWtowIAGFNIIcUcidPyuO7Dxcsr0b2PpjfzDwGkTpx9myOYn3KYgR4JZ04DMY7NUfcfX4LZUWYAx8hE8q5HxSmGItkoro1UOTCxUqeGk5u10B7yltHE+g3l2/9F2PQcivUawbjIhJEBvRE9DrWcAwB8ulNN2emBwPQp1uJdmlXQ4OA7ho0XYS67Sm+Qp+pl9hA9jR1j0FK6SXKbhnjgTYB42KILg2xPZiJ8OCoMX1nk1O3FN2bwU+HnArAFE8OUoEd1KCMciSlMXxfIuRVIIVYfrcfNwfoe20/fPzn7/pzOs5+F++c/rc/C/8AYmgJb7r7X4aziXwI3oO3k+cLpZwE0RNiO7mkrAERNyPtBXbvLPw/f1Z+iInIpkCQNNdu8ZZWtQJkGiw/dwxMfc0q9BFaEaN2PwiQ4ASPrR3h4etsQfYzRsA2pgHa5R0LdSJe4P1+CMkYJzs+Wv4pBHF5x+i8OQm1PKb8ZDlaAiD0Iypp2OEYgapFoX8ZxjY4FeLTkYpspdJixD9PvKKJujHQApilCw/wGoc8qu1+HPw83SLwU1hUau+XGL+f/niQmW1qN1RqhODyYa0PwLmywHqaWJiIU3MarPijmGi9wbJb+pz+mYl1EvAH88AK8ZQYgQ9A0B3EeFwUMDPdeQ8PZgSVefk9M9FPb5Oc/Gfvn5z9bcKQABAAJVA+q9YWGnBRv1v6R06dhURmxWO/sFQu5Dsf1OPh38BO30xFreBVftesSKIiaRwhrCMq7HoMR6QcGRcSDPD4oHRyaRcOM/0NLIxjbGFTeCXXoFxA16JE1xjia2gHWl4AjkSKYCaxQu+87k5bwUTlKermnhUUURw835ADvtgdo0GqBzXBaoffP5MP/uJaNPso9fTnHwuoN8KsT6XJgysXS+br0yMKgeXKdVwWtJcrQwIc38XHCQcFaCh2mvRuDbIbGgOWhDlKogFrWpxLubYyZNWmA7gryI0GhEX+h/tkMN/R/wCPgC/of8Z/T/4+A7+j/wAYjRNvEtzvmvR8GWnwcuZTdySj6Bw+OIJOCT0QPm5/TPmGzTYrnsKFfAeaCt3DprspNE364hxxVQQZyFk7ffIW5EWEupGLvwVzRcBej2dwT7fJ+M/fPzn7/rHzDTSgV4FIvrlg8Xscr9HxzZvEvepIgpu2DyNHZ8bnPzOT5UJEGiMTCDwCuCDzDQfM9DNrQ9MXBtn0PbYpl9Yc/wAQeJ6vlMXN6EW9PI9ZNQoHyqGBe2V7fgSapAJkQ0aitI4TSw7nnlnaeSHCxanv5H+Xy1vAZnDgabt2vQXYgHa5cHtZOZeu1XaPxMS+SCBbeAp4DBLgqeVHB1tPqN1hUE6HYR6Y9+ntmgDUDxp69VhfD64ZVGiLWtc8a3hsFjykKr1GD1OzCnUZicImBlFBncwfaK+cr/GX/jL/AMZ732y/L7YL0LBiW6EKv0KoYnzS0qsw2lINixkMapsrleTY6dTUn6PPzcfqATg6Hf5HODVqSrWpv515164fdgISN761wfY5O77ACJoPQ4AnOEDwE/Yfn5H4j98f3H7/ADX5+8Oc1U6Sp8bT5H9Vwopndo/cSiOkUcUvosmbpydvmcm/gLCMThOTIWdEv72L6rirbKCXpvfzlwc3RHveOZ0SYTu5lJaqfjg0HoZN5GXMToANp4BZXgyhx1LE0aoNhUQ7XAghAUDQOFHBQAVQMo5HccSKuSlREFuOSRQMR8mQhwBCgCoagE7HJheT0GrwxHrjvKVD2RDmCW+g+mPwevfGAE+HsMSx6+TtfxOA0ZfOCutdK/krbZXyb1SJAVuUg9s/tn8Z/bP4zZ/c+2KogOrZxpwcuMaLwzaBIlNiLhxnveJAnlyqmQP1OPg/rdYpgEIgWDYaAaFc0PMNOqTT8ENL401VOFr4w8E4nEMZeSCcqF6bvl63xjkw76SqPoinpPiZ+M/fPzH7/oc//UFlqg5ohsR7MKdgYlx1HsJ5VhKCX6FNPpjE38CEXnzkwntW0xISgYfMAfVwWjFE8l4vih8MKCgafXfc6odPhfTGsiYAge2Xw6ZFH7oUqOAIiiI4beMAXYBwVgQAJlOxs1k17vjG+7EmyUiHbBcij2EFeg7fGCQydICIgQoQ0OviUKH5D7NJ2B59sr5Ll85S7/4cAQxYyCH3Qu53VwYIH3L51ZN0IfGMOWW1aBTVBanc0sSl7dOwg7+c+HS4HJ0qIC6ub66Fbv1fsdOEQOgDEWOj85eSjm50tf8ASYRrm0LaOhwHgzXScYgbS12nAwQasjGtGVJxRqbZ5TPLgACPo/Hn5Zl+XUUhGhO9IiiOkUdYMgXD1bhHigD0HGHF5RJRvU+HVw2o9K3skPQA93O/k/Gfvn5z9/0efk8Y/Pz+unHK4r0GzAqxEX/eZGY829fpeRnkRH2pgOEgAz3f7c03jf6RpoMuajy0pdlHP7x/Of3j+c/vH85/eP5wNH1qf9MVSmMrazYBB2oC3GLDWWqjHnZw84KjwjkMGDBeSBYTP7x/Of3n+c5aYmmu1+Er8T5AqBXwY3sYMT1zJgppBGVKzQWpKROdYWXMFRUqo89W5pTsK89cO9wbpyIcl1Yb1HkYO2GsnghHNqpKG5z3lyBBxka05BOcWGFiQNi77PRdZS6weoqm3pYJzaZNIkfDOA/g8ecERYI28jBfu/jHZwoBNaGWccxPTEh/OSwwqnConLzmi84KHA0zCiWqiolMiVpb6JRH9mn/AMv4z98/Ofv8/H/wT4T/AO91gbTerrx5zawpJBku1PJ98PRu4rwQFTwXAdLqq6koqUXUmhXOLhWsaiFSWaqh5xIGxiYAhF2s0OzbZk3cSpgNbC95tNJm6AgACAqjSCnlyifxXOF8kIqVaTBLY5gSDmNEDRZRwk6HSVNaNu9TUyWioCbHRNVJrmZZ0HQFaQdaPf7YxXEHRTqj0Kw36Ysl4IGbqFCmqc7ZzcKjGWwx30SczuYQuNoQSkTTa74rxnKCU0S6FsRuHhbkkS4QGI12L/wyJBNrJa9zrSnnUxNIpNKOdzSyTRPTDIwaDbTS6erRyv1O580+P4j98/Ofv+rz6/Jz/wDSfJPhvJ8oMaCq8BiQEbHc/mf1yw/Isots2shr3xoHuwhb+Q3E6mMNLvigQD11s+FwebJ5KJJoAA09XWJgnFLRqp50IPQ4nRb3KS6tlAlPzhFiFqANqMs2eh9WQ2q8ALSr3dmjnIQnXsroeQOB6Jkx6ZZKHa0XYz+MMRC7pxLym3MjvOaSgGhj6N9J4wCkMANNKBmnKYQXwLWe33xiq2Y7JT6N/wAZYg7ikB0b6n/mJIOcXZI08w4ccR6iWNcvhfOOwoC1ch/U6N5A0VUertvnzjvKEgQfb09u184mDo2Ow7fqT9sMleC7NL40bON3CYqlNABPYB9MdfDj5DH9T8Z++fnP3/8AiP1HOD/5juFquseUH/fy/jGbjXlXl853iALZ3598VE45jxmhoIYQqHCY91KK9nKyXXwShNJ8EER2POLVvBqEp7r7XIgHDx285w6Tmzftc2nTrg1MpALv15xBCa3t48uNrNmpNfbOIxdrae2NcCe5caKMnprX7Y70y1OsAQI3kgniYjwqYJWp9g+Xj4c/Pfjx8fxn74qSbcD5z/ZZ/us/2WP/ALD4Y/2Gf7LP9hn+yx/9ln+yz/ZZ/us/2Gf5Ln+6z/YZ/ss/2Hwx/sM/2Gf7rP8AYZ/sPhD/AHWf7LP9hn+wz/ZZ/us/wc/yHP8AZZ/sM1fys/2Gf7LP9hn+y+ENWI/8hw/9ln+wz/ZZ/us/3Wf7LP8AYZ/sM1gpFb6H05z/AHWf6rK/92f67P8AXZ/rs/12H/rs/wBVn+uz/XZ/vs/12HKHsPiGB6D7zL8P2y5w/bCgxynp+2eg4t6ftkBwzxlOme2D8P2yHT9sQGII4g/sM/3Wf7rP9ln+yyf/AFfAH+6z/ZZ679Wf7rP91n+yz/ZZ/us3fys/2Wf7LP8AZZ/ssBTideuf/9k=)\n",
        "# Reconhecimento e Sumarização de Receitas Médicas Digitalizadas em PDF"
      ],
      "metadata": {
        "id": "ScQ66bAMQl0M"
      }
    },
    {
      "cell_type": "markdown",
      "source": [
        "## Resumo\n",
        "\n",
        "Este projeto visa desenvolver um sistema capaz de reconhecer e sumarizar receitas médicas digitalizadas em formato PDF. Através da utilização de técnicas avançadas de processamento digital de imagem e machine learning, o sistema identificará informações críticas, como a dose do medicamento, tempo de uso e nome do médico prescritor. O aumento do uso de prontuários eletrônicos e digitalizações no setor médico torna esse projeto altamente relevante para aprimorar a eficiência e precisão na gestão de informações médicas.\n",
        "\n",
        "\n",
        "---\n",
        "\n",
        "\n",
        "## Introdução\n",
        "\n",
        "Um dos grandes avaços tecnológico na área da saúde foi permitir digitalizar grandes registros médicos, garantindo mais segurança e praticidade no armazenamento e acesso a informações de pacientes.(d’Ornellas, 2002). Dentro desse contexto, receitas médicas representam um dos documentos mais frequentemente digitalizados, dada sua importância e necessidade de compartilhamento entre farmácias, médicos e pacientes (Girardello, 2023). No entanto, o acesso eficiente e a interpretação correta desses documentos digitalizados permanecem como desafios, principalmente devido à variabilidade de formatos e estilos de escrita (Da Silva.,et al 2020). Assim, a implementação de sistemas que possam identificar e sumarizar essas informações torna-se de suma importância, ainda mais para pessoas que tem dificuldade em interpretar uma receita médica.\n",
        "\n",
        "## Objetivo Geral\n",
        "\n",
        "Desenvolver um sistema automatizado capaz de reconhecer e sumarizar informações essenciais de receitas médicas digitalizadas em formato PDF.\n",
        "## Referencia\n",
        "\n",
        "*   Da Silva, Dariênio Xavier, et al. \"Legibilidade informacional: análise da clareza na apresentação das informações em receituários médicos.\" Revista Brasileira de Biblioteconomia e Documentação 13 (2017): 465-481.\n",
        "\n",
        "*   D’Ornellas, Marcos Cordeiro, and Rafael Port da Rocha. \"Acesso e Privacidade: Em Busca da Segurança das Informações em Bancos de Dados Médicos.\" Anais do VII Congresso Brasileiro de Informática em Saúde (CBIS). 2002.\n",
        "\n",
        "*   Girardello, Danieli Cristina. \"BENEFÍCIOS DA UTILIZAÇÃO DA RECEITA DIGITAL: Benefícios da Utilização da Receita Digital.\" ANAIS DE INICIAÇÃO CIENTÍFICA 20.20 (2023)."
      ],
      "metadata": {
        "id": "1qFPpKDpewIo"
      }
    },
    {
      "cell_type": "markdown",
      "source": [
        "### Vinculando meu Driver para armazenamento e estração dos Arquivos"
      ],
      "metadata": {
        "id": "DvRnkUNQfDyY"
      }
    },
    {
      "cell_type": "code",
      "source": [
        "from google.colab import drive\n",
        "drive.mount('/content/drive')"
      ],
      "metadata": {
        "colab": {
          "base_uri": "https://localhost:8080/"
        },
        "id": "gXp4Ysi2fVRq",
        "outputId": "49b2d0a7-606b-44e9-c092-44336595e880"
      },
      "execution_count": null,
      "outputs": [
        {
          "output_type": "stream",
          "name": "stdout",
          "text": [
            "Mounted at /content/drive\n"
          ]
        }
      ]
    },
    {
      "cell_type": "markdown",
      "source": [
        "Intalação de Bibliotecas importantes"
      ],
      "metadata": {
        "id": "TSVJr_HUfanO"
      }
    },
    {
      "cell_type": "code",
      "source": [
        "!pip install pypdf2\n",
        "!pip install Pillow pypdf2\n",
        "!apt-get install -y libtesseract-dev\n",
        "!pip install pytesseract\n",
        "!pip install ipywidgets\n",
        "!apt install -y tesseract-ocr tesseract-ocr-por\n",
        "!pip install plyer\n"
      ],
      "metadata": {
        "id": "8MydsDZdf3Gq"
      },
      "execution_count": null,
      "outputs": []
    },
    {
      "cell_type": "markdown",
      "source": [
        "Importando Bibliotecas"
      ],
      "metadata": {
        "id": "U3-UIM0WgLc6"
      }
    },
    {
      "cell_type": "code",
      "source": [
        "import PyPDF2\n",
        "import re\n",
        "from PIL import Image\n",
        "import pytesseract\n",
        "import smtplib\n",
        "from email.mime.text import MIMEText\n",
        "from email.mime.multipart import MIMEMultipart\n",
        "from IPython.display import display\n",
        "from ipywidgets import widgets\n",
        "from google.colab import files\n",
        "import io\n",
        "import PyPDF2\n",
        "from PIL import Image\n",
        "import pytesseract\n",
        "import re\n"
      ],
      "metadata": {
        "id": "lmKmjbKhgM9X"
      },
      "execution_count": null,
      "outputs": []
    },
    {
      "cell_type": "markdown",
      "source": [
        "Função Extrai Texto"
      ],
      "metadata": {
        "id": "vbmTupRWgQOo"
      }
    },
    {
      "cell_type": "code",
      "source": [
        "from IPython.display import display, Image as IPImage\n",
        "from PIL import Image\n",
        "\n",
        "def abrir_imagem(image_path):\n",
        "    display(IPImage(filename=image_path))"
      ],
      "metadata": {
        "id": "BvfVgqe8X8EL"
      },
      "execution_count": null,
      "outputs": []
    },
    {
      "cell_type": "code",
      "source": [
        "def extrair_texto_do_arquivo(arquivo):\n",
        "    if arquivo.endswith('.pdf'):\n",
        "        with open(arquivo, 'rb') as f:\n",
        "            pdf = PyPDF2.PdfFileReader(f)\n",
        "            texto = ''.join(page.extractText() for page in pdf.pages)\n",
        "        return texto\n",
        "    elif arquivo.endswith('.jpg') or arquivo.endswith('.jpeg'):\n",
        "        imagem = Image.open(arquivo)\n",
        "        texto = pytesseract.image_to_string(imagem, lang='por')\n",
        "        return texto\n",
        "    else:\n",
        "        raise ValueError('Formato de arquivo não suportado.')\n"
      ],
      "metadata": {
        "id": "DPQBAJDkgTNE"
      },
      "execution_count": null,
      "outputs": []
    },
    {
      "cell_type": "markdown",
      "source": [
        "Função Sumariza Receita"
      ],
      "metadata": {
        "id": "CL8U2_Y9j93K"
      }
    },
    {
      "cell_type": "code",
      "source": [
        "def preprocess_text(texto):\n",
        "    # Remover espaços extras\n",
        "    texto = re.sub(r'\\s+', ' ', texto)\n",
        "    # Correções específicas (se necessário)\n",
        "    # texto = texto.replace('OR AL', 'ORAL')\n",
        "    # ...\n",
        "    return texto\n",
        "\n"
      ],
      "metadata": {
        "id": "SRKiXnjfHAgu"
      },
      "execution_count": null,
      "outputs": []
    },
    {
      "cell_type": "code",
      "source": [
        "def find_nearest_date(text, keyword=\"RECEITUÁRIO\"):\n",
        "    sections = text.split(keyword)\n",
        "    if len(sections) < 2:\n",
        "        return \"Não encontrado\"\n",
        "    following_text = sections[1]\n",
        "    date_match = re.search(r\"(\\d{1,2}/\\d{1,2}/\\d{4})\", following_text)\n",
        "    return date_match.group(1) if date_match else \"Não encontrado\"\n"
      ],
      "metadata": {
        "id": "BL8TfJKqZ09-"
      },
      "execution_count": null,
      "outputs": []
    },
    {
      "cell_type": "code",
      "source": [
        "def sumarizar_receita(texto):\n",
        "    print(f\"Texto recebido: {texto[:300]}...\")  # Diagnóstico\n",
        "    texto = preprocess_text(texto)\n",
        "\n",
        "    data_match = re.search(r'Assinado digitalmente em:\\s+(\\d{2}/\\d{2}/\\d{4})', texto)\n",
        "    data_receita = data_match.group(1) if data_match else 'Não encontrada'\n",
        "\n",
        "    if data_receita == 'Não encontrada':\n",
        "      # Inclusão da nova função para encontrar a data mais próxima do \"RECEITUÁRIO\"\n",
        "      data_receita = find_nearest_date(texto)\n",
        "\n",
        "    # Extrair CRM do médico\n",
        "    crm_medico = re.search(r\"CRM[-\\s]?[A-Za-z]*[-\\s]?(\\d{5,6})\", texto)\n",
        "    crm_medico = crm_medico.group(1) if crm_medico else \"Não encontrado\"\n",
        "\n",
        "\n",
        "    # Extrair nome do medicamento, dosagem e frequência\n",
        "    medicamento_match = re.findall(r'(\\d\\.)? ([^\\d]+) (\\d+mg)', texto)\n",
        "\n",
        "    medicamentos = []\n",
        "    for m in medicamento_match:\n",
        "        nome_med = m[1].strip()\n",
        "        dose = m[2].strip()\n",
        "\n",
        "        # Procurar por uma instrução de \"Tomar\" relacionada ao medicamento\n",
        "        freq_match = re.search(r'{}.*?Tomar (.+?)(\\.|\\))'.format(re.escape(nome_med)), texto)\n",
        "\n",
        "        frequencia = freq_match.group(1).replace('.', '').strip() if freq_match else 'Frequência não especificada'\n",
        "\n",
        "        medicamentos.append({\n",
        "            'Medicamento': nome_med,\n",
        "            'Dose': dose,\n",
        "            'Frequência': frequencia\n",
        "        })\n",
        "\n",
        "    return {\n",
        "        'Receita emitida em': data_receita,\n",
        "        'Medicamentos': medicamentos,\n",
        "        'CRM do Médico': crm_medico\n",
        "    }\n",
        "\n",
        "# Testar a função com as receitas fornecidas\n",
        "texto_receita = \"...\"  # Substitua \"...\" pelo texto real da receita\n",
        "resultado = sumarizar_receita(texto_receita)\n",
        "print(resultado)"
      ],
      "metadata": {
        "id": "1IGRSEzXj_fg",
        "colab": {
          "base_uri": "https://localhost:8080/"
        },
        "outputId": "64540616-f5b8-46ad-945c-afecdd53a0a7"
      },
      "execution_count": null,
      "outputs": [
        {
          "output_type": "stream",
          "name": "stdout",
          "text": [
            "Texto recebido: ......\n",
            "{'Receita emitida em': 'Não encontrado', 'Medicamentos': [], 'CRM do Médico': 'Não encontrado'}\n"
          ]
        }
      ]
    },
    {
      "cell_type": "code",
      "source": [
        "def apresentar_resultado(resultado):\n",
        "    # Criar o cabeçalho com o nome do arquivo e a data de emissão da receita\n",
        "    output = f\"Nome do Arquivo: {resultado.get('Nome do Arquivo', 'Desconhecido')}\\n\"\n",
        "    output += \"-\" * len(output) + \"\\n\"\n",
        "    output += f\"Data da Receita: {resultado['Receita emitida em']}\\n\"\n",
        "    output += f\"CRM do Médico: {resultado['CRM do Médico']}\\n\\n\"\n",
        "\n",
        "    # Se não houver medicamentos listados, incluir essa informação\n",
        "    if not resultado.get('Medicamentos'):\n",
        "        output += \"Nenhum medicamento encontrado.\\n\"\n",
        "    else:\n",
        "        # Caso contrário, listar cada medicamento\n",
        "        output += \"Medicamentos prescritos:\\n\"\n",
        "        for idx, med in enumerate(resultado['Medicamentos'], start=1):\n",
        "            output += f\"{idx}. {med['Medicamento']} ({med['Dose']})\\n\"\n",
        "            output += f\"   Frequência: {med['Frequência']}\\n\\n\"\n",
        "\n",
        "    return output\n",
        "\n",
        "# Dados de exemplo\n",
        "resultado = {\n",
        "    'Nome do Arquivo': 'Receita Menato (8).pdf',\n",
        "    'Receita emitida em': 'Não encontrada',\n",
        "    'Medicamentos': [\n",
        "        {'Medicamento': 'Oxalato de escitalopram', 'Dose': '10mg', 'Frequência': '1 cp se crises de ansiedade'},\n",
        "        # ... outros medicamentos ...\n",
        "    ],\n",
        "    'CRM do Médico': '183747'\n",
        "}\n",
        "\n",
        "# Apresentar o resultado estilizado\n",
        "print(apresentar_resultado(resultado))\n"
      ],
      "metadata": {
        "colab": {
          "base_uri": "https://localhost:8080/"
        },
        "id": "049rSNUpR1YM",
        "outputId": "376780cd-2b8a-48f2-e9df-91a38941d280"
      },
      "execution_count": null,
      "outputs": [
        {
          "output_type": "stream",
          "name": "stdout",
          "text": [
            "Nome do Arquivo: Receita Menato (8).pdf\n",
            "----------------------------------------\n",
            "Data da Receita: Não encontrada\n",
            "CRM do Médico: 183747\n",
            "\n",
            "Medicamentos prescritos:\n",
            "1. Oxalato de escitalopram (10mg)\n",
            "   Frequência: 1 cp se crises de ansiedade\n",
            "\n",
            "\n"
          ]
        }
      ]
    },
    {
      "cell_type": "markdown",
      "source": [
        "Escolhendo Arquivo"
      ],
      "metadata": {
        "id": "0ylm7G82kxcN"
      }
    },
    {
      "cell_type": "code",
      "source": [
        "from IPython.display import display, clear_output\n",
        "from google.colab import files\n",
        "import io\n",
        "import ipywidgets as widgets\n",
        "import PyPDF2\n",
        "from PIL import Image\n",
        "import pytesseract\n",
        "import re\n",
        "\n",
        "# Variáveis Globais\n",
        "texto = None\n",
        "ultimo_texto_processado = None  # Variável para armazenar o último texto processado\n",
        "\n",
        "# Aprimoramento do OCR para imagens\n",
        "def aprimorar_ocr(image):\n",
        "    # Realizar operações para melhorar a qualidade da imagem, se necessário\n",
        "    return pytesseract.image_to_string(image, lang='por')\n",
        "\n",
        "def on_upload_button_pressed(change):\n",
        "    global texto\n",
        "    clear_output(wait=True)\n",
        "    uploaded_files = files.upload()\n",
        "\n",
        "    # Verifica se um arquivo foi carregado\n",
        "    if not uploaded_files:\n",
        "        print(\"Nenhum arquivo carregado.\")\n",
        "        return\n",
        "\n",
        "    # Pegando o primeiro arquivo carregado\n",
        "    file_name, file_content = next(iter(uploaded_files.items()))\n",
        "\n",
        "    # Identificar se é PDF ou JPG e extrair o texto\n",
        "    if file_name.lower().endswith('.pdf'):\n",
        "        with io.BytesIO(file_content) as f:\n",
        "            leitor = PyPDF2.PdfReader(f)\n",
        "            texto = \"\"\n",
        "            for pagina in range(len(leitor.pages)):\n",
        "                texto += leitor.pages[pagina].extract_text()\n",
        "    elif file_name.lower().endswith(('.jpg', '.jpeg')):\n",
        "        image = Image.open(io.BytesIO(file_content))\n",
        "        texto = aprimorar_ocr(image)\n",
        "    else:\n",
        "        print(\"Formato de arquivo não suportado.\")\n",
        "        return\n",
        "\n",
        "    # Sumarizar o texto extraído\n",
        "    resultado = sumarizar_receita(texto)\n",
        "\n",
        "    # Apresentar de forma estilizada\n",
        "    print(apresentar_resultado(resultado))\n",
        "    display(upload_button, output)  # Exibe novamente o botão após processamento\n",
        "\n",
        "# Interface\n",
        "upload_button = widgets.Button(description=\"Escolher Arquivo\")\n",
        "output = widgets.Output()\n",
        "\n",
        "upload_button.on_click(on_upload_button_pressed)\n",
        "display(upload_button, output)\n"
      ],
      "metadata": {
        "colab": {
          "base_uri": "https://localhost:8080/",
          "height": 653,
          "referenced_widgets": [
            "a862ac3c4ff14aacbaf99b31974f0e3e",
            "d3b58388b7ed4690aff545a38424f349",
            "787e1add8361447d8490260ed061cd36",
            "d0d1dd6c5d49444c8b30abe27960238b",
            "2e5caf4f02744290a54cf122b2e541ad"
          ]
        },
        "id": "jlz9zqN0k0qd",
        "outputId": "5ab06097-b404-4c22-d2d9-64fb9977070f"
      },
      "execution_count": null,
      "outputs": [
        {
          "output_type": "display_data",
          "data": {
            "text/plain": [
              "<IPython.core.display.HTML object>"
            ],
            "text/html": [
              "\n",
              "     <input type=\"file\" id=\"files-2d35ce36-be33-4c78-a8c1-3bc392f67321\" name=\"files[]\" multiple disabled\n",
              "        style=\"border:none\" />\n",
              "     <output id=\"result-2d35ce36-be33-4c78-a8c1-3bc392f67321\">\n",
              "      Upload widget is only available when the cell has been executed in the\n",
              "      current browser session. Please rerun this cell to enable.\n",
              "      </output>\n",
              "      <script>// Copyright 2017 Google LLC\n",
              "//\n",
              "// Licensed under the Apache License, Version 2.0 (the \"License\");\n",
              "// you may not use this file except in compliance with the License.\n",
              "// You may obtain a copy of the License at\n",
              "//\n",
              "//      http://www.apache.org/licenses/LICENSE-2.0\n",
              "//\n",
              "// Unless required by applicable law or agreed to in writing, software\n",
              "// distributed under the License is distributed on an \"AS IS\" BASIS,\n",
              "// WITHOUT WARRANTIES OR CONDITIONS OF ANY KIND, either express or implied.\n",
              "// See the License for the specific language governing permissions and\n",
              "// limitations under the License.\n",
              "\n",
              "/**\n",
              " * @fileoverview Helpers for google.colab Python module.\n",
              " */\n",
              "(function(scope) {\n",
              "function span(text, styleAttributes = {}) {\n",
              "  const element = document.createElement('span');\n",
              "  element.textContent = text;\n",
              "  for (const key of Object.keys(styleAttributes)) {\n",
              "    element.style[key] = styleAttributes[key];\n",
              "  }\n",
              "  return element;\n",
              "}\n",
              "\n",
              "// Max number of bytes which will be uploaded at a time.\n",
              "const MAX_PAYLOAD_SIZE = 100 * 1024;\n",
              "\n",
              "function _uploadFiles(inputId, outputId) {\n",
              "  const steps = uploadFilesStep(inputId, outputId);\n",
              "  const outputElement = document.getElementById(outputId);\n",
              "  // Cache steps on the outputElement to make it available for the next call\n",
              "  // to uploadFilesContinue from Python.\n",
              "  outputElement.steps = steps;\n",
              "\n",
              "  return _uploadFilesContinue(outputId);\n",
              "}\n",
              "\n",
              "// This is roughly an async generator (not supported in the browser yet),\n",
              "// where there are multiple asynchronous steps and the Python side is going\n",
              "// to poll for completion of each step.\n",
              "// This uses a Promise to block the python side on completion of each step,\n",
              "// then passes the result of the previous step as the input to the next step.\n",
              "function _uploadFilesContinue(outputId) {\n",
              "  const outputElement = document.getElementById(outputId);\n",
              "  const steps = outputElement.steps;\n",
              "\n",
              "  const next = steps.next(outputElement.lastPromiseValue);\n",
              "  return Promise.resolve(next.value.promise).then((value) => {\n",
              "    // Cache the last promise value to make it available to the next\n",
              "    // step of the generator.\n",
              "    outputElement.lastPromiseValue = value;\n",
              "    return next.value.response;\n",
              "  });\n",
              "}\n",
              "\n",
              "/**\n",
              " * Generator function which is called between each async step of the upload\n",
              " * process.\n",
              " * @param {string} inputId Element ID of the input file picker element.\n",
              " * @param {string} outputId Element ID of the output display.\n",
              " * @return {!Iterable<!Object>} Iterable of next steps.\n",
              " */\n",
              "function* uploadFilesStep(inputId, outputId) {\n",
              "  const inputElement = document.getElementById(inputId);\n",
              "  inputElement.disabled = false;\n",
              "\n",
              "  const outputElement = document.getElementById(outputId);\n",
              "  outputElement.innerHTML = '';\n",
              "\n",
              "  const pickedPromise = new Promise((resolve) => {\n",
              "    inputElement.addEventListener('change', (e) => {\n",
              "      resolve(e.target.files);\n",
              "    });\n",
              "  });\n",
              "\n",
              "  const cancel = document.createElement('button');\n",
              "  inputElement.parentElement.appendChild(cancel);\n",
              "  cancel.textContent = 'Cancel upload';\n",
              "  const cancelPromise = new Promise((resolve) => {\n",
              "    cancel.onclick = () => {\n",
              "      resolve(null);\n",
              "    };\n",
              "  });\n",
              "\n",
              "  // Wait for the user to pick the files.\n",
              "  const files = yield {\n",
              "    promise: Promise.race([pickedPromise, cancelPromise]),\n",
              "    response: {\n",
              "      action: 'starting',\n",
              "    }\n",
              "  };\n",
              "\n",
              "  cancel.remove();\n",
              "\n",
              "  // Disable the input element since further picks are not allowed.\n",
              "  inputElement.disabled = true;\n",
              "\n",
              "  if (!files) {\n",
              "    return {\n",
              "      response: {\n",
              "        action: 'complete',\n",
              "      }\n",
              "    };\n",
              "  }\n",
              "\n",
              "  for (const file of files) {\n",
              "    const li = document.createElement('li');\n",
              "    li.append(span(file.name, {fontWeight: 'bold'}));\n",
              "    li.append(span(\n",
              "        `(${file.type || 'n/a'}) - ${file.size} bytes, ` +\n",
              "        `last modified: ${\n",
              "            file.lastModifiedDate ? file.lastModifiedDate.toLocaleDateString() :\n",
              "                                    'n/a'} - `));\n",
              "    const percent = span('0% done');\n",
              "    li.appendChild(percent);\n",
              "\n",
              "    outputElement.appendChild(li);\n",
              "\n",
              "    const fileDataPromise = new Promise((resolve) => {\n",
              "      const reader = new FileReader();\n",
              "      reader.onload = (e) => {\n",
              "        resolve(e.target.result);\n",
              "      };\n",
              "      reader.readAsArrayBuffer(file);\n",
              "    });\n",
              "    // Wait for the data to be ready.\n",
              "    let fileData = yield {\n",
              "      promise: fileDataPromise,\n",
              "      response: {\n",
              "        action: 'continue',\n",
              "      }\n",
              "    };\n",
              "\n",
              "    // Use a chunked sending to avoid message size limits. See b/62115660.\n",
              "    let position = 0;\n",
              "    do {\n",
              "      const length = Math.min(fileData.byteLength - position, MAX_PAYLOAD_SIZE);\n",
              "      const chunk = new Uint8Array(fileData, position, length);\n",
              "      position += length;\n",
              "\n",
              "      const base64 = btoa(String.fromCharCode.apply(null, chunk));\n",
              "      yield {\n",
              "        response: {\n",
              "          action: 'append',\n",
              "          file: file.name,\n",
              "          data: base64,\n",
              "        },\n",
              "      };\n",
              "\n",
              "      let percentDone = fileData.byteLength === 0 ?\n",
              "          100 :\n",
              "          Math.round((position / fileData.byteLength) * 100);\n",
              "      percent.textContent = `${percentDone}% done`;\n",
              "\n",
              "    } while (position < fileData.byteLength);\n",
              "  }\n",
              "\n",
              "  // All done.\n",
              "  yield {\n",
              "    response: {\n",
              "      action: 'complete',\n",
              "    }\n",
              "  };\n",
              "}\n",
              "\n",
              "scope.google = scope.google || {};\n",
              "scope.google.colab = scope.google.colab || {};\n",
              "scope.google.colab._files = {\n",
              "  _uploadFiles,\n",
              "  _uploadFilesContinue,\n",
              "};\n",
              "})(self);\n",
              "</script> "
            ]
          },
          "metadata": {}
        },
        {
          "output_type": "stream",
          "name": "stdout",
          "text": [
            "Saving Receita Menato.pdf to Receita Menato.pdf\n",
            "Texto recebido: *Para validar assinatura deste documento, acesse https://validador.memed.com.br | Token: jL46ybNome: Giovana Perazzolo Menato\n",
            "CPF: 469.036.188-64\n",
            "MEMED - Acesso à sua receita digital via QR Code\n",
            "Endereço: Rua Teodoro Sampaio, 744 cj102\n",
            "Assinado digitalmente por Raphael Nacarelli Salgado - CRM 183747...\n",
            "Nome do Arquivo: Desconhecido\n",
            "------------------------------\n",
            "Data da Receita: 30/01/2023\n",
            "CRM do Médico: 183747\n",
            "\n",
            "Medicamentos prescritos:\n",
            "1. Oxalato de escitalopram (10mg)\n",
            "   Frequência: 1 cp se crises de ansiedade\n",
            "\n",
            "2. embalagem Oxalato de escitalopram (10mg)\n",
            "   Frequência: 1 cp se crises de ansiedade\n",
            "\n",
            "3. Endereço: Estrada do Lutero, Cotia IDENTIFICAÇÃO DO COMPRADOR Nome: RG: Endereço: Telefone: Cidade e UF:IDENTIFICAÇÃO DO FORNECEDOR DATA ASSINATURA DO FARMACÊUTICOOxalato de escitalopram (10mg)\n",
            "   Frequência: Frequência não especificada\n",
            "\n",
            "4. embalagem Oxalato de escitalopram (10mg)\n",
            "   Frequência: 1 cp se crises de ansiedade\n",
            "\n",
            "5. Endereço: Estrada do Lutero, Cotia IDENTIFICAÇÃO DO COMPRADOR Nome: RG: Endereço: Telefone: Cidade e UF:IDENTIFICAÇÃO DO FORNECEDOR DATA ASSINATURA DO FARMACÊUTICOOxalato de escitalopram (10mg)\n",
            "   Frequência: Frequência não especificada\n",
            "\n",
            "6. embalagem Oxalato de escitalopram (10mg)\n",
            "   Frequência: 1 cp se crises de ansiedade\n",
            "\n",
            "\n"
          ]
        },
        {
          "output_type": "display_data",
          "data": {
            "text/plain": [
              "Button(description='Escolher Arquivo', style=ButtonStyle())"
            ],
            "application/vnd.jupyter.widget-view+json": {
              "version_major": 2,
              "version_minor": 0,
              "model_id": "a862ac3c4ff14aacbaf99b31974f0e3e"
            }
          },
          "metadata": {}
        },
        {
          "output_type": "display_data",
          "data": {
            "text/plain": [
              "Output()"
            ],
            "application/vnd.jupyter.widget-view+json": {
              "version_major": 2,
              "version_minor": 0,
              "model_id": "d0d1dd6c5d49444c8b30abe27960238b"
            }
          },
          "metadata": {}
        }
      ]
    },
    {
      "cell_type": "markdown",
      "source": [
        "### Função para enviar e-mail"
      ],
      "metadata": {
        "id": "_cBYnTIKlwNn"
      }
    },
    {
      "cell_type": "code",
      "source": [
        "def enviar_lembrete(email_destinatario, medicamentos, dose):\n",
        "    remetente = \"seu email\"\n",
        "    senha = \"sua senha\"\n",
        "    assunto = f\"Lembrete para Tomar {medicamentos}\"\n",
        "    corpo = f\"\"\"Caro paciente,\\n\\nEste é um lembrete para tomar o seu medicamento.\\n\\nNome do Medicamento: {medicamentos}\\nDosagem: {dose}\\n\\nAtenciosamente,\\nEquipe de Saúde\"\"\"\n",
        "\n",
        "    mensagem = MIMEMultipart()\n",
        "    mensagem[\"From\"] = remetente\n",
        "    mensagem[\"To\"] = email_destinatario\n",
        "    mensagem[\"Subject\"] = assunto\n",
        "    mensagem.attach(MIMEText(corpo, 'plain'))\n",
        "\n",
        "    servidor = smtplib.SMTP_SSL(\"smtp.gmail.com\", 465)\n",
        "    servidor.login(remetente, senha)\n",
        "    servidor.sendmail(remetente, email_destinatario, mensagem.as_string())\n",
        "    servidor.quit()"
      ],
      "metadata": {
        "id": "og_SIIKslzRE"
      },
      "execution_count": null,
      "outputs": []
    },
    {
      "cell_type": "markdown",
      "source": [
        "Widget para upload de arquivo"
      ],
      "metadata": {
        "id": "x0MhPYq6l327"
      }
    },
    {
      "cell_type": "code",
      "source": [
        "upload_button = widgets.FileUpload(\n",
        "    accept='.pdf,.jpg,.jpeg',\n",
        "    multiple=False\n",
        ")"
      ],
      "metadata": {
        "id": "wrpxtlhcl4wJ"
      },
      "execution_count": null,
      "outputs": []
    },
    {
      "cell_type": "markdown",
      "source": [
        "Widget para inserir e-mail"
      ],
      "metadata": {
        "id": "3CYf_lvgl8QJ"
      }
    },
    {
      "cell_type": "code",
      "source": [
        "email_widget = widgets.Text(\n",
        "    placeholder='Digite o email do destinatário',\n",
        "    description='Email:',\n",
        "    disabled=False\n",
        ")"
      ],
      "metadata": {
        "id": "Ue5X9xMkl6oQ"
      },
      "execution_count": null,
      "outputs": []
    },
    {
      "cell_type": "markdown",
      "source": [
        "Botão para enviar lembrete"
      ],
      "metadata": {
        "id": "im81EZbPqebx"
      }
    },
    {
      "cell_type": "code",
      "source": [
        "send_button = widgets.Button(\n",
        "    description='Enviar Lembrete'\n",
        ")"
      ],
      "metadata": {
        "id": "bp33pxbHmCK0"
      },
      "execution_count": null,
      "outputs": []
    },
    {
      "cell_type": "markdown",
      "source": [
        "Limpar todos os manipuladores de evento antes de associar um novo"
      ],
      "metadata": {
        "id": "X8RhQHgdQH7U"
      }
    },
    {
      "cell_type": "code",
      "source": [
        "send_button.close()\n",
        "send_button = widgets.Button(description='Enviar Lembrete')\n"
      ],
      "metadata": {
        "id": "2mUbniJqQFSE"
      },
      "execution_count": null,
      "outputs": []
    },
    {
      "cell_type": "markdown",
      "source": [
        "Função chamada quando o botão é clicado"
      ],
      "metadata": {
        "id": "24WNTS3oqiNO"
      }
    },
    {
      "cell_type": "code",
      "source": [
        "def on_button_click(b):\n",
        "    print(\"Botão clicado.\")  # Diagnóstico\n",
        "    global texto\n",
        "    resultado = sumarizar_receita(texto)\n",
        "    email_destinatario = email_widget.value\n",
        "\n",
        "    medicamentos_lista = resultado.get('Medicamentos', [])\n",
        "\n",
        "    if not medicamentos_lista:\n",
        "        print(\"Nenhum medicamento encontrado.\")\n",
        "        return\n",
        "\n",
        "    primeiro_medicamento = medicamentos_lista[0]\n",
        "    medicamento_nome = primeiro_medicamento.get('Medicamento', 'Indefinido')\n",
        "    dose = primeiro_medicamento.get('Dose', 'Indefinida')\n",
        "\n",
        "    enviar_lembrete(email_destinatario, medicamento_nome, dose)\n"
      ],
      "metadata": {
        "id": "tgFsHKhfqlBg"
      },
      "execution_count": null,
      "outputs": []
    },
    {
      "cell_type": "code",
      "source": [
        "send_button.on_click(on_button_click)\n",
        "\n",
        "# Mostrar widgets\n",
        "display(email_widget, send_button)"
      ],
      "metadata": {
        "id": "SnYwfPr8d83i",
        "colab": {
          "base_uri": "https://localhost:8080/",
          "height": 520,
          "referenced_widgets": [
            "b2093d473910437e8e732a36f8c30720",
            "9ad0f66ab44442149dcf88ba435cef52",
            "d97b361c42cb4ce2bb5d8317438fa853",
            "bfb3c983315c4900bc49ebeaef6b1335",
            "8c6a3ad7d63541ab8b6a20c97ce85d53",
            "2f8b5e6373454157901a4f8b369ce60c"
          ]
        },
        "outputId": "9316b223-cdd3-420c-acf1-67726e7d1001"
      },
      "execution_count": null,
      "outputs": [
        {
          "output_type": "display_data",
          "data": {
            "text/plain": [
              "Text(value='', description='Email:', placeholder='Digite o email do destinatário')"
            ],
            "application/vnd.jupyter.widget-view+json": {
              "version_major": 2,
              "version_minor": 0,
              "model_id": "b2093d473910437e8e732a36f8c30720"
            }
          },
          "metadata": {}
        },
        {
          "output_type": "display_data",
          "data": {
            "text/plain": [
              "Button(description='Enviar Lembrete', style=ButtonStyle())"
            ],
            "application/vnd.jupyter.widget-view+json": {
              "version_major": 2,
              "version_minor": 0,
              "model_id": "bfb3c983315c4900bc49ebeaef6b1335"
            }
          },
          "metadata": {}
        },
        {
          "output_type": "stream",
          "name": "stdout",
          "text": [
            "Botão clicado.\n",
            "Texto recebido: *Para validar assinatura deste documento, acesse https://validador.memed.com.br | Token: jL46ybNome: Giovana Perazzolo Menato\n",
            "CPF: 469.036.188-64\n",
            "MEMED - Acesso à sua receita digital via QR Code\n",
            "Endereço: Rua Teodoro Sampaio, 744 cj102\n",
            "Assinado digitalmente por Raphael Nacarelli Salgado - CRM 183747...\n",
            "Botão clicado.\n",
            "Texto recebido: *Para validar assinatura deste documento, acesse https://validador.memed.com.br | Token: jL46ybNome: Giovana Perazzolo Menato\n",
            "CPF: 469.036.188-64\n",
            "MEMED - Acesso à sua receita digital via QR Code\n",
            "Endereço: Rua Teodoro Sampaio, 744 cj102\n",
            "Assinado digitalmente por Raphael Nacarelli Salgado - CRM 183747...\n",
            "Botão clicado.\n",
            "Texto recebido: *Para validar assinatura deste documento, acesse https://validador.memed.com.br | Token: jL46ybNome: Giovana Perazzolo Menato\n",
            "CPF: 469.036.188-64\n",
            "MEMED - Acesso à sua receita digital via QR Code\n",
            "Endereço: Rua Teodoro Sampaio, 744 cj102\n",
            "Assinado digitalmente por Raphael Nacarelli Salgado - CRM 183747...\n",
            "Botão clicado.\n",
            "Texto recebido: *Para validar assinatura deste documento, acesse https://validador.memed.com.br | Token: jL46ybNome: Giovana Perazzolo Menato\n",
            "CPF: 469.036.188-64\n",
            "MEMED - Acesso à sua receita digital via QR Code\n",
            "Endereço: Rua Teodoro Sampaio, 744 cj102\n",
            "Assinado digitalmente por Raphael Nacarelli Salgado - CRM 183747...\n"
          ]
        }
      ]
    }
  ]
}